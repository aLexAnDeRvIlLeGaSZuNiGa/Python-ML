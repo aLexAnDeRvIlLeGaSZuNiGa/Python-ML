{
 "cells": [
  {
   "cell_type": "markdown",
   "id": "1dce9f38",
   "metadata": {},
   "source": [
    "<h1>Instroduccion de manejo de fechas</h1>"
   ]
  },
  {
   "cell_type": "markdown",
   "id": "44804d7a",
   "metadata": {},
   "source": [
    "<h2>Librerias para fechas</h2>"
   ]
  },
  {
   "cell_type": "code",
   "execution_count": 6,
   "id": "dfe03d2c",
   "metadata": {},
   "outputs": [],
   "source": [
    "import datetime as dt\n",
    "import time as tm"
   ]
  },
  {
   "cell_type": "code",
   "execution_count": 7,
   "id": "af8337bf",
   "metadata": {},
   "outputs": [
    {
     "data": {
      "text/plain": [
       "['_STRUCT_TM_ITEMS',\n",
       " '__doc__',\n",
       " '__loader__',\n",
       " '__name__',\n",
       " '__package__',\n",
       " '__spec__',\n",
       " 'altzone',\n",
       " 'asctime',\n",
       " 'ctime',\n",
       " 'daylight',\n",
       " 'get_clock_info',\n",
       " 'gmtime',\n",
       " 'localtime',\n",
       " 'mktime',\n",
       " 'monotonic',\n",
       " 'monotonic_ns',\n",
       " 'perf_counter',\n",
       " 'perf_counter_ns',\n",
       " 'process_time',\n",
       " 'process_time_ns',\n",
       " 'sleep',\n",
       " 'strftime',\n",
       " 'strptime',\n",
       " 'struct_time',\n",
       " 'thread_time',\n",
       " 'thread_time_ns',\n",
       " 'time',\n",
       " 'time_ns',\n",
       " 'timezone',\n",
       " 'tzname']"
      ]
     },
     "execution_count": 7,
     "metadata": {},
     "output_type": "execute_result"
    }
   ],
   "source": [
    "#para visualizar todas las funciones y constantes de una determinada libreria\n",
    "dir(tm)\n"
   ]
  },
  {
   "cell_type": "markdown",
   "id": "7ebdd607",
   "metadata": {},
   "source": [
    "time devuelve el tiempo en segundos desde la fecha 1 de enero de 1970:\n"
   ]
  },
  {
   "cell_type": "code",
   "execution_count": 8,
   "id": "2b1ebae8",
   "metadata": {},
   "outputs": [
    {
     "data": {
      "text/plain": [
       "1704831375.1761153"
      ]
     },
     "execution_count": 8,
     "metadata": {},
     "output_type": "execute_result"
    }
   ],
   "source": [
    "tm.time()"
   ]
  },
  {
   "cell_type": "markdown",
   "id": "5b5d8639",
   "metadata": {},
   "source": [
    "La estructura del tiempo en Python se maneja como una tupla:<br>\n",
    "Index:<b>Atributos</b> Valores<br>\n",
    "0:<b>tm_year</b> 2009 <br>\n",
    "1:<b>tm_mon</b> de 1 a 12<br>\n",
    "2:<b>tm_mday</b> de 1 a 31<br>\n",
    "3:<b>tm_hour</b> de 0 a 23<br>\n",
    "4:<b>tm_min</b> de 0 a 59<br>\n",
    "5:<b>tm_sec</b> de 0 a 60<br>\n",
    "6:<b>tm_wday</b> de 0 a 6(lunes)<br>\n",
    "7:<b>tm_yday</b> de 1 a 366<br>\n",
    "8:<b>tm_isdst</b>-1, 0, 1, -1 (horario de verano)"
   ]
  },
  {
   "cell_type": "code",
   "execution_count": 9,
   "id": "bf953f99",
   "metadata": {},
   "outputs": [
    {
     "name": "stdout",
     "output_type": "stream",
     "text": [
      "Actual hora local : time.struct_time(tm_year=2024, tm_mon=1, tm_mday=9, tm_hour=15, tm_min=16, tm_sec=54, tm_wday=1, tm_yday=9, tm_isdst=0)\n"
     ]
    }
   ],
   "source": [
    "localtime = tm.localtime(tm.time())\n",
    "print (\"Actual hora local :\", localtime)"
   ]
  },
  {
   "cell_type": "markdown",
   "id": "247545cd",
   "metadata": {},
   "source": [
    "Convierte la marca de tiempo en fecha y hora:"
   ]
  },
  {
   "cell_type": "code",
   "execution_count": 10,
   "id": "6dd62371",
   "metadata": {},
   "outputs": [
    {
     "data": {
      "text/plain": [
       "datetime.datetime(2024, 1, 9, 15, 17, 11, 766733)"
      ]
     },
     "execution_count": 10,
     "metadata": {},
     "output_type": "execute_result"
    }
   ],
   "source": [
    "dtnow = dt.datetime.fromtimestamp(tm.time())\n",
    "dtnow"
   ]
  },
  {
   "cell_type": "markdown",
   "id": "c2417722",
   "metadata": {},
   "source": [
    " Practicos atributos de fecha y hora:"
   ]
  },
  {
   "cell_type": "code",
   "execution_count": 11,
   "id": "8eb28b41",
   "metadata": {},
   "outputs": [
    {
     "name": "stdout",
     "output_type": "stream",
     "text": [
      "Año:  2024\n",
      "Mes:  1\n",
      "Dia:  9\n",
      "Hora:  15\n",
      "Minutos:  17\n",
      "Segundos:  11\n"
     ]
    }
   ],
   "source": [
    "print(\"Año: \",dtnow.year)\n",
    "print(\"Mes: \",dtnow.month)\n",
    "print(\"Dia: \",dtnow.day)\n",
    "print(\"Hora: \",dtnow.hour)\n",
    "print(\"Minutos: \",dtnow.minute)\n",
    "print(\"Segundos: \",dtnow.second)"
   ]
  },
  {
   "cell_type": "markdown",
   "id": "8c1ac97d",
   "metadata": {},
   "source": [
    "<h1>Aritmetica de fechas</h1><br><br>\n",
    "<b>timedelta</b> es una duración que expresa la diferencia entre dos fechas<br><br>\n",
    "<b>timedelta(dias, segundos, microsegundos):</b>Devuelve un objeto del tipo timedelta que representa un intervalo de tiempo<br> con los dias, segundos y microsegundos indicados.\n"
   ]
  },
  {
   "cell_type": "code",
   "execution_count": 12,
   "id": "46e31d75",
   "metadata": {},
   "outputs": [
    {
     "data": {
      "text/plain": [
       "datetime.timedelta(days=100)"
      ]
     },
     "execution_count": 12,
     "metadata": {},
     "output_type": "execute_result"
    }
   ],
   "source": [
    "delta = dt.timedelta(days = 100) # create a timedelta os 100 days\n",
    "delta"
   ]
  },
  {
   "cell_type": "markdown",
   "id": "9b6ec97f",
   "metadata": {},
   "source": [
    "date today devuelve la fecha local actual:"
   ]
  },
  {
   "cell_type": "code",
   "execution_count": 15,
   "id": "ef8f9764",
   "metadata": {},
   "outputs": [
    {
     "name": "stdout",
     "output_type": "stream",
     "text": [
      "0:00:00\n",
      "microseconds: 0:00:00.000005\n",
      "milliseconds: 0:00:00.001000\n",
      "seconds: 0:00:01\n",
      "minutes: 0:01:00\n",
      "hours: 5:00:00\n",
      "days: 1 day, 0:00:00\n",
      "weeks: 7 days, 0:00:00\n"
     ]
    }
   ],
   "source": [
    "print(dt.timedelta())\n",
    "print('microseconds:', dt.timedelta(microseconds=5))\n",
    "print('milliseconds:', dt.timedelta(milliseconds=1))\n",
    "print('seconds:', dt.timedelta(seconds=1))\n",
    "print('minutes:', dt.timedelta(minutes=1))\n",
    "print('hours:', dt.timedelta(hours=5))\n",
    "print('days:', dt.timedelta(days=1))\n",
    "print('weeks:', dt.timedelta(weeks=1))"
   ]
  },
  {
   "cell_type": "code",
   "execution_count": 16,
   "id": "79b23d31",
   "metadata": {},
   "outputs": [],
   "source": [
    "today = dt.date.today()"
   ]
  },
  {
   "cell_type": "code",
   "execution_count": 17,
   "id": "0d3fb9b4",
   "metadata": {},
   "outputs": [
    {
     "data": {
      "text/plain": [
       "datetime.date(2024, 1, 9)"
      ]
     },
     "execution_count": 17,
     "metadata": {},
     "output_type": "execute_result"
    }
   ],
   "source": [
    "today"
   ]
  },
  {
   "cell_type": "markdown",
   "id": "bcf5b955",
   "metadata": {},
   "source": [
    "   Puedes usar el valor de una variable de fecha como una cadena usando str():"
   ]
  },
  {
   "cell_type": "code",
   "execution_count": 18,
   "id": "02d28f08",
   "metadata": {},
   "outputs": [
    {
     "data": {
      "text/plain": [
       "'2024-01-09'"
      ]
     },
     "execution_count": 18,
     "metadata": {},
     "output_type": "execute_result"
    }
   ],
   "source": [
    "str(today)"
   ]
  },
  {
   "cell_type": "code",
   "execution_count": 19,
   "id": "6cbb7aac",
   "metadata": {},
   "outputs": [
    {
     "data": {
      "text/plain": [
       "datetime.date(2023, 10, 1)"
      ]
     },
     "execution_count": 19,
     "metadata": {},
     "output_type": "execute_result"
    }
   ],
   "source": [
    "today - delta #la fecha hace 100 dias"
   ]
  },
  {
   "cell_type": "code",
   "execution_count": 20,
   "id": "b32288b9",
   "metadata": {},
   "outputs": [
    {
     "data": {
      "text/plain": [
       "'2023-10-01'"
      ]
     },
     "execution_count": 20,
     "metadata": {},
     "output_type": "execute_result"
    }
   ],
   "source": [
    "str(today - delta)\n"
   ]
  },
  {
   "cell_type": "code",
   "execution_count": 21,
   "id": "76d8798f",
   "metadata": {},
   "outputs": [
    {
     "data": {
      "text/plain": [
       "datetime.date(2024, 4, 18)"
      ]
     },
     "execution_count": 21,
     "metadata": {},
     "output_type": "execute_result"
    }
   ],
   "source": [
    "today + delta # la fecha dentro de 100 dias "
   ]
  },
  {
   "cell_type": "code",
   "execution_count": 22,
   "id": "2b11bc3c",
   "metadata": {},
   "outputs": [
    {
     "data": {
      "text/plain": [
       "'2024-04-18'"
      ]
     },
     "execution_count": 22,
     "metadata": {},
     "output_type": "execute_result"
    }
   ],
   "source": [
    "str(today + delta)"
   ]
  },
  {
   "cell_type": "code",
   "execution_count": 23,
   "id": "a52c4a08",
   "metadata": {},
   "outputs": [
    {
     "data": {
      "text/plain": [
       "True"
      ]
     },
     "execution_count": 23,
     "metadata": {},
     "output_type": "execute_result"
    }
   ],
   "source": [
    "today > today - delta # compare dates"
   ]
  },
  {
   "cell_type": "code",
   "execution_count": 24,
   "id": "883ff269",
   "metadata": {},
   "outputs": [
    {
     "data": {
      "text/plain": [
       "False"
      ]
     },
     "execution_count": 24,
     "metadata": {},
     "output_type": "execute_result"
    }
   ],
   "source": [
    "today > today + delta"
   ]
  },
  {
   "cell_type": "code",
   "execution_count": 25,
   "id": "ba77b485",
   "metadata": {},
   "outputs": [],
   "source": [
    "hoy = dt.date.today() #Asigna fecha actual\n",
    "ayer = hoy - dt.timedelta(days=1) #Resta a fecha actual 1 dia\n",
    "mañana= hoy + dt.timedelta(days=1) #Suma a fecha actual 1 dia\n",
    "diferencia_en_dias = mañana - ayer #Resta las dos fechas"
   ]
  },
  {
   "cell_type": "code",
   "execution_count": 26,
   "id": "bc40b4a7",
   "metadata": {},
   "outputs": [
    {
     "data": {
      "text/plain": [
       "datetime.date(2024, 1, 8)"
      ]
     },
     "execution_count": 26,
     "metadata": {},
     "output_type": "execute_result"
    }
   ],
   "source": [
    "ayer\n"
   ]
  },
  {
   "cell_type": "code",
   "execution_count": 27,
   "id": "ebb3d964",
   "metadata": {},
   "outputs": [
    {
     "data": {
      "text/plain": [
       "datetime.timedelta(days=2)"
      ]
     },
     "execution_count": 27,
     "metadata": {},
     "output_type": "execute_result"
    }
   ],
   "source": [
    "diferencia_en_dias\n"
   ]
  },
  {
   "cell_type": "code",
   "execution_count": 28,
   "id": "11085a63",
   "metadata": {},
   "outputs": [
    {
     "name": "stdout",
     "output_type": "stream",
     "text": [
      "2 days, 0:00:00\n"
     ]
    }
   ],
   "source": [
    "print(diferencia_en_dias)"
   ]
  },
  {
   "cell_type": "code",
   "execution_count": 29,
   "id": "378f2b8d",
   "metadata": {},
   "outputs": [
    {
     "name": "stdout",
     "output_type": "stream",
     "text": [
      "2020-02-01 01:00:00\n"
     ]
    }
   ],
   "source": [
    "d1 = dt.datetime(2020, 1, 1)\n",
    "print(d1 + dt.timedelta(31,3600)) ## agregando a la fecha 31 dias y 3600 segundos (1hora)"
   ]
  },
  {
   "cell_type": "markdown",
   "id": "77923d0d",
   "metadata": {},
   "source": [
    "<h2>Formatear fechas</h2>"
   ]
  },
  {
   "cell_type": "markdown",
   "id": "b4bb8a69",
   "metadata": {},
   "source": [
    "Para convertir cadenas formateadas a instancias de datetime (fechas) se puede usar <b>strptime</b><br>\n",
    "Para escribir datetime (fechas) en cadenas formateadas se puede usar <b>strftime</b>"
   ]
  },
  {
   "cell_type": "code",
   "execution_count": 30,
   "id": "ac56f88f",
   "metadata": {},
   "outputs": [
    {
     "name": "stdout",
     "output_type": "stream",
     "text": [
      "year: 2024\n",
      "month: 01\n",
      "day: 09\n",
      "date and time: 15:21:50\n",
      "date and time: 01:09:2024, 15:21:50\n",
      "09/01/2024\n"
     ]
    },
    {
     "data": {
      "text/plain": [
       "str"
      ]
     },
     "execution_count": 30,
     "metadata": {},
     "output_type": "execute_result"
    }
   ],
   "source": [
    "now = dt.datetime.now() # current date and time\n",
    "\n",
    "year = now.strftime(\"%Y\")\n",
    "print(\"year:\", year)\n",
    "\n",
    "month = now.strftime(\"%m\")\n",
    "print(\"month:\", month)\n",
    "\n",
    "day = now.strftime(\"%d\")\n",
    "print(\"day:\",day)\n",
    "\n",
    "time = now.strftime(\"%H:%M:%S\")\n",
    "print(\"date and time:\",time)\n",
    "\n",
    "date_time = now.strftime(\"%m:%d:%Y, %H:%M:%S\")\n",
    "print(\"date and time:\",date_time)\n",
    "\n",
    "print(now.strftime('%d/%m/%Y'))\n",
    "type(now.strftime('%d/%m/%Y'))\n"
   ]
  },
  {
   "cell_type": "code",
   "execution_count": 31,
   "id": "8f60af17",
   "metadata": {},
   "outputs": [
    {
     "name": "stdout",
     "output_type": "stream",
     "text": [
      "Hoy es Tuesday 09 de January del año 2024\n"
     ]
    }
   ],
   "source": [
    "print(now.strftime('Hoy es %A %d de %B del año %Y'))"
   ]
  },
  {
   "cell_type": "markdown",
   "id": "ad540474",
   "metadata": {},
   "source": [
    "Vemos que el idioma por defecto de Python es el ingles. Si quieres que salga en otro idioma puedes cambiar la configuracion <br> local. Por ejemplo, para que salga en español:"
   ]
  },
  {
   "cell_type": "code",
   "execution_count": 32,
   "id": "48dbda27",
   "metadata": {},
   "outputs": [
    {
     "name": "stdout",
     "output_type": "stream",
     "text": [
      "Hoy es martes 09 de enero del año 2024\n"
     ]
    }
   ],
   "source": [
    "import locale\n",
    "locale.setlocale(locale.LC_ALL, (\"es_ES\", \"UTF-8\"))\n",
    "print(now.strftime('Hoy es %A %d de %B del año %Y'))"
   ]
  },
  {
   "cell_type": "markdown",
   "id": "7561c1ec",
   "metadata": {},
   "source": [
    "Para volver a la configuracion local por defecto:"
   ]
  },
  {
   "cell_type": "code",
   "execution_count": 33,
   "id": "c9383039",
   "metadata": {},
   "outputs": [
    {
     "data": {
      "text/plain": [
       "'en_US'"
      ]
     },
     "execution_count": 33,
     "metadata": {},
     "output_type": "execute_result"
    }
   ],
   "source": [
    "import locale\n",
    "locale.setlocale(locale.LC_ALL, (\"en_US\"))"
   ]
  },
  {
   "cell_type": "code",
   "execution_count": 34,
   "id": "5c459060",
   "metadata": {},
   "outputs": [],
   "source": [
    "import datetime as dt"
   ]
  },
  {
   "cell_type": "code",
   "execution_count": 35,
   "id": "130301f6",
   "metadata": {},
   "outputs": [
    {
     "name": "stdout",
     "output_type": "stream",
     "text": [
      "2000-11-30 00:00:00\n",
      "<class 'datetime.datetime'>\n",
      "2000-11-30 00:00:00\n"
     ]
    }
   ],
   "source": [
    "#import datetime as dt\n",
    "\n",
    "datetime_1 = dt.datetime.strptime(\"30 Nov 00\", \"%d %b %y\")\n",
    "datetime_2 = dt.datetime.strptime(\"Thursday, 30 Nov 2000\", \"%A, %d %b %Y\")\n",
    "\n",
    "print(datetime_1)\n",
    "print(type(datetime_1))\n",
    "\n",
    "print(datetime_2)"
   ]
  },
  {
   "cell_type": "code",
   "execution_count": 36,
   "id": "03b3956a",
   "metadata": {},
   "outputs": [],
   "source": [
    "#diferencia entre 2 fechas en días\n",
    "datetime_2 = dt.datetime.strptime('04/03/1979','%d/%m/%Y')\n",
    "datetime_3 = dt.datetime.strptime('04/03/2020','%d/%m/%Y')\n",
    "\n",
    "a = datetime_3-datetime_2"
   ]
  },
  {
   "cell_type": "code",
   "execution_count": 37,
   "id": "a43aff6f",
   "metadata": {},
   "outputs": [
    {
     "data": {
      "text/plain": [
       "datetime.timedelta(days=14976)"
      ]
     },
     "execution_count": 37,
     "metadata": {},
     "output_type": "execute_result"
    }
   ],
   "source": [
    "a"
   ]
  },
  {
   "cell_type": "code",
   "execution_count": 38,
   "id": "f17e7ace",
   "metadata": {},
   "outputs": [
    {
     "data": {
      "text/plain": [
       "14976"
      ]
     },
     "execution_count": 38,
     "metadata": {},
     "output_type": "execute_result"
    }
   ],
   "source": [
    "# pasando la cantidad de dias a entero\n",
    "int(a.days)"
   ]
  },
  {
   "cell_type": "markdown",
   "id": "ecb517a0",
   "metadata": {},
   "source": [
    "<h2>Modulo calendario</h2><br>\n",
    "El modulo calendario nos brinda diversas funciones relacionadas con el calendario, incluyendo funciones que imprimen un calendario en formato textual para un mes o un año."
   ]
  },
  {
   "cell_type": "code",
   "execution_count": 39,
   "id": "e83bddbe",
   "metadata": {},
   "outputs": [],
   "source": [
    "import calendar"
   ]
  },
  {
   "cell_type": "code",
   "execution_count": 40,
   "id": "9c1a4492",
   "metadata": {},
   "outputs": [
    {
     "data": {
      "text/plain": [
       "['Calendar',\n",
       " 'EPOCH',\n",
       " 'FRIDAY',\n",
       " 'February',\n",
       " 'HTMLCalendar',\n",
       " 'IllegalMonthError',\n",
       " 'IllegalWeekdayError',\n",
       " 'January',\n",
       " 'LocaleHTMLCalendar',\n",
       " 'LocaleTextCalendar',\n",
       " 'MONDAY',\n",
       " 'SATURDAY',\n",
       " 'SUNDAY',\n",
       " 'THURSDAY',\n",
       " 'TUESDAY',\n",
       " 'TextCalendar',\n",
       " 'WEDNESDAY',\n",
       " '_EPOCH_ORD',\n",
       " '__all__',\n",
       " '__builtins__',\n",
       " '__cached__',\n",
       " '__doc__',\n",
       " '__file__',\n",
       " '__loader__',\n",
       " '__name__',\n",
       " '__package__',\n",
       " '__spec__',\n",
       " '_colwidth',\n",
       " '_get_default_locale',\n",
       " '_locale',\n",
       " '_localized_day',\n",
       " '_localized_month',\n",
       " '_monthlen',\n",
       " '_nextmonth',\n",
       " '_prevmonth',\n",
       " '_spacing',\n",
       " 'c',\n",
       " 'calendar',\n",
       " 'datetime',\n",
       " 'day_abbr',\n",
       " 'day_name',\n",
       " 'different_locale',\n",
       " 'error',\n",
       " 'firstweekday',\n",
       " 'format',\n",
       " 'formatstring',\n",
       " 'isleap',\n",
       " 'leapdays',\n",
       " 'main',\n",
       " 'mdays',\n",
       " 'month',\n",
       " 'month_abbr',\n",
       " 'month_name',\n",
       " 'monthcalendar',\n",
       " 'monthrange',\n",
       " 'prcal',\n",
       " 'prmonth',\n",
       " 'prweek',\n",
       " 'repeat',\n",
       " 'setfirstweekday',\n",
       " 'sys',\n",
       " 'timegm',\n",
       " 'week',\n",
       " 'weekday',\n",
       " 'weekheader']"
      ]
     },
     "execution_count": 40,
     "metadata": {},
     "output_type": "execute_result"
    }
   ],
   "source": [
    "dir(calendar)"
   ]
  },
  {
   "cell_type": "code",
   "execution_count": 41,
   "id": "5a1aca4b",
   "metadata": {},
   "outputs": [],
   "source": [
    "calendar.setfirstweekday(0) #define el primer dia de la semana, por defecto 0:Monday"
   ]
  },
  {
   "cell_type": "code",
   "execution_count": 42,
   "id": "ee0b4365",
   "metadata": {},
   "outputs": [
    {
     "data": {
      "text/plain": [
       "0"
      ]
     },
     "execution_count": 42,
     "metadata": {},
     "output_type": "execute_result"
    }
   ],
   "source": [
    "calendar.firstweekday() #0:Monday - 6:Sunday"
   ]
  },
  {
   "cell_type": "code",
   "execution_count": 43,
   "id": "b4eeaedf",
   "metadata": {},
   "outputs": [
    {
     "data": {
      "text/plain": [
       "True"
      ]
     },
     "execution_count": 43,
     "metadata": {},
     "output_type": "execute_result"
    }
   ],
   "source": [
    "calendar.isleap(2020) #True si el año es bisiesto"
   ]
  },
  {
   "cell_type": "code",
   "execution_count": 44,
   "id": "da04fd57",
   "metadata": {},
   "outputs": [
    {
     "data": {
      "text/plain": [
       "5"
      ]
     },
     "execution_count": 44,
     "metadata": {},
     "output_type": "execute_result"
    }
   ],
   "source": [
    "calendar.leapdays(2000,2020) #cantidad de años bisiesto entre 2 años"
   ]
  },
  {
   "cell_type": "code",
   "execution_count": 45,
   "id": "2bf4f3b1",
   "metadata": {},
   "outputs": [
    {
     "data": {
      "text/plain": [
       "[[0, 0, 0, 0, 0, 1, 2],\n",
       " [3, 4, 5, 6, 7, 8, 9],\n",
       " [10, 11, 12, 13, 14, 15, 16],\n",
       " [17, 18, 19, 20, 21, 22, 23],\n",
       " [24, 25, 26, 27, 28, 29, 30],\n",
       " [31, 0, 0, 0, 0, 0, 0]]"
      ]
     },
     "execution_count": 45,
     "metadata": {},
     "output_type": "execute_result"
    }
   ],
   "source": [
    "calendar.monthcalendar(2020,8) #muestra el mes como un calendario"
   ]
  },
  {
   "cell_type": "code",
   "execution_count": 49,
   "id": "89d797b5",
   "metadata": {},
   "outputs": [
    {
     "data": {
      "text/plain": [
       "1"
      ]
     },
     "execution_count": 49,
     "metadata": {},
     "output_type": "execute_result"
    }
   ],
   "source": [
    "calendar.weekday(2024,1,9) #dia de la semana que corrsponde a una fecha en especifico"
   ]
  },
  {
   "cell_type": "code",
   "execution_count": 50,
   "id": "d67ee53e",
   "metadata": {
    "scrolled": true
   },
   "outputs": [
    {
     "name": "stdout",
     "output_type": "stream",
     "text": [
      "                   2021\n",
      "\n",
      "      January               February\n",
      "Mo Tu We Th Fr Sa Su  Mo Tu We Th Fr Sa Su\n",
      "             1  2  3   1  2  3  4  5  6  7\n",
      " 4  5  6  7  8  9 10   8  9 10 11 12 13 14\n",
      "11 12 13 14 15 16 17  15 16 17 18 19 20 21\n",
      "18 19 20 21 22 23 24  22 23 24 25 26 27 28\n",
      "25 26 27 28 29 30 31\n",
      "\n",
      "       March                 April\n",
      "Mo Tu We Th Fr Sa Su  Mo Tu We Th Fr Sa Su\n",
      " 1  2  3  4  5  6  7            1  2  3  4\n",
      " 8  9 10 11 12 13 14   5  6  7  8  9 10 11\n",
      "15 16 17 18 19 20 21  12 13 14 15 16 17 18\n",
      "22 23 24 25 26 27 28  19 20 21 22 23 24 25\n",
      "29 30 31              26 27 28 29 30\n",
      "\n",
      "        May                   June\n",
      "Mo Tu We Th Fr Sa Su  Mo Tu We Th Fr Sa Su\n",
      "                1  2      1  2  3  4  5  6\n",
      " 3  4  5  6  7  8  9   7  8  9 10 11 12 13\n",
      "10 11 12 13 14 15 16  14 15 16 17 18 19 20\n",
      "17 18 19 20 21 22 23  21 22 23 24 25 26 27\n",
      "24 25 26 27 28 29 30  28 29 30\n",
      "31\n",
      "\n",
      "        July                 August\n",
      "Mo Tu We Th Fr Sa Su  Mo Tu We Th Fr Sa Su\n",
      "          1  2  3  4                     1\n",
      " 5  6  7  8  9 10 11   2  3  4  5  6  7  8\n",
      "12 13 14 15 16 17 18   9 10 11 12 13 14 15\n",
      "19 20 21 22 23 24 25  16 17 18 19 20 21 22\n",
      "26 27 28 29 30 31     23 24 25 26 27 28 29\n",
      "                      30 31\n",
      "\n",
      "     September              October\n",
      "Mo Tu We Th Fr Sa Su  Mo Tu We Th Fr Sa Su\n",
      "       1  2  3  4  5               1  2  3\n",
      " 6  7  8  9 10 11 12   4  5  6  7  8  9 10\n",
      "13 14 15 16 17 18 19  11 12 13 14 15 16 17\n",
      "20 21 22 23 24 25 26  18 19 20 21 22 23 24\n",
      "27 28 29 30           25 26 27 28 29 30 31\n",
      "\n",
      "      November              December\n",
      "Mo Tu We Th Fr Sa Su  Mo Tu We Th Fr Sa Su\n",
      " 1  2  3  4  5  6  7         1  2  3  4  5\n",
      " 8  9 10 11 12 13 14   6  7  8  9 10 11 12\n",
      "15 16 17 18 19 20 21  13 14 15 16 17 18 19\n",
      "22 23 24 25 26 27 28  20 21 22 23 24 25 26\n",
      "29 30                 27 28 29 30 31\n",
      "\n"
     ]
    }
   ],
   "source": [
    "print(calendar.TextCalendar(calendar.MONDAY).formatyear(2021, 2, 1, 1, 2))"
   ]
  },
  {
   "cell_type": "markdown",
   "id": "abed2cf3",
   "metadata": {},
   "source": [
    "https://python-para-impacientes.blogspot.com/2014/02/operaciones-con-fechas-y-horas.html"
   ]
  },
  {
   "cell_type": "code",
   "execution_count": null,
   "id": "7afa81f0",
   "metadata": {},
   "outputs": [],
   "source": []
  }
 ],
 "metadata": {
  "kernelspec": {
   "display_name": "Python 3 (ipykernel)",
   "language": "python",
   "name": "python3"
  },
  "language_info": {
   "codemirror_mode": {
    "name": "ipython",
    "version": 3
   },
   "file_extension": ".py",
   "mimetype": "text/x-python",
   "name": "python",
   "nbconvert_exporter": "python",
   "pygments_lexer": "ipython3",
   "version": "3.11.5"
  }
 },
 "nbformat": 4,
 "nbformat_minor": 5
}
