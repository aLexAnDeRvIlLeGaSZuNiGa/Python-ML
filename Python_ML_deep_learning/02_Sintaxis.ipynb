{
  "cells": [
    {
      "cell_type": "code",
      "execution_count": null,
      "metadata": {
        "id": "id-Gfw1iQfXp"
      },
      "outputs": [],
      "source": []
    },
    {
      "cell_type": "markdown",
      "metadata": {
        "id": "_teJFSs2if7w"
      },
      "source": [
        "# Mi primer programa"
      ]
    },
    {
      "cell_type": "markdown",
      "metadata": {
        "id": "k_J2f2s7ig7U"
      },
      "source": [
        "## Sintaxis del lenguaje python"
      ]
    },
    {
      "cell_type": "markdown",
      "metadata": {
        "id": "WThqPlvpl8KW"
      },
      "source": [
        "Python se desarrollò originalmente como un lenguaje de enseñanza, pero su facilidad de uso y su sintaxis limpia ha llevado a ser aceptado por principiantes y expertos por igual. La limpieza de la sintaxys de python ha llevado a algunos a llamarlo \"pseudo codigo ejecutable\". De hecho, es mucho mas facil leer y comprender un script de python que leer un script similar escrito en, c++.\n",
        "\n",
        "La sintaxis se refiere a la estructura del lenguaje (es decir, lo que constituye un programa formado correctamente). Por el momento, no nos centraremos en la semantica, el significado de las palabras y los simbolos dentro de la sintaxis, sino que volveremos a esto mas adelante.\n",
        "\n",
        "Consideremos el siguiente ejemplo de codigo:"
      ]
    },
    {
      "cell_type": "code",
      "execution_count": 1,
      "metadata": {
        "colab": {
          "base_uri": "https://localhost:8080/",
          "height": 35
        },
        "id": "38vint6giyWN",
        "outputId": "7603296b-34bf-4365-c3e6-8be81c9fda22"
      },
      "outputs": [
        {
          "data": {
            "text/plain": [
              "'d:\\\\Python'"
            ]
          },
          "execution_count": 1,
          "metadata": {},
          "output_type": "execute_result"
        }
      ],
      "source": [
        "pwd"
      ]
    },
    {
      "cell_type": "code",
      "execution_count": 2,
      "metadata": {
        "id": "a-gUnt-fjQpS"
      },
      "outputs": [],
      "source": [
        "pto_medio=5"
      ]
    },
    {
      "cell_type": "code",
      "execution_count": 3,
      "metadata": {
        "id": "d-HUIdaNoee6"
      },
      "outputs": [
        {
          "data": {
            "text/plain": [
              "5"
            ]
          },
          "execution_count": 3,
          "metadata": {},
          "output_type": "execute_result"
        }
      ],
      "source": [
        "pto_medio"
      ]
    },
    {
      "cell_type": "code",
      "execution_count": null,
      "metadata": {
        "id": "k1kOt6jwpQZ1"
      },
      "outputs": [],
      "source": [
        "menores = []; mayores= []"
      ]
    },
    {
      "cell_type": "code",
      "execution_count": null,
      "metadata": {
        "colab": {
          "base_uri": "https://localhost:8080/"
        },
        "id": "9yOPQOIypTdR",
        "outputId": "1ceba406-d365-4f46-bde4-39cdaa745e82"
      },
      "outputs": [
        {
          "data": {
            "text/plain": [
              "[]"
            ]
          },
          "execution_count": 15,
          "metadata": {},
          "output_type": "execute_result"
        }
      ],
      "source": [
        "menores"
      ]
    },
    {
      "cell_type": "code",
      "execution_count": null,
      "metadata": {
        "colab": {
          "base_uri": "https://localhost:8080/"
        },
        "id": "FnYPBSzSpxjT",
        "outputId": "b5b53b83-cf6b-4184-82b5-d70a8732c1f4"
      },
      "outputs": [
        {
          "data": {
            "text/plain": [
              "[0, 1, 2, 3, 4, 5, 6, 7, 8, 9]"
            ]
          },
          "execution_count": 17,
          "metadata": {},
          "output_type": "execute_result"
        }
      ],
      "source": [
        "list(range(10))"
      ]
    },
    {
      "cell_type": "code",
      "execution_count": 4,
      "metadata": {},
      "outputs": [],
      "source": [
        "menores = []; mayores= []"
      ]
    },
    {
      "cell_type": "code",
      "execution_count": 5,
      "metadata": {},
      "outputs": [
        {
          "data": {
            "text/plain": [
              "[]"
            ]
          },
          "execution_count": 5,
          "metadata": {},
          "output_type": "execute_result"
        }
      ],
      "source": [
        "menores"
      ]
    },
    {
      "cell_type": "code",
      "execution_count": 11,
      "metadata": {
        "colab": {
          "base_uri": "https://localhost:8080/"
        },
        "id": "S3s-tPYYqpfT",
        "outputId": "77709f77-4f62-4a26-c292-ba0cdee1a589"
      },
      "outputs": [
        {
          "data": {
            "text/plain": [
              "int"
            ]
          },
          "execution_count": 11,
          "metadata": {},
          "output_type": "execute_result"
        }
      ],
      "source": [
        "# tipo de variable\n",
        "type(pto_medio)"
      ]
    },
    {
      "cell_type": "code",
      "execution_count": 7,
      "metadata": {},
      "outputs": [
        {
          "data": {
            "text/plain": [
              "[0, 1, 2, 3, 4, 5, 6, 7, 8, 9]"
            ]
          },
          "execution_count": 7,
          "metadata": {},
          "output_type": "execute_result"
        }
      ],
      "source": [
        "list(range(10))"
      ]
    },
    {
      "cell_type": "code",
      "execution_count": 9,
      "metadata": {},
      "outputs": [],
      "source": [
        "a,b = 4 ,5"
      ]
    },
    {
      "cell_type": "code",
      "execution_count": 10,
      "metadata": {},
      "outputs": [
        {
          "data": {
            "text/plain": [
              "4"
            ]
          },
          "execution_count": 10,
          "metadata": {},
          "output_type": "execute_result"
        }
      ],
      "source": [
        "a"
      ]
    },
    {
      "cell_type": "code",
      "execution_count": 8,
      "metadata": {},
      "outputs": [
        {
          "ename": "ValueError",
          "evalue": "not enough values to unpack (expected 2, got 0)",
          "output_type": "error",
          "traceback": [
            "\u001b[1;31m---------------------------------------------------------------------------\u001b[0m",
            "\u001b[1;31mValueError\u001b[0m                                Traceback (most recent call last)",
            "Cell \u001b[1;32mIn[8], line 1\u001b[0m\n\u001b[1;32m----> 1\u001b[0m menores \u001b[38;5;241m=\u001b[39m [], mayores\u001b[38;5;241m=\u001b[39m []\n",
            "\u001b[1;31mValueError\u001b[0m: not enough values to unpack (expected 2, got 0)"
          ]
        }
      ],
      "source": [
        "menores = [], mayores= []"
      ]
    },
    {
      "cell_type": "code",
      "execution_count": 12,
      "metadata": {
        "colab": {
          "base_uri": "https://localhost:8080/"
        },
        "id": "ET9iO9egoibj",
        "outputId": "731ad3f2-abe9-4525-c85d-b28f5b1c0cd4"
      },
      "outputs": [
        {
          "name": "stdout",
          "output_type": "stream",
          "text": [
            "menores a pto_medio: [0, 1, 2, 3, 4]\n",
            "mayores o iguales a pto_medio: [5, 6, 7, 8, 9]\n"
          ]
        }
      ],
      "source": [
        "# Establecer un punto medio:\n",
        "pto_medio = 5\n",
        "\n",
        "# crear dos listas vacias:\n",
        "menores = []; mayores= []\n",
        "\n",
        "# dividir los numeros en menores y mayores iguales al punto medio:\n",
        "for i in range(10):\n",
        "    if(i < pto_medio):\n",
        "       menores.append(i)\n",
        "    else:\n",
        "       mayores.append(i)\n",
        "\n",
        "print(\"menores a pto_medio:\", menores)\n",
        "print(\"mayores o iguales a pto_medio:\", mayores)"
      ]
    },
    {
      "cell_type": "markdown",
      "metadata": {
        "id": "-lng0wOUtO-d"
      },
      "source": [
        "# Los comentarios"
      ]
    },
    {
      "cell_type": "markdown",
      "metadata": {
        "id": "fjQPxiWMtYjd"
      },
      "source": [
        "En la sintaxis, el \"#\" esta reservado para los comentarios o textos. El interprete ignora cualquier cosa en la linea que sigue el signo de #.\n",
        "Esto significa, por ejemplo, que puede tener comentarios independientes como el que se acaba de mostrar, así como comentarios en linea que siguen a una declaración. Por ejemplo:\n",
        "\n",
        "x +=2 # proceso para x = x+2\n",
        "\n",
        "Python no tiene ninguna sintaxis para comentarios de varias lineas, como la /*....*/ sintaxis usada en C++."
      ]
    },
    {
      "cell_type": "markdown",
      "metadata": {
        "id": "mfqQo7nHug3y"
      },
      "source": [
        "# Fin de linea"
      ]
    },
    {
      "cell_type": "markdown",
      "metadata": {
        "id": "t3X1rdY2ukE0"
      },
      "source": [
        "pto_medio = 5 <br>\n",
        "Esta es una operaciòn de asignación, donde creamos una variable llamada pto_medio y le asignamos el valor 5.\n",
        "Observe que el final de esta declaración simplemente está marcado por el final de la línea. Esto está en contraste con lenguajes como C y C++, donde esta declaracion debe de terminar en un punto y coma (;).\n",
        "\n",
        "En python, si desea que una instruccion continue a la siguiente linea, es posible usar el \"\\\" para indicar esto:\n",
        "\n",
        "\n"
      ]
    },
    {
      "cell_type": "code",
      "execution_count": null,
      "metadata": {
        "id": "TIUULkestWuN"
      },
      "outputs": [],
      "source": [
        "x1 = 1 + 2 + 3 + 4 +\\\n",
        "    5 + 6 + 7 + 8"
      ]
    },
    {
      "cell_type": "code",
      "execution_count": null,
      "metadata": {
        "id": "wRcTrzrKwB-h"
      },
      "outputs": [],
      "source": [
        "x2 = (1 + 2 + 3 + 4 +\n",
        "      5 + 6 + 7 + 8)"
      ]
    },
    {
      "cell_type": "markdown",
      "metadata": {
        "id": "3B77_a00wRow"
      },
      "source": [
        "# Punto y coma"
      ]
    },
    {
      "cell_type": "markdown",
      "metadata": {
        "id": "6-q3_ymvwXjY"
      },
      "source": [
        "A veces puede ser útil poner varias declaraciones en una sola lìnea."
      ]
    },
    {
      "cell_type": "code",
      "execution_count": null,
      "metadata": {
        "id": "RsEsYtcQwWMF"
      },
      "outputs": [],
      "source": [
        "menores = [], mayores = []"
      ]
    },
    {
      "cell_type": "markdown",
      "metadata": {
        "id": "Ed0TiM1mwq4G"
      },
      "source": [
        "Esto muestra como el ejemplo de como el punto y coma (;), familiar en C, se puede usar opcionalmente en python para poner dos declaraciones en una sola linea.\n",
        "Funcionalmente, esto es completamente equivalente a escribir:\n"
      ]
    },
    {
      "cell_type": "code",
      "execution_count": null,
      "metadata": {
        "id": "5lpEOuX1xBl-"
      },
      "outputs": [],
      "source": [
        "menores = []\n",
        "mayores = []"
      ]
    },
    {
      "cell_type": "markdown",
      "metadata": {
        "id": "0fz3P9bRxHzT"
      },
      "source": [
        "La mayoria de las guias de estilo de python desaconsejan el uso de un punto y coma para colocar varias declaraciones en un sola lìnea, aunque ocasionalmente resulta conveniente."
      ]
    },
    {
      "cell_type": "markdown",
      "metadata": {
        "id": "gxYKNQE2xZ99"
      },
      "source": [
        "# Sangrias"
      ]
    },
    {
      "cell_type": "markdown",
      "metadata": {
        "id": "v4kGkFloxh8s"
      },
      "source": [
        "A continuación, llegamos al bloque principal de código:"
      ]
    },
    {
      "cell_type": "code",
      "execution_count": null,
      "metadata": {
        "id": "Kt47b3FfxYyF"
      },
      "outputs": [],
      "source": [
        "for i in range(10):\n",
        "  if ( i < pto_medio):\n",
        "    menores.append(i)\n",
        "  else:\n",
        "    mayores.append(i)"
      ]
    },
    {
      "cell_type": "markdown",
      "metadata": {
        "id": "6TO6kYQcyP9r"
      },
      "source": [
        "Esta es una declaración de flujo de control compuesta que incluye un bucle y un condicional. Por ahora, considere que esto demuestra cuál es quizás la característica más controvertida de la sintaxis de Python: ¡el espacio en blanco es significativo!\n",
        "En lenguajes de programación, un bloque de código es un conjunto de declaraciones que deben tratarse como unidad.\n",
        "En python, los bloques de codigo se denotan en sangria:\n"
      ]
    },
    {
      "cell_type": "code",
      "execution_count": 14,
      "metadata": {
        "id": "pGgFmODSyO52"
      },
      "outputs": [
        {
          "data": {
            "text/plain": [
              "'for i in range(100):\\n    total +=i'"
            ]
          },
          "execution_count": 14,
          "metadata": {},
          "output_type": "execute_result"
        }
      ],
      "source": [
        "for i in range(100):\n",
        "    total +=i"
      ]
    },
    {
      "cell_type": "markdown",
      "metadata": {
        "id": "RcBr-8oHzU3G"
      },
      "source": [
        "En python, los bloques de codigo sangrados siempre estan precedidos por dos puntos (:) en la linea anterior.\n",
        "\n",
        "El uso de sangría ayuda a aplicar el estilo uniforme y legible que muchos encuentran atractivo en el còdigo de python. Pero puede ser confuso para los no iniciados; por ejemplo, los siguientes dos fragmentos producirán resulados diferentes:"
      ]
    },
    {
      "cell_type": "code",
      "execution_count": null,
      "metadata": {
        "id": "YUXeGBdk1lER"
      },
      "outputs": [],
      "source": [
        ">>> if x < 4:           >>> if x < 4:\n",
        "...      y = x * 2      ...     y = x * 2\n",
        "...      print(x)       ... print(x)"
      ]
    },
    {
      "cell_type": "markdown",
      "metadata": {
        "id": "qcJ8nDpq1m1R"
      },
      "source": [
        "En el fragmento de la izquierda, print(x) está en el bloque sangrado, y se ejecutará solo si x es menor que 4. El fragento de la derecha print(x) está fuera del bloque, y se ejecutará independientemente del valor de x."
      ]
    },
    {
      "cell_type": "code",
      "execution_count": null,
      "metadata": {
        "id": "qWUnRk3-2LlM"
      },
      "outputs": [],
      "source": []
    }
  ],
  "metadata": {
    "colab": {
      "provenance": []
    },
    "kernelspec": {
      "display_name": "Python 3",
      "name": "python3"
    },
    "language_info": {
      "codemirror_mode": {
        "name": "ipython",
        "version": 3
      },
      "file_extension": ".py",
      "mimetype": "text/x-python",
      "name": "python",
      "nbconvert_exporter": "python",
      "pygments_lexer": "ipython3",
      "version": "3.11.5"
    }
  },
  "nbformat": 4,
  "nbformat_minor": 0
}
