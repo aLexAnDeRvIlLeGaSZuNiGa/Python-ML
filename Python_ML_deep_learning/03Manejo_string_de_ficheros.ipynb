{
 "cells": [
  {
   "cell_type": "markdown",
   "id": "30ec345f",
   "metadata": {},
   "source": [
    "<u><h1>manejo de string y ficheros</h1></u>"
   ]
  },
  {
   "cell_type": "markdown",
   "id": "9af93c31",
   "metadata": {},
   "source": [
    "<h2>Operaciones con cadenas (String)</h2>"
   ]
  },
  {
   "cell_type": "code",
   "execution_count": 1,
   "id": "ae679f4f",
   "metadata": {},
   "outputs": [],
   "source": [
    "s1 = 'Hola, soy un string.'\n",
    "s2 = \"Yo tambien\"\n",
    "s3 = ''"
   ]
  },
  {
   "cell_type": "code",
   "execution_count": 2,
   "id": "7f633bc1",
   "metadata": {},
   "outputs": [
    {
     "data": {
      "text/plain": [
       "'Hola, soy un string.'"
      ]
     },
     "execution_count": 2,
     "metadata": {},
     "output_type": "execute_result"
    }
   ],
   "source": [
    "s1"
   ]
  },
  {
   "cell_type": "code",
   "execution_count": 3,
   "id": "63857733",
   "metadata": {},
   "outputs": [
    {
     "data": {
      "text/plain": [
       "'Yo tambien'"
      ]
     },
     "execution_count": 3,
     "metadata": {},
     "output_type": "execute_result"
    }
   ],
   "source": [
    "s2"
   ]
  },
  {
   "cell_type": "code",
   "execution_count": 4,
   "id": "c4cce97e",
   "metadata": {},
   "outputs": [
    {
     "name": "stdout",
     "output_type": "stream",
     "text": [
      "\n"
     ]
    }
   ],
   "source": [
    "print(s3)"
   ]
  },
  {
   "cell_type": "code",
   "execution_count": 5,
   "id": "4dda2acf",
   "metadata": {},
   "outputs": [
    {
     "data": {
      "text/plain": [
       "'Hola, soy un string.Yo tambien'"
      ]
     },
     "execution_count": 5,
     "metadata": {},
     "output_type": "execute_result"
    }
   ],
   "source": [
    "#Concatenar strings\n",
    "s1+s2"
   ]
  },
  {
   "cell_type": "code",
   "execution_count": 6,
   "id": "c5624bfd",
   "metadata": {},
   "outputs": [
    {
     "data": {
      "text/plain": [
       "20"
      ]
     },
     "execution_count": 6,
     "metadata": {},
     "output_type": "execute_result"
    }
   ],
   "source": [
    "#Cantidad de caracteres de un string\n",
    "len(s1)"
   ]
  },
  {
   "cell_type": "code",
   "execution_count": 7,
   "id": "cb2e3daf",
   "metadata": {},
   "outputs": [
    {
     "data": {
      "text/plain": [
       "'HOLA, SOY UN STRING.'"
      ]
     },
     "execution_count": 7,
     "metadata": {},
     "output_type": "execute_result"
    }
   ],
   "source": [
    "#String convertido a mayusculas\n",
    "s1.upper()"
   ]
  },
  {
   "cell_type": "code",
   "execution_count": 9,
   "id": "77bbde51",
   "metadata": {},
   "outputs": [
    {
     "data": {
      "text/plain": [
       "'Estamos en clases'"
      ]
     },
     "execution_count": 9,
     "metadata": {},
     "output_type": "execute_result"
    }
   ],
   "source": [
    "#Convirtiendo el string a una oracion\n",
    "'estamos en clases'.capitalize()"
   ]
  },
  {
   "cell_type": "code",
   "execution_count": 12,
   "id": "eab16b9f",
   "metadata": {},
   "outputs": [
    {
     "data": {
      "text/plain": [
       "'hola, soy un string.'"
      ]
     },
     "execution_count": 12,
     "metadata": {},
     "output_type": "execute_result"
    }
   ],
   "source": [
    "#Convirtiendo el string a minusculas\n",
    "s1.upper().lower()"
   ]
  },
  {
   "cell_type": "code",
   "execution_count": 13,
   "id": "bf35586a",
   "metadata": {},
   "outputs": [
    {
     "data": {
      "text/plain": [
       "True"
      ]
     },
     "execution_count": 13,
     "metadata": {},
     "output_type": "execute_result"
    }
   ],
   "source": [
    "#Consultando si el string termina en \"en\"\n",
    "s2.endswith('en')\n"
   ]
  },
  {
   "cell_type": "code",
   "execution_count": 15,
   "id": "1f455c46",
   "metadata": {},
   "outputs": [
    {
     "data": {
      "text/plain": [
       "'Hola, soy un string.Hola, soy un string.Hola, soy un string.Hola, soy un string.Hola, soy un string.'"
      ]
     },
     "execution_count": 15,
     "metadata": {},
     "output_type": "execute_result"
    }
   ],
   "source": [
    "#Replica de un string n veces ( multiplicacion de cadenas)\n",
    "s1 * 5"
   ]
  },
  {
   "cell_type": "code",
   "execution_count": 16,
   "id": "dae30b42",
   "metadata": {},
   "outputs": [
    {
     "data": {
      "text/plain": [
       "'1111111111111111111111111111111111111111111111111111111111111111111111111111111111111111111111111111'"
      ]
     },
     "execution_count": 16,
     "metadata": {},
     "output_type": "execute_result"
    }
   ],
   "source": [
    "'1'*100"
   ]
  },
  {
   "cell_type": "markdown",
   "id": "7fc44529",
   "metadata": {},
   "source": [
    "  <h3>Acepta caracteres especiales como las tabulaciones /t o los saltos de linea /n </h3>"
   ]
  },
  {
   "cell_type": "code",
   "execution_count": 18,
   "id": "4be68390",
   "metadata": {},
   "outputs": [
    {
     "name": "stdout",
     "output_type": "stream",
     "text": [
      "Un texto\tuna tabulacion\n"
     ]
    }
   ],
   "source": [
    "print(\"Un texto\\tuna tabulacion\")"
   ]
  },
  {
   "cell_type": "code",
   "execution_count": 20,
   "id": "23f76167",
   "metadata": {},
   "outputs": [
    {
     "name": "stdout",
     "output_type": "stream",
     "text": [
      "Un tecto\n",
      "una nueva linea\n"
     ]
    }
   ],
   "source": [
    "print(\"Un tecto\\nuna nueva linea\")"
   ]
  },
  {
   "cell_type": "markdown",
   "id": "eb689354",
   "metadata": {},
   "source": [
    "<h3>Para evitar los caracteres especiales (como \\n), debemos indicar que una cadena es cruda (raw)"
   ]
  },
  {
   "cell_type": "code",
   "execution_count": 21,
   "id": "fae7c8b9",
   "metadata": {},
   "outputs": [
    {
     "name": "stdout",
     "output_type": "stream",
     "text": [
      "C:\n",
      "ombre\\directorio\n"
     ]
    }
   ],
   "source": [
    "print(\"C:\\nombre\\directorio\")"
   ]
  },
  {
   "cell_type": "code",
   "execution_count": 22,
   "id": "789abd69",
   "metadata": {},
   "outputs": [
    {
     "name": "stdout",
     "output_type": "stream",
     "text": [
      "C:\\nombre\\directorio\n"
     ]
    }
   ],
   "source": [
    "print(r\"C:\\nombre\\directorio\") # r => raw (cruda)\n"
   ]
  },
  {
   "cell_type": "markdown",
   "id": "e7710cc7",
   "metadata": {},
   "source": [
    "<h2>Podemos utilizar \"\"\"(triple comillas) para cadenas multilinea"
   ]
  },
  {
   "cell_type": "code",
   "execution_count": 26,
   "id": "97be7589",
   "metadata": {},
   "outputs": [
    {
     "name": "stdout",
     "output_type": "stream",
     "text": [
      "Una linea \n",
      "otra linea\n",
      "otra linea\tuna tabulacion\n"
     ]
    }
   ],
   "source": [
    "print(\"\"\"Una linea \n",
    "otra linea\n",
    "otra linea\\tuna tabulacion\"\"\")"
   ]
  },
  {
   "cell_type": "markdown",
   "id": "8f5b8729",
   "metadata": {},
   "source": [
    "<h3>Tambien es posible asignar cadenas a variables </h3><br>\n",
    "La forma correcta de mostrarlas es con la instruccion print()"
   ]
  },
  {
   "cell_type": "code",
   "execution_count": 23,
   "id": "34b2736f",
   "metadata": {},
   "outputs": [],
   "source": [
    "c = \"Esto es una cadena\\ncon dos lineas\""
   ]
  },
  {
   "cell_type": "code",
   "execution_count": 24,
   "id": "ec2fe437",
   "metadata": {},
   "outputs": [
    {
     "data": {
      "text/plain": [
       "'Esto es una cadena\\ncon dos lineas'"
      ]
     },
     "execution_count": 24,
     "metadata": {},
     "output_type": "execute_result"
    }
   ],
   "source": [
    "c"
   ]
  },
  {
   "cell_type": "code",
   "execution_count": 25,
   "id": "d0266df8",
   "metadata": {},
   "outputs": [
    {
     "name": "stdout",
     "output_type": "stream",
     "text": [
      "Esto es una cadena\n",
      "con dos lineas\n"
     ]
    }
   ],
   "source": [
    "print(c)"
   ]
  },
  {
   "cell_type": "code",
   "execution_count": 26,
   "id": "c5f1f935",
   "metadata": {},
   "outputs": [
    {
     "name": "stdout",
     "output_type": "stream",
     "text": [
      "Esto es una cadena\n",
      "con dos lineasEsto es una cadena\n",
      "con dos lineas\n"
     ]
    }
   ],
   "source": [
    "print(c+c)"
   ]
  },
  {
   "cell_type": "code",
   "execution_count": 27,
   "id": "5703dc3d",
   "metadata": {},
   "outputs": [
    {
     "name": "stdout",
     "output_type": "stream",
     "text": [
      "Una cadena compuesta de dos cadenas\n"
     ]
    }
   ],
   "source": [
    "s = \"Una cadena\" \" compuesta de dos cadenas\"\n",
    "print(s)"
   ]
  },
  {
   "cell_type": "code",
   "execution_count": 28,
   "id": "d151d897",
   "metadata": {},
   "outputs": [
    {
     "name": "stdout",
     "output_type": "stream",
     "text": [
      "Una cadena otra cadena\n"
     ]
    }
   ],
   "source": [
    "c1 = \"Una cadena\"\n",
    "c2 = \"otra cadena\"\n",
    "print(\"Una cadena \"+ c2)"
   ]
  },
  {
   "cell_type": "code",
   "execution_count": 29,
   "id": "5ab1fe40",
   "metadata": {},
   "outputs": [
    {
     "name": "stdout",
     "output_type": "stream",
     "text": [
      "          un texto a diez espacios\n"
     ]
    }
   ],
   "source": [
    "#Multiplicacion de cadenas\n",
    "diez_espacios = \" \" * 10\n",
    "print(diez_espacios + \"un texto a diez espacios\")"
   ]
  },
  {
   "cell_type": "code",
   "execution_count": 30,
   "id": "b1969877",
   "metadata": {},
   "outputs": [
    {
     "name": "stdout",
     "output_type": "stream",
     "text": [
      "Help on class str in module builtins:\n",
      "\n",
      "class str(object)\n",
      " |  str(object='') -> str\n",
      " |  str(bytes_or_buffer[, encoding[, errors]]) -> str\n",
      " |  \n",
      " |  Create a new string object from the given object. If encoding or\n",
      " |  errors is specified, then the object must expose a data buffer\n",
      " |  that will be decoded using the given encoding and error handler.\n",
      " |  Otherwise, returns the result of object.__str__() (if defined)\n",
      " |  or repr(object).\n",
      " |  encoding defaults to sys.getdefaultencoding().\n",
      " |  errors defaults to 'strict'.\n",
      " |  \n",
      " |  Methods defined here:\n",
      " |  \n",
      " |  __add__(self, value, /)\n",
      " |      Return self+value.\n",
      " |  \n",
      " |  __contains__(self, key, /)\n",
      " |      Return key in self.\n",
      " |  \n",
      " |  __eq__(self, value, /)\n",
      " |      Return self==value.\n",
      " |  \n",
      " |  __format__(self, format_spec, /)\n",
      " |      Return a formatted version of the string as described by format_spec.\n",
      " |  \n",
      " |  __ge__(self, value, /)\n",
      " |      Return self>=value.\n",
      " |  \n",
      " |  __getattribute__(self, name, /)\n",
      " |      Return getattr(self, name).\n",
      " |  \n",
      " |  __getitem__(self, key, /)\n",
      " |      Return self[key].\n",
      " |  \n",
      " |  __getnewargs__(...)\n",
      " |  \n",
      " |  __gt__(self, value, /)\n",
      " |      Return self>value.\n",
      " |  \n",
      " |  __hash__(self, /)\n",
      " |      Return hash(self).\n",
      " |  \n",
      " |  __iter__(self, /)\n",
      " |      Implement iter(self).\n",
      " |  \n",
      " |  __le__(self, value, /)\n",
      " |      Return self<=value.\n",
      " |  \n",
      " |  __len__(self, /)\n",
      " |      Return len(self).\n",
      " |  \n",
      " |  __lt__(self, value, /)\n",
      " |      Return self<value.\n",
      " |  \n",
      " |  __mod__(self, value, /)\n",
      " |      Return self%value.\n",
      " |  \n",
      " |  __mul__(self, value, /)\n",
      " |      Return self*value.\n",
      " |  \n",
      " |  __ne__(self, value, /)\n",
      " |      Return self!=value.\n",
      " |  \n",
      " |  __repr__(self, /)\n",
      " |      Return repr(self).\n",
      " |  \n",
      " |  __rmod__(self, value, /)\n",
      " |      Return value%self.\n",
      " |  \n",
      " |  __rmul__(self, value, /)\n",
      " |      Return value*self.\n",
      " |  \n",
      " |  __sizeof__(self, /)\n",
      " |      Return the size of the string in memory, in bytes.\n",
      " |  \n",
      " |  __str__(self, /)\n",
      " |      Return str(self).\n",
      " |  \n",
      " |  capitalize(self, /)\n",
      " |      Return a capitalized version of the string.\n",
      " |      \n",
      " |      More specifically, make the first character have upper case and the rest lower\n",
      " |      case.\n",
      " |  \n",
      " |  casefold(self, /)\n",
      " |      Return a version of the string suitable for caseless comparisons.\n",
      " |  \n",
      " |  center(self, width, fillchar=' ', /)\n",
      " |      Return a centered string of length width.\n",
      " |      \n",
      " |      Padding is done using the specified fill character (default is a space).\n",
      " |  \n",
      " |  count(...)\n",
      " |      S.count(sub[, start[, end]]) -> int\n",
      " |      \n",
      " |      Return the number of non-overlapping occurrences of substring sub in\n",
      " |      string S[start:end].  Optional arguments start and end are\n",
      " |      interpreted as in slice notation.\n",
      " |  \n",
      " |  encode(self, /, encoding='utf-8', errors='strict')\n",
      " |      Encode the string using the codec registered for encoding.\n",
      " |      \n",
      " |      encoding\n",
      " |        The encoding in which to encode the string.\n",
      " |      errors\n",
      " |        The error handling scheme to use for encoding errors.\n",
      " |        The default is 'strict' meaning that encoding errors raise a\n",
      " |        UnicodeEncodeError.  Other possible values are 'ignore', 'replace' and\n",
      " |        'xmlcharrefreplace' as well as any other name registered with\n",
      " |        codecs.register_error that can handle UnicodeEncodeErrors.\n",
      " |  \n",
      " |  endswith(...)\n",
      " |      S.endswith(suffix[, start[, end]]) -> bool\n",
      " |      \n",
      " |      Return True if S ends with the specified suffix, False otherwise.\n",
      " |      With optional start, test S beginning at that position.\n",
      " |      With optional end, stop comparing S at that position.\n",
      " |      suffix can also be a tuple of strings to try.\n",
      " |  \n",
      " |  expandtabs(self, /, tabsize=8)\n",
      " |      Return a copy where all tab characters are expanded using spaces.\n",
      " |      \n",
      " |      If tabsize is not given, a tab size of 8 characters is assumed.\n",
      " |  \n",
      " |  find(...)\n",
      " |      S.find(sub[, start[, end]]) -> int\n",
      " |      \n",
      " |      Return the lowest index in S where substring sub is found,\n",
      " |      such that sub is contained within S[start:end].  Optional\n",
      " |      arguments start and end are interpreted as in slice notation.\n",
      " |      \n",
      " |      Return -1 on failure.\n",
      " |  \n",
      " |  format(...)\n",
      " |      S.format(*args, **kwargs) -> str\n",
      " |      \n",
      " |      Return a formatted version of S, using substitutions from args and kwargs.\n",
      " |      The substitutions are identified by braces ('{' and '}').\n",
      " |  \n",
      " |  format_map(...)\n",
      " |      S.format_map(mapping) -> str\n",
      " |      \n",
      " |      Return a formatted version of S, using substitutions from mapping.\n",
      " |      The substitutions are identified by braces ('{' and '}').\n",
      " |  \n",
      " |  index(...)\n",
      " |      S.index(sub[, start[, end]]) -> int\n",
      " |      \n",
      " |      Return the lowest index in S where substring sub is found,\n",
      " |      such that sub is contained within S[start:end].  Optional\n",
      " |      arguments start and end are interpreted as in slice notation.\n",
      " |      \n",
      " |      Raises ValueError when the substring is not found.\n",
      " |  \n",
      " |  isalnum(self, /)\n",
      " |      Return True if the string is an alpha-numeric string, False otherwise.\n",
      " |      \n",
      " |      A string is alpha-numeric if all characters in the string are alpha-numeric and\n",
      " |      there is at least one character in the string.\n",
      " |  \n",
      " |  isalpha(self, /)\n",
      " |      Return True if the string is an alphabetic string, False otherwise.\n",
      " |      \n",
      " |      A string is alphabetic if all characters in the string are alphabetic and there\n",
      " |      is at least one character in the string.\n",
      " |  \n",
      " |  isascii(self, /)\n",
      " |      Return True if all characters in the string are ASCII, False otherwise.\n",
      " |      \n",
      " |      ASCII characters have code points in the range U+0000-U+007F.\n",
      " |      Empty string is ASCII too.\n",
      " |  \n",
      " |  isdecimal(self, /)\n",
      " |      Return True if the string is a decimal string, False otherwise.\n",
      " |      \n",
      " |      A string is a decimal string if all characters in the string are decimal and\n",
      " |      there is at least one character in the string.\n",
      " |  \n",
      " |  isdigit(self, /)\n",
      " |      Return True if the string is a digit string, False otherwise.\n",
      " |      \n",
      " |      A string is a digit string if all characters in the string are digits and there\n",
      " |      is at least one character in the string.\n",
      " |  \n",
      " |  isidentifier(self, /)\n",
      " |      Return True if the string is a valid Python identifier, False otherwise.\n",
      " |      \n",
      " |      Call keyword.iskeyword(s) to test whether string s is a reserved identifier,\n",
      " |      such as \"def\" or \"class\".\n",
      " |  \n",
      " |  islower(self, /)\n",
      " |      Return True if the string is a lowercase string, False otherwise.\n",
      " |      \n",
      " |      A string is lowercase if all cased characters in the string are lowercase and\n",
      " |      there is at least one cased character in the string.\n",
      " |  \n",
      " |  isnumeric(self, /)\n",
      " |      Return True if the string is a numeric string, False otherwise.\n",
      " |      \n",
      " |      A string is numeric if all characters in the string are numeric and there is at\n",
      " |      least one character in the string.\n",
      " |  \n",
      " |  isprintable(self, /)\n",
      " |      Return True if the string is printable, False otherwise.\n",
      " |      \n",
      " |      A string is printable if all of its characters are considered printable in\n",
      " |      repr() or if it is empty.\n",
      " |  \n",
      " |  isspace(self, /)\n",
      " |      Return True if the string is a whitespace string, False otherwise.\n",
      " |      \n",
      " |      A string is whitespace if all characters in the string are whitespace and there\n",
      " |      is at least one character in the string.\n",
      " |  \n",
      " |  istitle(self, /)\n",
      " |      Return True if the string is a title-cased string, False otherwise.\n",
      " |      \n",
      " |      In a title-cased string, upper- and title-case characters may only\n",
      " |      follow uncased characters and lowercase characters only cased ones.\n",
      " |  \n",
      " |  isupper(self, /)\n",
      " |      Return True if the string is an uppercase string, False otherwise.\n",
      " |      \n",
      " |      A string is uppercase if all cased characters in the string are uppercase and\n",
      " |      there is at least one cased character in the string.\n",
      " |  \n",
      " |  join(self, iterable, /)\n",
      " |      Concatenate any number of strings.\n",
      " |      \n",
      " |      The string whose method is called is inserted in between each given string.\n",
      " |      The result is returned as a new string.\n",
      " |      \n",
      " |      Example: '.'.join(['ab', 'pq', 'rs']) -> 'ab.pq.rs'\n",
      " |  \n",
      " |  ljust(self, width, fillchar=' ', /)\n",
      " |      Return a left-justified string of length width.\n",
      " |      \n",
      " |      Padding is done using the specified fill character (default is a space).\n",
      " |  \n",
      " |  lower(self, /)\n",
      " |      Return a copy of the string converted to lowercase.\n",
      " |  \n",
      " |  lstrip(self, chars=None, /)\n",
      " |      Return a copy of the string with leading whitespace removed.\n",
      " |      \n",
      " |      If chars is given and not None, remove characters in chars instead.\n",
      " |  \n",
      " |  partition(self, sep, /)\n",
      " |      Partition the string into three parts using the given separator.\n",
      " |      \n",
      " |      This will search for the separator in the string.  If the separator is found,\n",
      " |      returns a 3-tuple containing the part before the separator, the separator\n",
      " |      itself, and the part after it.\n",
      " |      \n",
      " |      If the separator is not found, returns a 3-tuple containing the original string\n",
      " |      and two empty strings.\n",
      " |  \n",
      " |  removeprefix(self, prefix, /)\n",
      " |      Return a str with the given prefix string removed if present.\n",
      " |      \n",
      " |      If the string starts with the prefix string, return string[len(prefix):].\n",
      " |      Otherwise, return a copy of the original string.\n",
      " |  \n",
      " |  removesuffix(self, suffix, /)\n",
      " |      Return a str with the given suffix string removed if present.\n",
      " |      \n",
      " |      If the string ends with the suffix string and that suffix is not empty,\n",
      " |      return string[:-len(suffix)]. Otherwise, return a copy of the original\n",
      " |      string.\n",
      " |  \n",
      " |  replace(self, old, new, count=-1, /)\n",
      " |      Return a copy with all occurrences of substring old replaced by new.\n",
      " |      \n",
      " |        count\n",
      " |          Maximum number of occurrences to replace.\n",
      " |          -1 (the default value) means replace all occurrences.\n",
      " |      \n",
      " |      If the optional argument count is given, only the first count occurrences are\n",
      " |      replaced.\n",
      " |  \n",
      " |  rfind(...)\n",
      " |      S.rfind(sub[, start[, end]]) -> int\n",
      " |      \n",
      " |      Return the highest index in S where substring sub is found,\n",
      " |      such that sub is contained within S[start:end].  Optional\n",
      " |      arguments start and end are interpreted as in slice notation.\n",
      " |      \n",
      " |      Return -1 on failure.\n",
      " |  \n",
      " |  rindex(...)\n",
      " |      S.rindex(sub[, start[, end]]) -> int\n",
      " |      \n",
      " |      Return the highest index in S where substring sub is found,\n",
      " |      such that sub is contained within S[start:end].  Optional\n",
      " |      arguments start and end are interpreted as in slice notation.\n",
      " |      \n",
      " |      Raises ValueError when the substring is not found.\n",
      " |  \n",
      " |  rjust(self, width, fillchar=' ', /)\n",
      " |      Return a right-justified string of length width.\n",
      " |      \n",
      " |      Padding is done using the specified fill character (default is a space).\n",
      " |  \n",
      " |  rpartition(self, sep, /)\n",
      " |      Partition the string into three parts using the given separator.\n",
      " |      \n",
      " |      This will search for the separator in the string, starting at the end. If\n",
      " |      the separator is found, returns a 3-tuple containing the part before the\n",
      " |      separator, the separator itself, and the part after it.\n",
      " |      \n",
      " |      If the separator is not found, returns a 3-tuple containing two empty strings\n",
      " |      and the original string.\n",
      " |  \n",
      " |  rsplit(self, /, sep=None, maxsplit=-1)\n",
      " |      Return a list of the substrings in the string, using sep as the separator string.\n",
      " |      \n",
      " |        sep\n",
      " |          The separator used to split the string.\n",
      " |      \n",
      " |          When set to None (the default value), will split on any whitespace\n",
      " |          character (including \\\\n \\\\r \\\\t \\\\f and spaces) and will discard\n",
      " |          empty strings from the result.\n",
      " |        maxsplit\n",
      " |          Maximum number of splits (starting from the left).\n",
      " |          -1 (the default value) means no limit.\n",
      " |      \n",
      " |      Splitting starts at the end of the string and works to the front.\n",
      " |  \n",
      " |  rstrip(self, chars=None, /)\n",
      " |      Return a copy of the string with trailing whitespace removed.\n",
      " |      \n",
      " |      If chars is given and not None, remove characters in chars instead.\n",
      " |  \n",
      " |  split(self, /, sep=None, maxsplit=-1)\n",
      " |      Return a list of the substrings in the string, using sep as the separator string.\n",
      " |      \n",
      " |        sep\n",
      " |          The separator used to split the string.\n",
      " |      \n",
      " |          When set to None (the default value), will split on any whitespace\n",
      " |          character (including \\\\n \\\\r \\\\t \\\\f and spaces) and will discard\n",
      " |          empty strings from the result.\n",
      " |        maxsplit\n",
      " |          Maximum number of splits (starting from the left).\n",
      " |          -1 (the default value) means no limit.\n",
      " |      \n",
      " |      Note, str.split() is mainly useful for data that has been intentionally\n",
      " |      delimited.  With natural text that includes punctuation, consider using\n",
      " |      the regular expression module.\n",
      " |  \n",
      " |  splitlines(self, /, keepends=False)\n",
      " |      Return a list of the lines in the string, breaking at line boundaries.\n",
      " |      \n",
      " |      Line breaks are not included in the resulting list unless keepends is given and\n",
      " |      true.\n",
      " |  \n",
      " |  startswith(...)\n",
      " |      S.startswith(prefix[, start[, end]]) -> bool\n",
      " |      \n",
      " |      Return True if S starts with the specified prefix, False otherwise.\n",
      " |      With optional start, test S beginning at that position.\n",
      " |      With optional end, stop comparing S at that position.\n",
      " |      prefix can also be a tuple of strings to try.\n",
      " |  \n",
      " |  strip(self, chars=None, /)\n",
      " |      Return a copy of the string with leading and trailing whitespace removed.\n",
      " |      \n",
      " |      If chars is given and not None, remove characters in chars instead.\n",
      " |  \n",
      " |  swapcase(self, /)\n",
      " |      Convert uppercase characters to lowercase and lowercase characters to uppercase.\n",
      " |  \n",
      " |  title(self, /)\n",
      " |      Return a version of the string where each word is titlecased.\n",
      " |      \n",
      " |      More specifically, words start with uppercased characters and all remaining\n",
      " |      cased characters have lower case.\n",
      " |  \n",
      " |  translate(self, table, /)\n",
      " |      Replace each character in the string using the given translation table.\n",
      " |      \n",
      " |        table\n",
      " |          Translation table, which must be a mapping of Unicode ordinals to\n",
      " |          Unicode ordinals, strings, or None.\n",
      " |      \n",
      " |      The table must implement lookup/indexing via __getitem__, for instance a\n",
      " |      dictionary or list.  If this operation raises LookupError, the character is\n",
      " |      left untouched.  Characters mapped to None are deleted.\n",
      " |  \n",
      " |  upper(self, /)\n",
      " |      Return a copy of the string converted to uppercase.\n",
      " |  \n",
      " |  zfill(self, width, /)\n",
      " |      Pad a numeric string with zeros on the left, to fill a field of the given width.\n",
      " |      \n",
      " |      The string is never truncated.\n",
      " |  \n",
      " |  ----------------------------------------------------------------------\n",
      " |  Static methods defined here:\n",
      " |  \n",
      " |  __new__(*args, **kwargs) from builtins.type\n",
      " |      Create and return a new object.  See help(type) for accurate signature.\n",
      " |  \n",
      " |  maketrans(...)\n",
      " |      Return a translation table usable for str.translate().\n",
      " |      \n",
      " |      If there is only one argument, it must be a dictionary mapping Unicode\n",
      " |      ordinals (integers) or characters to Unicode ordinals, strings or None.\n",
      " |      Character keys will be then converted to ordinals.\n",
      " |      If there are two arguments, they must be strings of equal length, and\n",
      " |      in the resulting dictionary, each character in x will be mapped to the\n",
      " |      character at the same position in y. If there is a third argument, it\n",
      " |      must be a string, whose characters will be mapped to None in the result.\n",
      "\n"
     ]
    }
   ],
   "source": [
    "help(str)"
   ]
  },
  {
   "cell_type": "code",
   "execution_count": null,
   "id": "b0852c8e",
   "metadata": {},
   "outputs": [],
   "source": []
  },
  {
   "cell_type": "code",
   "execution_count": null,
   "id": "06ad0ab1",
   "metadata": {},
   "outputs": [],
   "source": [
    "help(str)"
   ]
  },
  {
   "cell_type": "markdown",
   "id": "635ff9fa",
   "metadata": {},
   "source": [
    " <h2>Mas ejemplos de cadena (Strings)</h2><br>\n",
    " Entre los diferentes tipos nativos de python, nos centraremos en los <i>strings</i>, ya que seran el tipo principal que repetiremos para representar el texto. Esencialmente, una cadena es solo una concatenacion de caracteres."
   ]
  },
  {
   "cell_type": "code",
   "execution_count": 31,
   "id": "a0c9eae0",
   "metadata": {},
   "outputs": [
    {
     "name": "stdout",
     "output_type": "stream",
     "text": [
      "\"Hola\" is how we say \"hello\" in Spanish.\n"
     ]
    }
   ],
   "source": [
    "str1 = '\"Hola\" is how we say \"hello\" in Spanish.'\n",
    "str2 = \"Strings can also be defined with quotes; try to be sistematic. \"\n",
    "print(str1)"
   ]
  },
  {
   "cell_type": "code",
   "execution_count": 32,
   "id": "5d74c86c",
   "metadata": {},
   "outputs": [
    {
     "name": "stdout",
     "output_type": "stream",
     "text": [
      "\"Hola\" is how we say \"hello\" in Spanish.\n",
      "<class 'str'>\n",
      "<class 'int'>\n",
      "<class 'float'>\n",
      "<class 'str'>\n"
     ]
    }
   ],
   "source": [
    "print(str1)\n",
    "print(type(str1))\n",
    "print(type(3))\n",
    "print(type(3.))\n",
    "print(type (\"3.\"))"
   ]
  },
  {
   "cell_type": "code",
   "execution_count": 35,
   "id": "1a9a4a84",
   "metadata": {},
   "outputs": [
    {
     "data": {
      "text/plain": [
       "'\"Hola\" is how we say \"hello\" in Spanish.'"
      ]
     },
     "execution_count": 35,
     "metadata": {},
     "output_type": "execute_result"
    }
   ],
   "source": [
    "str1"
   ]
  },
  {
   "cell_type": "code",
   "execution_count": 36,
   "id": "3734ff19",
   "metadata": {},
   "outputs": [
    {
     "name": "stdout",
     "output_type": "stream",
     "text": [
      "\"Hola\n"
     ]
    }
   ],
   "source": [
    "print (str1[0:5]) #Mostrando desde la posicion 0 hasta la posicion 4"
   ]
  },
  {
   "cell_type": "code",
   "execution_count": 37,
   "id": "5d7ddb64",
   "metadata": {},
   "outputs": [
    {
     "name": "stdout",
     "output_type": "stream",
     "text": [
      "\"Hola\" is \n"
     ]
    }
   ],
   "source": [
    "print (str1[0:10]) #Mostrando desde la posicion 0 hasta la posicion 9"
   ]
  },
  {
   "cell_type": "code",
   "execution_count": 38,
   "id": "09aa75ca",
   "metadata": {},
   "outputs": [
    {
     "name": "stdout",
     "output_type": "stream",
     "text": [
      "\"Hola\" is how we say \"hello\" in Spanish. Strings can also be defined with quotes; try to be sistematic.  3\n"
     ]
    }
   ],
   "source": [
    "print (str1+ \" \" + str2 + \" \"+ str(3))"
   ]
  },
  {
   "cell_type": "code",
   "execution_count": 40,
   "id": "d98e578a",
   "metadata": {},
   "outputs": [
    {
     "name": "stdout",
     "output_type": "stream",
     "text": [
      "\"hola\" is how we say \"hello\" in spanish.\n"
     ]
    }
   ],
   "source": [
    "print (str1.lower())"
   ]
  },
  {
   "cell_type": "code",
   "execution_count": 41,
   "id": "d78f69e1",
   "metadata": {},
   "outputs": [
    {
     "name": "stdout",
     "output_type": "stream",
     "text": [
      "\"HOLA\" IS HOW WE SAY \"HELLO\" IN SPANISH.\n"
     ]
    }
   ],
   "source": [
    "print (str1.upper())"
   ]
  },
  {
   "cell_type": "code",
   "execution_count": 42,
   "id": "85d6408a",
   "metadata": {},
   "outputs": [
    {
     "name": "stdout",
     "output_type": "stream",
     "text": [
      "103\n"
     ]
    }
   ],
   "source": [
    "print (len(str1+str2))"
   ]
  },
  {
   "cell_type": "code",
   "execution_count": 43,
   "id": "37e6b11e",
   "metadata": {},
   "outputs": [
    {
     "name": "stdout",
     "output_type": "stream",
     "text": [
      "\"Hola\" is Wow we say \"Wello\" in SpanisW.\n"
     ]
    }
   ],
   "source": [
    "str_replaced=str1.replace('h','W')\n",
    "print (str_replaced)"
   ]
  },
  {
   "cell_type": "code",
   "execution_count": 45,
   "id": "eb11cfe9",
   "metadata": {},
   "outputs": [
    {
     "name": "stdout",
     "output_type": "stream",
     "text": [
      "tho\n"
     ]
    }
   ],
   "source": [
    "str3 = 'This is question'\n",
    "str3 = str3.replace('i','o')\n",
    "str3 = str3.lower()\n",
    "print (str3[0:3])"
   ]
  },
  {
   "cell_type": "code",
   "execution_count": 46,
   "id": "6fcbf73e",
   "metadata": {},
   "outputs": [
    {
     "name": "stdout",
     "output_type": "stream",
     "text": [
      "tho\n"
     ]
    }
   ],
   "source": [
    "#Podemos usar al sentencia anterior en una sola sentencia con todas las funciones en cadena:\n",
    "print('This is a question'. replace('i','o').lower()[0:3])"
   ]
  },
  {
   "cell_type": "markdown",
   "id": "0e58850e",
   "metadata": {},
   "source": [
    "   El metodo <b>split</b> permite dividir una cadena en unidades menores indicando un separador:"
   ]
  },
  {
   "cell_type": "code",
   "execution_count": 47,
   "id": "b427632a",
   "metadata": {},
   "outputs": [
    {
     "data": {
      "text/plain": [
       "['\"Hola\"', 'is', 'how', 'we', 'say', '\"hello\"', 'in', 'Spanish.']"
      ]
     },
     "execution_count": 47,
     "metadata": {},
     "output_type": "execute_result"
    }
   ],
   "source": [
    "str1.split()"
   ]
  },
  {
   "cell_type": "code",
   "execution_count": 48,
   "id": "3977bf37",
   "metadata": {},
   "outputs": [
    {
     "data": {
      "text/plain": [
       "['Strings can also be defined with quotes', ' try to be sistematic. ']"
      ]
     },
     "execution_count": 48,
     "metadata": {},
     "output_type": "execute_result"
    }
   ],
   "source": [
    "str2.split(';')"
   ]
  },
  {
   "cell_type": "markdown",
   "id": "4cc05fa1",
   "metadata": {},
   "source": [
    "Observamos que existen caracteres especiales que requieren una consideracion especial. Además de los caracteres orientados\n",
    "el lenguaje o los simbolos especiales, los siguientes caracteres se usan comunmente para denotar el retorno de carro (\\r), el inicio de nuevas lineas (\\n) y el tabulador (\\t):"
   ]
  },
  {
   "cell_type": "code",
   "execution_count": 53,
   "id": "aafb3aab",
   "metadata": {},
   "outputs": [
    {
     "name": "stdout",
     "output_type": "stream",
     "text": [
      "Please pay €\n",
      "Please pay $\n",
      "Please pay ₨\n",
      "Please pay £\n"
     ]
    }
   ],
   "source": [
    "print(\"Please pay %s\"%(u\"\\N{euro sign}\"))\n",
    "print(\"Please pay %s\"%(u\"\\N{dollar sign}\"))\n",
    "print(\"Please pay %s\"%(u\"\\N{rupee sign}\"))\n",
    "print(\"Please pay %s\"%(u\"\\N{pound sign}\"))"
   ]
  },
  {
   "cell_type": "code",
   "execution_count": 55,
   "id": "1f4d6359",
   "metadata": {},
   "outputs": [
    {
     "name": "stdout",
     "output_type": "stream",
     "text": [
      " This sentence will overwrite the previous text.\n"
     ]
    }
   ],
   "source": [
    "print('This is just a carriage return symbol.\\r This sentence will overwrite the previous text.')"
   ]
  },
  {
   "cell_type": "code",
   "execution_count": 52,
   "id": "4d2442ce",
   "metadata": {},
   "outputs": [
    {
     "name": "stdout",
     "output_type": "stream",
     "text": [
      "This is just a carriage return symbol.\\r This sentence will overwrite the previous text.\n"
     ]
    }
   ],
   "source": [
    "# Los caracteres especiales se obvian usando el simbolo raw (r)\n",
    "print(r'This is just a carriage return symbol.\\r This sentence will overwrite the previous text.')"
   ]
  },
  {
   "cell_type": "code",
   "execution_count": 59,
   "id": "e93e6cb8",
   "metadata": {},
   "outputs": [
    {
     "name": "stdout",
     "output_type": "stream",
     "text": [
      "If you wish to start a new line, \t\n",
      " the line feed character should also be used.\n"
     ]
    }
   ],
   "source": [
    "print('If you wish to start a new line, \\t\\n the line feed character should also be used.')"
   ]
  },
  {
   "cell_type": "code",
   "execution_count": 54,
   "id": "53b5c2b6",
   "metadata": {},
   "outputs": [
    {
     "name": "stdout",
     "output_type": "stream",
     "text": [
      "But note that most \tapplications are tolerant\n",
      "to the use of 'line feed' only.\n"
     ]
    }
   ],
   "source": [
    "str_quote='But note that most \\tapplications are tolerant\\nto the use of \\'line feed\\' only.'\n",
    "print(str_quote)"
   ]
  },
  {
   "cell_type": "markdown",
   "id": "dcb16128",
   "metadata": {},
   "source": [
    "<h2> Índexing(indices) en las cadenas</h2> <br>\n",
    "    Los indices nos permiten posicionarnos en un caracter especifico de una cadena.\n",
    "    Representan un número [índice], que empezando por el 0 indica el caracter de la primera posicion, y asi sucesivamente\n",
    "    "
   ]
  },
  {
   "cell_type": "code",
   "execution_count": 60,
   "id": "f1a507bd",
   "metadata": {},
   "outputs": [],
   "source": [
    "palabra=\"Python\""
   ]
  },
  {
   "cell_type": "code",
   "execution_count": 61,
   "id": "7927ee5f",
   "metadata": {},
   "outputs": [
    {
     "data": {
      "text/plain": [
       "6"
      ]
     },
     "execution_count": 61,
     "metadata": {},
     "output_type": "execute_result"
    }
   ],
   "source": [
    "len(palabra)"
   ]
  },
  {
   "cell_type": "code",
   "execution_count": 62,
   "id": "d7b27247",
   "metadata": {},
   "outputs": [
    {
     "data": {
      "text/plain": [
       "'P'"
      ]
     },
     "execution_count": 62,
     "metadata": {},
     "output_type": "execute_result"
    }
   ],
   "source": [
    "palabra[0] # caracter en la posicion 0"
   ]
  },
  {
   "cell_type": "code",
   "execution_count": 63,
   "id": "8fde5a5d",
   "metadata": {},
   "outputs": [
    {
     "data": {
      "text/plain": [
       "'hon'"
      ]
     },
     "execution_count": 63,
     "metadata": {},
     "output_type": "execute_result"
    }
   ],
   "source": [
    "palabra[3:6]"
   ]
  },
  {
   "cell_type": "markdown",
   "id": "f60c8637",
   "metadata": {},
   "source": [
    "<b>El indice negativo -1, hace referencia al caracter de la ultima posicion, el -2 el penultimo y asi sucesivamente"
   ]
  },
  {
   "cell_type": "code",
   "execution_count": 68,
   "id": "e6c458d9",
   "metadata": {},
   "outputs": [
    {
     "data": {
      "text/plain": [
       "'Python'"
      ]
     },
     "execution_count": 68,
     "metadata": {},
     "output_type": "execute_result"
    }
   ],
   "source": [
    "palabra"
   ]
  },
  {
   "cell_type": "code",
   "execution_count": 63,
   "id": "21cbe878",
   "metadata": {},
   "outputs": [
    {
     "data": {
      "text/plain": [
       "'n'"
      ]
     },
     "execution_count": 63,
     "metadata": {},
     "output_type": "execute_result"
    }
   ],
   "source": [
    "palabra[-1]"
   ]
  },
  {
   "cell_type": "code",
   "execution_count": 64,
   "id": "fe162078",
   "metadata": {},
   "outputs": [
    {
     "data": {
      "text/plain": [
       "'P'"
      ]
     },
     "execution_count": 64,
     "metadata": {},
     "output_type": "execute_result"
    }
   ],
   "source": [
    "palabra[-0]"
   ]
  },
  {
   "cell_type": "code",
   "execution_count": 65,
   "id": "dadc4718",
   "metadata": {},
   "outputs": [
    {
     "data": {
      "text/plain": [
       "'o'"
      ]
     },
     "execution_count": 65,
     "metadata": {},
     "output_type": "execute_result"
    }
   ],
   "source": [
    "palabra[-2]"
   ]
  },
  {
   "cell_type": "code",
   "execution_count": 66,
   "id": "f61e3fea",
   "metadata": {},
   "outputs": [
    {
     "data": {
      "text/plain": [
       "'P'"
      ]
     },
     "execution_count": 66,
     "metadata": {},
     "output_type": "execute_result"
    }
   ],
   "source": [
    "palabra[-6]"
   ]
  },
  {
   "cell_type": "code",
   "execution_count": 69,
   "id": "70ee8950",
   "metadata": {},
   "outputs": [
    {
     "data": {
      "text/plain": [
       "'n'"
      ]
     },
     "execution_count": 69,
     "metadata": {},
     "output_type": "execute_result"
    }
   ],
   "source": [
    "palabra[5] #La ultima posicion es la cantidad de caracteres -1"
   ]
  },
  {
   "cell_type": "code",
   "execution_count": 71,
   "id": "2731ff38",
   "metadata": {},
   "outputs": [
    {
     "data": {
      "text/plain": [
       "'n'"
      ]
     },
     "execution_count": 71,
     "metadata": {},
     "output_type": "execute_result"
    }
   ],
   "source": [
    "palabra[5] "
   ]
  },
  {
   "cell_type": "markdown",
   "id": "cbc7799c",
   "metadata": {},
   "source": [
    "<h3>Slicing en las cadenas</h3><br>El slicing es una capacidad de las cadenas que devuelve un subconjunto o subcadena utilizando dos indices [inicio:fin]:\n",
    "<li>El primer índice indica donde empieza la subcadena ( se incluye el caracter).</li>\n",
    "<li>El segundo indice indica donde acaba la subcadena ( se excluye el caracter).</li>"
   ]
  },
  {
   "cell_type": "code",
   "execution_count": 72,
   "id": "7df930f2",
   "metadata": {},
   "outputs": [],
   "source": [
    "palabra=\"Python\""
   ]
  },
  {
   "cell_type": "code",
   "execution_count": 73,
   "id": "80134777",
   "metadata": {},
   "outputs": [
    {
     "data": {
      "text/plain": [
       "'Py'"
      ]
     },
     "execution_count": 73,
     "metadata": {},
     "output_type": "execute_result"
    }
   ],
   "source": [
    "palabra[0:2]"
   ]
  },
  {
   "cell_type": "code",
   "execution_count": 74,
   "id": "119cacdb",
   "metadata": {},
   "outputs": [
    {
     "data": {
      "text/plain": [
       "'thon'"
      ]
     },
     "execution_count": 74,
     "metadata": {},
     "output_type": "execute_result"
    }
   ],
   "source": [
    "palabra[2:]"
   ]
  },
  {
   "cell_type": "code",
   "execution_count": 75,
   "id": "52e23cef",
   "metadata": {},
   "outputs": [
    {
     "data": {
      "text/plain": [
       "'Pyth'"
      ]
     },
     "execution_count": 75,
     "metadata": {},
     "output_type": "execute_result"
    }
   ],
   "source": [
    "palabra[:4]"
   ]
  },
  {
   "cell_type": "markdown",
   "id": "6c850f87",
   "metadata": {},
   "source": [
    "<b>Si en el slicing no se indica un indice se toma por defecto el principio y el final(incluidos)<b>"
   ]
  },
  {
   "cell_type": "code",
   "execution_count": 76,
   "id": "b9233e26",
   "metadata": {},
   "outputs": [
    {
     "data": {
      "text/plain": [
       "'Python'"
      ]
     },
     "execution_count": 76,
     "metadata": {},
     "output_type": "execute_result"
    }
   ],
   "source": [
    "palabra[:]"
   ]
  },
  {
   "cell_type": "code",
   "execution_count": 77,
   "id": "363a2e2c",
   "metadata": {},
   "outputs": [
    {
     "data": {
      "text/plain": [
       "'Python'"
      ]
     },
     "execution_count": 77,
     "metadata": {},
     "output_type": "execute_result"
    }
   ],
   "source": [
    "palabra[:2]+palabra[2:]"
   ]
  },
  {
   "cell_type": "code",
   "execution_count": 80,
   "id": "eb657666",
   "metadata": {},
   "outputs": [
    {
     "data": {
      "text/plain": [
       "'hon'"
      ]
     },
     "execution_count": 80,
     "metadata": {},
     "output_type": "execute_result"
    }
   ],
   "source": [
    "#P    y t  h  o  n\n",
    "#-6 -5 -4 -3 -2 -1\n",
    "palabra[-3:]"
   ]
  },
  {
   "cell_type": "code",
   "execution_count": 83,
   "id": "5339b80e",
   "metadata": {},
   "outputs": [
    {
     "data": {
      "text/plain": [
       "'hon'"
      ]
     },
     "execution_count": 83,
     "metadata": {},
     "output_type": "execute_result"
    }
   ],
   "source": [
    "palabra[3:]"
   ]
  },
  {
   "cell_type": "markdown",
   "id": "419cb292",
   "metadata": {},
   "source": [
    "<b>Si un indice se encuentra fuera del rango de la cadena, dará error</b>"
   ]
  },
  {
   "cell_type": "code",
   "execution_count": 79,
   "id": "f619ad63",
   "metadata": {},
   "outputs": [
    {
     "ename": "IndexError",
     "evalue": "string index out of range",
     "output_type": "error",
     "traceback": [
      "\u001b[1;31m---------------------------------------------------------------------------\u001b[0m",
      "\u001b[1;31mIndexError\u001b[0m                                Traceback (most recent call last)",
      "Cell \u001b[1;32mIn[79], line 1\u001b[0m\n\u001b[1;32m----> 1\u001b[0m \u001b[43mpalabra\u001b[49m\u001b[43m[\u001b[49m\u001b[38;5;241;43m99\u001b[39;49m\u001b[43m]\u001b[49m\n",
      "\u001b[1;31mIndexError\u001b[0m: string index out of range"
     ]
    }
   ],
   "source": [
    "palabra[99]"
   ]
  },
  {
   "cell_type": "markdown",
   "id": "5ace40e9",
   "metadata": {},
   "source": [
    "<b>Pero con slicing esto no pasa y simplemente se ignora el espacio hueco</b>"
   ]
  },
  {
   "cell_type": "code",
   "execution_count": 84,
   "id": "686ad36e",
   "metadata": {},
   "outputs": [
    {
     "data": {
      "text/plain": [
       "'Python'"
      ]
     },
     "execution_count": 84,
     "metadata": {},
     "output_type": "execute_result"
    }
   ],
   "source": [
    "palabra[:99]"
   ]
  },
  {
   "cell_type": "code",
   "execution_count": 85,
   "id": "847d01ad",
   "metadata": {},
   "outputs": [
    {
     "data": {
      "text/plain": [
       "''"
      ]
     },
     "execution_count": 85,
     "metadata": {},
     "output_type": "execute_result"
    }
   ],
   "source": [
    "palabra[99:]"
   ]
  },
  {
   "cell_type": "markdown",
   "id": "57ab1cfa",
   "metadata": {},
   "source": [
    "<b>Ademas con slicing podemos invertir una cadena utilizando un tercer argumento:-1"
   ]
  },
  {
   "cell_type": "code",
   "execution_count": 86,
   "id": "c8e741b7",
   "metadata": {},
   "outputs": [
    {
     "data": {
      "text/plain": [
       "'nohtyP'"
      ]
     },
     "execution_count": 86,
     "metadata": {},
     "output_type": "execute_result"
    }
   ],
   "source": [
    "palabra[::-1]"
   ]
  },
  {
   "cell_type": "markdown",
   "id": "f47a6285",
   "metadata": {},
   "source": [
    "<b>El tercer argumento del slicing tambien sirve para recorrer un string de tanto en tanto<b>"
   ]
  },
  {
   "cell_type": "code",
   "execution_count": 87,
   "id": "18d2cafd",
   "metadata": {},
   "outputs": [
    {
     "data": {
      "text/plain": [
       "'Pto'"
      ]
     },
     "execution_count": 87,
     "metadata": {},
     "output_type": "execute_result"
    }
   ],
   "source": [
    "palabra[::2]\n"
   ]
  },
  {
   "cell_type": "markdown",
   "id": "fd2b0ac1",
   "metadata": {},
   "source": [
    "<h2>Inmutabilidad de un String</h2><br>Una propiedad de las cadenas es que no se puede modificar. Si intentamos reasignar un carácter, no nos dejara:"
   ]
  },
  {
   "cell_type": "code",
   "execution_count": 107,
   "id": "b2225b2c",
   "metadata": {},
   "outputs": [
    {
     "data": {
      "text/plain": [
       "'Python'"
      ]
     },
     "execution_count": 107,
     "metadata": {},
     "output_type": "execute_result"
    }
   ],
   "source": [
    "palabra"
   ]
  },
  {
   "cell_type": "code",
   "execution_count": 106,
   "id": "23d49c76",
   "metadata": {},
   "outputs": [
    {
     "ename": "TypeError",
     "evalue": "'str' object does not support item assignment",
     "output_type": "error",
     "traceback": [
      "\u001b[1;31m---------------------------------------------------------------------------\u001b[0m",
      "\u001b[1;31mTypeError\u001b[0m                                 Traceback (most recent call last)",
      "Cell \u001b[1;32mIn[106], line 1\u001b[0m\n\u001b[1;32m----> 1\u001b[0m palabra[\u001b[38;5;241m0\u001b[39m]\u001b[38;5;241m=\u001b[39m\u001b[38;5;124m'\u001b[39m\u001b[38;5;124mN\u001b[39m\u001b[38;5;124m'\u001b[39m\n",
      "\u001b[1;31mTypeError\u001b[0m: 'str' object does not support item assignment"
     ]
    }
   ],
   "source": [
    "palabra[0]='N'"
   ]
  },
  {
   "cell_type": "markdown",
   "id": "6e1cd6c9",
   "metadata": {},
   "source": [
    "<b>Sin embargo, utilizando slicing y concatenacion podemos generar nuevas cadenas facilmente:<b>"
   ]
  },
  {
   "cell_type": "code",
   "execution_count": 108,
   "id": "98f4e7d5",
   "metadata": {},
   "outputs": [
    {
     "data": {
      "text/plain": [
       "'Nython'"
      ]
     },
     "execution_count": 108,
     "metadata": {},
     "output_type": "execute_result"
    }
   ],
   "source": [
    "palabra=\"N\" + palabra[1:]\n",
    "palabra"
   ]
  },
  {
   "cell_type": "code",
   "execution_count": 90,
   "id": "64b8c350",
   "metadata": {},
   "outputs": [
    {
     "data": {
      "text/plain": [
       "'Nithon'"
      ]
     },
     "execution_count": 90,
     "metadata": {},
     "output_type": "execute_result"
    }
   ],
   "source": [
    "palabra.replace('y','i')"
   ]
  },
  {
   "cell_type": "code",
   "execution_count": 91,
   "id": "865eb319",
   "metadata": {},
   "outputs": [
    {
     "data": {
      "text/plain": [
       "'Nython'"
      ]
     },
     "execution_count": 91,
     "metadata": {},
     "output_type": "execute_result"
    }
   ],
   "source": [
    "palabra"
   ]
  },
  {
   "cell_type": "markdown",
   "id": "db8fb243",
   "metadata": {},
   "source": [
    "<b>Un ultimo ejemplo usando varias funciones sobre un string:</b><br>Ingresar el primer párrafo de la pagina Wikipedia cuando se usa 'circunflejo'. Mostrar el parrafo sin signos de puntuacion y en minusculas."
   ]
  },
  {
   "cell_type": "code",
   "execution_count": 109,
   "id": "96e5445e",
   "metadata": {},
   "outputs": [],
   "source": [
    "s= \"El acento circunflejo (^) es un signo diacrítico utilizado en la ortografia normal de diversas,sadasdad,asdasd\""
   ]
  },
  {
   "cell_type": "code",
   "execution_count": 110,
   "id": "b193a91c",
   "metadata": {},
   "outputs": [
    {
     "name": "stdout",
     "output_type": "stream",
     "text": [
      "El acento circunflejo (^) es un signo diacrítico utilizado en la ortografia normal de diversas,sadasdad,asdasd\n"
     ]
    }
   ],
   "source": [
    "print(s)"
   ]
  },
  {
   "cell_type": "code",
   "execution_count": 111,
   "id": "a11f0c92",
   "metadata": {},
   "outputs": [
    {
     "name": "stdout",
     "output_type": "stream",
     "text": [
      "el acento circunflejo ^ es un signo diacrítico utilizado en la ortografia normal de diversassadasdadasdasd\n"
     ]
    }
   ],
   "source": [
    "#Se reemplaza la coma, punto y dos puntos por un vacio. Finalmente se convierte a minusculas.\n",
    "s=s.replace(',','').replace('.','').replace(':','').replace('(','').replace(')','').lower()\n",
    "print(s)"
   ]
  },
  {
   "cell_type": "markdown",
   "id": "94da7713",
   "metadata": {},
   "source": [
    "<h1>Manejo de ficheros</h1>\n",
    "<h3>Mostrar el actual directorio de trabajo</h3>"
   ]
  },
  {
   "cell_type": "code",
   "execution_count": 64,
   "id": "b402a60c",
   "metadata": {},
   "outputs": [
    {
     "data": {
      "text/plain": [
       "'d:\\\\Python'"
      ]
     },
     "execution_count": 64,
     "metadata": {},
     "output_type": "execute_result"
    }
   ],
   "source": [
    "pwd"
   ]
  },
  {
   "cell_type": "code",
   "execution_count": 65,
   "id": "06c410a8",
   "metadata": {},
   "outputs": [],
   "source": [
    "import os #cargar la libreria"
   ]
  },
  {
   "cell_type": "code",
   "execution_count": 66,
   "id": "9b36b56a",
   "metadata": {},
   "outputs": [
    {
     "name": "stdout",
     "output_type": "stream",
     "text": [
      "d:\\Python\n"
     ]
    }
   ],
   "source": [
    "print(os.getcwd())"
   ]
  },
  {
   "cell_type": "markdown",
   "id": "9b629ddc",
   "metadata": {},
   "source": [
    "<b>Crear una nueva carpeta</b>"
   ]
  },
  {
   "cell_type": "code",
   "execution_count": 68,
   "id": "42f65ad9",
   "metadata": {},
   "outputs": [],
   "source": [
    "os.makedirs(\"Pqython_DMC\")"
   ]
  },
  {
   "cell_type": "markdown",
   "id": "b980fb95",
   "metadata": {},
   "source": [
    "<b>Lista de contenidos de una carpeta</b>"
   ]
  },
  {
   "cell_type": "code",
   "execution_count": 69,
   "id": "dcf51d87",
   "metadata": {},
   "outputs": [
    {
     "data": {
      "text/plain": [
       "['(Chapman & Hall_CRC Data Mining and Knowledge Discovery Series) Jesus Rogel-Salazar - Data Science and Analytics with Python-Chapman and Hall_CRC (2017).pdf',\n",
       " '(Chapman & Hall_CRC Data Mining and Knowledge Series) Jesús Rogel-Salazar - Advanced Data Science and Analytics with Python-CRC Press (2020).pdf',\n",
       " '.ipynb_checkpoints',\n",
       " '02_Intro_Python.ipynb',\n",
       " '02_Sintaxis.ipynb',\n",
       " '03Manejo_string_de_ficheros.ipynb',\n",
       " '03_ESTRUCTURAS_DATOS.ipynb',\n",
       " '03_Estructuras_de_control.ipynb',\n",
       " '03_Tiempo_y_fechas.ipynb',\n",
       " '04_Numpy.ipynb',\n",
       " '05_CLASES_OBJETOS.ipynb',\n",
       " '05_FUNCIONES.ipynb',\n",
       " '06_PANDAS.ipynb',\n",
       " '07_pandas_Ficheros_CSV.ipynb',\n",
       " '07_Visualizacion_Matplotlib.ipynb',\n",
       " '07_Visualizacion_Seaborn.ipynb',\n",
       " '08_Analisis_Exploratorio_Datos_1.ipynb',\n",
       " '08_Analisis_Exploratorio_Datos_2.ipynb',\n",
       " '08_Manejo_Datos_Pandas_Tarea.ipynb',\n",
       " '09_Probabilidades_distribuciones.ipynb',\n",
       " '10 - 1.Muestreo y Estandarización.ipynb',\n",
       " '10 - 2.Intervalos de confianza.ipynb',\n",
       " '10 - 3.Prueba de Hipótesis.ipynb',\n",
       " '13 - Pre_Procesamiento.ipynb',\n",
       " '14_Metodos_No_Supervisados_DBSCAN.ipynb',\n",
       " '14_Metodos_No_Supervisados_PCA-Jerarquico-Kmeans-PAM.ipynb',\n",
       " '14_Metodos_No_Supervisados_Reglas.ipynb',\n",
       " '17_Series de Tiempo - ARIMA.ipynb',\n",
       " '18_Autoencoders con h2o.ipynb',\n",
       " '18_Text Mining.ipynb',\n",
       " 'Agrupacion_1',\n",
       " 'Agrupacion_1.csv',\n",
       " 'Agrupacion_12.csv',\n",
       " 'Agrupacion_2.csv',\n",
       " 'Agrupacion_3.csv',\n",
       " 'ALGUNAS-PRUEBAS-NO-PARAMÉTRICAS.pdf',\n",
       " 'Anaconda Powershell Prompt.lnk',\n",
       " 'Anaconda3-2023.03-1-Windows-x86_64.exe - Acceso directo.lnk',\n",
       " 'areas.py',\n",
       " 'Captura.PNG',\n",
       " 'Captura2.PNG',\n",
       " 'Car_data.csv',\n",
       " 'Caso Electricidad.ipynb',\n",
       " 'Caso_ML_Python.ipynb',\n",
       " 'cheats',\n",
       " 'cheatsets',\n",
       " 'credit.csv',\n",
       " 'Data Dictionary - carprices.xlsx',\n",
       " 'Data1',\n",
       " 'dbscan-clustering (1).ipynb',\n",
       " 'Deep learning.ipynb',\n",
       " 'Diabetes.csv',\n",
       " 'Examen_final.ipynb',\n",
       " 'GMT20211222-234830_Recording_1920x900.mp4',\n",
       " 'GMT20220103-234502_Recording_1920x900.mp4',\n",
       " 'GMT20220110-235646_Recording_1920x1080.mp4',\n",
       " 'GMT20220112-235328_Recording_1920x1080.mp4',\n",
       " 'GMT20220117-234542_Recording_1920x900.mp4',\n",
       " 'GMT20220119-235912_Recording_1920x1030.mp4',\n",
       " 'GMT20220124-233430_Recording_1920x900.mp4',\n",
       " 'GMT20220126-235510_Recording_1920x900.mp4',\n",
       " 'GMT20220131-235334_Recording_2560x1440.mp4',\n",
       " 'GMT20220202-233541_Recording_1920x900.mp4',\n",
       " 'GMT20220207-235558_Recording_1920x1080.mp4',\n",
       " 'GMT20220209-235231_Recording_1920x900.mp4',\n",
       " 'GMT20220214-235347_Recording_1920x900.mp4',\n",
       " 'GMT20220217-000112_Recording_1920x900.mp4',\n",
       " 'GMT20220221-235111_Recording_1920x900.mp4',\n",
       " 'GMT20220223-235214_Recording_1920x900.mp4',\n",
       " 'GMT20220301-002430_Recording_1920x900.mp4',\n",
       " 'GMT20220302-235615_Recording_2560x1440.mp4',\n",
       " 'h2o.PNG',\n",
       " 'HousingData.csv',\n",
       " 'hypothesis_3_anova.ipynb',\n",
       " 'hypothesis_6_chisquare.ipynb',\n",
       " 'importancia.csv',\n",
       " 'Intro_Python.ipynb',\n",
       " 'Libros',\n",
       " 'libros_hp_azul',\n",
       " \"Luciano Ramalho - Fluent Python_ Clear, Concise, and Effective Programming-O'Reilly Media (2022).pdf\",\n",
       " 'LUIS CASUSOL_FINAL.ipynb',\n",
       " 'matplotlib2.jpg - copia.jpeg',\n",
       " 'matplotlib3.jpg - copia.jpeg',\n",
       " 'matplotlib4 - copia.jpeg',\n",
       " 'matplotlib_1 - copia.jpeg',\n",
       " 'Modelos de regresión - Regularización.ipynb',\n",
       " 'Modelos de regresión - statsmodels.ipynb',\n",
       " 'modulo_funciones.py',\n",
       " 'muestra_reemplazo.csv',\n",
       " 'Métodos basados en árboles.ipynb',\n",
       " 'Métodos Supervisados Clasificación-Parte1.ipynb',\n",
       " 'NORMALIZACIONYESTANDARIZACION.PNG',\n",
       " 'Nuevo2_Deep_Learning.csv',\n",
       " 'Nuevo_Deep_Learning.csv',\n",
       " 'nulos7.csv',\n",
       " 'padron-de-estudiantes-pregrado-2018.pdf',\n",
       " 'Pqython_DMC',\n",
       " 'Predic_Prestamo.docx',\n",
       " 'PrimerCasoIntegrador.docx',\n",
       " 'Puntos-fiunal.ipynb',\n",
       " 'Python_DMC',\n",
       " 'Regresión logística.ipynb',\n",
       " 'reg_log.xlsx',\n",
       " 'Robert Layton - Learning Data Mining with Python-Packt (2017).pdf',\n",
       " 'segmentaci-n-rfm-t.ipynb',\n",
       " 'segmentacion.ipynb',\n",
       " 'sm.PNG',\n",
       " 'teoria',\n",
       " 'tesis',\n",
       " 'test_preprocesed.csv',\n",
       " 'train_preprocesed.csv',\n",
       " 'train_preprocesed_rov.csv',\n",
       " 'train_preprocesed_rus.csv',\n",
       " 'Videos vistos',\n",
       " '[Examen Final, 18-12-2023]_Jonathan-Javier-Velásquez-Quesquen - Jupyter Notebook (1).pdf',\n",
       " '__pycache__']"
      ]
     },
     "execution_count": 69,
     "metadata": {},
     "output_type": "execute_result"
    }
   ],
   "source": [
    "os.listdir(\"./\")"
   ]
  },
  {
   "cell_type": "markdown",
   "id": "89c3f005",
   "metadata": {},
   "source": [
    "<b>Lista de contenidos de una carpeta</b>"
   ]
  },
  {
   "cell_type": "code",
   "execution_count": 70,
   "id": "70a82b97",
   "metadata": {},
   "outputs": [
    {
     "data": {
      "text/plain": [
       "['(Chapman & Hall_CRC Data Mining and Knowledge Discovery Series) Jesus Rogel-Salazar - Data Science and Analytics with Python-Chapman and Hall_CRC (2017).pdf',\n",
       " '(Chapman & Hall_CRC Data Mining and Knowledge Series) Jesús Rogel-Salazar - Advanced Data Science and Analytics with Python-CRC Press (2020).pdf',\n",
       " '.ipynb_checkpoints',\n",
       " '02_Intro_Python.ipynb',\n",
       " '02_Sintaxis.ipynb',\n",
       " '03Manejo_string_de_ficheros.ipynb',\n",
       " '03_ESTRUCTURAS_DATOS.ipynb',\n",
       " '03_Estructuras_de_control.ipynb',\n",
       " '03_Tiempo_y_fechas.ipynb',\n",
       " '04_Numpy.ipynb',\n",
       " '05_CLASES_OBJETOS.ipynb',\n",
       " '05_FUNCIONES.ipynb',\n",
       " '06_PANDAS.ipynb',\n",
       " '07_pandas_Ficheros_CSV.ipynb',\n",
       " '07_Visualizacion_Matplotlib.ipynb',\n",
       " '07_Visualizacion_Seaborn.ipynb',\n",
       " '08_Analisis_Exploratorio_Datos_1.ipynb',\n",
       " '08_Analisis_Exploratorio_Datos_2.ipynb',\n",
       " '08_Manejo_Datos_Pandas_Tarea.ipynb',\n",
       " '09_Probabilidades_distribuciones.ipynb',\n",
       " '10 - 1.Muestreo y Estandarización.ipynb',\n",
       " '10 - 2.Intervalos de confianza.ipynb',\n",
       " '10 - 3.Prueba de Hipótesis.ipynb',\n",
       " '13 - Pre_Procesamiento.ipynb',\n",
       " '14_Metodos_No_Supervisados_DBSCAN.ipynb',\n",
       " '14_Metodos_No_Supervisados_PCA-Jerarquico-Kmeans-PAM.ipynb',\n",
       " '14_Metodos_No_Supervisados_Reglas.ipynb',\n",
       " '17_Series de Tiempo - ARIMA.ipynb',\n",
       " '18_Autoencoders con h2o.ipynb',\n",
       " '18_Text Mining.ipynb',\n",
       " 'Agrupacion_1',\n",
       " 'Agrupacion_1.csv',\n",
       " 'Agrupacion_12.csv',\n",
       " 'Agrupacion_2.csv',\n",
       " 'Agrupacion_3.csv',\n",
       " 'ALGUNAS-PRUEBAS-NO-PARAMÉTRICAS.pdf',\n",
       " 'Anaconda Powershell Prompt.lnk',\n",
       " 'Anaconda3-2023.03-1-Windows-x86_64.exe - Acceso directo.lnk',\n",
       " 'areas.py',\n",
       " 'Captura.PNG',\n",
       " 'Captura2.PNG',\n",
       " 'Car_data.csv',\n",
       " 'Caso Electricidad.ipynb',\n",
       " 'Caso_ML_Python.ipynb',\n",
       " 'cheats',\n",
       " 'cheatsets',\n",
       " 'credit.csv',\n",
       " 'Data Dictionary - carprices.xlsx',\n",
       " 'Data1',\n",
       " 'dbscan-clustering (1).ipynb',\n",
       " 'Deep learning.ipynb',\n",
       " 'Diabetes.csv',\n",
       " 'Examen_final.ipynb',\n",
       " 'GMT20211222-234830_Recording_1920x900.mp4',\n",
       " 'GMT20220103-234502_Recording_1920x900.mp4',\n",
       " 'GMT20220110-235646_Recording_1920x1080.mp4',\n",
       " 'GMT20220112-235328_Recording_1920x1080.mp4',\n",
       " 'GMT20220117-234542_Recording_1920x900.mp4',\n",
       " 'GMT20220119-235912_Recording_1920x1030.mp4',\n",
       " 'GMT20220124-233430_Recording_1920x900.mp4',\n",
       " 'GMT20220126-235510_Recording_1920x900.mp4',\n",
       " 'GMT20220131-235334_Recording_2560x1440.mp4',\n",
       " 'GMT20220202-233541_Recording_1920x900.mp4',\n",
       " 'GMT20220207-235558_Recording_1920x1080.mp4',\n",
       " 'GMT20220209-235231_Recording_1920x900.mp4',\n",
       " 'GMT20220214-235347_Recording_1920x900.mp4',\n",
       " 'GMT20220217-000112_Recording_1920x900.mp4',\n",
       " 'GMT20220221-235111_Recording_1920x900.mp4',\n",
       " 'GMT20220223-235214_Recording_1920x900.mp4',\n",
       " 'GMT20220301-002430_Recording_1920x900.mp4',\n",
       " 'GMT20220302-235615_Recording_2560x1440.mp4',\n",
       " 'h2o.PNG',\n",
       " 'HousingData.csv',\n",
       " 'hypothesis_3_anova.ipynb',\n",
       " 'hypothesis_6_chisquare.ipynb',\n",
       " 'importancia.csv',\n",
       " 'Intro_Python.ipynb',\n",
       " 'Libros',\n",
       " 'libros_hp_azul',\n",
       " \"Luciano Ramalho - Fluent Python_ Clear, Concise, and Effective Programming-O'Reilly Media (2022).pdf\",\n",
       " 'LUIS CASUSOL_FINAL.ipynb',\n",
       " 'matplotlib2.jpg - copia.jpeg',\n",
       " 'matplotlib3.jpg - copia.jpeg',\n",
       " 'matplotlib4 - copia.jpeg',\n",
       " 'matplotlib_1 - copia.jpeg',\n",
       " 'Modelos de regresión - Regularización.ipynb',\n",
       " 'Modelos de regresión - statsmodels.ipynb',\n",
       " 'modulo_funciones.py',\n",
       " 'muestra_reemplazo.csv',\n",
       " 'Métodos basados en árboles.ipynb',\n",
       " 'Métodos Supervisados Clasificación-Parte1.ipynb',\n",
       " 'NORMALIZACIONYESTANDARIZACION.PNG',\n",
       " 'Nuevo2_Deep_Learning.csv',\n",
       " 'Nuevo_Deep_Learning.csv',\n",
       " 'nulos7.csv',\n",
       " 'padron-de-estudiantes-pregrado-2018.pdf',\n",
       " 'Pqython_DMC',\n",
       " 'Predic_Prestamo.docx',\n",
       " 'PrimerCasoIntegrador.docx',\n",
       " 'Puntos-fiunal.ipynb',\n",
       " 'Python_DMC',\n",
       " 'Regresión logística.ipynb',\n",
       " 'reg_log.xlsx',\n",
       " 'Robert Layton - Learning Data Mining with Python-Packt (2017).pdf',\n",
       " 'segmentaci-n-rfm-t.ipynb',\n",
       " 'segmentacion.ipynb',\n",
       " 'sm.PNG',\n",
       " 'teoria',\n",
       " 'tesis',\n",
       " 'test_preprocesed.csv',\n",
       " 'train_preprocesed.csv',\n",
       " 'train_preprocesed_rov.csv',\n",
       " 'train_preprocesed_rus.csv',\n",
       " 'Videos vistos',\n",
       " '[Examen Final, 18-12-2023]_Jonathan-Javier-Velásquez-Quesquen - Jupyter Notebook (1).pdf',\n",
       " '__pycache__']"
      ]
     },
     "execution_count": 70,
     "metadata": {},
     "output_type": "execute_result"
    }
   ],
   "source": [
    "os.listdir(\"./\")"
   ]
  },
  {
   "cell_type": "markdown",
   "id": "d1b6c94f",
   "metadata": {},
   "source": [
    "<b>Cambiar el directorio/carpeta </b>"
   ]
  },
  {
   "cell_type": "code",
   "execution_count": 78,
   "id": "e9d44611",
   "metadata": {},
   "outputs": [
    {
     "ename": "FileNotFoundError",
     "evalue": "[WinError 2] El sistema no puede encontrar el archivo especificado: 'Python_DMC'",
     "output_type": "error",
     "traceback": [
      "\u001b[1;31m---------------------------------------------------------------------------\u001b[0m",
      "\u001b[1;31mFileNotFoundError\u001b[0m                         Traceback (most recent call last)",
      "Cell \u001b[1;32mIn[78], line 1\u001b[0m\n\u001b[1;32m----> 1\u001b[0m \u001b[43mos\u001b[49m\u001b[38;5;241;43m.\u001b[39;49m\u001b[43mchdir\u001b[49m\u001b[43m(\u001b[49m\u001b[38;5;124;43m\"\u001b[39;49m\u001b[38;5;124;43mPython_DMC\u001b[39;49m\u001b[38;5;124;43m\"\u001b[39;49m\u001b[43m)\u001b[49m\u001b[38;5;66;03m#Toma el directorio actual y añade que ahora el directorio sera python_dmc\u001b[39;00m\n\u001b[0;32m      2\u001b[0m os\u001b[38;5;241m.\u001b[39mgetcwd()\n",
      "\u001b[1;31mFileNotFoundError\u001b[0m: [WinError 2] El sistema no puede encontrar el archivo especificado: 'Python_DMC'"
     ]
    }
   ],
   "source": [
    "os.chdir(\"Python_DMC\")#Toma el directorio actual y añade que ahora el directorio sera python_dmc\n",
    "os.getcwd()"
   ]
  },
  {
   "cell_type": "code",
   "execution_count": 83,
   "id": "2be19666",
   "metadata": {},
   "outputs": [
    {
     "data": {
      "text/plain": [
       "'d:\\\\'"
      ]
     },
     "execution_count": 83,
     "metadata": {},
     "output_type": "execute_result"
    }
   ],
   "source": [
    "pwd"
   ]
  },
  {
   "cell_type": "code",
   "execution_count": 77,
   "id": "dd9a4fe6",
   "metadata": {},
   "outputs": [
    {
     "data": {
      "text/plain": [
       "['$RECYCLE.BIN',\n",
       " '2018102919184463_1 (1).jpg',\n",
       " '2018102919184463_1.jpg',\n",
       " '3DMark Demo.url',\n",
       " 'ACAD_2020_ENG[V3G4].7z - Acceso directo.lnk',\n",
       " 'Alexander (unmsm.edu.pe) - Chrome.lnk',\n",
       " 'c.jpeg',\n",
       " 'Call of Duty',\n",
       " 'Call of Duty Modern Warfare 2 Campaign Remastered ElAmigos',\n",
       " 'Capturasasas.PNG',\n",
       " 'che.pdf',\n",
       " 'cibertec',\n",
       " 'CoD Modern Warfare 2 Remastered',\n",
       " 'comparacio_de_muestras.xlsx',\n",
       " 'compu 2',\n",
       " 'COMPUTACION MAESTRIA',\n",
       " 'Crash Bandicoot N Sane Trilogy',\n",
       " 'Currículum 2 (1).pdf',\n",
       " 'Currículum 2 (2).pdf',\n",
       " 'cv.doc',\n",
       " 'Data',\n",
       " 'Deep Learning DMC',\n",
       " 'desktop.ini',\n",
       " 'disco D',\n",
       " 'dni.pdf',\n",
       " 'Documentos-Pancho',\n",
       " 'Drawing1-Model.pdf',\n",
       " 'DumpStack.log.tmp',\n",
       " 'EDO BALCAZAR',\n",
       " 'ef84dd81ae4a6c183b87a49cb4c503c4.pdf',\n",
       " 'examen',\n",
       " 'firma.jpeg',\n",
       " 'fotos de graduacion',\n",
       " 'gg',\n",
       " 'Groceries_dataset.csv.zip',\n",
       " 'INDICACIONES DE TRABAJO DE MONITOREO.docx',\n",
       " 'Left 4 Dead 2.url',\n",
       " 'libros de progra',\n",
       " 'Logounmsm.pdf',\n",
       " 'machine learning',\n",
       " 'maestria',\n",
       " 'MAESTRIA-UNI',\n",
       " 'maple',\n",
       " 'matlab - Acceso directo.lnk',\n",
       " 'MEGAsync.lnk',\n",
       " 'MSI Afterburner.lnk',\n",
       " 'musica',\n",
       " 'Nueva carpeta',\n",
       " 'Nueva carpeta (2)',\n",
       " 'Nueva carpeta (3)',\n",
       " 'Nuevo Documento de Microsoft Word.docx',\n",
       " 'Nuevo documento de texto.txt',\n",
       " 'onenote',\n",
       " 'OneNote.lnk',\n",
       " 'PANCHO-PRESUPUESTO.pdf',\n",
       " 'parte 2.pdf',\n",
       " 'Probabilidad-maestria',\n",
       " 'Python',\n",
       " 'Quake II RTX.url',\n",
       " 'Querys',\n",
       " 'R',\n",
       " 'rashenvski geometría diferencial.pdf',\n",
       " 'rashevsky.zip',\n",
       " 'Rockstar Games Launcher.lnk',\n",
       " 'RUTAS BUSES PARA EVITAMIENTO 16-08-2023 (2).pdf',\n",
       " 'seminario1benazic',\n",
       " 'seminario2benazic',\n",
       " 'SQL Server for BI',\n",
       " 'sql we',\n",
       " 'SQLData',\n",
       " 'SQLLog',\n",
       " 'SteamLibrary',\n",
       " 'SumatraPDF.lnk',\n",
       " 'System Volume Information',\n",
       " 'TRABAJO',\n",
       " 'Trabajo - Edge.lnk',\n",
       " 'Ubisoft Connect.lnk',\n",
       " 'VID_20240105_100523.mp4',\n",
       " 'xls  y  csv',\n",
       " 'Zoom.lnk',\n",
       " '~$evo Documento de Microsoft Word.docx',\n",
       " '~$forme colegio saco oliveros.docx',\n",
       " 'µTorrent.lnk']"
      ]
     },
     "execution_count": 77,
     "metadata": {},
     "output_type": "execute_result"
    }
   ],
   "source": [
    "os.listdir(\"./\")"
   ]
  },
  {
   "cell_type": "code",
   "execution_count": 84,
   "id": "18156d67",
   "metadata": {},
   "outputs": [
    {
     "data": {
      "text/plain": [
       "'d:\\\\Python'"
      ]
     },
     "execution_count": 84,
     "metadata": {},
     "output_type": "execute_result"
    }
   ],
   "source": [
    "os.chdir(\"/\")#retorno\n",
    "os.getcwd()"
   ]
  },
  {
   "cell_type": "markdown",
   "id": "b2db93bf",
   "metadata": {},
   "source": [
    "<h2>Crear un archivo</h2>"
   ]
  },
  {
   "cell_type": "code",
   "execution_count": 85,
   "id": "bff81c78",
   "metadata": {},
   "outputs": [],
   "source": [
    "os.chdir(\"Python_DMC\")\n",
    "archivo = open(os.getcwd()+'/datos.txt', 'w')\n",
    "archivo.write(\"Se feliz!\")\n",
    "archivo.close() "
   ]
  },
  {
   "cell_type": "markdown",
   "id": "0c7a3a26",
   "metadata": {},
   "source": [
    "<h2>Lectura de los datos de un fichero<h2>"
   ]
  },
  {
   "cell_type": "code",
   "execution_count": 86,
   "id": "e59dcb08",
   "metadata": {},
   "outputs": [],
   "source": [
    "NOMBRE_ARCHIVO = 'datos.txt'\n",
    "archivo = open(NOMBRE_ARCHIVO, 'w')# abre el archivo .txt\n",
    "archivo.write('Este es una prueba \\ny otra prueba.')\n",
    "archivo.write('\\nEsta es la continuacion \\ndel mismo ejemplo.')\n",
    "archivo.close()"
   ]
  },
  {
   "cell_type": "code",
   "execution_count": 87,
   "id": "b620fb14",
   "metadata": {},
   "outputs": [
    {
     "name": "stdout",
     "output_type": "stream",
     "text": [
      "Este es una prueba \n",
      "y otra prueba.\n",
      "Esta es la continuacion \n",
      "del mismo ejemplo.\n"
     ]
    }
   ],
   "source": [
    "archivo = open(NOMBRE_ARCHIVO, 'r')\n",
    "contenido = archivo.read()\n",
    "print(contenido)\n",
    "archivo.close()"
   ]
  },
  {
   "cell_type": "markdown",
   "id": "26e730c9",
   "metadata": {},
   "source": [
    "<h3>Iterar sobre un fichero para leerlo</h3>"
   ]
  },
  {
   "cell_type": "code",
   "execution_count": 88,
   "id": "caa138ef",
   "metadata": {},
   "outputs": [
    {
     "name": "stdout",
     "output_type": "stream",
     "text": [
      "Este es una prueba \n",
      "\n",
      "y otra prueba.\n",
      "\n",
      "Esta es la continuacion \n",
      "\n",
      "del mismo ejemplo.\n",
      "\n",
      "\n"
     ]
    }
   ],
   "source": [
    "archivo = open(NOMBRE_ARCHIVO, 'r')\n",
    "for linea in archivo:\n",
    "      print(linea)\n",
    "print(\"\\n\")\n",
    "archivo.close()"
   ]
  },
  {
   "cell_type": "markdown",
   "id": "cf6e0e25",
   "metadata": {},
   "source": [
    "<h3>Eliminar un archivo</h3>"
   ]
  },
  {
   "cell_type": "code",
   "execution_count": 16,
   "id": "4078272a",
   "metadata": {},
   "outputs": [
    {
     "data": {
      "text/plain": [
       "['CV-END.pdf',\n",
       " 'datos.txt',\n",
       " 'document2.pdf',\n",
       " 'Taller 1 - SQL Server for Analytics.pdf']"
      ]
     },
     "execution_count": 16,
     "metadata": {},
     "output_type": "execute_result"
    }
   ],
   "source": [
    "os.listdir(\"./\")"
   ]
  },
  {
   "cell_type": "code",
   "execution_count": 17,
   "id": "fe042fb0",
   "metadata": {},
   "outputs": [
    {
     "data": {
      "text/plain": [
       "['CV-END.pdf', 'document2.pdf', 'Taller 1 - SQL Server for Analytics.pdf']"
      ]
     },
     "execution_count": 17,
     "metadata": {},
     "output_type": "execute_result"
    }
   ],
   "source": [
    "os.remove(os.getcwd()+\"/datos.txt\")\n",
    "os.listdir(\"./\")"
   ]
  },
  {
   "cell_type": "markdown",
   "id": "d2caa9eb",
   "metadata": {},
   "source": [
    "<h2>Eliminar Carpeta</h2>"
   ]
  },
  {
   "cell_type": "code",
   "execution_count": 89,
   "id": "414dd88d",
   "metadata": {},
   "outputs": [
    {
     "data": {
      "text/plain": [
       "'d:\\\\Python'"
      ]
     },
     "execution_count": 89,
     "metadata": {},
     "output_type": "execute_result"
    }
   ],
   "source": [
    "os.chdir(\"../\")\n",
    "os.getcwd()"
   ]
  },
  {
   "cell_type": "code",
   "execution_count": 19,
   "id": "58431d63",
   "metadata": {},
   "outputs": [
    {
     "data": {
      "text/plain": [
       "['.ipynb_checkpoints',\n",
       " '03Manejo_string_de_ficheros.ipynb',\n",
       " 'cheatsets',\n",
       " 'GMT20211215-235050_Recording_1920x900.mp4',\n",
       " 'GMT20211220-234457_Recording_1920x900.mp4',\n",
       " 'GMT20211222-234830_Recording_1920x900.mp4',\n",
       " 'GMT20220103-234502_Recording_1920x900.mp4',\n",
       " 'GMT20220110-235646_Recording_1920x1080.mp4',\n",
       " 'GMT20220112-235328_Recording_1920x1080.mp4',\n",
       " 'GMT20220117-234542_Recording_1920x900.mp4',\n",
       " 'GMT20220119-235912_Recording_1920x1030.mp4',\n",
       " 'GMT20220124-233430_Recording_1920x900.mp4',\n",
       " 'GMT20220126-235510_Recording_1920x900.mp4',\n",
       " 'GMT20220131-235334_Recording_2560x1440.mp4',\n",
       " 'GMT20220202-233541_Recording_1920x900.mp4',\n",
       " 'GMT20220207-235558_Recording_1920x1080.mp4',\n",
       " 'GMT20220209-235231_Recording_1920x900.mp4',\n",
       " 'GMT20220214-235347_Recording_1920x900.mp4',\n",
       " 'GMT20220217-000112_Recording_1920x900.mp4',\n",
       " 'GMT20220221-235111_Recording_1920x900.mp4',\n",
       " 'GMT20220223-235214_Recording_1920x900.mp4',\n",
       " 'GMT20220301-002430_Recording_1920x900.mp4',\n",
       " 'GMT20220302-235615_Recording_2560x1440.mp4',\n",
       " 'Intro_Python.ipynb',\n",
       " 'Libros',\n",
       " 'Python_DMC']"
      ]
     },
     "execution_count": 19,
     "metadata": {},
     "output_type": "execute_result"
    }
   ],
   "source": [
    "os.listdir(\"./\")\n"
   ]
  },
  {
   "cell_type": "code",
   "execution_count": 20,
   "id": "52ef6ea7",
   "metadata": {},
   "outputs": [
    {
     "ename": "OSError",
     "evalue": "[WinError 145] El directorio no está vacío: 'Python_DMC'",
     "output_type": "error",
     "traceback": [
      "\u001b[1;31m---------------------------------------------------------------------------\u001b[0m",
      "\u001b[1;31mOSError\u001b[0m                                   Traceback (most recent call last)",
      "Cell \u001b[1;32mIn[20], line 1\u001b[0m\n\u001b[1;32m----> 1\u001b[0m \u001b[43mos\u001b[49m\u001b[38;5;241;43m.\u001b[39;49m\u001b[43mrmdir\u001b[49m\u001b[43m(\u001b[49m\u001b[38;5;124;43m\"\u001b[39;49m\u001b[38;5;124;43mPython_DMC\u001b[39;49m\u001b[38;5;124;43m\"\u001b[39;49m\u001b[43m)\u001b[49m\n",
      "\u001b[1;31mOSError\u001b[0m: [WinError 145] El directorio no está vacío: 'Python_DMC'"
     ]
    }
   ],
   "source": [
    "os.rmdir(\"Python_DMC\") #Tiene quje estar vacio"
   ]
  },
  {
   "cell_type": "code",
   "execution_count": null,
   "id": "cffc0139",
   "metadata": {},
   "outputs": [],
   "source": []
  }
 ],
 "metadata": {
  "kernelspec": {
   "display_name": "Python 3 (ipykernel)",
   "language": "python",
   "name": "python3"
  },
  "language_info": {
   "codemirror_mode": {
    "name": "ipython",
    "version": 3
   },
   "file_extension": ".py",
   "mimetype": "text/x-python",
   "name": "python",
   "nbconvert_exporter": "python",
   "pygments_lexer": "ipython3",
   "version": "3.10.9"
  }
 },
 "nbformat": 4,
 "nbformat_minor": 5
}
