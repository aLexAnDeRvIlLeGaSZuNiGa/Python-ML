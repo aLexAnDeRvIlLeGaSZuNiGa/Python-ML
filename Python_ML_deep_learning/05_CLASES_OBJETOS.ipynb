{
 "cells": [
  {
   "cell_type": "markdown",
   "id": "8cf3acbb",
   "metadata": {},
   "source": [
    "# Programación Orientada a Objetos ( es similar al modulo)\n",
    "\n",
    "### Clases\n",
    "\n",
    "Las clases son los modelos sobre los cuáles se construirán nuestros objetos "
   ]
  },
  {
   "cell_type": "code",
   "execution_count": 1,
   "id": "4b6f17e2",
   "metadata": {},
   "outputs": [],
   "source": [
    "class Auto:\n",
    "    pass"
   ]
  },
  {
   "cell_type": "code",
   "execution_count": 2,
   "id": "fe867d46",
   "metadata": {},
   "outputs": [],
   "source": [
    "class Llanta:\n",
    "    pass"
   ]
  },
  {
   "cell_type": "code",
   "execution_count": 3,
   "id": "80e11458",
   "metadata": {},
   "outputs": [],
   "source": [
    "class Espejo:\n",
    "    pass"
   ]
  },
  {
   "cell_type": "code",
   "execution_count": 4,
   "id": "0a3b8528",
   "metadata": {},
   "outputs": [],
   "source": [
    "class Timon:\n",
    "    pass"
   ]
  },
  {
   "cell_type": "markdown",
   "id": "73a0c30b",
   "metadata": {},
   "source": [
    "La sentencia pass no hace nada. Puede ser utilizada cuando se requiere una sentencia sintácticamente pero el programa no requiere acción alguna.\n",
    "\n",
    "El nombre de las clases se define en singular, utilizando CamelCase."
   ]
  },
  {
   "cell_type": "markdown",
   "id": "e5b8a12e",
   "metadata": {},
   "source": [
    "## Propiedades (o atributos)\n",
    "\n",
    "Las propiedades, como hemos visto antes, son las características intrínsecas del objeto"
   ]
  },
  {
   "cell_type": "code",
   "execution_count": 5,
   "id": "2be5788f",
   "metadata": {},
   "outputs": [],
   "source": [
    "class Llanta():\n",
    "    color = \"\"\n",
    "    forma = \"\"\n",
    "    "
   ]
  },
  {
   "cell_type": "code",
   "execution_count": 6,
   "id": "f59caf41",
   "metadata": {},
   "outputs": [],
   "source": [
    "class Espejo():\n",
    "    tamanio = \"\"\n",
    "    color = \"\""
   ]
  },
  {
   "cell_type": "code",
   "execution_count": 7,
   "id": "043fc193",
   "metadata": {},
   "outputs": [],
   "source": [
    "class Timon():\n",
    "    forma = \"\"\n",
    "    color = \"\""
   ]
  },
  {
   "cell_type": "code",
   "execution_count": 8,
   "id": "589b4c94",
   "metadata": {},
   "outputs": [],
   "source": [
    "class Auto():\n",
    "    color = \"\"\n",
    "    tamanio = \"\"\n",
    "    aspecto = \"\"\n",
    "    llantas = Llanta()         # propiedad compuesta por el objeto objeto llanta\n",
    "    espejos = Espejo()         # propiedad compuesta por el objeto objeto Espejo\n",
    "    Timones = Timon()          # propiedad compuesta por el espejo objeto Timon"
   ]
  },
  {
   "cell_type": "markdown",
   "id": "19ab92c6",
   "metadata": {},
   "source": [
    "Las propiedades se definen de la misma forma que las variables (aplican las mismas reglas de estilo)."
   ]
  },
  {
   "cell_type": "markdown",
   "id": "705a2228",
   "metadata": {},
   "source": [
    "## Métodos (o funciones)\n",
    "\n",
    "Los métodos son funciones que representan acciones propias que pueden realizar el objeto (y no otro)"
   ]
  },
  {
   "cell_type": "code",
   "execution_count": 11,
   "id": "366671dd",
   "metadata": {},
   "outputs": [],
   "source": [
    "class Auto():\n",
    "    color = \"rojo\"\n",
    "    tamanio = \"grande\"\n",
    "    aspecto = \"bonito\"\n",
    "    llantas = Llanta()\n",
    "    espejos = Espejo()\n",
    "    timones = Timon()\n",
    "    \n",
    "    def arrancar(self):\n",
    "        pass\n",
    "    def comparar(self,otroAuto):\n",
    "        pass"
   ]
  },
  {
   "cell_type": "markdown",
   "id": "2623bd2e",
   "metadata": {},
   "source": [
    "Notar que el primer parámetro de un método, siempre debe ser self."
   ]
  },
  {
   "cell_type": "markdown",
   "id": "ce535936",
   "metadata": {},
   "source": [
    "## Objeto\n",
    "\n",
    "Las clases por sí mismas, no son más que modelos que nos servirán para crear objetos en concreto. Podemos decir que una clase, es el razonamiento abstracto de un objeto, mientras que el objeto, es su materialización. A la acción de crear objetos, se le denomina instanciar una clase y dicha instancia, consiste en asignar la clase, como valor a una variable:"
   ]
  },
  {
   "cell_type": "code",
   "execution_count": 16,
   "id": "d96421a6",
   "metadata": {},
   "outputs": [],
   "source": [
    "class Auto():\n",
    "    color = \"rojo\"\n",
    "    tamanio = \"grande\"\n",
    "    aspecto = \"bonito\"\n",
    "    llantas = Llanta()\n",
    "    espejos = Espejo()\n",
    "    timones = Timon()\n",
    "    \n",
    "    def arrancar(self):\n",
    "        print(\"auto encendido\")"
   ]
  },
  {
   "cell_type": "code",
   "execution_count": 17,
   "id": "2ff83803",
   "metadata": {},
   "outputs": [
    {
     "name": "stdout",
     "output_type": "stream",
     "text": [
      "rojo\n",
      "grande\n",
      "bonito\n",
      "amarillo\n",
      "auto encendido\n"
     ]
    }
   ],
   "source": [
    "auto_1 = Auto()\n",
    "print(auto_1.color)\n",
    "print(auto_1.tamanio)\n",
    "print(auto_1.aspecto)\n",
    "auto_1.color = \"amarillo\" #cambio el color por defecto\n",
    "print(auto_1.color)\n",
    "auto_1.arrancar()"
   ]
  },
  {
   "cell_type": "markdown",
   "id": "2536aaba",
   "metadata": {},
   "source": [
    "## Herencia: característica principal de la POO \n",
    "\n",
    "Algunos objetos comparten las mismas propiedades y métodos que otro objeto, y además agregan nuevas propiedades y métodos. A estos se lo denomina herencia: una clase que hereda de otra."
   ]
  },
  {
   "cell_type": "code",
   "execution_count": 19,
   "id": "3d125733",
   "metadata": {},
   "outputs": [],
   "source": [
    "class Llanta():\n",
    "    color= \"\"\n",
    "    forma= \"\"\n",
    "class Espejo():\n",
    "    tamanio = \"\"\n",
    "    color = \"\"\n",
    "class Timon():\n",
    "    forma  = \"\"\n",
    "    color = \"\"\n",
    "class Auto():\n",
    "    color = \"rojo\"\n",
    "    tamanio = \"grande\"\n",
    "    aspecto = \"bonito\"\n",
    "    llantas = Llanta()\n",
    "    espejos = Espejo()\n",
    "    timones = Timon()\n",
    "    \n",
    "    def arrancar(self):\n",
    "        print(\"auto encendido\")\n",
    "class Letrero():\n",
    "    color = \"\"\n",
    "    forma = \"\"\n",
    "\n",
    "# Taxi sí hereda de otra clase: Auto\n",
    "class Taxi(Auto):\n",
    "    letreros = Letrero()\n",
    "    \n",
    "    def hacer_taxi(self):\n",
    "        print(\"iniciando taxi\")"
   ]
  },
  {
   "cell_type": "markdown",
   "id": "00d28cd3",
   "metadata": {},
   "source": [
    "## Accediendo a los métodos y propiedades de un objeto\n",
    "\n",
    "Una vez creado un objeto, es decir, una vez hecha la instancia de clase, es posible acceder a sus métodos y propiedades "
   ]
  },
  {
   "cell_type": "code",
   "execution_count": 20,
   "id": "907f5591",
   "metadata": {},
   "outputs": [
    {
     "name": "stdout",
     "output_type": "stream",
     "text": [
      "rojo\n",
      "grande\n",
      "bonito\n",
      "amarillo\n",
      "auto encendido\n",
      "iniciando taxi\n"
     ]
    }
   ],
   "source": [
    "taxi_1 =  Taxi()\n",
    "print(taxi_1.color)\n",
    "print(taxi_1.tamanio)\n",
    "print(taxi_1.aspecto)\n",
    "taxi_1.color=\"amarillo\"\n",
    "print(taxi_1.color)\n",
    "arrancar = taxi_1.arrancar()\n",
    "arrancar\n",
    "taxi_1.hacer_taxi()"
   ]
  },
  {
   "cell_type": "code",
   "execution_count": 21,
   "id": "82020fda",
   "metadata": {},
   "outputs": [
    {
     "name": "stdout",
     "output_type": "stream",
     "text": [
      "iniciando taxi\n"
     ]
    }
   ],
   "source": [
    "taxi_1.hacer_taxi()"
   ]
  },
  {
   "cell_type": "code",
   "execution_count": 22,
   "id": "92eb03c1",
   "metadata": {},
   "outputs": [
    {
     "name": "stdout",
     "output_type": "stream",
     "text": [
      "auto encendido\n",
      "iniciando taxi\n"
     ]
    }
   ],
   "source": [
    "arrancar = taxi_1.arrancar()\n",
    "arrancar\n",
    "taxi_1.hacer_taxi()"
   ]
  },
  {
   "cell_type": "markdown",
   "id": "cae15af7",
   "metadata": {},
   "source": [
    "### Otro ejemplo de herencia:\n",
    "\n",
    "En la sección anterior, hemos inicializado color y forma, dándoles un valor vacío \". Pero hay una forma más elegante de inicializar variables con sus valores predeterminados. El inicializador es un método especial, con nombre <b>init</b> (el método se considera especial y será tratado de la forma especial, es por eso que tiene subrayados dobles al principio y al final)."
   ]
  },
  {
   "cell_type": "code",
   "execution_count": 23,
   "id": "f52ffcce",
   "metadata": {},
   "outputs": [],
   "source": [
    "class Figura:\n",
    "    def __init__(self, a):\n",
    "        self.name = a"
   ]
  },
  {
   "cell_type": "code",
   "execution_count": 24,
   "id": "9f6da3a9",
   "metadata": {},
   "outputs": [
    {
     "ename": "TypeError",
     "evalue": "Figura.__init__() missing 1 required positional argument: 'a'",
     "output_type": "error",
     "traceback": [
      "\u001b[1;31m---------------------------------------------------------------------------\u001b[0m",
      "\u001b[1;31mTypeError\u001b[0m                                 Traceback (most recent call last)",
      "Cell \u001b[1;32mIn[24], line 1\u001b[0m\n\u001b[1;32m----> 1\u001b[0m forma \u001b[38;5;241m=\u001b[39m \u001b[43mFigura\u001b[49m\u001b[43m(\u001b[49m\u001b[43m)\u001b[49m \u001b[38;5;66;03m# falta un argumento \u001b[39;00m\n",
      "\u001b[1;31mTypeError\u001b[0m: Figura.__init__() missing 1 required positional argument: 'a'"
     ]
    }
   ],
   "source": [
    "forma = Figura() # falta un argumento "
   ]
  },
  {
   "cell_type": "code",
   "execution_count": 25,
   "id": "c4499c18",
   "metadata": {},
   "outputs": [],
   "source": [
    "forma = Figura('figura1')"
   ]
  },
  {
   "cell_type": "code",
   "execution_count": 26,
   "id": "a1f8cc6b",
   "metadata": {},
   "outputs": [
    {
     "data": {
      "text/plain": [
       "<__main__.Figura at 0x14615324650>"
      ]
     },
     "execution_count": 26,
     "metadata": {},
     "output_type": "execute_result"
    }
   ],
   "source": [
    "forma"
   ]
  },
  {
   "cell_type": "markdown",
   "id": "b7dd17a7",
   "metadata": {},
   "source": [
    "Los métodos son como funciones, necesitan tener un argumento convenientemente llamado <b>self</b>, que se refiere al objeto del método que está siendo llamado. Date cuenta que en una llamada al método, no necesitamos pasar self como un argumento, Python se encargará de eso por nosotros. Si no ponemos self como argumento, Python arrojará un error."
   ]
  },
  {
   "cell_type": "code",
   "execution_count": 27,
   "id": "dfa78745",
   "metadata": {},
   "outputs": [],
   "source": [
    "#Definición de clases en python \n",
    "class Rectangulo(Figura):\n",
    "    def __init__(self,x,y, a): # constructor\n",
    "        self.x = x #creación de parámetros internos\n",
    "        self.y = y\n",
    "        Figura.__init__(self,a)\n",
    "        \n",
    "    autor = \"anonimo\" # creación de parámetros de forma external al constructor\n",
    "    descripcion=\"esto es un rectangulo\"\n",
    "    \n",
    "    def area(self):\n",
    "        return self.x*self.y\n",
    "    \n",
    "    def perimetro(self):\n",
    "        return 2*self.x*self.y\n",
    "    \n",
    "    def cambio_descripcion(self, text):\n",
    "        self.descripcion=text"
   ]
  },
  {
   "cell_type": "code",
   "execution_count": 38,
   "id": "4d25e6f3",
   "metadata": {},
   "outputs": [
    {
     "name": "stdout",
     "output_type": "stream",
     "text": [
      "3150\n"
     ]
    }
   ],
   "source": [
    "# si modificamos la clase, tenemos que volver a instanciar los objetos creados\n",
    "# para que reciban los cambios\n",
    "\n",
    "rectangulo1 = Rectangulo(90,35,1)\n",
    "rectangulo2 = Rectangulo(20,11,2)\n",
    "print(rectangulo1.area())"
   ]
  },
  {
   "cell_type": "code",
   "execution_count": 28,
   "id": "14c1cf67",
   "metadata": {},
   "outputs": [
    {
     "name": "stdout",
     "output_type": "stream",
     "text": [
      "esto es un rectangulo\n",
      "Rectangulo de juguete\n"
     ]
    }
   ],
   "source": [
    "print(rectangulo1.descripcion)\n",
    "rectangulo1.cambio_descripcion(\"Rectangulo de juguete\")\n",
    "print(rectangulo1.descripcion)"
   ]
  },
  {
   "cell_type": "code",
   "execution_count": 33,
   "id": "6cf63c12",
   "metadata": {},
   "outputs": [
    {
     "name": "stdout",
     "output_type": "stream",
     "text": [
      "220\n"
     ]
    }
   ],
   "source": [
    "print(rectangulo2.area())"
   ]
  },
  {
   "cell_type": "code",
   "execution_count": 39,
   "id": "59374a5b",
   "metadata": {},
   "outputs": [
    {
     "name": "stdout",
     "output_type": "stream",
     "text": [
      "1\n",
      "2\n"
     ]
    }
   ],
   "source": [
    "print(rectangulo1.name)\n",
    "print(rectangulo2.name)"
   ]
  },
  {
   "cell_type": "markdown",
   "id": "220f514a",
   "metadata": {},
   "source": [
    "## Miembros privados\n",
    "\n",
    "Python no tiene miembros privados, pero existe una convención para tratar como privados los miembros que empiezan por _"
   ]
  },
  {
   "cell_type": "code",
   "execution_count": 41,
   "id": "a52c93c6",
   "metadata": {},
   "outputs": [],
   "source": [
    "class Rectangulo2:\n",
    "    def __init__(self,x,y): # constructor\n",
    "        self.x = x #creación de parámetros internos\n",
    "        self.y = y\n",
    "    \n",
    "    _autor = \"anonimo\" # creación de parámetros de forma externa al constructor y privado\n",
    "    _descripcion= \"esto es un rectangulo\"\n",
    "    \n",
    "    def area(self):\n",
    "        return self.x*self.y\n",
    "    \n",
    "    def perimetro(self):\n",
    "        return 2*self.x*self.y\n",
    "    \n",
    "    def descripción(self,text):\n",
    "        self._descripcion=text\n",
    "    \n",
    "    def _privateMethod(self):\n",
    "        print('Este método debería no llamarse desde afuera')"
   ]
  },
  {
   "cell_type": "code",
   "execution_count": 45,
   "id": "b9c18895",
   "metadata": {},
   "outputs": [
    {
     "name": "stdout",
     "output_type": "stream",
     "text": [
      "Este método debería no llamarse desde afuera\n"
     ]
    }
   ],
   "source": [
    "rec = Rectangulo2(1,2)\n",
    "rec._privateMethod()"
   ]
  },
  {
   "cell_type": "code",
   "execution_count": 46,
   "id": "6fbe127d",
   "metadata": {},
   "outputs": [
    {
     "data": {
      "text/plain": [
       "['__class__',\n",
       " '__delattr__',\n",
       " '__dict__',\n",
       " '__dir__',\n",
       " '__doc__',\n",
       " '__eq__',\n",
       " '__format__',\n",
       " '__ge__',\n",
       " '__getattribute__',\n",
       " '__getstate__',\n",
       " '__gt__',\n",
       " '__hash__',\n",
       " '__init__',\n",
       " '__init_subclass__',\n",
       " '__le__',\n",
       " '__lt__',\n",
       " '__module__',\n",
       " '__ne__',\n",
       " '__new__',\n",
       " '__reduce__',\n",
       " '__reduce_ex__',\n",
       " '__repr__',\n",
       " '__setattr__',\n",
       " '__sizeof__',\n",
       " '__str__',\n",
       " '__subclasshook__',\n",
       " '__weakref__',\n",
       " '_autor',\n",
       " '_descripcion',\n",
       " '_privateMethod',\n",
       " 'area',\n",
       " 'descripción',\n",
       " 'perimetro',\n",
       " 'x',\n",
       " 'y']"
      ]
     },
     "execution_count": 46,
     "metadata": {},
     "output_type": "execute_result"
    }
   ],
   "source": [
    "dir(rec)"
   ]
  },
  {
   "cell_type": "code",
   "execution_count": 34,
   "id": "b0bb8bd9",
   "metadata": {},
   "outputs": [
    {
     "data": {
      "text/plain": [
       "2"
      ]
     },
     "execution_count": 34,
     "metadata": {},
     "output_type": "execute_result"
    }
   ],
   "source": [
    "rec.area()"
   ]
  },
  {
   "cell_type": "code",
   "execution_count": 35,
   "id": "2503a642",
   "metadata": {},
   "outputs": [
    {
     "data": {
      "text/plain": [
       "4"
      ]
     },
     "execution_count": 35,
     "metadata": {},
     "output_type": "execute_result"
    }
   ],
   "source": [
    "rec.perimetro()"
   ]
  },
  {
   "cell_type": "markdown",
   "id": "517f781f",
   "metadata": {},
   "source": [
    "## Un ejemplo más:\n",
    "\n",
    "Vamos a ver el comportamiento de los \"métodos mágicos\""
   ]
  },
  {
   "cell_type": "code",
   "execution_count": 68,
   "id": "e23ef190",
   "metadata": {},
   "outputs": [],
   "source": [
    "def mcd(m,n):\n",
    "    while m%n != 0:\n",
    "        mViejo = m\n",
    "        nViejo = n\n",
    "        \n",
    "        m = nViejo\n",
    "        n = mViejo%nViejo\n",
    "    return n"
   ]
  },
  {
   "cell_type": "code",
   "execution_count": 80,
   "id": "3a4b93f2",
   "metadata": {},
   "outputs": [
    {
     "data": {
      "text/plain": [
       "24"
      ]
     },
     "execution_count": 80,
     "metadata": {},
     "output_type": "execute_result"
    }
   ],
   "source": [
    "24%36"
   ]
  },
  {
   "cell_type": "code",
   "execution_count": 81,
   "id": "10d6fd7f",
   "metadata": {},
   "outputs": [
    {
     "data": {
      "text/plain": [
       "12"
      ]
     },
     "execution_count": 81,
     "metadata": {},
     "output_type": "execute_result"
    }
   ],
   "source": [
    "24%36"
   ]
  },
  {
   "cell_type": "code",
   "execution_count": null,
   "id": "88c6e4e5",
   "metadata": {},
   "outputs": [],
   "source": [
    "mviejo=24\n",
    "nviejo=36"
   ]
  },
  {
   "cell_type": "code",
   "execution_count": null,
   "id": "c505cfd0",
   "metadata": {},
   "outputs": [],
   "source": [
    "m = 36\n",
    "n = 36%24 "
   ]
  },
  {
   "cell_type": "code",
   "execution_count": 89,
   "id": "cf0d16ef",
   "metadata": {},
   "outputs": [
    {
     "data": {
      "text/plain": [
       "0"
      ]
     },
     "execution_count": 89,
     "metadata": {},
     "output_type": "execute_result"
    }
   ],
   "source": [
    "36%12"
   ]
  },
  {
   "cell_type": "code",
   "execution_count": null,
   "metadata": {},
   "outputs": [],
   "source": []
  },
  {
   "cell_type": "code",
   "execution_count": 83,
   "id": "1ccf8f65",
   "metadata": {},
   "outputs": [
    {
     "data": {
      "text/plain": [
       "0"
      ]
     },
     "execution_count": 83,
     "metadata": {},
     "output_type": "execute_result"
    }
   ],
   "source": [
    "24%12"
   ]
  },
  {
   "cell_type": "code",
   "execution_count": 85,
   "id": "f4c652fb",
   "metadata": {},
   "outputs": [
    {
     "data": {
      "text/plain": [
       "12"
      ]
     },
     "execution_count": 85,
     "metadata": {},
     "output_type": "execute_result"
    }
   ],
   "source": [
    "mcd(36,24)"
   ]
  },
  {
   "cell_type": "code",
   "execution_count": 70,
   "id": "f0e0e6fc",
   "metadata": {},
   "outputs": [
    {
     "data": {
      "text/plain": [
       "3"
      ]
     },
     "execution_count": 70,
     "metadata": {},
     "output_type": "execute_result"
    }
   ],
   "source": [
    "3%32"
   ]
  },
  {
   "cell_type": "code",
   "execution_count": 72,
   "id": "06ea5a69",
   "metadata": {},
   "outputs": [
    {
     "data": {
      "text/plain": [
       "2"
      ]
     },
     "execution_count": 72,
     "metadata": {},
     "output_type": "execute_result"
    }
   ],
   "source": [
    "32%3"
   ]
  },
  {
   "cell_type": "code",
   "execution_count": 73,
   "id": "91a8d957",
   "metadata": {},
   "outputs": [
    {
     "data": {
      "text/plain": [
       "0"
      ]
     },
     "execution_count": 73,
     "metadata": {},
     "output_type": "execute_result"
    }
   ],
   "source": [
    "2%2"
   ]
  },
  {
   "cell_type": "code",
   "execution_count": 74,
   "id": "ba10f09a",
   "metadata": {},
   "outputs": [
    {
     "data": {
      "text/plain": [
       "2"
      ]
     },
     "execution_count": 74,
     "metadata": {},
     "output_type": "execute_result"
    }
   ],
   "source": [
    "mcd(2,2)"
   ]
  },
  {
   "cell_type": "code",
   "execution_count": 58,
   "id": "a99b30b3",
   "metadata": {},
   "outputs": [
    {
     "data": {
      "text/plain": [
       "8"
      ]
     },
     "execution_count": 58,
     "metadata": {},
     "output_type": "execute_result"
    }
   ],
   "source": [
    "mcd(32,8)"
   ]
  },
  {
   "cell_type": "code",
   "execution_count": 53,
   "id": "0f4b326f",
   "metadata": {},
   "outputs": [
    {
     "data": {
      "text/plain": [
       "9"
      ]
     },
     "execution_count": 53,
     "metadata": {},
     "output_type": "execute_result"
    }
   ],
   "source": [
    "mcd(18,9)"
   ]
  },
  {
   "cell_type": "code",
   "execution_count": 109,
   "id": "2f709f86",
   "metadata": {},
   "outputs": [],
   "source": [
    "class Fraccion:\n",
    "    def __init__(self,arriba,abajo):\n",
    "        self.num = arriba\n",
    "        self.den = abajo\n",
    "    def __str__(self):\n",
    "        return str(self.num)+\"/\"+str(self.den)    #__str__ permite que print funcione sobre los objetos\n",
    "    \n",
    "    def show(self):\n",
    "        print(self.num,\"/\",self.den)\n",
    "    \n",
    "    def __add__(self,otraFraccion):      #define el comportamiento del operador +\n",
    "        nuevoNum = self.num*otraFraccion.den + \\\n",
    "                     self.den*otraFraccion.num\n",
    "        nuevoDen = self.den * otraFraccion.den\n",
    "        comun = mcd(nuevoNum,nuevoDen)\n",
    "        return Fraccion(nuevoNum//comun,nuevoDen//comun)\n",
    "        \n",
    "    # otros métodos de operacionesse pueden realizar para la substracción (__sub__)\n",
    "    # para la multiplicación (__mul__) y división (__truediv__)\n",
    "    \n",
    "    # implementación de métodos \"mágicos\" que permiten hacer comparaciones\n",
    "    def __eq__(self, otro):             # define el comportamiento de la igualdad (==)\n",
    "        primerNum = self.num * otro.den\n",
    "        segundoNum = otro.num * self.den\n",
    "        return primerNum == segundoNum\n",
    "    def __gt__(self, otro):             #define el comportamiento del mayor que (>)\n",
    "        primerNum = self.num * otro.den\n",
    "        segundoNum = otro.num * self.den\n",
    "        return primerNum > segundoNum\n",
    "    def __ge__(self, otro):             #define el comportamiento del mayor o igual que (>=)\n",
    "        primerNum = otro.num * otro.den\n",
    "        segundoNum = otro.num * self.den\n",
    "        return primerNum >= segundoNum\n",
    "    def __le__(self, otro):             #define el comportamiento del mayor o igual que (<=)\n",
    "        primerNum = otro.num * otro.den\n",
    "        segundoNum = otro.num * self.den\n",
    "        return primerNum <= segundoNum\n",
    "        "
   ]
  },
  {
   "cell_type": "code",
   "execution_count": 93,
   "id": "d3e67b22",
   "metadata": {},
   "outputs": [
    {
     "name": "stdout",
     "output_type": "stream",
     "text": [
      "1 / 2\n",
      "3 / 4\n"
     ]
    }
   ],
   "source": [
    "x = Fraccion(1,2)\n",
    "y = Fraccion(3,4)\n",
    "\n",
    "x.show()\n",
    "y.show()"
   ]
  },
  {
   "cell_type": "code",
   "execution_count": 94,
   "id": "e1493636",
   "metadata": {},
   "outputs": [
    {
     "name": "stdout",
     "output_type": "stream",
     "text": [
      "1/2\n"
     ]
    }
   ],
   "source": [
    "print(x)"
   ]
  },
  {
   "cell_type": "code",
   "execution_count": 95,
   "id": "753e591f",
   "metadata": {},
   "outputs": [
    {
     "name": "stdout",
     "output_type": "stream",
     "text": [
      "5/4\n"
     ]
    }
   ],
   "source": [
    "print(x+y) #convoca al metodo __add__"
   ]
  },
  {
   "cell_type": "code",
   "execution_count": 96,
   "id": "4647b257",
   "metadata": {},
   "outputs": [
    {
     "name": "stdout",
     "output_type": "stream",
     "text": [
      "False\n",
      "False\n"
     ]
    }
   ],
   "source": [
    "print(x == y) # convoca al metodo __eq__\n",
    "print(x > y) # convoca al metodo __gt__"
   ]
  },
  {
   "cell_type": "code",
   "execution_count": 97,
   "id": "3bf3aa48",
   "metadata": {},
   "outputs": [
    {
     "name": "stdout",
     "output_type": "stream",
     "text": [
      "True\n"
     ]
    }
   ],
   "source": [
    "print(x < y) # crea una contraparte __lt__"
   ]
  },
  {
   "cell_type": "code",
   "execution_count": 98,
   "id": "bb0fb0c2",
   "metadata": {},
   "outputs": [
    {
     "name": "stdout",
     "output_type": "stream",
     "text": [
      "True\n"
     ]
    }
   ],
   "source": [
    "print(x >= y ) # convoca al método __ge__"
   ]
  },
  {
   "cell_type": "code",
   "execution_count": 110,
   "id": "37992e9f",
   "metadata": {},
   "outputs": [
    {
     "name": "stdout",
     "output_type": "stream",
     "text": [
      "True\n"
     ]
    }
   ],
   "source": [
    "print(x < y) #convoca al método __le__\n"
   ]
  },
  {
   "cell_type": "markdown",
   "id": "4119767a",
   "metadata": {},
   "source": [
    "Ejemplo con otras fracciones:"
   ]
  },
  {
   "cell_type": "code",
   "execution_count": 112,
   "id": "8f8d8b6e",
   "metadata": {},
   "outputs": [
    {
     "name": "stdout",
     "output_type": "stream",
     "text": [
      "2 / 5\n",
      "5 / 2\n"
     ]
    }
   ],
   "source": [
    "x = Fraccion(2,5)\n",
    "y = Fraccion(5,2)\n",
    "\n",
    "x.show()\n",
    "y.show()"
   ]
  },
  {
   "cell_type": "code",
   "execution_count": 113,
   "id": "1c69b358",
   "metadata": {},
   "outputs": [
    {
     "name": "stdout",
     "output_type": "stream",
     "text": [
      "29/10\n"
     ]
    }
   ],
   "source": [
    "print(x+y)    #convoca al metodo __add__"
   ]
  },
  {
   "cell_type": "code",
   "execution_count": 114,
   "id": "b2aaa4a2",
   "metadata": {},
   "outputs": [
    {
     "name": "stdout",
     "output_type": "stream",
     "text": [
      "False\n",
      "False\n"
     ]
    }
   ],
   "source": [
    "print(x == y) # convoca al metodo __eq__\n",
    "print(x > y) # convoca al metodo __gt__"
   ]
  },
  {
   "cell_type": "code",
   "execution_count": 115,
   "id": "e247d9d8",
   "metadata": {},
   "outputs": [
    {
     "name": "stdout",
     "output_type": "stream",
     "text": [
      "True\n"
     ]
    }
   ],
   "source": [
    "print(x < y) # crea una contraparte __lt__"
   ]
  },
  {
   "cell_type": "code",
   "execution_count": 116,
   "id": "edc05a63",
   "metadata": {},
   "outputs": [
    {
     "name": "stdout",
     "output_type": "stream",
     "text": [
      "False\n"
     ]
    }
   ],
   "source": [
    "print(x >= y ) # convoca al método __ge__"
   ]
  },
  {
   "cell_type": "markdown",
   "id": "a671bbb2",
   "metadata": {},
   "source": [
    "<b>Otro ejemplo:</b>"
   ]
  },
  {
   "cell_type": "code",
   "execution_count": 119,
   "id": "7120ad77",
   "metadata": {},
   "outputs": [],
   "source": [
    "class Ejemplo:\n",
    "    __atributo_privado = \"Soy un atributo inalcanzable desde afuera.\"\n",
    "    \n",
    "    def __metodo_privado(self):\n",
    "        print(\"Soy un método inalcanzable desde afuera.\")\n",
    "        \n",
    "    def atributo_publico(self):\n",
    "        return self.__atributo_privado\n",
    "    \n",
    "    def metodo_publico(self):\n",
    "        return self.__metodo_privado()\n",
    "    "
   ]
  },
  {
   "cell_type": "code",
   "execution_count": 122,
   "id": "03ff08b2",
   "metadata": {},
   "outputs": [
    {
     "name": "stdout",
     "output_type": "stream",
     "text": [
      "Soy un atributo inalcanzable desde afuera.\n",
      "Soy un método inalcanzable desde afuera.\n"
     ]
    }
   ],
   "source": [
    "e = Ejemplo()\n",
    "print(e.atributo_publico())\n",
    "e.metodo_publico()"
   ]
  },
  {
   "cell_type": "markdown",
   "id": "62b2facd",
   "metadata": {},
   "source": [
    "### Ejemplo 2:\n",
    "\n",
    "Implementemos la clase Punto:"
   ]
  },
  {
   "cell_type": "code",
   "execution_count": 123,
   "id": "cf1c587f",
   "metadata": {},
   "outputs": [],
   "source": [
    "class Punto():\n",
    "    def __init__(self,x,y):\n",
    "        self.x = x\n",
    "        self.y = y\n",
    "        \n",
    "    def __add__(self,p):\n",
    "        x2 = self.x + p.x\n",
    "        y2 = self.y + p.y\n",
    "        z = Punto(x2, y2)\n",
    "        return z\n",
    "    \n",
    "    def __str__(self):\n",
    "        return \"(\"+str(self.x)+\",\"+str(self.y)+\")\"\n",
    "    \n",
    "    def distancia(self,otro):\n",
    "        x_new = pow(self.x - otro.x,2)\n",
    "        y_new = pow(self.y - otro.y,2)\n",
    "        dist = pow(x_new + y_new, 1/2)\n",
    "        return dist \n",
    "    \n",
    "    #crear la clase módulo y suma de puntos "
   ]
  },
  {
   "cell_type": "code",
   "execution_count": 127,
   "id": "634f924c",
   "metadata": {},
   "outputs": [],
   "source": [
    " punto1 = Punto(1,1)\n",
    " punto2 = Punto(2,2)"
   ]
  },
  {
   "cell_type": "code",
   "execution_count": 128,
   "id": "4a3fa506",
   "metadata": {},
   "outputs": [
    {
     "name": "stdout",
     "output_type": "stream",
     "text": [
      "(1,1)\n"
     ]
    }
   ],
   "source": [
    "print(punto1)"
   ]
  },
  {
   "cell_type": "code",
   "execution_count": 129,
   "id": "0739484e",
   "metadata": {},
   "outputs": [
    {
     "name": "stdout",
     "output_type": "stream",
     "text": [
      "(3,3)\n"
     ]
    }
   ],
   "source": [
    "print(punto1+punto2)"
   ]
  },
  {
   "cell_type": "code",
   "execution_count": 134,
   "id": "0c17c94f",
   "metadata": {},
   "outputs": [
    {
     "data": {
      "text/plain": [
       "1.4142135623730951"
      ]
     },
     "execution_count": 134,
     "metadata": {},
     "output_type": "execute_result"
    }
   ],
   "source": [
    "punto2.distancia(punto1)"
   ]
  },
  {
   "cell_type": "markdown",
   "id": "64b528e1",
   "metadata": {},
   "source": [
    "### Getter y Setter"
   ]
  },
  {
   "cell_type": "code",
   "execution_count": 141,
   "id": "23cec19c",
   "metadata": {},
   "outputs": [],
   "source": [
    "class Alumno:\n",
    "    \n",
    "    def __init__(self, nombre, codigo, correo):\n",
    "        self.nombre = nombre \n",
    "        self.codigo = codigo\n",
    "        self.correo = correo\n",
    "    \n",
    "    #Método para consultar el valor de un atributo en particular \n",
    "    \n",
    "    def getCorreo(self):\n",
    "        return self.correo\n",
    "    \n",
    "    #Método para actualizar el valor de una tributo en particular\n",
    "    \n",
    "    def setCorreo(self, nuevo_correo):\n",
    "        self.correo = nuevo_correo"
   ]
  },
  {
   "cell_type": "code",
   "execution_count": 142,
   "id": "c7772f16",
   "metadata": {},
   "outputs": [],
   "source": [
    "a1 = Alumno('jair', '01', 'jair@gamil.com')"
   ]
  },
  {
   "cell_type": "code",
   "execution_count": 143,
   "id": "7e56a05e",
   "metadata": {},
   "outputs": [
    {
     "data": {
      "text/plain": [
       "'jair@gamil.com'"
      ]
     },
     "execution_count": 143,
     "metadata": {},
     "output_type": "execute_result"
    }
   ],
   "source": [
    "a1.correo"
   ]
  },
  {
   "cell_type": "code",
   "execution_count": 144,
   "id": "5603b79e",
   "metadata": {},
   "outputs": [
    {
     "data": {
      "text/plain": [
       "'jair@gamil.com'"
      ]
     },
     "execution_count": 144,
     "metadata": {},
     "output_type": "execute_result"
    }
   ],
   "source": [
    "a1.getCorreo()"
   ]
  },
  {
   "cell_type": "code",
   "execution_count": 137,
   "id": "e278634e",
   "metadata": {},
   "outputs": [],
   "source": [
    "a1.setCorreo('loayza@gmail.com')"
   ]
  },
  {
   "cell_type": "code",
   "execution_count": 135,
   "id": "c47de9ef",
   "metadata": {},
   "outputs": [
    {
     "data": {
      "text/plain": [
       "'loayza@gmail.com'"
      ]
     },
     "execution_count": 135,
     "metadata": {},
     "output_type": "execute_result"
    }
   ],
   "source": [
    "a1.getCorreo()"
   ]
  },
  {
   "cell_type": "markdown",
   "id": "befb3117",
   "metadata": {},
   "source": [
    "#### Ejemplo 3:\n",
    "\n",
    "Un ejemplo sobre un <b>catálogo de películas:</b>"
   ]
  },
  {
   "cell_type": "code",
   "execution_count": 145,
   "id": "cd2ea587",
   "metadata": {},
   "outputs": [],
   "source": [
    "class Pelicula:\n",
    "    \n",
    "    #Constructor de clase \n",
    "    def __init__(self, titulo, duracion, lanzamiento):\n",
    "        self.titulo = titulo\n",
    "        self.duracion = duracion\n",
    "        self.lanzamiento = lanzamiento\n",
    "        print('Se ha creado la película:', self.titulo)\n",
    "        \n",
    "    def __str__(self):\n",
    "        return '{} ({})'.format(self.titulo, self.lanzamiento)\n",
    "    \n",
    "class Catalogo:\n",
    "    peliculas = [] # Esta lista contendrá objetos de la clase Pelicula\n",
    "    \n",
    "    def __init__(self, peliculas=[]):\n",
    "        self.peliculas = peliculas\n",
    "        \n",
    "    def agregar(self, p): # p será un objeto Pelicula\n",
    "        self.peliculas.append(p)\n",
    "        \n",
    "    def mostrar(self):\n",
    "        for p in self.peliculas:\n",
    "            print(p) #Print toma por defecto str(p)"
   ]
  },
  {
   "cell_type": "code",
   "execution_count": 146,
   "id": "826b8de7",
   "metadata": {},
   "outputs": [
    {
     "name": "stdout",
     "output_type": "stream",
     "text": [
      "Se ha creado la película: El Padrino\n",
      "El Padrino (1972)\n"
     ]
    }
   ],
   "source": [
    "p = Pelicula(\"El Padrino\", 175, 1972)\n",
    "print(p)"
   ]
  },
  {
   "cell_type": "code",
   "execution_count": 147,
   "id": "1aad702f",
   "metadata": {},
   "outputs": [
    {
     "name": "stdout",
     "output_type": "stream",
     "text": [
      "El Padrino (1972)\n",
      "Se ha creado la película: El Padrino: Parte 2\n",
      "El Padrino (1972)\n",
      "El Padrino: Parte 2 (1974)\n"
     ]
    }
   ],
   "source": [
    "c = Catalogo([p]) # Añado una lista con una película desde el principio\n",
    "c.mostrar()\n",
    "c.agregar(Pelicula(\"El Padrino: Parte 2\", 202, 1974)) #Añadimos otra \n",
    "c.mostrar()"
   ]
  },
  {
   "cell_type": "markdown",
   "id": "33598e19",
   "metadata": {},
   "source": [
    "<b>Ejemplo 4:</b>\n",
    "\n",
    "Listado de clientes en una empresa:"
   ]
  },
  {
   "cell_type": "code",
   "execution_count": 148,
   "id": "f1a018a1",
   "metadata": {},
   "outputs": [],
   "source": [
    "clientes = [\n",
    "    {'Nombre':'Hector','Apellidos':'Costa Guzman', 'dni':'11111111A'},\n",
    "    {'Nombre':'Juan','Apellidos':'Gonzalez Márquez', 'dni':'22222222B'},\n",
    "    {'Nombre': 'Rosa', 'Apellidos':'Perez Quispe', 'dni':'33333333C'}\n",
    "     ]"
   ]
  },
  {
   "cell_type": "code",
   "execution_count": 149,
   "id": "4c5dd1e5",
   "metadata": {},
   "outputs": [
    {
     "data": {
      "text/plain": [
       "[{'Nombre': 'Hector', 'Apellidos': 'Costa Guzman', 'dni': '11111111A'},\n",
       " {'Nombre': 'Juan', 'Apellidos': 'Gonzalez Márquez', 'dni': '22222222B'},\n",
       " {'Nombre': 'Rosa', 'Apellidos': 'Perez Quispe', 'dni': '33333333C'}]"
      ]
     },
     "execution_count": 149,
     "metadata": {},
     "output_type": "execute_result"
    }
   ],
   "source": [
    "clientes"
   ]
  },
  {
   "cell_type": "code",
   "execution_count": 150,
   "id": "8287973c",
   "metadata": {},
   "outputs": [],
   "source": [
    "# Creo una estructura para los clientes\n",
    "class Cliente:  \n",
    "    \n",
    "    def __init__(self, dni, nombre, apellidos):\n",
    "        self.dni = dni \n",
    "        self.nombre = nombre\n",
    "        self.apellidos = apellidos\n",
    "    \n",
    "    def __str__(self):\n",
    "        return '{}{}'.format(self.nombre, self.apellidos)\n",
    "    \n",
    "# Y otra para las empresas\n",
    "class Empresa: \n",
    "    \n",
    "    def __init__(self, clientes=[]):\n",
    "        self.clientes = clientes\n",
    "        \n",
    "    def mostrar_cliente(self, dni=None):\n",
    "        for c in self.clientes:\n",
    "            if c.dni == dni:\n",
    "                print(c)\n",
    "                return \n",
    "        print(\"Cliente no encontrado\")\n",
    "        \n",
    "    def borrar_cliente(self, dni=None):\n",
    "        for i,c in enumerate(self.clientes):\n",
    "            if c.dni == dni: \n",
    "                del(self.clientes[i])\n",
    "                print(str(c),\"> BORRADO\")\n",
    "                return\n",
    "        print(\"Cliente no encontrado\")"
   ]
  },
  {
   "cell_type": "code",
   "execution_count": 151,
   "id": "79caf3ea",
   "metadata": {},
   "outputs": [
    {
     "data": {
      "text/plain": [
       "[{'Nombre': 'Hector', 'Apellidos': 'Costa Guzman', 'dni': '11111111A'},\n",
       " {'Nombre': 'Juan', 'Apellidos': 'Gonzalez Márquez', 'dni': '22222222B'},\n",
       " {'Nombre': 'Rosa', 'Apellidos': 'Perez Quispe', 'dni': '33333333C'}]"
      ]
     },
     "execution_count": 151,
     "metadata": {},
     "output_type": "execute_result"
    }
   ],
   "source": [
    "clientes"
   ]
  },
  {
   "cell_type": "code",
   "execution_count": 152,
   "id": "7839c570",
   "metadata": {},
   "outputs": [],
   "source": [
    "# Creo un par de clientes\n",
    "hector = Cliente(nombre=\"Hector\", apellidos=\"Costa Guzman\", dni= \"11111111A\")\n",
    "juan = Cliente(\"22222222B\", \"Juan\", \"Gonzales Marquez\")\n",
    "rosa = Cliente(\"33333333C\", \"Rosa\", \"Perez Quispe\")"
   ]
  },
  {
   "cell_type": "code",
   "execution_count": 153,
   "id": "a77f3537",
   "metadata": {},
   "outputs": [],
   "source": [
    "# Creo una empresa con los clientes iniciales\n",
    "empresa = Empresa(clientes=[hector, juan, rosa])"
   ]
  },
  {
   "cell_type": "code",
   "execution_count": 154,
   "id": "009eb97b",
   "metadata": {},
   "outputs": [
    {
     "data": {
      "text/plain": [
       "<__main__.Empresa at 0x14615d6d590>"
      ]
     },
     "execution_count": 154,
     "metadata": {},
     "output_type": "execute_result"
    }
   ],
   "source": [
    "empresa"
   ]
  },
  {
   "cell_type": "code",
   "execution_count": 155,
   "id": "57ddc3ac",
   "metadata": {},
   "outputs": [
    {
     "name": "stdout",
     "output_type": "stream",
     "text": [
      "==CANTIDAD DE CLIENTES==\n"
     ]
    },
    {
     "data": {
      "text/plain": [
       "3"
      ]
     },
     "execution_count": 155,
     "metadata": {},
     "output_type": "execute_result"
    }
   ],
   "source": [
    "# Muestro todos los clientes \n",
    "print(\"==CANTIDAD DE CLIENTES==\")\n",
    "len(empresa.clientes)"
   ]
  },
  {
   "cell_type": "code",
   "execution_count": 163,
   "id": "da97c522",
   "metadata": {},
   "outputs": [
    {
     "name": "stdout",
     "output_type": "stream",
     "text": [
      "\n",
      "==MOSTRAR CLIENTES POR DNI==\n",
      "HectorCosta Guzman\n",
      "Cliente no encontrado\n"
     ]
    }
   ],
   "source": [
    "print(\"\\n==MOSTRAR CLIENTES POR DNI==\")\n",
    "# Consulto clientes por DNI\n",
    "empresa.mostrar_cliente(\"11111111A\")\n",
    "empresa.mostrar_cliente(\"11111111Z\")"
   ]
  },
  {
   "cell_type": "code",
   "execution_count": 156,
   "id": "d2657205",
   "metadata": {},
   "outputs": [
    {
     "name": "stdout",
     "output_type": "stream",
     "text": [
      "\n",
      "==BORRAR CLIENTES POR DNI==\n",
      "Cliente no encontrado\n",
      "JuanGonzales Marquez > BORRADO\n"
     ]
    }
   ],
   "source": [
    "print(\"\\n==BORRAR CLIENTES POR DNI==\")\n",
    "# Borro un cliente por DNI\n",
    "empresa.borrar_cliente(\"22222222V\")\n",
    "empresa.borrar_cliente(\"22222222B\")"
   ]
  },
  {
   "cell_type": "code",
   "execution_count": 157,
   "id": "0f2dc1a4",
   "metadata": {},
   "outputs": [
    {
     "name": "stdout",
     "output_type": "stream",
     "text": [
      "\n",
      "==CANTIDAD DE CLIENTES==\n"
     ]
    },
    {
     "data": {
      "text/plain": [
       "2"
      ]
     },
     "execution_count": 157,
     "metadata": {},
     "output_type": "execute_result"
    }
   ],
   "source": [
    "# Muestro de nuevo todos los clientes\n",
    "print(\"\\n==CANTIDAD DE CLIENTES==\")\n",
    "len(empresa.clientes)"
   ]
  },
  {
   "cell_type": "code",
   "execution_count": 158,
   "id": "1441995e",
   "metadata": {},
   "outputs": [
    {
     "name": "stdout",
     "output_type": "stream",
     "text": [
      "\n",
      "==MOSTRAR CLIENTES POR DNI==\n",
      "Cliente no encontrado\n"
     ]
    }
   ],
   "source": [
    "print(\"\\n==MOSTRAR CLIENTES POR DNI==\")\n",
    "# Consulto clientes por DNI\n",
    "empresa.mostrar_cliente(\"11111111B\")"
   ]
  },
  {
   "cell_type": "code",
   "execution_count": null,
   "id": "530f8e26",
   "metadata": {},
   "outputs": [],
   "source": []
  },
  {
   "cell_type": "code",
   "execution_count": null,
   "id": "2beac206",
   "metadata": {},
   "outputs": [],
   "source": []
  }
 ],
 "metadata": {
  "kernelspec": {
   "display_name": "Python 3 (ipykernel)",
   "language": "python",
   "name": "python3"
  },
  "language_info": {
   "codemirror_mode": {
    "name": "ipython",
    "version": 3
   },
   "file_extension": ".py",
   "mimetype": "text/x-python",
   "name": "python",
   "nbconvert_exporter": "python",
   "pygments_lexer": "ipython3",
   "version": "3.11.5"
  }
 },
 "nbformat": 4,
 "nbformat_minor": 5
}
