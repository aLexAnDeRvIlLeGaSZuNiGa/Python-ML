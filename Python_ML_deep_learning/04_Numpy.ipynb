{
 "cells": [
  {
   "cell_type": "markdown",
   "metadata": {
    "id": "cgGK4UhRQCDM"
   },
   "source": [
    "# **Numpy**\n",
    "\n",
    "Sinonimo de *Numerical Python*, numpy es una librería que proporciona herramientas para trabajar con alto rendimiento sobre arreglos multidimensionales."
   ]
  },
  {
   "cell_type": "markdown",
   "metadata": {
    "id": "YG4zPC3XQtZ3"
   },
   "source": [
    "## Caracteristicas\n",
    "\n",
    "Dentro de las principales características de numpy se encuentran:\n",
    "\n",
    "<li>Ofrece un poderoso objeto para manipular arreglos multidimensionales: ndarray</li>\n",
    "<li>Posee herramientas para realizar operaciones matemáticas y lógicas para arreglos, operaciones relacionales con algebra lineal, transformadas de Fourier, entre otras.</li><br>\n",
    "Para importar los modulos de libreria numpy, por convención se utiliza:\n"
   ]
  },
  {
   "cell_type": "code",
   "execution_count": 6,
   "metadata": {
    "colab": {
     "base_uri": "https://localhost:8080/"
    },
    "id": "2sqhqYWgQLwk",
    "outputId": "793a3106-0b8d-458f-ddef-bc61900a8738"
   },
   "outputs": [
    {
     "name": "stdout",
     "output_type": "stream",
     "text": [
      "numpy version 1.24.3\n"
     ]
    }
   ],
   "source": [
    "#Importamos Numpy con el alias np\n",
    "import numpy as np\n",
    "print('numpy version',np.__version__)"
   ]
  },
  {
   "cell_type": "markdown",
   "metadata": {
    "id": "RXy5tNd9SJzm"
   },
   "source": [
    "# Es necesario?"
   ]
  },
  {
   "cell_type": "code",
   "execution_count": 7,
   "metadata": {
    "id": "9ocjoMBlSwfh"
   },
   "outputs": [],
   "source": [
    "distancia = [10, 15, 17, 26]\n",
    "tiempo = [0.3, 0.47, 0.55, 1.20]"
   ]
  },
  {
   "cell_type": "code",
   "execution_count": 8,
   "metadata": {
    "colab": {
     "base_uri": "https://localhost:8080/",
     "height": 165
    },
    "id": "7VKJ0E8kTJSN",
    "outputId": "7bd94aa3-e3e4-4eed-d9c9-34020c4cea7e"
   },
   "outputs": [
    {
     "ename": "TypeError",
     "evalue": "unsupported operand type(s) for /: 'list' and 'list'",
     "output_type": "error",
     "traceback": [
      "\u001b[1;31m---------------------------------------------------------------------------\u001b[0m",
      "\u001b[1;31mTypeError\u001b[0m                                 Traceback (most recent call last)",
      "Cell \u001b[1;32mIn[8], line 1\u001b[0m\n\u001b[1;32m----> 1\u001b[0m vels \u001b[38;5;241m=\u001b[39m \u001b[43mdistancia\u001b[49m\u001b[43m \u001b[49m\u001b[38;5;241;43m/\u001b[39;49m\u001b[43m \u001b[49m\u001b[43mtiempo\u001b[49m\n",
      "\u001b[1;31mTypeError\u001b[0m: unsupported operand type(s) for /: 'list' and 'list'"
     ]
    }
   ],
   "source": [
    "vels = distancia / tiempo"
   ]
  },
  {
   "cell_type": "code",
   "execution_count": 10,
   "metadata": {
    "colab": {
     "base_uri": "https://localhost:8080/"
    },
    "id": "YcqX7vBaXA1N",
    "outputId": "03982486-90d9-410c-c149-6c710e4a3ef8"
   },
   "outputs": [
    {
     "data": {
      "text/plain": [
       "[10, 15, 17, 26, 0.3, 0.47, 0.55, 1.2]"
      ]
     },
     "execution_count": 10,
     "metadata": {},
     "output_type": "execute_result"
    }
   ],
   "source": [
    "vels = distancia + tiempo #La suma concatenaba los elemtos sin numpy\n",
    "vels"
   ]
  },
  {
   "cell_type": "code",
   "execution_count": 11,
   "metadata": {
    "colab": {
     "base_uri": "https://localhost:8080/"
    },
    "id": "XHMuEFAjTL-M",
    "outputId": "cbee49f0-8915-426a-de65-106df2940410"
   },
   "outputs": [
    {
     "data": {
      "text/plain": [
       "[33.333333333333336,\n",
       " 31.914893617021278,\n",
       " 30.909090909090907,\n",
       " 21.666666666666668]"
      ]
     },
     "execution_count": 11,
     "metadata": {},
     "output_type": "execute_result"
    }
   ],
   "source": [
    "vel = []\n",
    "for d, t in zip(distancia, tiempo): #zip: manipular dos contadores para que hagan el recorrido en dos listas de manera paralela\n",
    "    vel.append(d/t) #append añade elementos a esa lista\n",
    "\n",
    "vel"
   ]
  },
  {
   "cell_type": "markdown",
   "metadata": {
    "id": "7-1cAZsuUq7M"
   },
   "source": [
    "# Arrays\n",
    "Las funcionalidades de numpy se basan en el objeto ndarray.\n",
    "Un ndarray , tambien conocido por el alias de array, es un arreglo N-dimensional con elementos del mismo tipo e indexado por una tupla de enteros positivos."
   ]
  },
  {
   "cell_type": "markdown",
   "metadata": {
    "id": "Z7RywceTVGgY"
   },
   "source": [
    "``a = numpy.array(data, dtype = None, ndmin = 0, ...)``"
   ]
  },
  {
   "cell_type": "markdown",
   "metadata": {
    "id": "RzNiNL52VSgu"
   },
   "source": [
    "<li>data: datos de mismo tipo en forma de matriz o una secuencia anidada.</li>\n",
    "<li>dtype (opcional): tipos de datos deseados con el arreglo.</li>\n",
    "<li>ndmin: especifica el numero minimo de dimensiones del arreglo resultante.</li>"
   ]
  },
  {
   "cell_type": "code",
   "execution_count": 16,
   "metadata": {
    "colab": {
     "base_uri": "https://localhost:8080/"
    },
    "id": "x6PNW5D9Vkq-",
    "outputId": "64011b98-6471-4d88-dae1-680ee64fe847"
   },
   "outputs": [
    {
     "data": {
      "text/plain": [
       "array([33.33333333, 31.91489362, 30.90909091, 21.66666667])"
      ]
     },
     "execution_count": 16,
     "metadata": {},
     "output_type": "execute_result"
    }
   ],
   "source": [
    "distancia2 = np.array([10, 15, 17, 26])\n",
    "tiempo2 = np.array([0.3, 0.47, 0.55, 1.20])\n",
    "vel2 = distancia2/tiempo2\n",
    "vel2"
   ]
  },
  {
   "cell_type": "code",
   "execution_count": 17,
   "metadata": {
    "colab": {
     "base_uri": "https://localhost:8080/"
    },
    "id": "-UZBI8zkX2K9",
    "outputId": "34d83ef2-99b7-40ed-ba72-2dfd9f1b73ee"
   },
   "outputs": [
    {
     "data": {
      "text/plain": [
       "array([33.33333333, 31.91489362, 30.90909091, 21.66666667])"
      ]
     },
     "execution_count": 17,
     "metadata": {},
     "output_type": "execute_result"
    }
   ],
   "source": [
    "distancia2 = np.array(distancia)\n",
    "tiempo2 = np.array(tiempo2)\n",
    "vel2 = distancia2/tiempo2\n",
    "vel2"
   ]
  },
  {
   "cell_type": "markdown",
   "metadata": {
    "id": "6q18MSpPWL4Q"
   },
   "source": [
    "Crea una lista y conviertela en una matriz numpy:"
   ]
  },
  {
   "cell_type": "code",
   "execution_count": 18,
   "metadata": {
    "id": "H7qhfdm7Y8AW"
   },
   "outputs": [],
   "source": [
    "x= [[0,1,2,3],[4,5,6,7], [1,2,3,4]]"
   ]
  },
  {
   "cell_type": "code",
   "execution_count": 19,
   "metadata": {
    "colab": {
     "base_uri": "https://localhost:8080/"
    },
    "id": "Kx3ZNGAfZBBE",
    "outputId": "cc653ecc-111f-4e45-b932-744ece32e3c1"
   },
   "outputs": [
    {
     "data": {
      "text/plain": [
       "[[0, 1, 2, 3], [4, 5, 6, 7], [1, 2, 3, 4]]"
      ]
     },
     "execution_count": 19,
     "metadata": {},
     "output_type": "execute_result"
    }
   ],
   "source": [
    "x # x es una lista"
   ]
  },
  {
   "cell_type": "code",
   "execution_count": 20,
   "metadata": {
    "colab": {
     "base_uri": "https://localhost:8080/"
    },
    "id": "fTr5p435WJzg",
    "outputId": "446a7c79-6dbb-474c-ab23-258688c4cfca"
   },
   "outputs": [
    {
     "data": {
      "text/plain": [
       "array([[0, 1, 2, 3],\n",
       "       [4, 5, 6, 7],\n",
       "       [1, 2, 3, 4]])"
      ]
     },
     "execution_count": 20,
     "metadata": {},
     "output_type": "execute_result"
    }
   ],
   "source": [
    "a = np.array([[0,1,2,3],[4,5,6,7], [1,2,3,4]]) #es una matriz 2D 3x4\n",
    "a"
   ]
  },
  {
   "cell_type": "code",
   "execution_count": 23,
   "metadata": {},
   "outputs": [
    {
     "data": {
      "text/plain": [
       "array([[0, 1, 2, 3],\n",
       "       [4, 5, 6, 7],\n",
       "       [1, 2, 3, 4]])"
      ]
     },
     "execution_count": 23,
     "metadata": {},
     "output_type": "execute_result"
    }
   ],
   "source": [
    "b = np.array(x)\n",
    "b"
   ]
  },
  {
   "cell_type": "markdown",
   "metadata": {
    "id": "ui8uhZhEWi7Z"
   },
   "source": [
    "O simplemente pasa una lista directamente:"
   ]
  },
  {
   "cell_type": "code",
   "execution_count": 87,
   "metadata": {
    "colab": {
     "base_uri": "https://localhost:8080/"
    },
    "id": "eAUsJH0aWcrK",
    "outputId": "293e246b-a0ca-456e-a882-a8db283919cf"
   },
   "outputs": [
    {
     "data": {
      "text/plain": [
       "array([4, 5, 6])"
      ]
     },
     "execution_count": 87,
     "metadata": {},
     "output_type": "execute_result"
    }
   ],
   "source": [
    "y = np.array([4,5,6]) # es un vector 1D 1 fila\n",
    "y"
   ]
  },
  {
   "cell_type": "markdown",
   "metadata": {
    "id": "R47pXrLiYlJA"
   },
   "source": [
    "Pasa una lista de listas para crear una matriz multidimensional:"
   ]
  },
  {
   "cell_type": "code",
   "execution_count": 26,
   "metadata": {
    "colab": {
     "base_uri": "https://localhost:8080/"
    },
    "id": "Iswv3Xu8Zm6C",
    "outputId": "57090eb4-18c4-4ea2-cb05-be6a9b9576d9"
   },
   "outputs": [
    {
     "data": {
      "text/plain": [
       "array([[0, 0, 0, 0],\n",
       "       [4, 5, 6, 7],\n",
       "       [1, 2, 3, 4]])"
      ]
     },
     "execution_count": 26,
     "metadata": {},
     "output_type": "execute_result"
    }
   ],
   "source": [
    "m = np.array([[0,0,0,0], range(4,8), range(1,5)]) #3filas y 4 columnas\n",
    "m"
   ]
  },
  {
   "cell_type": "markdown",
   "metadata": {
    "id": "QWqE8woqZ-EJ"
   },
   "source": [
    "Dentro de las principales atributos del objeto ndarray, se encuentran:\n",
    "<li>ndarray.shape: tupla con las dimensiones del arreglo.</li>\n",
    "<li>ndarray.ndim: numero de dimensiones del arreglo.</li>\n",
    "<li>ndarray.size: numero de elementos del arreglo.</li>\n",
    "<li>ndarray.dtype: tipo de datos de los elemtos del arreglo.</li>"
   ]
  },
  {
   "cell_type": "code",
   "execution_count": 27,
   "metadata": {
    "colab": {
     "base_uri": "https://localhost:8080/"
    },
    "id": "XpP_RigWZ0uL",
    "outputId": "7338782c-81a5-4a88-95d7-ad089450b582"
   },
   "outputs": [
    {
     "data": {
      "text/plain": [
       "array([[0, 0, 0, 0],\n",
       "       [4, 5, 6, 7],\n",
       "       [1, 2, 3, 4]])"
      ]
     },
     "execution_count": 27,
     "metadata": {},
     "output_type": "execute_result"
    }
   ],
   "source": [
    "m"
   ]
  },
  {
   "cell_type": "code",
   "execution_count": 28,
   "metadata": {
    "colab": {
     "base_uri": "https://localhost:8080/"
    },
    "id": "1nbr1i9NdnDj",
    "outputId": "50253674-fa43-4cf9-f674-b11d7feaf63a"
   },
   "outputs": [
    {
     "data": {
      "text/plain": [
       "(3, 4)"
      ]
     },
     "execution_count": 28,
     "metadata": {},
     "output_type": "execute_result"
    }
   ],
   "source": [
    "m.shape #3 filas y 4 columna # elresultado es una una dupla ()"
   ]
  },
  {
   "cell_type": "code",
   "execution_count": 29,
   "metadata": {
    "colab": {
     "base_uri": "https://localhost:8080/"
    },
    "id": "WlAl49-ydod1",
    "outputId": "b724ae78-5117-4cdb-b929-2b6ba117b979"
   },
   "outputs": [
    {
     "data": {
      "text/plain": [
       "(3,)"
      ]
     },
     "execution_count": 29,
     "metadata": {},
     "output_type": "execute_result"
    }
   ],
   "source": [
    "y.shape #numero de elemento si es un vector"
   ]
  },
  {
   "cell_type": "code",
   "execution_count": 30,
   "metadata": {
    "colab": {
     "base_uri": "https://localhost:8080/"
    },
    "id": "JJub8LpjeGQp",
    "outputId": "74494ab2-34d0-4f1a-ee62-2e779ec4ce00"
   },
   "outputs": [
    {
     "data": {
      "text/plain": [
       "2"
      ]
     },
     "execution_count": 30,
     "metadata": {},
     "output_type": "execute_result"
    }
   ],
   "source": [
    "m.ndim"
   ]
  },
  {
   "cell_type": "code",
   "execution_count": 31,
   "metadata": {
    "colab": {
     "base_uri": "https://localhost:8080/"
    },
    "id": "hitVv5UWeHSl",
    "outputId": "86857348-798c-406a-914b-fd883c9f4ea7"
   },
   "outputs": [
    {
     "data": {
      "text/plain": [
       "1"
      ]
     },
     "execution_count": 31,
     "metadata": {},
     "output_type": "execute_result"
    }
   ],
   "source": [
    "y.ndim"
   ]
  },
  {
   "cell_type": "code",
   "execution_count": 33,
   "metadata": {
    "colab": {
     "base_uri": "https://localhost:8080/"
    },
    "id": "8YujITqieWvS",
    "outputId": "83f9c5c9-cb55-4346-b8e0-44366aeda45a"
   },
   "outputs": [
    {
     "data": {
      "text/plain": [
       "array([[0, 0, 0, 0],\n",
       "       [4, 5, 6, 7],\n",
       "       [1, 2, 3, 4]])"
      ]
     },
     "execution_count": 33,
     "metadata": {},
     "output_type": "execute_result"
    }
   ],
   "source": [
    "m"
   ]
  },
  {
   "cell_type": "code",
   "execution_count": 34,
   "metadata": {
    "colab": {
     "base_uri": "https://localhost:8080/"
    },
    "id": "bDOAhYENeRdv",
    "outputId": "665be1b1-d5b3-45c5-cd7f-607509ac62ea"
   },
   "outputs": [
    {
     "data": {
      "text/plain": [
       "12"
      ]
     },
     "execution_count": 34,
     "metadata": {},
     "output_type": "execute_result"
    }
   ],
   "source": [
    "m.size"
   ]
  },
  {
   "cell_type": "code",
   "execution_count": 35,
   "metadata": {
    "id": "gpMoEJz3esb8"
   },
   "outputs": [
    {
     "data": {
      "text/plain": [
       "array([[0, 0, 0, 0],\n",
       "       [4, 5, 6, 7],\n",
       "       [1, 2, 3, 4]])"
      ]
     },
     "execution_count": 35,
     "metadata": {},
     "output_type": "execute_result"
    }
   ],
   "source": [
    "m"
   ]
  },
  {
   "cell_type": "code",
   "execution_count": 36,
   "metadata": {
    "colab": {
     "base_uri": "https://localhost:8080/"
    },
    "id": "6WKaO203eiY0",
    "outputId": "aa46b607-b900-4906-b41f-d8ab464787ab"
   },
   "outputs": [
    {
     "data": {
      "text/plain": [
       "dtype('int32')"
      ]
     },
     "execution_count": 36,
     "metadata": {},
     "output_type": "execute_result"
    }
   ],
   "source": [
    "m.dtype"
   ]
  },
  {
   "cell_type": "markdown",
   "metadata": {
    "id": "SuXsCBXKfSVt"
   },
   "source": [
    "`arange` devuelve valores espaciados uniformemente dentro de un intervalo dado."
   ]
  },
  {
   "cell_type": "code",
   "execution_count": 37,
   "metadata": {
    "colab": {
     "base_uri": "https://localhost:8080/"
    },
    "id": "P8wNo_RKfRbV",
    "outputId": "f2162c17-c7ff-4a6f-a8cf-81f5833ffeee"
   },
   "outputs": [
    {
     "data": {
      "text/plain": [
       "array([ 0,  2,  4,  6,  8, 10, 12, 14, 16, 18, 20, 22, 24, 26, 28])"
      ]
     },
     "execution_count": 37,
     "metadata": {},
     "output_type": "execute_result"
    }
   ],
   "source": [
    "n = np.arange(0, 30, 2)\n",
    "n\n"
   ]
  },
  {
   "cell_type": "markdown",
   "metadata": {
    "id": "5JumWKgrfv3H"
   },
   "source": [
    "# Arrays aleatorios"
   ]
  },
  {
   "cell_type": "code",
   "execution_count": 38,
   "metadata": {
    "colab": {
     "base_uri": "https://localhost:8080/"
    },
    "id": "NjbUzfAogayb",
    "outputId": "c58ada9d-1065-4381-cd38-f2a474b1af35"
   },
   "outputs": [
    {
     "data": {
      "text/plain": [
       "array([0.92961609, 0.31637555, 0.18391881, 0.20456028, 0.56772503,\n",
       "       0.5955447 , 0.96451452, 0.6531771 , 0.74890664, 0.65356987])"
      ]
     },
     "execution_count": 38,
     "metadata": {},
     "output_type": "execute_result"
    }
   ],
   "source": [
    "np.random.rand(10) #rad = entre 0 y 1"
   ]
  },
  {
   "cell_type": "code",
   "execution_count": 39,
   "metadata": {
    "colab": {
     "base_uri": "https://localhost:8080/"
    },
    "id": "o-c1EN-5fyiC",
    "outputId": "95655fb0-f4e1-4fd4-b5a7-c718ff16009b"
   },
   "outputs": [
    {
     "name": "stdout",
     "output_type": "stream",
     "text": [
      "[0.69646919 0.28613933 0.22685145 0.55131477 0.71946897 0.42310646\n",
      " 0.9807642  0.68482974 0.4809319  0.39211752]\n"
     ]
    }
   ],
   "source": [
    "np.random.seed(123) #si defino la semilla, se reproducen los mismos numeros aleatorios\n",
    "w = np.random.rand(10) #vector aleatorio de elementos  uniformes entre 0 y 1\n",
    "# es igual a la función ALEATORIO del Excel\n",
    "print(w)"
   ]
  },
  {
   "cell_type": "code",
   "execution_count": 40,
   "metadata": {
    "colab": {
     "base_uri": "https://localhost:8080/"
    },
    "id": "X5QHrNevgLyc",
    "outputId": "d9e8960d-6e9a-41ee-b2fc-4afcf7aa2594"
   },
   "outputs": [
    {
     "name": "stdout",
     "output_type": "stream",
     "text": [
      "[ 1.26593626 -0.8667404  -0.67888615 -0.09470897  1.49138963 -0.638902\n",
      " -0.44398196 -0.43435128  2.20593008  2.18678609]\n"
     ]
    }
   ],
   "source": [
    "x = np.random.randn(10) #vector aleatorio de elementos normales estandar\n",
    "print(x)"
   ]
  },
  {
   "cell_type": "code",
   "execution_count": 41,
   "metadata": {
    "colab": {
     "base_uri": "https://localhost:8080/"
    },
    "id": "WMr7r4aUhIvY",
    "outputId": "c593bc43-39db-4733-b6ae-9eb98b103ccb"
   },
   "outputs": [
    {
     "name": "stdout",
     "output_type": "stream",
     "text": [
      "[61 20 54 48 41 51 46 34 43 40 47 46 25 53 16 55 18 13 24 47]\n"
     ]
    }
   ],
   "source": [
    "y = np.random.randint(13,63,20) #vector aleatorio de elementos enteros\n",
    "# similar a la funcion ALEATORIO. ENTRE del excel\n",
    "print(y)"
   ]
  },
  {
   "cell_type": "markdown",
   "metadata": {
    "id": "jZPr3c5mievw"
   },
   "source": [
    "## Operaciones con arrays"
   ]
  },
  {
   "cell_type": "markdown",
   "metadata": {
    "id": "ssCdlhfNikxN"
   },
   "source": [
    "Usa +,-,*,/ y ** para realizar sumas, restas, multiplicaciones, divisiones y potencia por elementos:"
   ]
  },
  {
   "cell_type": "code",
   "execution_count": 42,
   "metadata": {
    "id": "d_b2gpTQiMYa"
   },
   "outputs": [],
   "source": [
    "x = np.array([1,2,3])\n",
    "y = np.array([4,5,6])"
   ]
  },
  {
   "cell_type": "code",
   "execution_count": 43,
   "metadata": {
    "colab": {
     "base_uri": "https://localhost:8080/"
    },
    "id": "eo3MY6Lgi45N",
    "outputId": "ec5fc738-832b-43d6-b805-82f54a13cdbd"
   },
   "outputs": [
    {
     "name": "stdout",
     "output_type": "stream",
     "text": [
      "[4 5 6]\n",
      "[-2 -1  0]\n",
      "[3 6 9]\n",
      "[0.33333333 0.66666667 1.        ]\n"
     ]
    }
   ],
   "source": [
    "print(x + 3) #adicion por un escalar\n",
    "print(x - 3) #resta por un escalar\n",
    "print(x * 3) #multiplicacion por un escalar\n",
    "print(x / 3) #division por un escalar"
   ]
  },
  {
   "cell_type": "code",
   "execution_count": 44,
   "metadata": {
    "colab": {
     "base_uri": "https://localhost:8080/"
    },
    "id": "q0iXrCDGjcTv",
    "outputId": "1937dab3-2de9-4404-ed2b-070a4d1dee19"
   },
   "outputs": [
    {
     "name": "stdout",
     "output_type": "stream",
     "text": [
      "[5 7 9]\n",
      "[-3 -3 -3]\n"
     ]
    }
   ],
   "source": [
    "print(x + y) #adicion de elementos [1 2 3] + [4 5 6] = [5 7 9]\n",
    "print(x - y) #resta por elementos [1 2 3] + [4 5 6] = [5 7 9]"
   ]
  },
  {
   "cell_type": "code",
   "execution_count": 45,
   "metadata": {
    "colab": {
     "base_uri": "https://localhost:8080/"
    },
    "id": "y8tRDsyJkfzX",
    "outputId": "e184dae0-887b-4742-ce81-7d00e8963efe"
   },
   "outputs": [
    {
     "name": "stdout",
     "output_type": "stream",
     "text": [
      "[ 4 10 18]\n",
      "[0.25 0.4  0.5 ]\n"
     ]
    }
   ],
   "source": [
    "print(x * y) # multiplicacion por elementos [1 2 3] * [4 5 6] = [4 10 18]\n",
    "print(x / y) # division por elementos [1 2 3] / [4 5 6] = [0.25 0.4 0.5]"
   ]
  },
  {
   "cell_type": "code",
   "execution_count": 46,
   "metadata": {
    "colab": {
     "base_uri": "https://localhost:8080/"
    },
    "id": "Z2OpR26kk7Uk",
    "outputId": "d96e40ee-baa8-48e6-efa4-fd6b08fc039b"
   },
   "outputs": [
    {
     "name": "stdout",
     "output_type": "stream",
     "text": [
      "[1 4 9]\n"
     ]
    }
   ],
   "source": [
    "print(x**2) # potenciacion por elementos [1 2 3]^2=[1 4 9]"
   ]
  },
  {
   "cell_type": "markdown",
   "metadata": {
    "id": "wB20-K0ImX6r"
   },
   "source": [
    "# Dot Product:\n",
    "![image.png](data:image/png;base64,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)"
   ]
  },
  {
   "cell_type": "code",
   "execution_count": 47,
   "metadata": {
    "colab": {
     "base_uri": "https://localhost:8080/",
     "height": 165
    },
    "id": "Tki8kHlUmnev",
    "outputId": "f655e881-031b-4404-c68c-3f19dc23415c"
   },
   "outputs": [
    {
     "data": {
      "text/plain": [
       "array([1, 2, 3])"
      ]
     },
     "execution_count": 47,
     "metadata": {},
     "output_type": "execute_result"
    }
   ],
   "source": [
    "x"
   ]
  },
  {
   "cell_type": "code",
   "execution_count": 49,
   "metadata": {
    "colab": {
     "base_uri": "https://localhost:8080/",
     "height": 165
    },
    "id": "NRKjzqMRmBsd",
    "outputId": "ad0fe19b-bb24-4d8c-d160-94e78161fd5f"
   },
   "outputs": [
    {
     "data": {
      "text/plain": [
       "array([4, 5, 6])"
      ]
     },
     "execution_count": 49,
     "metadata": {},
     "output_type": "execute_result"
    }
   ],
   "source": [
    "y"
   ]
  },
  {
   "cell_type": "markdown",
   "metadata": {
    "id": "e27aHFDro3el"
   },
   "source": [
    "**Este proceso realiza dot:**(1x3)*(3x1)=(1x1)"
   ]
  },
  {
   "cell_type": "code",
   "execution_count": 48,
   "metadata": {
    "colab": {
     "base_uri": "https://localhost:8080/"
    },
    "id": "f2fnJs2gTZjF",
    "outputId": "ebf854d2-6d0a-4196-8669-a42622c9282b"
   },
   "outputs": [
    {
     "data": {
      "text/plain": [
       "32"
      ]
     },
     "execution_count": 48,
     "metadata": {},
     "output_type": "execute_result"
    }
   ],
   "source": [
    "x@y #con el arroba hace lo mismo que el dot"
   ]
  },
  {
   "cell_type": "code",
   "execution_count": 50,
   "metadata": {
    "colab": {
     "base_uri": "https://localhost:8080/"
    },
    "id": "vyozOAKemsKc",
    "outputId": "a94fcedf-fb2a-45e5-eb77-b73f186f71b9"
   },
   "outputs": [
    {
     "data": {
      "text/plain": [
       "32"
      ]
     },
     "execution_count": 50,
     "metadata": {},
     "output_type": "execute_result"
    }
   ],
   "source": [
    "x.dot(y)"
   ]
  },
  {
   "cell_type": "code",
   "execution_count": 51,
   "metadata": {
    "colab": {
     "base_uri": "https://localhost:8080/"
    },
    "id": "p6OC2Ah1mt2Z",
    "outputId": "f61a8f2f-dac2-4a67-dcba-4de211d1bda3"
   },
   "outputs": [
    {
     "data": {
      "text/plain": [
       "32"
      ]
     },
     "execution_count": 51,
     "metadata": {},
     "output_type": "execute_result"
    }
   ],
   "source": [
    " np.dot(x,y)"
   ]
  },
  {
   "cell_type": "markdown",
   "metadata": {
    "id": "PaQk_Djko1Uk"
   },
   "source": [
    "Por otro lado, hay funciones universales que realizan operaciones con 2 arrays y regresan un array como salida."
   ]
  },
  {
   "cell_type": "code",
   "execution_count": 52,
   "metadata": {
    "colab": {
     "base_uri": "https://localhost:8080/"
    },
    "id": "AheLDjyXokte",
    "outputId": "e4234497-6ec7-4c2e-98dc-46c2d1ead63c"
   },
   "outputs": [
    {
     "data": {
      "text/plain": [
       "array([5, 7, 9])"
      ]
     },
     "execution_count": 52,
     "metadata": {},
     "output_type": "execute_result"
    }
   ],
   "source": [
    "np.add(x,y) ##x+y"
   ]
  },
  {
   "cell_type": "code",
   "execution_count": 53,
   "metadata": {
    "colab": {
     "base_uri": "https://localhost:8080/"
    },
    "id": "CabhZynhpZhR",
    "outputId": "ef1a82a8-aca1-4776-ae8f-4e340f9cff5e"
   },
   "outputs": [
    {
     "data": {
      "text/plain": [
       "array([ 4, 10, 18])"
      ]
     },
     "execution_count": 53,
     "metadata": {},
     "output_type": "execute_result"
    }
   ],
   "source": [
    "np.multiply(x,y) #x*y"
   ]
  },
  {
   "cell_type": "code",
   "execution_count": 55,
   "metadata": {
    "colab": {
     "base_uri": "https://localhost:8080/"
    },
    "id": "oJy5gfaZpea3",
    "outputId": "04fae50a-e941-46bc-f745-dd3c116ce8d2"
   },
   "outputs": [
    {
     "data": {
      "text/plain": [
       "array([  1,  32, 729])"
      ]
     },
     "execution_count": 55,
     "metadata": {},
     "output_type": "execute_result"
    }
   ],
   "source": [
    "np.power(x,y) #x**y"
   ]
  },
  {
   "cell_type": "markdown",
   "metadata": {
    "id": "hf66oB0mpkMo"
   },
   "source": [
    "## Funciones sobre arrays"
   ]
  },
  {
   "cell_type": "markdown",
   "metadata": {
    "id": "LgE6kfnMp9Lt"
   },
   "source": [
    "*Numpy* tiene muchas funciones matematicas integradas que se pueden realizar sobre arrays."
   ]
  },
  {
   "cell_type": "code",
   "execution_count": 56,
   "metadata": {
    "colab": {
     "base_uri": "https://localhost:8080/"
    },
    "id": "REo_WWgMpjc8",
    "outputId": "50babbf2-d3c3-455d-d83d-5f6e93724d01"
   },
   "outputs": [
    {
     "data": {
      "text/plain": [
       "array([12, 13,  9,  3,  5])"
      ]
     },
     "execution_count": 56,
     "metadata": {},
     "output_type": "execute_result"
    }
   ],
   "source": [
    " a = np.array([12, 13, 9, 3, 5])\n",
    " a"
   ]
  },
  {
   "cell_type": "code",
   "execution_count": 57,
   "metadata": {
    "colab": {
     "base_uri": "https://localhost:8080/"
    },
    "id": "i218u7SNUE6b",
    "outputId": "fa16448c-2da7-4f10-fa78-5468f0399ff5"
   },
   "outputs": [
    {
     "data": {
      "text/plain": [
       "42"
      ]
     },
     "execution_count": 57,
     "metadata": {},
     "output_type": "execute_result"
    }
   ],
   "source": [
    "\n",
    "sum([12, 13, 9, 3, 5]) #sum tambn funciona en una lista"
   ]
  },
  {
   "cell_type": "code",
   "execution_count": 58,
   "metadata": {
    "colab": {
     "base_uri": "https://localhost:8080/"
    },
    "id": "wwMwxwITravy",
    "outputId": "50faf97c-f347-4496-aaaf-804904c7b67a"
   },
   "outputs": [
    {
     "data": {
      "text/plain": [
       "42"
      ]
     },
     "execution_count": 58,
     "metadata": {},
     "output_type": "execute_result"
    }
   ],
   "source": [
    "a.sum() #suma"
   ]
  },
  {
   "cell_type": "code",
   "execution_count": 59,
   "metadata": {
    "colab": {
     "base_uri": "https://localhost:8080/"
    },
    "id": "JuU7mv7AreZN",
    "outputId": "9b191dbf-0909-494c-a3c2-64378021f694"
   },
   "outputs": [
    {
     "data": {
      "text/plain": [
       "42"
      ]
     },
     "execution_count": 59,
     "metadata": {},
     "output_type": "execute_result"
    }
   ],
   "source": [
    "# alternativamente\n",
    "np.sum(a)"
   ]
  },
  {
   "cell_type": "code",
   "execution_count": 60,
   "metadata": {
    "colab": {
     "base_uri": "https://localhost:8080/"
    },
    "id": "cPVqUuo9rqKd",
    "outputId": "f84c7ed1-5658-4703-f86b-7e6c83d65562"
   },
   "outputs": [
    {
     "data": {
      "text/plain": [
       "21060"
      ]
     },
     "execution_count": 60,
     "metadata": {},
     "output_type": "execute_result"
    }
   ],
   "source": [
    "a.prod() #productoria"
   ]
  },
  {
   "cell_type": "code",
   "execution_count": 61,
   "metadata": {
    "colab": {
     "base_uri": "https://localhost:8080/"
    },
    "id": "8x0gW6qTRLO8",
    "outputId": "c76b6354-e39c-47eb-c071-952928dc3775"
   },
   "outputs": [
    {
     "data": {
      "text/plain": [
       "13"
      ]
     },
     "execution_count": 61,
     "metadata": {},
     "output_type": "execute_result"
    }
   ],
   "source": [
    "a.max() #maximo\n"
   ]
  },
  {
   "cell_type": "code",
   "execution_count": 62,
   "metadata": {
    "colab": {
     "base_uri": "https://localhost:8080/"
    },
    "id": "ULjCJQmzRPhk",
    "outputId": "3b19523e-d33d-4493-cde6-b45a44f17cfb"
   },
   "outputs": [
    {
     "data": {
      "text/plain": [
       "3"
      ]
     },
     "execution_count": 62,
     "metadata": {},
     "output_type": "execute_result"
    }
   ],
   "source": [
    "a.min() #minimo"
   ]
  },
  {
   "cell_type": "code",
   "execution_count": 63,
   "metadata": {
    "colab": {
     "base_uri": "https://localhost:8080/"
    },
    "id": "J-ucBGqQUU6r",
    "outputId": "46835fe3-9d35-4f9c-a769-163554e0d2d9"
   },
   "outputs": [
    {
     "data": {
      "text/plain": [
       "8.4"
      ]
     },
     "execution_count": 63,
     "metadata": {},
     "output_type": "execute_result"
    }
   ],
   "source": [
    "a.mean() #promedio"
   ]
  },
  {
   "cell_type": "code",
   "execution_count": 64,
   "metadata": {
    "colab": {
     "base_uri": "https://localhost:8080/"
    },
    "id": "uYZ85t8WUYjd",
    "outputId": "059a9e88-424f-489c-b397-261dc8e8b7d4"
   },
   "outputs": [
    {
     "data": {
      "text/plain": [
       "9.0"
      ]
     },
     "execution_count": 64,
     "metadata": {},
     "output_type": "execute_result"
    }
   ],
   "source": [
    "np.median(a) #mediana"
   ]
  },
  {
   "cell_type": "code",
   "execution_count": 65,
   "metadata": {
    "colab": {
     "base_uri": "https://localhost:8080/"
    },
    "id": "D9mA5aYyUftT",
    "outputId": "cdad4715-3dea-4722-c263-f39891a030ee"
   },
   "outputs": [
    {
     "data": {
      "text/plain": [
       "3.878143885933063"
      ]
     },
     "execution_count": 65,
     "metadata": {},
     "output_type": "execute_result"
    }
   ],
   "source": [
    "a.std()   #desviacion estandar"
   ]
  },
  {
   "cell_type": "code",
   "execution_count": 66,
   "metadata": {
    "colab": {
     "base_uri": "https://localhost:8080/"
    },
    "id": "Ouy4RDVPUjbL",
    "outputId": "9a8f0b0c-d4ad-4168-f2fb-6182e23a2191"
   },
   "outputs": [
    {
     "data": {
      "text/plain": [
       "array([1.62754791e+05, 4.42413392e+05, 8.10308393e+03, 2.00855369e+01,\n",
       "       1.48413159e+02])"
      ]
     },
     "execution_count": 66,
     "metadata": {},
     "output_type": "execute_result"
    }
   ],
   "source": [
    "np.exp(a)"
   ]
  },
  {
   "cell_type": "code",
   "execution_count": 67,
   "metadata": {
    "colab": {
     "base_uri": "https://localhost:8080/"
    },
    "id": "KJDn_8s8UoGf",
    "outputId": "15c467ea-d4c4-4bde-8983-43d103e424c9"
   },
   "outputs": [
    {
     "data": {
      "text/plain": [
       "array([2.48490665, 2.56494936, 2.19722458, 1.09861229, 1.60943791])"
      ]
     },
     "execution_count": 67,
     "metadata": {},
     "output_type": "execute_result"
    }
   ],
   "source": [
    "np.log(a) #logaritmo natural, a la base e"
   ]
  },
  {
   "cell_type": "code",
   "execution_count": 68,
   "metadata": {
    "colab": {
     "base_uri": "https://localhost:8080/"
    },
    "id": "uIMLCnb5UxUq",
    "outputId": "6b2f7d88-5ed2-4b83-b7fe-b8196954734a"
   },
   "outputs": [
    {
     "data": {
      "text/plain": [
       "array([12., 13.,  9.,  3.,  5.])"
      ]
     },
     "execution_count": 68,
     "metadata": {},
     "output_type": "execute_result"
    }
   ],
   "source": [
    "np.log(np.exp(a))"
   ]
  },
  {
   "cell_type": "code",
   "execution_count": 69,
   "metadata": {},
   "outputs": [
    {
     "data": {
      "text/plain": [
       "array([12, 13,  9,  3,  5])"
      ]
     },
     "execution_count": 69,
     "metadata": {},
     "output_type": "execute_result"
    }
   ],
   "source": [
    "a"
   ]
  },
  {
   "cell_type": "code",
   "execution_count": 70,
   "metadata": {
    "colab": {
     "base_uri": "https://localhost:8080/"
    },
    "id": "oOQXjut9cWCz",
    "outputId": "8479f411-7f29-410e-9c24-35e1e02fc560"
   },
   "outputs": [
    {
     "data": {
      "text/plain": [
       "array([1.07918125, 1.11394335, 0.95424251, 0.47712125, 0.69897   ])"
      ]
     },
     "execution_count": 70,
     "metadata": {},
     "output_type": "execute_result"
    }
   ],
   "source": [
    "np.log10(a)"
   ]
  },
  {
   "cell_type": "code",
   "execution_count": null,
   "metadata": {
    "colab": {
     "base_uri": "https://localhost:8080/"
    },
    "id": "MjmqG2Gncbgd",
    "outputId": "398c186c-2af5-47e4-a3c2-bc82852b42a1"
   },
   "outputs": [
    {
     "data": {
      "text/plain": [
       "array([3.46410162, 3.60555128, 3.        , 1.73205081, 2.23606798])"
      ]
     },
     "execution_count": 12,
     "metadata": {},
     "output_type": "execute_result"
    }
   ],
   "source": [
    "np.sqrt(a)"
   ]
  },
  {
   "cell_type": "code",
   "execution_count": 71,
   "metadata": {
    "colab": {
     "base_uri": "https://localhost:8080/"
    },
    "id": "AZiX7W31cgHm",
    "outputId": "3cf9fe60-ec6b-416a-f41a-a48e3d807456"
   },
   "outputs": [
    {
     "data": {
      "text/plain": [
       "array([3.46410162, 3.60555128, 3.        , 1.73205081, 2.23606798])"
      ]
     },
     "execution_count": 71,
     "metadata": {},
     "output_type": "execute_result"
    }
   ],
   "source": [
    "pow(a,1/2) #raiz cuadrada"
   ]
  },
  {
   "cell_type": "code",
   "execution_count": 72,
   "metadata": {
    "colab": {
     "base_uri": "https://localhost:8080/"
    },
    "id": "eU39pNtIdUa2",
    "outputId": "2385b205-ee2e-4634-fc38-3bbf9ccfb8c5"
   },
   "outputs": [
    {
     "data": {
      "text/plain": [
       "array([1.64375183, 1.67027765, 1.55184557, 1.24573094, 1.37972966])"
      ]
     },
     "execution_count": 72,
     "metadata": {},
     "output_type": "execute_result"
    }
   ],
   "source": [
    "pow(a,1/5)"
   ]
  },
  {
   "cell_type": "markdown",
   "metadata": {
    "id": "oTz7b9B5dW81"
   },
   "source": [
    "argmax y argmin devuelven el índice del valor máximo y mínimo en un array:"
   ]
  },
  {
   "cell_type": "code",
   "execution_count": 73,
   "metadata": {
    "colab": {
     "base_uri": "https://localhost:8080/"
    },
    "id": "u6AHrA-Jdh1b",
    "outputId": "1260015b-b0ac-4c6b-cb10-f6df9a794a5f"
   },
   "outputs": [
    {
     "data": {
      "text/plain": [
       "array([12, 13,  9,  3,  5])"
      ]
     },
     "execution_count": 73,
     "metadata": {},
     "output_type": "execute_result"
    }
   ],
   "source": [
    "a"
   ]
  },
  {
   "cell_type": "code",
   "execution_count": 74,
   "metadata": {
    "colab": {
     "base_uri": "https://localhost:8080/"
    },
    "id": "0CCDxOzqditV",
    "outputId": "73976218-6951-4b10-a9d6-878ef05817c0"
   },
   "outputs": [
    {
     "data": {
      "text/plain": [
       "13"
      ]
     },
     "execution_count": 74,
     "metadata": {},
     "output_type": "execute_result"
    }
   ],
   "source": [
    "a.max()"
   ]
  },
  {
   "cell_type": "code",
   "execution_count": 75,
   "metadata": {
    "colab": {
     "base_uri": "https://localhost:8080/"
    },
    "id": "_AbQs72edl16",
    "outputId": "34bb292a-1e87-4e61-85ff-3760a2b79fbb"
   },
   "outputs": [
    {
     "data": {
      "text/plain": [
       "1"
      ]
     },
     "execution_count": 75,
     "metadata": {},
     "output_type": "execute_result"
    }
   ],
   "source": [
    "a.argmax()"
   ]
  },
  {
   "cell_type": "code",
   "execution_count": 76,
   "metadata": {
    "colab": {
     "base_uri": "https://localhost:8080/"
    },
    "id": "x_j9Qrj-dqDM",
    "outputId": "6e118210-a06b-4e5d-fb4e-a18b84c6d4b1"
   },
   "outputs": [
    {
     "data": {
      "text/plain": [
       "3"
      ]
     },
     "execution_count": 76,
     "metadata": {},
     "output_type": "execute_result"
    }
   ],
   "source": [
    "a.min()"
   ]
  },
  {
   "cell_type": "code",
   "execution_count": 77,
   "metadata": {
    "colab": {
     "base_uri": "https://localhost:8080/"
    },
    "id": "e2ueLOCddrgC",
    "outputId": "c3ef123a-3d40-46a1-e0f6-c8a6d3aee3fe"
   },
   "outputs": [
    {
     "data": {
      "text/plain": [
       "3"
      ]
     },
     "execution_count": 77,
     "metadata": {},
     "output_type": "execute_result"
    }
   ],
   "source": [
    "a.argmin()"
   ]
  },
  {
   "cell_type": "markdown",
   "metadata": {
    "id": "1aMaRJ9OeFCc"
   },
   "source": [
    "# Arrays bidimensionales (Matrices)"
   ]
  },
  {
   "cell_type": "code",
   "execution_count": 88,
   "metadata": {
    "colab": {
     "base_uri": "https://localhost:8080/"
    },
    "id": "Em9UH6jLeJe1",
    "outputId": "ae654e6b-a675-4259-8359-16eee53da4f9"
   },
   "outputs": [
    {
     "name": "stdout",
     "output_type": "stream",
     "text": [
      "(4, 4)\n",
      "2\n",
      "[[ 0  1  2  3]\n",
      " [ 4  5  6  7]\n",
      " [ 8  9 10 11]\n",
      " [ 3  5  6  9]]\n"
     ]
    }
   ],
   "source": [
    "a = np.array([[0,1,2,3],[4,5,6,7],[8,9,10,11],[3,5,6,9]])\n",
    "print(np.shape(a))\n",
    "print(np.ndim(a))\n",
    "print(a)"
   ]
  },
  {
   "cell_type": "code",
   "execution_count": 89,
   "metadata": {
    "colab": {
     "base_uri": "https://localhost:8080/"
    },
    "id": "XWEUyN2te7nN",
    "outputId": "94c87a5a-ea79-40bb-f8b7-3f7f3149deba"
   },
   "outputs": [
    {
     "name": "stdout",
     "output_type": "stream",
     "text": [
      "[55 25 50 84 56 49 12 18 81  1 51 44 48 56 91 49 86  3 67 11]\n"
     ]
    },
    {
     "data": {
      "text/plain": [
       "numpy.ndarray"
      ]
     },
     "execution_count": 89,
     "metadata": {},
     "output_type": "execute_result"
    }
   ],
   "source": [
    "y2= np.random.randint(0,100,20)\n",
    "print(y2)\n",
    "type(y2)"
   ]
  },
  {
   "cell_type": "code",
   "execution_count": 80,
   "metadata": {
    "id": "ECmd8HVqkF3D"
   },
   "outputs": [
    {
     "name": "stdout",
     "output_type": "stream",
     "text": [
      "\u001b[1;31mSignature:\u001b[0m \u001b[0mnp\u001b[0m\u001b[1;33m.\u001b[0m\u001b[0mreshape\u001b[0m\u001b[1;33m(\u001b[0m\u001b[0ma\u001b[0m\u001b[1;33m,\u001b[0m \u001b[0mnewshape\u001b[0m\u001b[1;33m,\u001b[0m \u001b[0morder\u001b[0m\u001b[1;33m=\u001b[0m\u001b[1;34m'C'\u001b[0m\u001b[1;33m)\u001b[0m\u001b[1;33m\u001b[0m\u001b[1;33m\u001b[0m\u001b[0m\n",
      "\u001b[1;31mDocstring:\u001b[0m\n",
      "Gives a new shape to an array without changing its data.\n",
      "\n",
      "Parameters\n",
      "----------\n",
      "a : array_like\n",
      "    Array to be reshaped.\n",
      "newshape : int or tuple of ints\n",
      "    The new shape should be compatible with the original shape. If\n",
      "    an integer, then the result will be a 1-D array of that length.\n",
      "    One shape dimension can be -1. In this case, the value is\n",
      "    inferred from the length of the array and remaining dimensions.\n",
      "order : {'C', 'F', 'A'}, optional\n",
      "    Read the elements of `a` using this index order, and place the\n",
      "    elements into the reshaped array using this index order.  'C'\n",
      "    means to read / write the elements using C-like index order,\n",
      "    with the last axis index changing fastest, back to the first\n",
      "    axis index changing slowest. 'F' means to read / write the\n",
      "    elements using Fortran-like index order, with the first index\n",
      "    changing fastest, and the last index changing slowest. Note that\n",
      "    the 'C' and 'F' options take no account of the memory layout of\n",
      "    the underlying array, and only refer to the order of indexing.\n",
      "    'A' means to read / write the elements in Fortran-like index\n",
      "    order if `a` is Fortran *contiguous* in memory, C-like order\n",
      "    otherwise.\n",
      "\n",
      "Returns\n",
      "-------\n",
      "reshaped_array : ndarray\n",
      "    This will be a new view object if possible; otherwise, it will\n",
      "    be a copy.  Note there is no guarantee of the *memory layout* (C- or\n",
      "    Fortran- contiguous) of the returned array.\n",
      "\n",
      "See Also\n",
      "--------\n",
      "ndarray.reshape : Equivalent method.\n",
      "\n",
      "Notes\n",
      "-----\n",
      "It is not always possible to change the shape of an array without\n",
      "copying the data. If you want an error to be raised when the data is copied,\n",
      "you should assign the new shape to the shape attribute of the array::\n",
      "\n",
      " >>> a = np.zeros((10, 2))\n",
      "\n",
      " # A transpose makes the array non-contiguous\n",
      " >>> b = a.T\n",
      "\n",
      " # Taking a view makes it possible to modify the shape without modifying\n",
      " # the initial object.\n",
      " >>> c = b.view()\n",
      " >>> c.shape = (20)\n",
      " Traceback (most recent call last):\n",
      "    ...\n",
      " AttributeError: Incompatible shape for in-place modification. Use\n",
      " `.reshape()` to make a copy with the desired shape.\n",
      "\n",
      "The `order` keyword gives the index ordering both for *fetching* the values\n",
      "from `a`, and then *placing* the values into the output array.\n",
      "For example, let's say you have an array:\n",
      "\n",
      ">>> a = np.arange(6).reshape((3, 2))\n",
      ">>> a\n",
      "array([[0, 1],\n",
      "       [2, 3],\n",
      "       [4, 5]])\n",
      "\n",
      "You can think of reshaping as first raveling the array (using the given\n",
      "index order), then inserting the elements from the raveled array into the\n",
      "new array using the same kind of index ordering as was used for the\n",
      "raveling.\n",
      "\n",
      ">>> np.reshape(a, (2, 3)) # C-like index ordering\n",
      "array([[0, 1, 2],\n",
      "       [3, 4, 5]])\n",
      ">>> np.reshape(np.ravel(a), (2, 3)) # equivalent to C ravel then C reshape\n",
      "array([[0, 1, 2],\n",
      "       [3, 4, 5]])\n",
      ">>> np.reshape(a, (2, 3), order='F') # Fortran-like index ordering\n",
      "array([[0, 4, 3],\n",
      "       [2, 1, 5]])\n",
      ">>> np.reshape(np.ravel(a, order='F'), (2, 3), order='F')\n",
      "array([[0, 4, 3],\n",
      "       [2, 1, 5]])\n",
      "\n",
      "Examples\n",
      "--------\n",
      ">>> a = np.array([[1,2,3], [4,5,6]])\n",
      ">>> np.reshape(a, 6)\n",
      "array([1, 2, 3, 4, 5, 6])\n",
      ">>> np.reshape(a, 6, order='F')\n",
      "array([1, 4, 2, 5, 3, 6])\n",
      "\n",
      ">>> np.reshape(a, (3,-1))       # the unspecified value is inferred to be 2\n",
      "array([[1, 2],\n",
      "       [3, 4],\n",
      "       [5, 6]])\n",
      "\u001b[1;31mFile:\u001b[0m      c:\\users\\alexander\\appdata\\local\\programs\\python\\python311\\lib\\site-packages\\numpy\\core\\fromnumeric.py\n",
      "\u001b[1;31mType:\u001b[0m      function"
     ]
    }
   ],
   "source": [
    "?np.reshape"
   ]
  },
  {
   "cell_type": "code",
   "execution_count": 82,
   "metadata": {
    "colab": {
     "base_uri": "https://localhost:8080/"
    },
    "id": "7yVjqEF_fD1B",
    "outputId": "70bc4ce9-b726-469e-d2bc-74e1d74ba852"
   },
   "outputs": [
    {
     "data": {
      "text/plain": [
       "array([[58, 10, 22, 77, 18, 15, 27, 30, 52, 70],\n",
       "       [26, 80,  6, 14, 75, 54, 71,  1, 43, 58]])"
      ]
     },
     "execution_count": 82,
     "metadata": {},
     "output_type": "execute_result"
    }
   ],
   "source": [
    "p = np.array(y2)\n",
    "p = p.reshape(2,10, order='C') #de un vector a una matriz\n",
    "p"
   ]
  },
  {
   "cell_type": "code",
   "execution_count": 83,
   "metadata": {
    "colab": {
     "base_uri": "https://localhost:8080/"
    },
    "id": "s8Qt2OG4ke50",
    "outputId": "fa75e041-8e9a-4075-ee09-65f87473db1b"
   },
   "outputs": [
    {
     "data": {
      "text/plain": [
       "array([[58, 22, 18, 27, 52, 26,  6, 75, 71, 43],\n",
       "       [10, 77, 15, 30, 70, 80, 14, 54,  1, 58]])"
      ]
     },
     "execution_count": 83,
     "metadata": {},
     "output_type": "execute_result"
    }
   ],
   "source": [
    "p = np.array(y2)\n",
    "p = p.reshape(2,10, order='F') #de un vector a una matriz\n",
    "p"
   ]
  },
  {
   "cell_type": "code",
   "execution_count": 84,
   "metadata": {
    "colab": {
     "base_uri": "https://localhost:8080/"
    },
    "id": "It71p2Y-h211",
    "outputId": "d5d5ebc5-0f64-45a5-b29f-1e5d085c6b71"
   },
   "outputs": [
    {
     "name": "stdout",
     "output_type": "stream",
     "text": [
      "[[6 7]\n",
      " [8 9]]\n"
     ]
    }
   ],
   "source": [
    "ar = np.array([[6,7],[8,9]])\n",
    "print(ar)"
   ]
  },
  {
   "cell_type": "code",
   "execution_count": 90,
   "metadata": {
    "colab": {
     "base_uri": "https://localhost:8080/"
    },
    "id": "aD1NKNcXgLgl",
    "outputId": "e5f6b158-335c-4fc6-875a-06ab8e7815b5"
   },
   "outputs": [
    {
     "name": "stdout",
     "output_type": "stream",
     "text": [
      "[[6 7 6 7 6 7]\n",
      " [8 9 8 9 8 9]\n",
      " [6 7 6 7 6 7]\n",
      " [8 9 8 9 8 9]]\n"
     ]
    }
   ],
   "source": [
    "#Matriz a base de \"tiles\" (baldosas)\n",
    "tiles = np.tile(ar,(2,3))\n",
    "print(tiles)"
   ]
  },
  {
   "cell_type": "code",
   "execution_count": 92,
   "metadata": {
    "colab": {
     "base_uri": "https://localhost:8080/"
    },
    "id": "1qmPSJ5XfQer",
    "outputId": "66f40b79-2ff2-43dd-9b6a-2113a9290ae5"
   },
   "outputs": [
    {
     "name": "stdout",
     "output_type": "stream",
     "text": [
      "[0 1 2 3 4 5 6 7 8]\n",
      "-------------------------------\n",
      "[[0 1 2]\n",
      " [3 4 5]\n",
      " [6 7 8]]\n"
     ]
    }
   ],
   "source": [
    "#Cambio de forma de una vector\n",
    "\n",
    "#Creamos un vector lineal y lo reaorganizamos como matriz de 3x3\n",
    "x = np.arange(9)\n",
    "print(x)\n",
    "print(\"-------------------------------\")\n",
    "x = x.reshape(3,3) #reordenamiento\n",
    "print(x)"
   ]
  },
  {
   "cell_type": "code",
   "execution_count": 94,
   "metadata": {
    "colab": {
     "base_uri": "https://localhost:8080/"
    },
    "id": "fVxsdKL5innp",
    "outputId": "3cd4807b-215a-48df-ebf1-4d4a25232579"
   },
   "outputs": [
    {
     "data": {
      "text/plain": [
       "array([[0, 0, 0, 0],\n",
       "       [4, 5, 6, 7],\n",
       "       [1, 2, 3, 4]])"
      ]
     },
     "execution_count": 94,
     "metadata": {},
     "output_type": "execute_result"
    }
   ],
   "source": [
    "m"
   ]
  },
  {
   "cell_type": "code",
   "execution_count": 95,
   "metadata": {
    "colab": {
     "base_uri": "https://localhost:8080/"
    },
    "id": "P5NcoXV-i-qZ",
    "outputId": "5b146ccd-bbdf-4a53-c685-e2dd4547c59a"
   },
   "outputs": [
    {
     "data": {
      "text/plain": [
       "array([[0, 0],\n",
       "       [4, 6],\n",
       "       [1, 3],\n",
       "       [0, 0],\n",
       "       [5, 7],\n",
       "       [2, 4]])"
      ]
     },
     "execution_count": 95,
     "metadata": {},
     "output_type": "execute_result"
    }
   ],
   "source": [
    "m.reshape(6,2,order='F')"
   ]
  },
  {
   "cell_type": "markdown",
   "metadata": {
    "id": "FpgLcSCWk0iu"
   },
   "source": [
    "## Matrices Especiales:\n",
    "\n",
    "Numpy cuenta con funciones especiales para crear arreglos con valores definidos por defecto, por ejemplo:\n",
    "\n",
    "<li> <b>zeros:</b> crea arreglo solamente con 0's.</li>\n",
    "<li> <b>ones:</b> crea arreglo solamente con 1's.</li>\n",
    "<li> <b>eye:</b> crea matriz identidad.</li>\n",
    "<li> <b>full:</b> crea arreglo solamente con n's.</li>"
   ]
  },
  {
   "cell_type": "code",
   "execution_count": null,
   "metadata": {
    "colab": {
     "base_uri": "https://localhost:8080/"
    },
    "id": "MTuBuXRslYfI",
    "outputId": "241ae65b-80f4-4778-c2df-01ae2e9ea9a3"
   },
   "outputs": [
    {
     "data": {
      "text/plain": [
       "array([[0., 0., 0.],\n",
       "       [0., 0., 0.],\n",
       "       [0., 0., 0.]])"
      ]
     },
     "execution_count": 47,
     "metadata": {},
     "output_type": "execute_result"
    }
   ],
   "source": [
    "np.zeros((3,3))"
   ]
  },
  {
   "cell_type": "code",
   "execution_count": null,
   "metadata": {
    "colab": {
     "base_uri": "https://localhost:8080/"
    },
    "id": "1hRzvwbxlyP3",
    "outputId": "d52f0d5c-129c-4f3a-8655-7cc201d04cf1"
   },
   "outputs": [
    {
     "data": {
      "text/plain": [
       "dtype('float64')"
      ]
     },
     "execution_count": 48,
     "metadata": {},
     "output_type": "execute_result"
    }
   ],
   "source": [
    "a = np.zeros((3,3))\n",
    "a.dtype"
   ]
  },
  {
   "cell_type": "code",
   "execution_count": null,
   "metadata": {
    "colab": {
     "base_uri": "https://localhost:8080/"
    },
    "id": "ZgZMZdjRl2hw",
    "outputId": "6865aba8-dc80-406c-a21c-bd04f6188792"
   },
   "outputs": [
    {
     "data": {
      "text/plain": [
       "array([[1., 1., 1., 1., 1.],\n",
       "       [1., 1., 1., 1., 1.],\n",
       "       [1., 1., 1., 1., 1.],\n",
       "       [1., 1., 1., 1., 1.],\n",
       "       [1., 1., 1., 1., 1.]])"
      ]
     },
     "execution_count": 49,
     "metadata": {},
     "output_type": "execute_result"
    }
   ],
   "source": [
    "np.ones((5,5))"
   ]
  },
  {
   "cell_type": "code",
   "execution_count": null,
   "metadata": {
    "colab": {
     "base_uri": "https://localhost:8080/"
    },
    "id": "ZRa-eQADl5XF",
    "outputId": "298a786f-8b31-4a5d-81d5-7f2d412650b8"
   },
   "outputs": [
    {
     "data": {
      "text/plain": [
       "array([[1., 0., 0., 0., 0., 0., 0., 0., 0., 0.],\n",
       "       [0., 1., 0., 0., 0., 0., 0., 0., 0., 0.],\n",
       "       [0., 0., 1., 0., 0., 0., 0., 0., 0., 0.],\n",
       "       [0., 0., 0., 1., 0., 0., 0., 0., 0., 0.],\n",
       "       [0., 0., 0., 0., 1., 0., 0., 0., 0., 0.],\n",
       "       [0., 0., 0., 0., 0., 1., 0., 0., 0., 0.],\n",
       "       [0., 0., 0., 0., 0., 0., 1., 0., 0., 0.],\n",
       "       [0., 0., 0., 0., 0., 0., 0., 1., 0., 0.],\n",
       "       [0., 0., 0., 0., 0., 0., 0., 0., 1., 0.],\n",
       "       [0., 0., 0., 0., 0., 0., 0., 0., 0., 1.]])"
      ]
     },
     "execution_count": 50,
     "metadata": {},
     "output_type": "execute_result"
    }
   ],
   "source": [
    "np.eye(10)\n"
   ]
  },
  {
   "cell_type": "code",
   "execution_count": null,
   "metadata": {
    "colab": {
     "base_uri": "https://localhost:8080/"
    },
    "id": "Ess4sw9yl7xt",
    "outputId": "118b7ef7-4f1d-4a7a-ac80-ab69b0467b81"
   },
   "outputs": [
    {
     "data": {
      "text/plain": [
       "array([[1500, 1500, 1500, 1500, 1500, 1500],\n",
       "       [1500, 1500, 1500, 1500, 1500, 1500],\n",
       "       [1500, 1500, 1500, 1500, 1500, 1500],\n",
       "       [1500, 1500, 1500, 1500, 1500, 1500],\n",
       "       [1500, 1500, 1500, 1500, 1500, 1500],\n",
       "       [1500, 1500, 1500, 1500, 1500, 1500]])"
      ]
     },
     "execution_count": 51,
     "metadata": {},
     "output_type": "execute_result"
    }
   ],
   "source": [
    "np.full((6,6),1500)"
   ]
  },
  {
   "cell_type": "markdown",
   "metadata": {
    "id": "efUeEihHmeOy"
   },
   "source": [
    "`linspace` devuelve nùmeros espaciados uniformemente en un intervalo especificado:"
   ]
  },
  {
   "cell_type": "code",
   "execution_count": 96,
   "metadata": {
    "colab": {
     "base_uri": "https://localhost:8080/"
    },
    "id": "cqLvsBammZ4s",
    "outputId": "d84d71c4-38c9-4eb2-e0c0-edf43b85d54f"
   },
   "outputs": [
    {
     "data": {
      "text/plain": [
       "array([ 0. ,  2.5,  5. ,  7.5, 10. ])"
      ]
     },
     "execution_count": 96,
     "metadata": {},
     "output_type": "execute_result"
    }
   ],
   "source": [
    "o = np.linspace(0,10,5) #Devuelve 9 valores espaciados uniformemente de 0 a 4\n",
    "o"
   ]
  },
  {
   "cell_type": "markdown",
   "metadata": {
    "id": "d13XKFUDnU06"
   },
   "source": [
    "<b>diag</b> extrae una diagonal o construye una matriz diagonal:"
   ]
  },
  {
   "cell_type": "code",
   "execution_count": 97,
   "metadata": {
    "colab": {
     "base_uri": "https://localhost:8080/"
    },
    "id": "dplkCZ0snUCE",
    "outputId": "3824880e-f08b-497c-bc65-bbe80fdc7d68"
   },
   "outputs": [
    {
     "name": "stdout",
     "output_type": "stream",
     "text": [
      "[0 1 2 3 4]\n",
      "-------------------------------------\n",
      "[[0 0 0 0 0]\n",
      " [0 1 0 0 0]\n",
      " [0 0 2 0 0]\n",
      " [0 0 0 3 0]\n",
      " [0 0 0 0 4]]\n"
     ]
    }
   ],
   "source": [
    "#Creacion de una matriz diagonal\n",
    "\n",
    "#Primero un rango lineal\n",
    "a = np.arange(5)\n",
    "print(a)\n",
    "print(\"-------------------------------------\")\n",
    "#Y ahora lo convertimos en diagonal\n",
    "diagonal = np.diag(a)\n",
    "print(diagonal)\n"
   ]
  },
  {
   "cell_type": "code",
   "execution_count": 98,
   "metadata": {
    "colab": {
     "base_uri": "https://localhost:8080/"
    },
    "id": "rsfrt_BCoLL8",
    "outputId": "456d30a7-8ee0-468f-ae5a-818040028e0f"
   },
   "outputs": [
    {
     "data": {
      "text/plain": [
       "array([[4. , 0. , 0. ],\n",
       "       [0. , 5.6, 0. ],\n",
       "       [0. , 0. , 7. ]])"
      ]
     },
     "execution_count": 98,
     "metadata": {},
     "output_type": "execute_result"
    }
   ],
   "source": [
    "np.diag([4,5.6,7]) #construye una matriz diagonal"
   ]
  },
  {
   "cell_type": "code",
   "execution_count": 99,
   "metadata": {
    "colab": {
     "base_uri": "https://localhost:8080/"
    },
    "id": "H4GHNd-aor6c",
    "outputId": "0ae4fced-667e-4688-ef7f-9821eb0c7cb7"
   },
   "outputs": [
    {
     "data": {
      "text/plain": [
       "array([[0, 0, 0, 0, 0],\n",
       "       [0, 1, 0, 0, 0],\n",
       "       [0, 0, 2, 0, 0],\n",
       "       [0, 0, 0, 3, 0],\n",
       "       [0, 0, 0, 0, 4]])"
      ]
     },
     "execution_count": 99,
     "metadata": {},
     "output_type": "execute_result"
    }
   ],
   "source": [
    "diagonal"
   ]
  },
  {
   "cell_type": "code",
   "execution_count": 100,
   "metadata": {
    "colab": {
     "base_uri": "https://localhost:8080/"
    },
    "id": "XMakt36oobOc",
    "outputId": "e440874f-fa17-4954-961f-027ec4bf03d2"
   },
   "outputs": [
    {
     "data": {
      "text/plain": [
       "array([0, 1, 2, 3, 4])"
      ]
     },
     "execution_count": 100,
     "metadata": {},
     "output_type": "execute_result"
    }
   ],
   "source": [
    "np.diag(diagonal) # estrae la diagonal de una matriz (solo cuadradas)"
   ]
  },
  {
   "cell_type": "markdown",
   "metadata": {
    "id": "1komlP0iovE5"
   },
   "source": [
    "Crea una matriz usando lista de repeticion (o ver `np.tile`):"
   ]
  },
  {
   "cell_type": "code",
   "execution_count": 101,
   "metadata": {
    "colab": {
     "base_uri": "https://localhost:8080/"
    },
    "id": "z0norTGQpP3A",
    "outputId": "81164e75-fb37-4d2f-a1d1-4702c2d1aca0"
   },
   "outputs": [
    {
     "data": {
      "text/plain": [
       "array([1, 2, 3, 1, 2, 3, 1, 2, 3])"
      ]
     },
     "execution_count": 101,
     "metadata": {},
     "output_type": "execute_result"
    }
   ],
   "source": [
    "np.array([1,2,3] * 3)"
   ]
  },
  {
   "cell_type": "code",
   "execution_count": 102,
   "metadata": {
    "colab": {
     "base_uri": "https://localhost:8080/"
    },
    "id": "xagP22hHp4ve",
    "outputId": "e3024114-1c62-4a06-99d3-cb59b3272158"
   },
   "outputs": [
    {
     "data": {
      "text/plain": [
       "array([[1, 2, 3, 1, 2, 3, 1, 2, 3]])"
      ]
     },
     "execution_count": 102,
     "metadata": {},
     "output_type": "execute_result"
    }
   ],
   "source": [
    "np.tile(np.arange(1,4),(1,3))"
   ]
  },
  {
   "cell_type": "code",
   "execution_count": 103,
   "metadata": {
    "colab": {
     "base_uri": "https://localhost:8080/"
    },
    "id": "MU3AD-y8pvtl",
    "outputId": "2ff1ca39-8458-4ab9-c3a9-43371f298ad3"
   },
   "outputs": [
    {
     "data": {
      "text/plain": [
       "array([[1, 2, 3, 1, 2, 3, 1, 2, 3, 1, 2, 3],\n",
       "       [1, 2, 3, 1, 2, 3, 1, 2, 3, 1, 2, 3],\n",
       "       [1, 2, 3, 1, 2, 3, 1, 2, 3, 1, 2, 3]])"
      ]
     },
     "execution_count": 103,
     "metadata": {},
     "output_type": "execute_result"
    }
   ],
   "source": [
    "np.tile(np.arange(1,4),(3,4))\n"
   ]
  },
  {
   "cell_type": "markdown",
   "metadata": {
    "id": "UoF-aEP6uM2I"
   },
   "source": [
    "Repite elementos de un array usando `repeat`"
   ]
  },
  {
   "cell_type": "code",
   "execution_count": 104,
   "metadata": {
    "colab": {
     "base_uri": "https://localhost:8080/"
    },
    "id": "yBbGADk2uL35",
    "outputId": "dc5f54f0-4975-476c-cc9d-f9f3ead9b97a"
   },
   "outputs": [
    {
     "data": {
      "text/plain": [
       "array([1, 1, 1, 1, 1, 2, 2, 2, 2, 2, 3, 3, 3, 3, 3, 4, 4, 4, 4, 4])"
      ]
     },
     "execution_count": 104,
     "metadata": {},
     "output_type": "execute_result"
    }
   ],
   "source": [
    "np.repeat([1,2,3,4],5)"
   ]
  },
  {
   "cell_type": "markdown",
   "metadata": {
    "id": "dzfIRMoruhtX"
   },
   "source": [
    "Veamos las matrices de transposicion. La transposicion permuta las dimensiones de la matriz."
   ]
  },
  {
   "cell_type": "code",
   "execution_count": 107,
   "metadata": {},
   "outputs": [
    {
     "data": {
      "text/plain": [
       "array([4, 5, 6])"
      ]
     },
     "execution_count": 107,
     "metadata": {},
     "output_type": "execute_result"
    }
   ],
   "source": [
    "y"
   ]
  },
  {
   "cell_type": "code",
   "execution_count": 105,
   "metadata": {
    "colab": {
     "base_uri": "https://localhost:8080/"
    },
    "id": "Lc5kjOWQugv2",
    "outputId": "b3da67be-6b60-4142-ef76-fd6adf58a8c8"
   },
   "outputs": [
    {
     "data": {
      "text/plain": [
       "array([[ 4,  5,  6],\n",
       "       [16, 25, 36]])"
      ]
     },
     "execution_count": 105,
     "metadata": {},
     "output_type": "execute_result"
    }
   ],
   "source": [
    "z = np.array([y,y**2])\n",
    "z"
   ]
  },
  {
   "cell_type": "markdown",
   "metadata": {
    "id": "P7M7WM9Auw0n"
   },
   "source": [
    "La forma de la matriz z es (2,3) antes de la trnasposicion:"
   ]
  },
  {
   "cell_type": "code",
   "execution_count": 108,
   "metadata": {
    "colab": {
     "base_uri": "https://localhost:8080/"
    },
    "id": "52tCHXCKu25l",
    "outputId": "e850aee0-f885-4137-db88-715615371c11"
   },
   "outputs": [
    {
     "data": {
      "text/plain": [
       "(2, 3)"
      ]
     },
     "execution_count": 108,
     "metadata": {},
     "output_type": "execute_result"
    }
   ],
   "source": [
    "z.shape"
   ]
  },
  {
   "cell_type": "code",
   "execution_count": 109,
   "metadata": {
    "colab": {
     "base_uri": "https://localhost:8080/"
    },
    "id": "ZkT36CH7vUIC",
    "outputId": "311d914f-b4cf-4338-fcc8-594e6b60f126"
   },
   "outputs": [
    {
     "data": {
      "text/plain": [
       "array([[ 4, 16],\n",
       "       [ 5, 25],\n",
       "       [ 6, 36]])"
      ]
     },
     "execution_count": 109,
     "metadata": {},
     "output_type": "execute_result"
    }
   ],
   "source": [
    "z.T"
   ]
  },
  {
   "cell_type": "markdown",
   "metadata": {
    "id": "VBjsmoST-emd"
   },
   "source": [
    "Determinar dimensiones:"
   ]
  },
  {
   "cell_type": "code",
   "execution_count": 110,
   "metadata": {
    "colab": {
     "base_uri": "https://localhost:8080/"
    },
    "id": "e0ID54Lb-vG8",
    "outputId": "a21317d5-3f49-4706-bb04-b2cd5970b3f3"
   },
   "outputs": [
    {
     "name": "stdout",
     "output_type": "stream",
     "text": [
      "[21 25  7  9  2  3 11  3 19 24]\n",
      "1\n"
     ]
    }
   ],
   "source": [
    "x1 = np.random.randint(30, size = 10) #10 valores al azar\n",
    "print(x1) # 1 dimension\n",
    "print(x1.ndim)"
   ]
  },
  {
   "cell_type": "code",
   "execution_count": 111,
   "metadata": {
    "colab": {
     "base_uri": "https://localhost:8080/"
    },
    "id": "tED3-Ib2ACcm",
    "outputId": "c7c8709c-54f4-424e-f287-9e06c03f541b"
   },
   "outputs": [
    {
     "name": "stdout",
     "output_type": "stream",
     "text": [
      "[[ 6  9 23]\n",
      " [14  6 19]]\n",
      "2\n"
     ]
    }
   ],
   "source": [
    "x2 = np.random.randint(30, size = (2,3)) #10 valores al azar\n",
    "print(x2) # 1 dimension\n",
    "print(x2.ndim)"
   ]
  },
  {
   "cell_type": "code",
   "execution_count": 116,
   "metadata": {
    "colab": {
     "base_uri": "https://localhost:8080/"
    },
    "id": "aqh_Yz3zAHk1",
    "outputId": "3f89db05-815b-4fbc-ee1f-acfaeec4c541"
   },
   "outputs": [
    {
     "name": "stdout",
     "output_type": "stream",
     "text": [
      "[[[26 30 36 14 31]\n",
      "  [42 49 11 44 28]\n",
      "  [49 36 49 45 48]]\n",
      "\n",
      " [[11 27 32 35 20]\n",
      "  [10 45 29 40 17]\n",
      "  [49 33 29 24 39]]\n",
      "\n",
      " [[29 47 11 15 27]\n",
      "  [45 23 35 43 39]\n",
      "  [16 39 27 31 26]]\n",
      "\n",
      " [[40 26 40 22 36]\n",
      "  [29 26 38 48 44]\n",
      "  [17 47 24 10 42]]]\n",
      "3\n"
     ]
    }
   ],
   "source": [
    "x3 = np.random.randint(10,50, size = (4,3,5)) #10 valores al azar\n",
    "print(x3) # 1 dimension\n",
    "print(x3.ndim)"
   ]
  },
  {
   "cell_type": "markdown",
   "metadata": {
    "id": "09R_u4pkAyah"
   },
   "source": [
    "## Diferencia entre RESHAPE Y RESIZE\n"
   ]
  },
  {
   "cell_type": "markdown",
   "metadata": {
    "id": "-BmXsV5SA4es"
   },
   "source": [
    "`reshape`, devuelve una matriz con los mismos datos en una nueva forma:"
   ]
  },
  {
   "cell_type": "code",
   "execution_count": 120,
   "metadata": {
    "colab": {
     "base_uri": "https://localhost:8080/"
    },
    "id": "Qsb6nooA_knr",
    "outputId": "077fc48b-e716-4fce-e22e-98dbc1f55ba3"
   },
   "outputs": [
    {
     "data": {
      "text/plain": [
       "array([[1., 1., 1.],\n",
       "       [1., 1., 1.],\n",
       "       [1., 1., 1.],\n",
       "       [1., 1., 1.],\n",
       "       [1., 1., 1.],\n",
       "       [1., 1., 1.]])"
      ]
     },
     "execution_count": 120,
     "metadata": {},
     "output_type": "execute_result"
    }
   ],
   "source": [
    "n = np.ones((6,3))\n",
    "n"
   ]
  },
  {
   "cell_type": "code",
   "execution_count": 121,
   "metadata": {
    "colab": {
     "base_uri": "https://localhost:8080/"
    },
    "id": "7voDSsRNBC6T",
    "outputId": "c31e12d2-58c7-4f3c-ca9a-265719bdeea3"
   },
   "outputs": [
    {
     "data": {
      "text/plain": [
       "array([[1., 1., 1., 1., 1., 1., 1., 1., 1.],\n",
       "       [1., 1., 1., 1., 1., 1., 1., 1., 1.]])"
      ]
     },
     "execution_count": 121,
     "metadata": {},
     "output_type": "execute_result"
    }
   ],
   "source": [
    "n = n.reshape(2, 9) # reshape array to be 2x9\n",
    "n"
   ]
  },
  {
   "cell_type": "code",
   "execution_count": 122,
   "metadata": {
    "colab": {
     "base_uri": "https://localhost:8080/"
    },
    "id": "smj7mVH-BCui",
    "outputId": "ff52d59f-0dc0-4089-ed34-6abe7d4ec013"
   },
   "outputs": [
    {
     "data": {
      "text/plain": [
       "array([[1., 1., 1., 1., 1., 1., 1., 1., 1., 1., 1., 1., 1., 1., 1., 1.,\n",
       "        1., 1.]])"
      ]
     },
     "execution_count": 122,
     "metadata": {},
     "output_type": "execute_result"
    }
   ],
   "source": [
    "n = n.reshape(1, 18) # reshape array to be 1x18\n",
    "n"
   ]
  },
  {
   "cell_type": "code",
   "execution_count": 124,
   "metadata": {
    "colab": {
     "base_uri": "https://localhost:8080/",
     "height": 183
    },
    "id": "L_BiERXjBCeA",
    "outputId": "e5ae2355-cd8a-4ae8-cbb7-bdb774c0f34a"
   },
   "outputs": [
    {
     "data": {
      "text/plain": [
       "array([[1., 1., 1., 1., 1., 1.],\n",
       "       [1., 1., 1., 1., 1., 1.],\n",
       "       [1., 1., 1., 1., 1., 1.]])"
      ]
     },
     "execution_count": 124,
     "metadata": {},
     "output_type": "execute_result"
    }
   ],
   "source": [
    "n = n.reshape(3, 6) # cuidado con las dimensiones\n",
    "n"
   ]
  },
  {
   "cell_type": "markdown",
   "metadata": {
    "id": "6tyGJEGOBjA2"
   },
   "source": [
    "`resize` cambia la forma y el tamaño de la matriz de forma definitiva:"
   ]
  },
  {
   "cell_type": "code",
   "execution_count": 125,
   "metadata": {
    "colab": {
     "base_uri": "https://localhost:8080/"
    },
    "id": "fQBT3P4eB9IN",
    "outputId": "566ad268-bf40-4bd5-ccca-470d1aaa18ee"
   },
   "outputs": [
    {
     "data": {
      "text/plain": [
       "(3, 4)"
      ]
     },
     "execution_count": 125,
     "metadata": {},
     "output_type": "execute_result"
    }
   ],
   "source": [
    "m.shape"
   ]
  },
  {
   "cell_type": "code",
   "execution_count": 126,
   "metadata": {
    "colab": {
     "base_uri": "https://localhost:8080/"
    },
    "id": "7ZAQ2HhoCdtB",
    "outputId": "4d559776-5596-481c-ef40-90c0bce89210"
   },
   "outputs": [
    {
     "data": {
      "text/plain": [
       "array([[0, 0, 0, 0],\n",
       "       [4, 5, 6, 7],\n",
       "       [1, 2, 3, 4]])"
      ]
     },
     "execution_count": 126,
     "metadata": {},
     "output_type": "execute_result"
    }
   ],
   "source": [
    "m"
   ]
  },
  {
   "cell_type": "code",
   "execution_count": 131,
   "metadata": {
    "colab": {
     "base_uri": "https://localhost:8080/"
    },
    "id": "_JHjO025BiL6",
    "outputId": "6dcdd374-6799-4f99-c072-68cd0df1f6f9"
   },
   "outputs": [
    {
     "data": {
      "text/plain": [
       "array([[0, 0],\n",
       "       [0, 0],\n",
       "       [4, 5],\n",
       "       [6, 7],\n",
       "       [1, 2],\n",
       "       [3, 4]])"
      ]
     },
     "execution_count": 131,
     "metadata": {},
     "output_type": "execute_result"
    }
   ],
   "source": [
    "m.resize(6, 2)\n",
    "m"
   ]
  },
  {
   "cell_type": "code",
   "execution_count": null,
   "metadata": {
    "id": "yzu21YE7Co_e"
   },
   "outputs": [],
   "source": [
    "?np.resize"
   ]
  },
  {
   "cell_type": "markdown",
   "metadata": {
    "id": "wHk0U6g1BuNm"
   },
   "source": [
    "Otro ejemplo:"
   ]
  },
  {
   "cell_type": "code",
   "execution_count": 132,
   "metadata": {
    "colab": {
     "base_uri": "https://localhost:8080/"
    },
    "id": "oNgCL31FBCZz",
    "outputId": "b149d662-fac6-4e3e-9faf-a9b065938554"
   },
   "outputs": [
    {
     "data": {
      "text/plain": [
       "array([223, 544, 864, 297, 233,  76, 810, 965, 515, 869])"
      ]
     },
     "execution_count": 132,
     "metadata": {},
     "output_type": "execute_result"
    }
   ],
   "source": [
    "t = np.random.randint(0, 1000, 10)\n",
    "t"
   ]
  },
  {
   "cell_type": "code",
   "execution_count": 135,
   "metadata": {
    "colab": {
     "base_uri": "https://localhost:8080/"
    },
    "id": "QjEHxlRACxr7",
    "outputId": "fd26535e-8735-4d67-c046-0f2fc9250c6e"
   },
   "outputs": [
    {
     "name": "stdout",
     "output_type": "stream",
     "text": [
      "[[223 544 864 297 233]\n",
      " [ 76 810 965 515 869]]\n",
      "[223 544 864 297 233  76 810 965 515 869]\n"
     ]
    }
   ],
   "source": [
    "print(t.reshape(2,5))\n",
    "print(t)"
   ]
  },
  {
   "cell_type": "code",
   "execution_count": 136,
   "metadata": {
    "colab": {
     "base_uri": "https://localhost:8080/"
    },
    "id": "ttjk0e3RC2s4",
    "outputId": "62dea924-ec9f-4012-a2ce-eec51b83297a"
   },
   "outputs": [
    {
     "name": "stdout",
     "output_type": "stream",
     "text": [
      "[[223 544 864 297 233]\n",
      " [ 76 810 965 515 869]]\n"
     ]
    }
   ],
   "source": [
    "t.resize(2,5)\n",
    "print(t)"
   ]
  },
  {
   "cell_type": "markdown",
   "metadata": {
    "id": "-ptRrqX6C9E6"
   },
   "source": [
    "Usa .T para transponer una matriz:"
   ]
  },
  {
   "cell_type": "code",
   "execution_count": 137,
   "metadata": {
    "colab": {
     "base_uri": "https://localhost:8080/"
    },
    "id": "asn0SNQWC7eO",
    "outputId": "ba92036a-aa62-4763-9b8b-2414c21f1a50"
   },
   "outputs": [
    {
     "data": {
      "text/plain": [
       "array([[ 4, 16],\n",
       "       [ 5, 25],\n",
       "       [ 6, 36]])"
      ]
     },
     "execution_count": 137,
     "metadata": {},
     "output_type": "execute_result"
    }
   ],
   "source": [
    "z.T"
   ]
  },
  {
   "cell_type": "markdown",
   "metadata": {
    "id": "VIS3zFGaDP9R"
   },
   "source": [
    "El numero de filas se ha intercambiado con el numero de columnas."
   ]
  },
  {
   "cell_type": "code",
   "execution_count": 138,
   "metadata": {
    "colab": {
     "base_uri": "https://localhost:8080/"
    },
    "id": "qtvDx-uSDPKv",
    "outputId": "24615291-a206-4de2-820b-a7859a8e67da"
   },
   "outputs": [
    {
     "data": {
      "text/plain": [
       "(3, 2)"
      ]
     },
     "execution_count": 138,
     "metadata": {},
     "output_type": "execute_result"
    }
   ],
   "source": [
    "z.T.shape"
   ]
  },
  {
   "cell_type": "code",
   "execution_count": 139,
   "metadata": {
    "colab": {
     "base_uri": "https://localhost:8080/"
    },
    "id": "-B6ZQjBgDqRJ",
    "outputId": "2e157e47-bdb9-4ea4-fa00-501c0fce87ae"
   },
   "outputs": [
    {
     "data": {
      "text/plain": [
       "(2, 3)"
      ]
     },
     "execution_count": 139,
     "metadata": {},
     "output_type": "execute_result"
    }
   ],
   "source": [
    "z.shape"
   ]
  },
  {
   "cell_type": "markdown",
   "metadata": {
    "id": "djHv_HaQDZ_M"
   },
   "source": [
    "Probando la multiplicación dot en matrices (producto matricial)"
   ]
  },
  {
   "cell_type": "code",
   "execution_count": 140,
   "metadata": {
    "colab": {
     "base_uri": "https://localhost:8080/"
    },
    "id": "77WUQjwODYzG",
    "outputId": "febbad49-8b1a-4ff4-ef48-015b95ddf4d9"
   },
   "outputs": [
    {
     "data": {
      "text/plain": [
       "array([[  77,  405],\n",
       "       [ 405, 2177]])"
      ]
     },
     "execution_count": 140,
     "metadata": {},
     "output_type": "execute_result"
    }
   ],
   "source": [
    "np.dot(z,z.T)"
   ]
  },
  {
   "cell_type": "code",
   "execution_count": 141,
   "metadata": {
    "colab": {
     "base_uri": "https://localhost:8080/"
    },
    "id": "3c7okvvzDjbv",
    "outputId": "2b276614-9789-441d-d4af-87b080b9fb04"
   },
   "outputs": [
    {
     "data": {
      "text/plain": [
       "array([[ 272,  420,  600],\n",
       "       [ 420,  650,  930],\n",
       "       [ 600,  930, 1332]])"
      ]
     },
     "execution_count": 141,
     "metadata": {},
     "output_type": "execute_result"
    }
   ],
   "source": [
    "np.dot(z.T,z)"
   ]
  },
  {
   "cell_type": "markdown",
   "metadata": {
    "id": "3k-EZilMD5iN"
   },
   "source": [
    "## Determinante e inversa de una matriz"
   ]
  },
  {
   "cell_type": "code",
   "execution_count": 143,
   "metadata": {
    "colab": {
     "base_uri": "https://localhost:8080/"
    },
    "id": "aMFCWe2SEAf3",
    "outputId": "0fdb8d20-bc98-4999-efe7-018da6f7fe6c"
   },
   "outputs": [
    {
     "data": {
      "text/plain": [
       "array([[ 5,  2, 26, 39],\n",
       "       [19, 17, 19, 29],\n",
       "       [ 9, 22, 46,  2],\n",
       "       [49,  8, 48, 18]])"
      ]
     },
     "execution_count": 143,
     "metadata": {},
     "output_type": "execute_result"
    }
   ],
   "source": [
    "w = np.random.randint(0, 50, (4,4))\n",
    "w"
   ]
  },
  {
   "cell_type": "code",
   "execution_count": 144,
   "metadata": {
    "colab": {
     "base_uri": "https://localhost:8080/"
    },
    "id": "-klwhpICEGcM",
    "outputId": "851b82e1-8aa3-47ea-dcc7-5820e0022f6f"
   },
   "outputs": [
    {
     "data": {
      "text/plain": [
       "-1365267.9999999986"
      ]
     },
     "execution_count": 144,
     "metadata": {},
     "output_type": "execute_result"
    }
   ],
   "source": [
    "#Determinante: sobre matrices cuadradas\n",
    "np.linalg.det(w)"
   ]
  },
  {
   "cell_type": "code",
   "execution_count": 145,
   "metadata": {
    "colab": {
     "base_uri": "https://localhost:8080/"
    },
    "id": "xaxmvVUTEOl4",
    "outputId": "9498bceb-3e6b-4e86-dce5-f0c0f1b7eae0"
   },
   "outputs": [
    {
     "data": {
      "text/plain": [
       "array([[-0.01844034,  0.01348893, -0.0160203 ,  0.02000193],\n",
       "       [-0.02940522,  0.05058494,  0.0161602 , -0.01958224],\n",
       "       [ 0.01687727, -0.0274393 ,  0.01760167,  0.0056846 ],\n",
       "       [ 0.01826162,  0.01396942, -0.01050929, -0.00534987]])"
      ]
     },
     "execution_count": 145,
     "metadata": {},
     "output_type": "execute_result"
    }
   ],
   "source": [
    "#Inversa: sobre matrices cuadradas con determinante diferente de cero\n",
    "np.linalg.inv(w)"
   ]
  },
  {
   "cell_type": "code",
   "execution_count": 148,
   "metadata": {
    "colab": {
     "base_uri": "https://localhost:8080/"
    },
    "id": "hvlPZNpeEYpj",
    "outputId": "a1b35f3c-2af4-4b6d-9c40-567651f5af13"
   },
   "outputs": [
    {
     "data": {
      "text/plain": [
       "array([[ 1.,  0., -0.,  0.],\n",
       "       [-0.,  1.,  0.,  0.],\n",
       "       [ 0., -0.,  1.,  0.],\n",
       "       [-0.,  0.,  0.,  1.]])"
      ]
     },
     "execution_count": 148,
     "metadata": {},
     "output_type": "execute_result"
    }
   ],
   "source": [
    "#multiplicando una matriz con una inversa resulta la matriz identidad\n",
    "np.dot(w,np.linalg.inv(w)).round()"
   ]
  },
  {
   "cell_type": "markdown",
   "metadata": {
    "id": "3ExDfZ4UE6J-"
   },
   "source": [
    "## Aplicación sobre un sistema de escuaciones"
   ]
  },
  {
   "cell_type": "code",
   "execution_count": 150,
   "metadata": {
    "id": "G8NeeNCWE_NN"
   },
   "outputs": [],
   "source": [
    "A = np.array([[2,3,3],[4,1,2],[1,6,1]])\n",
    "b = np.array([10,11,9])"
   ]
  },
  {
   "cell_type": "code",
   "execution_count": 151,
   "metadata": {
    "colab": {
     "base_uri": "https://localhost:8080/"
    },
    "id": "hVCbGWrAFlLB",
    "outputId": "4190c0f3-3f97-4458-98ee-c89a6eb6fc5c"
   },
   "outputs": [
    {
     "data": {
      "text/plain": [
       "array([2., 1., 1.])"
      ]
     },
     "execution_count": 151,
     "metadata": {},
     "output_type": "execute_result"
    }
   ],
   "source": [
    "# X = A**(-1) * B\n",
    "np.dot(np.linalg.inv(A),b)"
   ]
  },
  {
   "cell_type": "markdown",
   "metadata": {
    "id": "_QWhlvz1Fz_F"
   },
   "source": [
    "## Concatenacion de matrices"
   ]
  },
  {
   "cell_type": "code",
   "execution_count": 152,
   "metadata": {
    "colab": {
     "base_uri": "https://localhost:8080/"
    },
    "id": "8z7AIj3oFyhZ",
    "outputId": "7f0b26b6-196a-4727-f1bc-b0931f961e42"
   },
   "outputs": [
    {
     "data": {
      "text/plain": [
       "array([[1, 1, 1],\n",
       "       [1, 1, 1]])"
      ]
     },
     "execution_count": 152,
     "metadata": {},
     "output_type": "execute_result"
    }
   ],
   "source": [
    "p = np.ones([2, 3],int)\n",
    "p"
   ]
  },
  {
   "cell_type": "markdown",
   "metadata": {
    "id": "_3t8o8LPGAyF"
   },
   "source": [
    "Utiliza `vstack` para apilar las matrices o arrays en secuencia verticalmente(en sentido de fila):"
   ]
  },
  {
   "cell_type": "code",
   "execution_count": 153,
   "metadata": {
    "colab": {
     "base_uri": "https://localhost:8080/"
    },
    "id": "dLk_7ycMF_zq",
    "outputId": "d07b225e-e378-4324-9c4d-d51811ce2d65"
   },
   "outputs": [
    {
     "data": {
      "text/plain": [
       "array([[1, 1, 1],\n",
       "       [1, 1, 1],\n",
       "       [2, 2, 2],\n",
       "       [2, 2, 2]])"
      ]
     },
     "execution_count": 153,
     "metadata": {},
     "output_type": "execute_result"
    }
   ],
   "source": [
    "np.vstack((p, 2*p))"
   ]
  },
  {
   "cell_type": "markdown",
   "metadata": {
    "id": "-M4p4aIfGkVI"
   },
   "source": [
    "Usa `column_stack` para concatenar por matrices horizontalmente (permite concatenar una matriz con un array unidimensional):"
   ]
  },
  {
   "cell_type": "code",
   "execution_count": 155,
   "metadata": {
    "colab": {
     "base_uri": "https://localhost:8080/"
    },
    "id": "ZMOUbULzGikv",
    "outputId": "bdd99951-7eb0-4c1b-859a-7f7a8456ad9a"
   },
   "outputs": [
    {
     "data": {
      "text/plain": [
       "array([[1, 1, 1, 3],\n",
       "       [1, 1, 1, 5]])"
      ]
     },
     "execution_count": 155,
     "metadata": {},
     "output_type": "execute_result"
    }
   ],
   "source": [
    "np.column_stack((p,[3,5]))"
   ]
  },
  {
   "cell_type": "markdown",
   "metadata": {
    "id": "jh6C1_ilHJK1"
   },
   "source": [
    "Otro ejemplo:"
   ]
  },
  {
   "cell_type": "code",
   "execution_count": 156,
   "metadata": {
    "colab": {
     "base_uri": "https://localhost:8080/"
    },
    "id": "0joYSzRDHLY3",
    "outputId": "d68058b7-0667-4767-9a71-7aac918f09d6"
   },
   "outputs": [
    {
     "name": "stdout",
     "output_type": "stream",
     "text": [
      "[[3 7 9]\n",
      " [2 7 9]\n",
      " [7 1 4]]\n",
      "-------------------------\n",
      "[[7 4 7]\n",
      " [8 0 2]\n",
      " [7 4 3]]\n",
      "-------------------------\n",
      "[7 3 7 0]\n"
     ]
    }
   ],
   "source": [
    "a = np.random.randint(0, 10, (3,3))\n",
    "b = np.random.randint(0, 10, (3,3))\n",
    "c = np.random.randint(0, 10, 4)\n",
    "\n",
    "print(a)\n",
    "print('-------------------------')\n",
    "print(b)\n",
    "print('-------------------------')\n",
    "print(c)"
   ]
  },
  {
   "cell_type": "code",
   "execution_count": 157,
   "metadata": {
    "colab": {
     "base_uri": "https://localhost:8080/"
    },
    "id": "-C4XjGydHqav",
    "outputId": "2adfb62c-a7d4-4fd2-c3a0-81c709112df6"
   },
   "outputs": [
    {
     "name": "stdout",
     "output_type": "stream",
     "text": [
      "[[3 7 9]\n",
      " [2 7 9]\n",
      " [7 1 4]\n",
      " [7 4 7]\n",
      " [8 0 2]\n",
      " [7 4 3]]\n",
      "---------------------\n",
      "[[3 7 9 7 4 7]\n",
      " [2 7 9 8 0 2]\n",
      " [7 1 4 7 4 3]]\n",
      "---------------------\n",
      "[[3 7 9 7]\n",
      " [2 7 9 3]\n",
      " [7 1 4 7]]\n"
     ]
    }
   ],
   "source": [
    "#Concatenando por fila 2 matrices o arrays\n",
    "m1 = np.vstack((a,b))\n",
    "print(m1)\n",
    "\n",
    "print('---------------------')\n",
    "#concatenando por columna 2 matrices o arrays\n",
    "#(no funciona una matriz con un array)\n",
    "m3 = np.hstack((a,b))\n",
    "print(m3)\n",
    "\n",
    "print('---------------------')\n",
    "#concatenando por columna 2 matrices (previamente vuelve columnas a los arrays)\n",
    "m5 = np.column_stack((a,c[0:3]))\n",
    "print(m5)"
   ]
  },
  {
   "cell_type": "markdown",
   "metadata": {
    "id": "tE-3ktxCI009"
   },
   "source": [
    "## Seleccionar elementos"
   ]
  },
  {
   "cell_type": "markdown",
   "metadata": {
    "id": "AxcGyMPVJyyZ"
   },
   "source": [
    "### Indexing"
   ]
  },
  {
   "cell_type": "code",
   "execution_count": 163,
   "metadata": {
    "colab": {
     "base_uri": "https://localhost:8080/"
    },
    "id": "fgz3jWlII50Q",
    "outputId": "17533a8b-1e1d-49e2-d01a-e4f83c7f0732"
   },
   "outputs": [
    {
     "data": {
      "text/plain": [
       "array([  0,   1,   4,   9,  16,  25,  36,  49,  64,  81, 100, 121, 144])"
      ]
     },
     "execution_count": 163,
     "metadata": {},
     "output_type": "execute_result"
    }
   ],
   "source": [
    "s = np.arange(13)**2\n",
    "s"
   ]
  },
  {
   "cell_type": "markdown",
   "metadata": {
    "id": "RI5f4omfJ7Uj"
   },
   "source": [
    "Usa la notacion de corchetes para obtener el valor de un indice especifico. Recuerda que la indexacion comienza con 0:"
   ]
  },
  {
   "cell_type": "code",
   "execution_count": 159,
   "metadata": {
    "colab": {
     "base_uri": "https://localhost:8080/"
    },
    "id": "riInCrkyKHhy",
    "outputId": "c29ed005-d0c9-4f76-fb72-6f1136788a1d"
   },
   "outputs": [
    {
     "data": {
      "text/plain": [
       "(0, 16, 144)"
      ]
     },
     "execution_count": 159,
     "metadata": {},
     "output_type": "execute_result"
    }
   ],
   "source": [
    "s[0], s[4], s[-1]     #esta salida seguidas de comas se almacena por defecto en un tupla"
   ]
  },
  {
   "cell_type": "markdown",
   "metadata": {
    "id": "I41ZY4-0KXIC"
   },
   "source": [
    "Usa : para indicar un rango `array[start:stop]`<br>\n",
    "Si se deja vacío `start` o `stop`, el inicio/final de la matriz sera predeterminado:"
   ]
  },
  {
   "cell_type": "code",
   "execution_count": 160,
   "metadata": {
    "colab": {
     "base_uri": "https://localhost:8080/"
    },
    "id": "y_gs84knKVzF",
    "outputId": "41fa5033-3fa5-4d8f-ee65-09921204e207"
   },
   "outputs": [
    {
     "data": {
      "text/plain": [
       "array([ 1,  4,  9, 16])"
      ]
     },
     "execution_count": 160,
     "metadata": {},
     "output_type": "execute_result"
    }
   ],
   "source": [
    "s[1:5]"
   ]
  },
  {
   "cell_type": "markdown",
   "metadata": {
    "id": "MRtOYRa6LK1x"
   },
   "source": [
    "Usa negativos para contar desde el final:"
   ]
  },
  {
   "cell_type": "code",
   "execution_count": 161,
   "metadata": {
    "colab": {
     "base_uri": "https://localhost:8080/"
    },
    "id": "ayQmVVvULYNN",
    "outputId": "33891cd1-5fc4-4e31-fcd6-43bcf15afd15"
   },
   "outputs": [
    {
     "data": {
      "text/plain": [
       "array([  0,   1,   4,   9,  16,  25,  36,  49,  64,  81, 100, 121, 144])"
      ]
     },
     "execution_count": 161,
     "metadata": {},
     "output_type": "execute_result"
    }
   ],
   "source": [
    "s"
   ]
  },
  {
   "cell_type": "code",
   "execution_count": 164,
   "metadata": {
    "colab": {
     "base_uri": "https://localhost:8080/"
    },
    "id": "9HBNkz6mLQU1",
    "outputId": "1779cc0e-63d6-4454-ee3c-6a5e9fce08f9"
   },
   "outputs": [
    {
     "data": {
      "text/plain": [
       "array([ 81, 100, 121, 144])"
      ]
     },
     "execution_count": 164,
     "metadata": {},
     "output_type": "execute_result"
    }
   ],
   "source": [
    "s[-4:]"
   ]
  },
  {
   "cell_type": "markdown",
   "metadata": {
    "id": "U_zDZZIwLbFk"
   },
   "source": [
    "Se puede usar un segundo: para indicar la magnitud del paso en el que se van a tomar los elementos: `array[start:stop:stepsize] `\n",
    "Aqui estamos comenzando en el quinto elemento desde el final, y contando en 2 hacia atras hasta llegar al comienzo de la matriz:"
   ]
  },
  {
   "cell_type": "code",
   "execution_count": 165,
   "metadata": {
    "colab": {
     "base_uri": "https://localhost:8080/"
    },
    "id": "3bVry7dbLP1h",
    "outputId": "280dab73-a88b-47bc-c7e4-fba17f65206f"
   },
   "outputs": [
    {
     "data": {
      "text/plain": [
       "array([64, 36, 16,  4,  0])"
      ]
     },
     "execution_count": 165,
     "metadata": {},
     "output_type": "execute_result"
    }
   ],
   "source": [
    "s[-5::-2]"
   ]
  },
  {
   "cell_type": "code",
   "execution_count": 166,
   "metadata": {
    "colab": {
     "base_uri": "https://localhost:8080/"
    },
    "id": "UaO7aGV1MFjE",
    "outputId": "1ae8afba-bc5f-4595-ea4d-580d90d338ba"
   },
   "outputs": [
    {
     "data": {
      "text/plain": [
       "array([ 64, 100, 144])"
      ]
     },
     "execution_count": 166,
     "metadata": {},
     "output_type": "execute_result"
    }
   ],
   "source": [
    "s[-5::2]"
   ]
  },
  {
   "cell_type": "markdown",
   "metadata": {
    "id": "WTj2jyP2MKbl"
   },
   "source": [
    "**Para matrices:** Usa la notacion de parentesis para dividir: `matriz[fila, columna]`"
   ]
  },
  {
   "cell_type": "code",
   "execution_count": 167,
   "metadata": {
    "colab": {
     "base_uri": "https://localhost:8080/"
    },
    "id": "IBHZEhC6MJdT",
    "outputId": "e5c688ca-0732-4557-aeb4-d06671cb04ec"
   },
   "outputs": [
    {
     "data": {
      "text/plain": [
       "array([[10,  9, 35, 20, 42, 45, 15, 42, 16, 25],\n",
       "       [ 1, 11, 13, 26, 47, 33, 44, 46,  4, 33],\n",
       "       [ 8,  2, 12, 20, 27, 31,  2,  5, 26, 15],\n",
       "       [25, 22, 43,  5, 37, 49,  4, 37, 16,  2],\n",
       "       [ 2, 19, 21, 28, 43,  5, 26, 14, 40,  5],\n",
       "       [ 6, 42, 26, 10,  3, 21, 11,  1, 18, 35],\n",
       "       [22, 41, 41, 24, 48, 42,  3,  7, 36, 11],\n",
       "       [33, 12,  4, 33, 15,  5, 47, 21,  6,  1],\n",
       "       [ 9, 48, 37, 42, 40, 13,  9,  1, 18,  2],\n",
       "       [25, 21, 12, 42,  4, 29, 49, 14, 22,  3]])"
      ]
     },
     "execution_count": 167,
     "metadata": {},
     "output_type": "execute_result"
    }
   ],
   "source": [
    "np.random.seed(6)\n",
    "r = np.random.randint(0, 50, (10,10))\n",
    "r"
   ]
  },
  {
   "cell_type": "code",
   "execution_count": 168,
   "metadata": {
    "colab": {
     "base_uri": "https://localhost:8080/"
    },
    "id": "B4GX1B3qUGHK",
    "outputId": "7a2e3989-9fa3-4261-8f00-c64d48687789"
   },
   "outputs": [
    {
     "data": {
      "text/plain": [
       "20"
      ]
     },
     "execution_count": 168,
     "metadata": {},
     "output_type": "execute_result"
    }
   ],
   "source": [
    "r[2,3]"
   ]
  },
  {
   "cell_type": "code",
   "execution_count": 169,
   "metadata": {
    "colab": {
     "base_uri": "https://localhost:8080/"
    },
    "id": "JHhPy1WwVv0W",
    "outputId": "ba118c89-7044-4c2e-cbb4-1a68b7ecb918"
   },
   "outputs": [
    {
     "data": {
      "text/plain": [
       "20"
      ]
     },
     "execution_count": 169,
     "metadata": {},
     "output_type": "execute_result"
    }
   ],
   "source": [
    "r.T[3,2]"
   ]
  },
  {
   "cell_type": "code",
   "execution_count": 171,
   "metadata": {},
   "outputs": [
    {
     "data": {
      "text/plain": [
       "array([[10,  9, 35, 20, 42, 45, 15, 42, 16, 25,  1, 11, 13, 26, 47, 33,\n",
       "        44, 46,  4, 33,  8,  2, 12, 20, 27, 31,  2,  5, 26, 15, 25, 22,\n",
       "        43,  5, 37, 49,  4, 37, 16,  2,  2, 19, 21, 28, 43,  5, 26, 14,\n",
       "        40,  5],\n",
       "       [ 6, 42, 26, 10,  3, 21, 11,  1, 18, 35, 22, 41, 41, 24, 48, 42,\n",
       "         3,  7, 36, 11, 33, 12,  4, 33, 15,  5, 47, 21,  6,  1,  9, 48,\n",
       "        37, 42, 40, 13,  9,  1, 18,  2, 25, 21, 12, 42,  4, 29, 49, 14,\n",
       "        22,  3]])"
      ]
     },
     "execution_count": 171,
     "metadata": {},
     "output_type": "execute_result"
    }
   ],
   "source": [
    "r2"
   ]
  },
  {
   "cell_type": "code",
   "execution_count": 170,
   "metadata": {
    "colab": {
     "base_uri": "https://localhost:8080/"
    },
    "id": "0BkBSgjbV-Ty",
    "outputId": "fec5aad3-4486-4973-ab91-61733b99a16e"
   },
   "outputs": [
    {
     "data": {
      "text/plain": [
       "45"
      ]
     },
     "execution_count": 170,
     "metadata": {},
     "output_type": "execute_result"
    }
   ],
   "source": [
    "r2=r.reshape(2,50)\n",
    "r2[0,5]"
   ]
  },
  {
   "cell_type": "code",
   "execution_count": 172,
   "metadata": {
    "colab": {
     "base_uri": "https://localhost:8080/"
    },
    "id": "N3DWjedMXsbs",
    "outputId": "8c00c0bf-abe2-4e53-86f0-2f73ae419bcd"
   },
   "outputs": [
    {
     "data": {
      "text/plain": [
       "array([[10,  9, 35, 20, 42, 45, 15, 42, 16, 25],\n",
       "       [ 1, 11, 13, 26, 47, 33, 44, 46,  4, 33],\n",
       "       [ 8,  2, 12, 20, 27, 31,  2,  5, 26, 15],\n",
       "       [25, 22, 43,  5, 37, 49,  4, 37, 16,  2],\n",
       "       [ 2, 19, 21, 28, 43,  5, 26, 14, 40,  5],\n",
       "       [ 6, 42, 26, 10,  3, 21, 11,  1, 18, 35],\n",
       "       [22, 41, 41, 24, 48, 42,  3,  7, 36, 11],\n",
       "       [33, 12,  4, 33, 15,  5, 47, 21,  6,  1],\n",
       "       [ 9, 48, 37, 42, 40, 13,  9,  1, 18,  2],\n",
       "       [25, 21, 12, 42,  4, 29, 49, 14, 22,  3]])"
      ]
     },
     "execution_count": 172,
     "metadata": {},
     "output_type": "execute_result"
    }
   ],
   "source": [
    "r.reshape(10,10)"
   ]
  },
  {
   "cell_type": "code",
   "execution_count": 173,
   "metadata": {
    "colab": {
     "base_uri": "https://localhost:8080/"
    },
    "id": "W-e1uktAW2mp",
    "outputId": "4a7729fa-4e6d-4d81-c39e-f4fbd2a72b28"
   },
   "outputs": [
    {
     "data": {
      "text/plain": [
       "1"
      ]
     },
     "execution_count": 173,
     "metadata": {},
     "output_type": "execute_result"
    }
   ],
   "source": [
    "r3=r.reshape(50,2)\n",
    "r3[5,0]"
   ]
  },
  {
   "cell_type": "code",
   "execution_count": 174,
   "metadata": {
    "colab": {
     "base_uri": "https://localhost:8080/"
    },
    "id": "z5RQDfq4X-Sa",
    "outputId": "ce749a43-7c91-4861-dcc1-a8884e36a8fa"
   },
   "outputs": [
    {
     "data": {
      "text/plain": [
       "array([[10,  9, 35, 20, 42, 45, 15, 42, 16, 25],\n",
       "       [ 1, 11, 13, 26, 47, 33, 44, 46,  4, 33],\n",
       "       [ 8,  2, 12, 20, 27, 31,  2,  5, 26, 15],\n",
       "       [25, 22, 43,  5, 37, 49,  4, 37, 16,  2],\n",
       "       [ 2, 19, 21, 28, 43,  5, 26, 14, 40,  5],\n",
       "       [ 6, 42, 26, 10,  3, 21, 11,  1, 18, 35],\n",
       "       [22, 41, 41, 24, 48, 42,  3,  7, 36, 11],\n",
       "       [33, 12,  4, 33, 15,  5, 47, 21,  6,  1],\n",
       "       [ 9, 48, 37, 42, 40, 13,  9,  1, 18,  2],\n",
       "       [25, 21, 12, 42,  4, 29, 49, 14, 22,  3]])"
      ]
     },
     "execution_count": 174,
     "metadata": {},
     "output_type": "execute_result"
    }
   ],
   "source": [
    "r"
   ]
  },
  {
   "cell_type": "code",
   "execution_count": 179,
   "metadata": {
    "id": "rGwcr0MIX_f6"
   },
   "outputs": [],
   "source": [
    "r3 = r.resize(50,2) #resize hace el cambio definitivo en r pero no se puede asignar un r3 ( r es unico)"
   ]
  },
  {
   "cell_type": "code",
   "execution_count": 182,
   "metadata": {
    "colab": {
     "base_uri": "https://localhost:8080/"
    },
    "id": "hYxt2khvYFF9",
    "outputId": "88201f95-aaf3-4ec5-eed4-c4bc819cb702"
   },
   "outputs": [
    {
     "ename": "AttributeError",
     "evalue": "'NoneType' object has no attribute 'resize'",
     "output_type": "error",
     "traceback": [
      "\u001b[1;31m---------------------------------------------------------------------------\u001b[0m",
      "\u001b[1;31mAttributeError\u001b[0m                            Traceback (most recent call last)",
      "Cell \u001b[1;32mIn[182], line 1\u001b[0m\n\u001b[1;32m----> 1\u001b[0m r4\u001b[38;5;241m=\u001b[39m\u001b[43mr3\u001b[49m\u001b[38;5;241;43m.\u001b[39;49m\u001b[43mresize\u001b[49m(\u001b[38;5;241m50\u001b[39m,\u001b[38;5;241m2\u001b[39m)\n",
      "\u001b[1;31mAttributeError\u001b[0m: 'NoneType' object has no attribute 'resize'"
     ]
    }
   ],
   "source": [
    "r4=r3.resize(50,2)"
   ]
  },
  {
   "cell_type": "markdown",
   "metadata": {
    "id": "Tan3Ele0USLP"
   },
   "source": [
    "Y usa : para seleccionar un rango de filas o columnas"
   ]
  },
  {
   "cell_type": "code",
   "execution_count": 197,
   "metadata": {},
   "outputs": [
    {
     "data": {
      "text/plain": [
       "array([[10,  9],\n",
       "       [35, 20],\n",
       "       [42, 45],\n",
       "       [15, 42],\n",
       "       [16, 25],\n",
       "       [ 1, 11],\n",
       "       [13, 26],\n",
       "       [47, 33],\n",
       "       [44, 46],\n",
       "       [ 4, 33],\n",
       "       [ 8,  2],\n",
       "       [12, 20],\n",
       "       [27, 31],\n",
       "       [ 2,  5],\n",
       "       [26, 15],\n",
       "       [25, 22],\n",
       "       [43,  5],\n",
       "       [37, 49],\n",
       "       [ 4, 37],\n",
       "       [16,  2],\n",
       "       [ 2, 19],\n",
       "       [21, 28],\n",
       "       [43,  5],\n",
       "       [26, 14],\n",
       "       [40,  5],\n",
       "       [ 6, 42],\n",
       "       [26, 10],\n",
       "       [ 3, 21],\n",
       "       [11,  1],\n",
       "       [18, 35],\n",
       "       [22, 41],\n",
       "       [41, 24],\n",
       "       [48, 42],\n",
       "       [ 3,  7],\n",
       "       [36, 11],\n",
       "       [33, 12],\n",
       "       [ 4, 33],\n",
       "       [15,  5],\n",
       "       [47, 21],\n",
       "       [ 6,  1],\n",
       "       [ 9, 48],\n",
       "       [37, 42],\n",
       "       [40, 13],\n",
       "       [ 9,  1],\n",
       "       [18,  2],\n",
       "       [25, 21],\n",
       "       [12, 42],\n",
       "       [ 4, 29],\n",
       "       [49, 14],\n",
       "       [22,  3]])"
      ]
     },
     "execution_count": 197,
     "metadata": {},
     "output_type": "execute_result"
    }
   ],
   "source": [
    "r"
   ]
  },
  {
   "cell_type": "code",
   "execution_count": 196,
   "metadata": {
    "colab": {
     "base_uri": "https://localhost:8080/"
    },
    "id": "_B9PMFJ9UImi",
    "outputId": "d769e612-9f11-4f5c-e003-8f57e98cbd84"
   },
   "outputs": [
    {
     "data": {
      "text/plain": [
       "array([], dtype=int32)"
      ]
     },
     "execution_count": 196,
     "metadata": {},
     "output_type": "execute_result"
    }
   ],
   "source": [
    "r[3, 3:6]"
   ]
  },
  {
   "cell_type": "code",
   "execution_count": 192,
   "metadata": {
    "colab": {
     "base_uri": "https://localhost:8080/"
    },
    "id": "QPosOZV9ZsFB",
    "outputId": "24cd0ef5-a4fc-43fb-f43f-15241ddc1b1c"
   },
   "outputs": [
    {
     "data": {
      "text/plain": [
       "array([[10,  9],\n",
       "       [35, 20]])"
      ]
     },
     "execution_count": 192,
     "metadata": {},
     "output_type": "execute_result"
    }
   ],
   "source": [
    "r[0:2,0:2]"
   ]
  },
  {
   "cell_type": "code",
   "execution_count": 198,
   "metadata": {},
   "outputs": [
    {
     "data": {
      "text/plain": [
       "array([[10,  9],\n",
       "       [35, 20],\n",
       "       [42, 45],\n",
       "       [15, 42],\n",
       "       [16, 25],\n",
       "       [ 1, 11],\n",
       "       [13, 26],\n",
       "       [47, 33],\n",
       "       [44, 46],\n",
       "       [ 4, 33],\n",
       "       [ 8,  2],\n",
       "       [12, 20],\n",
       "       [27, 31],\n",
       "       [ 2,  5],\n",
       "       [26, 15],\n",
       "       [25, 22],\n",
       "       [43,  5],\n",
       "       [37, 49],\n",
       "       [ 4, 37],\n",
       "       [16,  2],\n",
       "       [ 2, 19],\n",
       "       [21, 28],\n",
       "       [43,  5],\n",
       "       [26, 14],\n",
       "       [40,  5],\n",
       "       [ 6, 42],\n",
       "       [26, 10],\n",
       "       [ 3, 21],\n",
       "       [11,  1],\n",
       "       [18, 35],\n",
       "       [22, 41],\n",
       "       [41, 24],\n",
       "       [48, 42],\n",
       "       [ 3,  7],\n",
       "       [36, 11],\n",
       "       [33, 12],\n",
       "       [ 4, 33],\n",
       "       [15,  5],\n",
       "       [47, 21],\n",
       "       [ 6,  1],\n",
       "       [ 9, 48],\n",
       "       [37, 42],\n",
       "       [40, 13],\n",
       "       [ 9,  1],\n",
       "       [18,  2],\n",
       "       [25, 21],\n",
       "       [12, 42],\n",
       "       [ 4, 29],\n",
       "       [49, 14],\n",
       "       [22,  3]])"
      ]
     },
     "execution_count": 198,
     "metadata": {},
     "output_type": "execute_result"
    }
   ],
   "source": [
    "r"
   ]
  },
  {
   "cell_type": "code",
   "execution_count": 200,
   "metadata": {
    "colab": {
     "base_uri": "https://localhost:8080/"
    },
    "id": "WgGCsqFXZ1a0",
    "outputId": "5bd20dd1-7d9b-4f69-9c87-2f8e84230cbc"
   },
   "outputs": [
    {
     "data": {
      "text/plain": [
       "array([[20]])"
      ]
     },
     "execution_count": 200,
     "metadata": {},
     "output_type": "execute_result"
    }
   ],
   "source": [
    "r[1:2,1:]"
   ]
  },
  {
   "cell_type": "markdown",
   "metadata": {
    "id": "RvCEkGotaDbL"
   },
   "source": [
    "Aqui estamos seleccionando todas las filas hasta (y sin incluir) la fila 2, y todas las columnas hasta(y sin incluir) la ultima columna:"
   ]
  },
  {
   "cell_type": "code",
   "execution_count": 201,
   "metadata": {
    "colab": {
     "base_uri": "https://localhost:8080/"
    },
    "id": "aEs01RzqZ39S",
    "outputId": "52342250-0827-4fe2-9882-e92af97526d1"
   },
   "outputs": [
    {
     "data": {
      "text/plain": [
       "array([[10,  9],\n",
       "       [35, 20],\n",
       "       [42, 45],\n",
       "       [15, 42],\n",
       "       [16, 25],\n",
       "       [ 1, 11],\n",
       "       [13, 26],\n",
       "       [47, 33],\n",
       "       [44, 46],\n",
       "       [ 4, 33],\n",
       "       [ 8,  2],\n",
       "       [12, 20],\n",
       "       [27, 31],\n",
       "       [ 2,  5],\n",
       "       [26, 15],\n",
       "       [25, 22],\n",
       "       [43,  5],\n",
       "       [37, 49],\n",
       "       [ 4, 37],\n",
       "       [16,  2],\n",
       "       [ 2, 19],\n",
       "       [21, 28],\n",
       "       [43,  5],\n",
       "       [26, 14],\n",
       "       [40,  5],\n",
       "       [ 6, 42],\n",
       "       [26, 10],\n",
       "       [ 3, 21],\n",
       "       [11,  1],\n",
       "       [18, 35],\n",
       "       [22, 41],\n",
       "       [41, 24],\n",
       "       [48, 42],\n",
       "       [ 3,  7],\n",
       "       [36, 11],\n",
       "       [33, 12],\n",
       "       [ 4, 33],\n",
       "       [15,  5],\n",
       "       [47, 21],\n",
       "       [ 6,  1],\n",
       "       [ 9, 48],\n",
       "       [37, 42],\n",
       "       [40, 13],\n",
       "       [ 9,  1],\n",
       "       [18,  2],\n",
       "       [25, 21],\n",
       "       [12, 42],\n",
       "       [ 4, 29],\n",
       "       [49, 14],\n",
       "       [22,  3]])"
      ]
     },
     "execution_count": 201,
     "metadata": {},
     "output_type": "execute_result"
    }
   ],
   "source": [
    "r"
   ]
  },
  {
   "cell_type": "code",
   "execution_count": 202,
   "metadata": {
    "colab": {
     "base_uri": "https://localhost:8080/"
    },
    "id": "ysE715C4Zb26",
    "outputId": "16ce16e8-3da2-41f0-a8c8-a3ebbaa12de7"
   },
   "outputs": [
    {
     "data": {
      "text/plain": [
       "array([[10],\n",
       "       [35]])"
      ]
     },
     "execution_count": 202,
     "metadata": {},
     "output_type": "execute_result"
    }
   ],
   "source": [
    "r[:2, :-1] #en el python no se toma el orden -1"
   ]
  },
  {
   "cell_type": "code",
   "execution_count": 203,
   "metadata": {
    "colab": {
     "base_uri": "https://localhost:8080/"
    },
    "id": "mjAqs3LjZf7u",
    "outputId": "8b9f104b-ab86-46df-9ca1-8cae4c1ecad8"
   },
   "outputs": [
    {
     "data": {
      "text/plain": [
       "array([[10],\n",
       "       [35]])"
      ]
     },
     "execution_count": 203,
     "metadata": {},
     "output_type": "execute_result"
    }
   ],
   "source": [
    "r[0:2, 0:-1]"
   ]
  },
  {
   "cell_type": "markdown",
   "metadata": {
    "id": "h3uLlcELZoHt"
   },
   "source": [
    "Esta es una porción de la ultima fila, y solo los elementos pares:"
   ]
  },
  {
   "cell_type": "code",
   "execution_count": 204,
   "metadata": {
    "colab": {
     "base_uri": "https://localhost:8080/"
    },
    "id": "b6tNONvWZuWi",
    "outputId": "98301cbd-f246-44f4-bd46-dd9a31bddce5"
   },
   "outputs": [
    {
     "data": {
      "text/plain": [
       "array([22])"
      ]
     },
     "execution_count": 204,
     "metadata": {},
     "output_type": "execute_result"
    }
   ],
   "source": [
    "r[-1, ::2]"
   ]
  },
  {
   "cell_type": "markdown",
   "metadata": {
    "id": "7dF1HcIcZzmU"
   },
   "source": [
    "También podemos realizar indexacion condicional. Aqui estamos seleccionando valores de la matriz que son mayores que 30:"
   ]
  },
  {
   "cell_type": "code",
   "execution_count": 206,
   "metadata": {
    "colab": {
     "base_uri": "https://localhost:8080/"
    },
    "id": "gH3ZUWNDaxtb",
    "outputId": "9176e12c-2b18-4a6a-f693-81f2fe37d556"
   },
   "outputs": [
    {
     "data": {
      "text/plain": [
       "array([35, 42, 45, 42, 47, 33, 44, 46, 33, 31, 43, 37, 49, 37, 43, 40, 42,\n",
       "       35, 41, 41, 48, 42, 36, 33, 33, 47, 48, 37, 42, 40, 42, 29, 49])"
      ]
     },
     "execution_count": 206,
     "metadata": {},
     "output_type": "execute_result"
    }
   ],
   "source": [
    "r[r > 28]"
   ]
  },
  {
   "cell_type": "markdown",
   "metadata": {
    "id": "sZ2F0x4Ka3Vq"
   },
   "source": [
    "Aqui estamos asignando el valor 30 a todos los valores de la matriz que son mayores que 30."
   ]
  },
  {
   "cell_type": "code",
   "execution_count": 207,
   "metadata": {
    "colab": {
     "base_uri": "https://localhost:8080/"
    },
    "id": "tvPBtbHia99o",
    "outputId": "cf3357ac-7fca-4294-dcf8-c88d351645f5"
   },
   "outputs": [
    {
     "data": {
      "text/plain": [
       "array([[10,  9],\n",
       "       [30, 20],\n",
       "       [30, 30],\n",
       "       [15, 30],\n",
       "       [16, 25],\n",
       "       [ 1, 11],\n",
       "       [13, 26],\n",
       "       [30, 30],\n",
       "       [30, 30],\n",
       "       [ 4, 30],\n",
       "       [ 8,  2],\n",
       "       [12, 20],\n",
       "       [27, 30],\n",
       "       [ 2,  5],\n",
       "       [26, 15],\n",
       "       [25, 22],\n",
       "       [30,  5],\n",
       "       [30, 30],\n",
       "       [ 4, 30],\n",
       "       [16,  2],\n",
       "       [ 2, 19],\n",
       "       [21, 28],\n",
       "       [30,  5],\n",
       "       [26, 14],\n",
       "       [30,  5],\n",
       "       [ 6, 30],\n",
       "       [26, 10],\n",
       "       [ 3, 21],\n",
       "       [11,  1],\n",
       "       [18, 30],\n",
       "       [22, 30],\n",
       "       [30, 24],\n",
       "       [30, 30],\n",
       "       [ 3,  7],\n",
       "       [30, 11],\n",
       "       [30, 12],\n",
       "       [ 4, 30],\n",
       "       [15,  5],\n",
       "       [30, 21],\n",
       "       [ 6,  1],\n",
       "       [ 9, 30],\n",
       "       [30, 30],\n",
       "       [30, 13],\n",
       "       [ 9,  1],\n",
       "       [18,  2],\n",
       "       [25, 21],\n",
       "       [12, 30],\n",
       "       [ 4, 29],\n",
       "       [30, 14],\n",
       "       [22,  3]])"
      ]
     },
     "execution_count": 207,
     "metadata": {},
     "output_type": "execute_result"
    }
   ],
   "source": [
    "r[r > 30] = 30\n",
    "r"
   ]
  },
  {
   "cell_type": "markdown",
   "metadata": {
    "id": "sughXPeUbL1x"
   },
   "source": [
    "## Slicing"
   ]
  },
  {
   "cell_type": "code",
   "execution_count": 208,
   "metadata": {
    "colab": {
     "base_uri": "https://localhost:8080/"
    },
    "id": "q02o6YI7cGVz",
    "outputId": "ada16935-506a-4692-cd2f-9dce39b0028a"
   },
   "outputs": [
    {
     "data": {
      "text/plain": [
       "array([2, 3])"
      ]
     },
     "execution_count": 208,
     "metadata": {},
     "output_type": "execute_result"
    }
   ],
   "source": [
    "x = np.array([1,2,3])\n",
    "x[1:]"
   ]
  },
  {
   "cell_type": "code",
   "execution_count": 219,
   "metadata": {},
   "outputs": [
    {
     "data": {
      "text/plain": [
       "(50, 2)"
      ]
     },
     "execution_count": 219,
     "metadata": {},
     "output_type": "execute_result"
    }
   ],
   "source": [
    "np.shape(r)"
   ]
  },
  {
   "cell_type": "code",
   "execution_count": 210,
   "metadata": {
    "colab": {
     "base_uri": "https://localhost:8080/"
    },
    "id": "CAAIO75PbOxL",
    "outputId": "c95f95cb-343a-4d6a-9cf5-fbabf5efd632"
   },
   "outputs": [
    {
     "data": {
      "text/plain": [
       "array([], shape=(1, 0), dtype=int32)"
      ]
     },
     "execution_count": 210,
     "metadata": {},
     "output_type": "execute_result"
    }
   ],
   "source": [
    "r[1:2, 2:]"
   ]
  },
  {
   "cell_type": "code",
   "execution_count": 211,
   "metadata": {
    "colab": {
     "base_uri": "https://localhost:8080/"
    },
    "id": "aLDJPDTXbZhs",
    "outputId": "27bccd74-ed83-44b0-91be-6023e07c5582"
   },
   "outputs": [
    {
     "data": {
      "text/plain": [
       "array([[10,  9],\n",
       "       [30, 20]])"
      ]
     },
     "execution_count": 211,
     "metadata": {},
     "output_type": "execute_result"
    }
   ],
   "source": [
    "r[0:2,0:3]"
   ]
  },
  {
   "cell_type": "code",
   "execution_count": 214,
   "metadata": {
    "id": "L2jeSPDBbaHc"
   },
   "outputs": [
    {
     "data": {
      "text/plain": [
       "array([[False, False],\n",
       "       [ True, False],\n",
       "       [ True,  True],\n",
       "       [False,  True],\n",
       "       [False, False],\n",
       "       [False, False],\n",
       "       [False,  True],\n",
       "       [ True,  True],\n",
       "       [ True,  True],\n",
       "       [False,  True],\n",
       "       [False, False],\n",
       "       [False, False],\n",
       "       [ True,  True],\n",
       "       [False, False],\n",
       "       [ True, False],\n",
       "       [False, False],\n",
       "       [ True, False],\n",
       "       [ True,  True],\n",
       "       [False,  True],\n",
       "       [False, False],\n",
       "       [False, False],\n",
       "       [False,  True],\n",
       "       [ True, False],\n",
       "       [ True, False],\n",
       "       [ True, False],\n",
       "       [False,  True],\n",
       "       [ True, False],\n",
       "       [False, False],\n",
       "       [False, False],\n",
       "       [False,  True],\n",
       "       [False,  True],\n",
       "       [ True, False],\n",
       "       [ True,  True],\n",
       "       [False, False],\n",
       "       [ True, False],\n",
       "       [ True, False],\n",
       "       [False,  True],\n",
       "       [False, False],\n",
       "       [ True, False],\n",
       "       [False, False],\n",
       "       [False,  True],\n",
       "       [ True,  True],\n",
       "       [ True, False],\n",
       "       [False, False],\n",
       "       [False, False],\n",
       "       [False, False],\n",
       "       [False,  True],\n",
       "       [False,  True],\n",
       "       [ True, False],\n",
       "       [False, False]])"
      ]
     },
     "execution_count": 214,
     "metadata": {},
     "output_type": "execute_result"
    }
   ],
   "source": [
    "#Numpy permite crear máscaras fácilmente usando condiciones booleanas\n",
    "r>25"
   ]
  },
  {
   "cell_type": "code",
   "execution_count": 213,
   "metadata": {
    "id": "0M80T821bagQ"
   },
   "outputs": [
    {
     "data": {
      "text/plain": [
       "array([30, 30, 30, 30, 26, 30, 30, 30, 30, 30, 27, 30, 26, 30, 30, 30, 30,\n",
       "       28, 30, 26, 30, 30, 26, 30, 30, 30, 30, 30, 30, 30, 30, 30, 30, 30,\n",
       "       30, 30, 30, 29, 30])"
      ]
     },
     "execution_count": 213,
     "metadata": {},
     "output_type": "execute_result"
    }
   ],
   "source": [
    "# Extraer los valores de x que satisfacen la condicion booleana. Para ello usamos la mascara\n",
    "r[r>25]"
   ]
  },
  {
   "cell_type": "code",
   "execution_count": 215,
   "metadata": {
    "id": "54ybJMdvbwu3"
   },
   "outputs": [
    {
     "data": {
      "text/plain": [
       "array([921, 909])"
      ]
     },
     "execution_count": 215,
     "metadata": {},
     "output_type": "execute_result"
    }
   ],
   "source": [
    "# Sumar los valores de un arreglo 2D a lo largo del eje Y (columnas)\n",
    "np.sum(r, axis=0)"
   ]
  },
  {
   "cell_type": "code",
   "execution_count": 216,
   "metadata": {
    "id": "JFGt-SKJb7yM"
   },
   "outputs": [
    {
     "data": {
      "text/plain": [
       "array([19, 50, 60, 45, 41, 12, 39, 60, 60, 34, 10, 32, 57,  7, 41, 47, 35,\n",
       "       60, 34, 18, 21, 49, 35, 40, 35, 36, 36, 24, 12, 48, 52, 54, 60, 10,\n",
       "       41, 42, 34, 20, 51,  7, 39, 60, 43, 10, 20, 46, 42, 33, 44, 25])"
      ]
     },
     "execution_count": 216,
     "metadata": {},
     "output_type": "execute_result"
    }
   ],
   "source": [
    "# Sumar los valores de un arreglo 2D a lo largo del eje x (filas)\n",
    "np.sum(r, axis=1)"
   ]
  },
  {
   "cell_type": "markdown",
   "metadata": {
    "id": "IM90GCmschz8"
   },
   "source": [
    "## Iterando sobre matrices (importante para machine learning)"
   ]
  },
  {
   "cell_type": "markdown",
   "metadata": {
    "id": "kvDOi3Sbcnb5"
   },
   "source": [
    "Creamos una matriz de 4 por 3 con numeros aleatorios de 0-9:"
   ]
  },
  {
   "cell_type": "code",
   "execution_count": 224,
   "metadata": {
    "colab": {
     "base_uri": "https://localhost:8080/"
    },
    "id": "Yyf7HWDCcmuS",
    "outputId": "96f501cc-32e2-4f23-9d81-1763e519650d"
   },
   "outputs": [
    {
     "data": {
      "text/plain": [
       "array([[301, 684, 120],\n",
       "       [847, 313, 978],\n",
       "       [928, 204, 750],\n",
       "       [942, 151, 406]])"
      ]
     },
     "execution_count": 224,
     "metadata": {},
     "output_type": "execute_result"
    }
   ],
   "source": [
    "test = np.random.randint(0, 1000, (4,3))\n",
    "test"
   ]
  },
  {
   "cell_type": "markdown",
   "metadata": {
    "id": "IlFCiZ7Dc0nx"
   },
   "source": [
    "iterar por fila:"
   ]
  },
  {
   "cell_type": "code",
   "execution_count": 225,
   "metadata": {
    "colab": {
     "base_uri": "https://localhost:8080/"
    },
    "id": "23J6eznNc2S2",
    "outputId": "d73c78ac-a3e8-49fc-d11f-c51fbed8b88b"
   },
   "outputs": [
    {
     "name": "stdout",
     "output_type": "stream",
     "text": [
      "[301 684 120]\n",
      "-----------\n",
      "[847 313 978]\n",
      "-----------\n",
      "[928 204 750]\n",
      "-----------\n",
      "[942 151 406]\n",
      "-----------\n"
     ]
    }
   ],
   "source": [
    "for row in test:\n",
    "    print(row)\n",
    "    print(\"-----------\")"
   ]
  },
  {
   "cell_type": "markdown",
   "metadata": {
    "id": "3X8ZpVffdMHW"
   },
   "source": [
    "Iterar por índice y por fila con **enumerate:**"
   ]
  },
  {
   "cell_type": "code",
   "execution_count": null,
   "metadata": {
    "colab": {
     "base_uri": "https://localhost:8080/"
    },
    "id": "ZsGaO75TdSPq",
    "outputId": "e68454b5-e938-4604-bd9f-8ac1afce2fb8"
   },
   "outputs": [
    {
     "name": "stdout",
     "output_type": "stream",
     "text": [
      "row 0 is [673  36 233]\n",
      "-----------------------\n",
      "row 1 is [920  60 206]\n",
      "-----------------------\n",
      "row 2 is [458 762 698]\n",
      "-----------------------\n",
      "row 3 is [404 358 466]\n",
      "-----------------------\n"
     ]
    }
   ],
   "source": [
    "for i, row in enumerate(test):\n",
    "  print('row', i, 'is', row)\n",
    "  print(\"-----------------------\")"
   ]
  },
  {
   "cell_type": "markdown",
   "metadata": {
    "id": "Z_YVQ83SeJYZ"
   },
   "source": [
    "## Filtros condicionales con Arrays"
   ]
  },
  {
   "cell_type": "markdown",
   "metadata": {
    "id": "uY3vYv1DeRed"
   },
   "source": [
    "Suponga que desea tomar el valor de una matriz X cuando el valor correspondiente en una condición es True, y de lo contrario tome el <br> valor\n",
    "de la matriz Y. Dentro de *Numpy* hay una funcion llamada **np.where** que resuelve la situación anterior.\n",
    "\n",
    "`result = np.where(cond, xarr, yarr)`"
   ]
  },
  {
   "cell_type": "code",
   "execution_count": 226,
   "metadata": {
    "colab": {
     "base_uri": "https://localhost:8080/"
    },
    "id": "nOy3ZfFReQ7G",
    "outputId": "02d93097-a292-4543-ab0a-8ba29c5062e7"
   },
   "outputs": [
    {
     "data": {
      "text/plain": [
       "array([1.1, 2.2, 1.3, 1.4, 2.5])"
      ]
     },
     "execution_count": 226,
     "metadata": {},
     "output_type": "execute_result"
    }
   ],
   "source": [
    "xarr = np.array([1.1, 1.2, 1.3, 1.4, 1.5])\n",
    "yarr = np.array([2.1, 2.2, 2.3, 2.4, 2.5])\n",
    "cond = np.array([True, False, True, True, False])\n",
    "np.where(cond,xarr,yarr)"
   ]
  },
  {
   "cell_type": "code",
   "execution_count": 227,
   "metadata": {
    "colab": {
     "base_uri": "https://localhost:8080/"
    },
    "id": "nKoSKKd_fhAZ",
    "outputId": "f47c79c4-dd89-4d58-c3fe-6d05ccc88bea"
   },
   "outputs": [
    {
     "data": {
      "text/plain": [
       "array([1, 1, 1, 0, 0])"
      ]
     },
     "execution_count": 227,
     "metadata": {},
     "output_type": "execute_result"
    }
   ],
   "source": [
    "np.where(xarr>1.3,0,1)"
   ]
  },
  {
   "cell_type": "markdown",
   "metadata": {
    "id": "zwPZfrbLgtIE"
   },
   "source": [
    "## Ejemplos adicionales:"
   ]
  },
  {
   "cell_type": "markdown",
   "metadata": {
    "id": "YYeOAvEJg_C5"
   },
   "source": [
    "Encuentre índices de elementos distintos de cero en [1,2,0,0,4,0]:\n"
   ]
  },
  {
   "cell_type": "code",
   "execution_count": 228,
   "metadata": {
    "colab": {
     "base_uri": "https://localhost:8080/"
    },
    "id": "Dslvv2SGgv6w",
    "outputId": "4a331643-90f8-4eec-8c9d-059bc3bdd3b0"
   },
   "outputs": [
    {
     "name": "stdout",
     "output_type": "stream",
     "text": [
      "(array([0, 1, 4], dtype=int64),)\n"
     ]
    }
   ],
   "source": [
    "nz = np.nonzero([1,2,0,0,4,0])\n",
    "print(nz)"
   ]
  },
  {
   "cell_type": "markdown",
   "metadata": {
    "id": "OjlyIu7mheLZ"
   },
   "source": [
    "Crea una matriz de 10x10 con valores aleatorios y encuentre el valor minimo y maximo:"
   ]
  },
  {
   "cell_type": "code",
   "execution_count": 229,
   "metadata": {
    "colab": {
     "base_uri": "https://localhost:8080/"
    },
    "id": "TmI9n2R0hmIc",
    "outputId": "101673ca-1c3e-4f37-ade0-b4716c41fa98"
   },
   "outputs": [
    {
     "name": "stdout",
     "output_type": "stream",
     "text": [
      "0.011605844415387367 0.9816813887375007\n"
     ]
    }
   ],
   "source": [
    "Z = np.random.random((10,10))\n",
    "Zmin, Zmax =  Z.min(), Z.max()\n",
    "print(Zmin, Zmax)"
   ]
  },
  {
   "cell_type": "markdown",
   "metadata": {
    "id": "fqexAr2giShw"
   },
   "source": [
    "¿Como encontrar valores comunes entre dos arrays?"
   ]
  },
  {
   "cell_type": "code",
   "execution_count": 233,
   "metadata": {
    "colab": {
     "base_uri": "https://localhost:8080/"
    },
    "id": "jdMcz-uSiKCk",
    "outputId": "9434aa29-2f75-46e5-8bcf-2a269277d47e"
   },
   "outputs": [
    {
     "name": "stdout",
     "output_type": "stream",
     "text": [
      "[9 4 9 9 0 9 4 0 0 4]\n",
      "[4 3 4 9 4 6 7 0 5 7]\n",
      "[0 4 9]\n"
     ]
    }
   ],
   "source": [
    "Z1 = np.random.randint(0,10,10)\n",
    "Z2 = np.random.randint(0,10,10)\n",
    "print(Z1)\n",
    "print(Z2)\n",
    "print(np.intersect1d(Z1,Z2))"
   ]
  },
  {
   "cell_type": "markdown",
   "metadata": {
    "id": "vXoQA1mFjCKA"
   },
   "source": [
    "¿Como encontrar el valor mas frecuente en un array?"
   ]
  },
  {
   "cell_type": "code",
   "execution_count": 240,
   "metadata": {
    "colab": {
     "base_uri": "https://localhost:8080/"
    },
    "id": "AI2LPN_vh0rc",
    "outputId": "9da05476-d15c-4ddc-95d5-e6a15de2ddb5"
   },
   "outputs": [
    {
     "name": "stdout",
     "output_type": "stream",
     "text": [
      "[4 1 3 1 7 0 2 7 2 6 2 9 8 3 7 1 8 9 9 7 1 5 6 3 5 1 9 1 3 6 3 4 4 5 6 0 9\n",
      " 1 4 4 9 9 2 2 0 1 6 2 0 0]\n"
     ]
    }
   ],
   "source": [
    "Z = np.random.randint(0,10,50)\n",
    "print(Z)"
   ]
  },
  {
   "cell_type": "code",
   "execution_count": 252,
   "metadata": {
    "colab": {
     "base_uri": "https://localhost:8080/"
    },
    "id": "CFfcAwVAjO9C",
    "outputId": "d908f98b-42b0-4d75-e15b-c661d81012bd"
   },
   "outputs": [
    {
     "name": "stdout",
     "output_type": "stream",
     "text": [
      "[0, 1, 2, 3, 4, 5, 6, 7, 8, 9]\n",
      "[5 8 6 5 5 3 5 4 2 7]\n"
     ]
    }
   ],
   "source": [
    "print(list(set(Z)))\n",
    "print(np.bincount(Z))"
   ]
  },
  {
   "cell_type": "code",
   "execution_count": 255,
   "metadata": {},
   "outputs": [
    {
     "data": {
      "text/plain": [
       "1"
      ]
     },
     "execution_count": 255,
     "metadata": {},
     "output_type": "execute_result"
    }
   ],
   "source": [
    "np.array(g).argmax()"
   ]
  },
  {
   "cell_type": "code",
   "execution_count": 251,
   "metadata": {
    "colab": {
     "base_uri": "https://localhost:8080/"
    },
    "id": "NyVSLfBzjZnS",
    "outputId": "2834ace9-5374-4540-ce89-3c31b1c59e70"
   },
   "outputs": [
    {
     "name": "stdout",
     "output_type": "stream",
     "text": [
      "8\n",
      "1\n"
     ]
    }
   ],
   "source": [
    "print(np.bincount(Z).max())\n",
    "print(np.bincount(Z).argmax())"
   ]
  },
  {
   "cell_type": "code",
   "execution_count": 253,
   "metadata": {
    "colab": {
     "base_uri": "https://localhost:8080/"
    },
    "id": "ncQt7lBbjk7J",
    "outputId": "b93b4ad9-00ae-4a6d-8871-313322b40b07"
   },
   "outputs": [
    {
     "name": "stdout",
     "output_type": "stream",
     "text": [
      "2\n",
      "8\n"
     ]
    }
   ],
   "source": [
    "print(np.bincount(Z).min())\n",
    "print(np.bincount(Z).argmin())"
   ]
  },
  {
   "cell_type": "code",
   "execution_count": 254,
   "metadata": {},
   "outputs": [],
   "source": [
    "import numpy as np"
   ]
  },
  {
   "cell_type": "code",
   "execution_count": 2,
   "metadata": {},
   "outputs": [
    {
     "data": {
      "text/plain": [
       "array([[0.08182103, 0.35255498, 0.98454778, 0.84562082, 0.72526423],\n",
       "       [0.68971722, 0.12311539, 0.66781915, 0.96622574, 0.61252577],\n",
       "       [0.39267294, 0.73640457, 0.33295132, 0.53677146, 0.00518294],\n",
       "       [0.88552244, 0.60904703, 0.57697958, 0.17474531, 0.7058016 ]])"
      ]
     },
     "execution_count": 2,
     "metadata": {},
     "output_type": "execute_result"
    }
   ],
   "source": [
    "np.random.rand(4,5)"
   ]
  },
  {
   "cell_type": "code",
   "execution_count": 3,
   "metadata": {},
   "outputs": [],
   "source": [
    "np.random.seed(12345)"
   ]
  },
  {
   "cell_type": "code",
   "execution_count": 258,
   "metadata": {},
   "outputs": [
    {
     "ename": "TypeError",
     "evalue": "seed() takes at most 1 positional argument (2 given)",
     "output_type": "error",
     "traceback": [
      "\u001b[1;31m---------------------------------------------------------------------------\u001b[0m",
      "\u001b[1;31mTypeError\u001b[0m                                 Traceback (most recent call last)",
      "Cell \u001b[1;32mIn[258], line 1\u001b[0m\n\u001b[1;32m----> 1\u001b[0m \u001b[38;5;28mlist\u001b[39m(\u001b[43mnp\u001b[49m\u001b[38;5;241;43m.\u001b[39;49m\u001b[43mrandom\u001b[49m\u001b[38;5;241;43m.\u001b[39;49m\u001b[43mseed\u001b[49m\u001b[43m(\u001b[49m\u001b[38;5;241;43m1\u001b[39;49m\u001b[43m,\u001b[49m\u001b[38;5;241;43m3\u001b[39;49m\u001b[43m)\u001b[49m)\n",
      "File \u001b[1;32mmtrand.pyx:4770\u001b[0m, in \u001b[0;36mnumpy.random.mtrand.seed\u001b[1;34m()\u001b[0m\n",
      "\u001b[1;31mTypeError\u001b[0m: seed() takes at most 1 positional argument (2 given)"
     ]
    }
   ],
   "source": [
    "list(np.random.seed(1,3))"
   ]
  },
  {
   "cell_type": "code",
   "execution_count": null,
   "metadata": {},
   "outputs": [],
   "source": []
  }
 ],
 "metadata": {
  "colab": {
   "provenance": []
  },
  "kernelspec": {
   "display_name": "Python 3 (ipykernel)",
   "language": "python",
   "name": "python3"
  },
  "language_info": {
   "codemirror_mode": {
    "name": "ipython",
    "version": 3
   },
   "file_extension": ".py",
   "mimetype": "text/x-python",
   "name": "python",
   "nbconvert_exporter": "python",
   "pygments_lexer": "ipython3",
   "version": "3.11.5"
  }
 },
 "nbformat": 4,
 "nbformat_minor": 1
}
