{
 "cells": [
  {
   "cell_type": "markdown",
   "id": "a17c0b5c",
   "metadata": {},
   "source": [
    "# Prueba de hipótesis\n",
    "\n",
    "## Prueba t para una muestra\n",
    "\n",
    "### Antecedentes\n",
    "\n",
    "La prueba de hipótesis clásica se ocupa de decidir entre dos decisiones (es más complicado si hay más de dos).\n",
    "\n",
    " + La primera, se especifica una Hipótesis Nula que representa el status quo. Esta hipótesis se suele etiquetar como **Ho**. Esto es lo que asumimos por defecto. En un sentido práctico, esto significaría que no existe una diferencia significativa entre el conjunto de datos que se evalúa y la población en general.\n",
    " \n",
    " + La alternativa o hipótesis de investigación es lo que necesitamos evidencia para concluir. Esta hipótesis generalmente se etiqueta **Ha** o, a veces, **H1** (o algún otro número distinto de 0).\n",
    " \n",
    "La convención para la prueba de hipótesis es definir un valor <b>\"alfa\"</b> o *α* que es el *umbral de probabilidad* para el que aceptamos o rechazamos la hipótesis nula. Esto también se conoce como \"Nivel de significación\".\n",
    "\n",
    "Por convención, se elige un valor de 0.05(5%) para *α*, aunque a veces se puede establecer en *α* = 0.01 si queremos más certeza.\n",
    "\n",
    "Luego, necesitamos calcular el <b>valor p</b>, que es la probabilidad estimada de obtener esta muestra por azar (de la población con la que estamos comparando).\n",
    "\n",
    " + Si el valor p es *menor* que **α** entonces \"rechazamos\" la Hipótesis nula, **Ho** y asumimos que es poco probable que la varianza en la media de nuestra muestra haya ocurrido por casualidad. Existe una diferencia estadísticamente significativa.\n",
    " + Si el valor p es *mayor* que **α** entonces \"aceptamos\" la Hipótesis nula (o al menos, no podemos rechazarla) y asumimos que existe una probabilidad razonable de que la variación en el resultado de nuestra prueba podría haber ocurrido por oportunidad."
   ]
  },
  {
   "cell_type": "markdown",
   "id": "d0b18750",
   "metadata": {},
   "source": [
    "## Utilizando Python scipy para probar la significación estadística\n",
    "\n",
    "La función ``ttest_1samp`` de ``scipy.stats`` se puede utilizar para calcular una estadística T y un valor P para una valor *medio* dado en comparación con una población de muestra.\n",
    "\n",
    "Si proporcionamos un valor medio y un conjunto de datos de muestra de referencia, si el valor p es menor que nuestro **α** elegido (es decir 0,05), inferimos que nuestro valor medio no es probable que ocurra por casualidad en esta población de muestra. Existe una diferencia estadísticamente significativa. \n",
    "\n",
    "#### Descripción de Scipy ttest_1samp\n",
    "\n",
    "``ttest_1samp`` calcula una prueba T univariante. \n",
    "\n",
    "*Esta es una prueba de dos lados para la hipótesis nula de que el valor esperado (media) de una muestra de observaciones independientes a es igual a la media poblacional dada, popmean.*"
   ]
  },
  {
   "cell_type": "code",
   "execution_count": 1,
   "id": "56e9e793",
   "metadata": {},
   "outputs": [],
   "source": [
    "from scipy.stats import ttest_1samp\n",
    "import numpy as np\n",
    "import pandas as pd"
   ]
  },
  {
   "cell_type": "code",
   "execution_count": 3,
   "id": "1b285a4c",
   "metadata": {},
   "outputs": [
    {
     "name": "stdout",
     "output_type": "stream",
     "text": [
      "[32. 34. 29. 29. 22. 39. 38. 37. 38. 36. 30. 26. 22. 22.]\n"
     ]
    }
   ],
   "source": [
    "ages = np.genfromtxt(\"Data1/ages.csv\")\n",
    "print(ages)"
   ]
  },
  {
   "cell_type": "code",
   "execution_count": 4,
   "id": "d74efdf9",
   "metadata": {},
   "outputs": [
    {
     "name": "stdout",
     "output_type": "stream",
     "text": [
      "31.0\n"
     ]
    }
   ],
   "source": [
    "mu = np.mean(ages)\n",
    "print(mu)"
   ]
  },
  {
   "cell_type": "markdown",
   "id": "b3633f7d",
   "metadata": {},
   "source": [
    "Utilice la prueba T de scipy para encontrar el valor p para una edad de 30 y también para una edad de 3, dada la distribución de \"edades\":"
   ]
  },
  {
   "cell_type": "code",
   "execution_count": 6,
   "id": "95982951",
   "metadata": {},
   "outputs": [],
   "source": [
    "?ttest_1samp"
   ]
  },
  {
   "cell_type": "code",
   "execution_count": 5,
   "id": "92aa97ea",
   "metadata": {},
   "outputs": [
    {
     "name": "stdout",
     "output_type": "stream",
     "text": [
      "Age 30 TtestResult(statistic=0.5973799001456603, pvalue=0.5605155888171379, df=13)\n",
      "Age 3 TtestResult(statistic=16.72663720407849, pvalue=3.574863924479613e-10, df=13)\n"
     ]
    }
   ],
   "source": [
    "print(\"Age 30\", ttest_1samp(ages,30)) #Ho: mu_Age = 30, H1: mu_Age != 30     #less prueba unilateral inferior \n",
    "print(\"Age 3\", ttest_1samp(ages,3))  #Ho: mu_Age = 3, H1: mu_Age != 3        #less prueba unilateral superior   "
   ]
  },
  {
   "cell_type": "code",
   "execution_count": 8,
   "id": "e548ebad",
   "metadata": {},
   "outputs": [
    {
     "name": "stdout",
     "output_type": "stream",
     "text": [
      "Age 30 TtestResult(statistic=0.5973799001456603, pvalue=0.7197422055914311, df=13)\n",
      "Age 3 TtestResult(statistic=16.72663720407849, pvalue=1.7874319622398066e-10, df=13)\n"
     ]
    }
   ],
   "source": [
    "print(\"Age 30\", ttest_1samp(ages,30, alternative = 'less')) #Ho: mu_Age >= 30, H1: mu_Age < 30     #less prueba unilateral inferior \n",
    "print(\"Age 3\", ttest_1samp(ages,3, alternative = 'greater'))  #Ho: mu_Age <= 3, H1: mu_Age > 3        #less prueba unilateral superior  "
   ]
  },
  {
   "cell_type": "markdown",
   "id": "10c3089b",
   "metadata": {},
   "source": [
    "El valor P es el segundo valor - *esta es la probabilidad estimada de lograr este valor por casualidad* del conjunto de muestra.\n",
    "\n",
    "Generalmente, si recibimos un *p-valor menor que 0.05, podemos rechazar la hipótesis nula y afirmar que hay una diferencia significativa.*"
   ]
  },
  {
   "cell_type": "markdown",
   "id": "13aab99a",
   "metadata": {},
   "source": [
    "Para la edad de 30 obtuvimos un valor de p mucho mayor que 0.05, por lo que no podemos rechazar la hipótesis nula. Esto significa que una edad media de 30 años podría ocurrir por casualidad para esta población (aunque nuestra comparación tiene una media de 31).\n",
    "\n",
    "Para el otro ejemplo, para la edad de 3 años obtuvimos un pequeño valor p; esta sería una edad muy inusual según la muestra original: si tuviéramos un grupo de visitantes con una edad promedio de 3, algo especial está sucediendo.\n",
    "\n",
    "¿Significa esto que si esperamos más visitantes, la edad media definitivamente sería de 30 años y no de 31? No necesariamente. De hecho, en este caso, sabemos que la media de nuestra muestra fue 31.\n",
    "\n",
    "  + Los valores P nos dan una idea de la confianza que podemos tener en un resultado.\n",
    "  + El hecho de que no tengamos suficientes datos para detectar una diferencia no significa que no haya una."
   ]
  },
  {
   "cell_type": "markdown",
   "id": "cbafdfd6",
   "metadata": {},
   "source": [
    "## Prueba t para dos muestras\n",
    "\n",
    "*Suponga que la semana pasada, la cantidad promedio de tiempo invertido por visitante en un sitio web fue de 25 minutos. Esta semana, la cantidad promedio de tiempo invertido por visitante en un sitio web fue de 28 minutos. ¿Cambió el tiempo medio empleado por visitante? ¿O es esto parte de fluctuaciones naturales?*\n",
    "\n",
    "Utilice una **Prueba T de 2 muestras**, que compara dos conjuntos de datos independientes, que tienen una distribución aproximadamente normal. La hipótesis nula, en este caso, es que las dos distribuciones tienen la misma media (más o menos alguna variación aleatoria estadística).\n",
    "\n",
    "Para decidir si los conjuntos de datos se distribuyen aproximadamente normalmente, a menudo es suficiente una inspección visual, como se muestra en el cuadro siguiente."
   ]
  },
  {
   "cell_type": "code",
   "execution_count": 1,
   "id": "9a82f837",
   "metadata": {},
   "outputs": [
    {
     "data": {
      "image/png": "[encoded data removed]",
      "text/plain": [
       "<Figure size 640x480 with 1 Axes>"
      ]
     },
     "metadata": {},
     "output_type": "display_data"
    }
   ],
   "source": [
    "import numpy as np \n",
    "import pandas as pd\n",
    "import matplotlib.pyplot as plt\n",
    "from scipy.stats import ttest_ind\n",
    "\n",
    "week1 = np.genfromtxt(\"Data1/week1.csv\", delimiter=\",\")\n",
    "week2 = np.genfromtxt(\"Data1/week2.csv\", delimiter=\",\")\n",
    "\n",
    "plt.hist(week1, bins=20, color='b', alpha=0.5)\n",
    "plt.hist(week2, bins=20, color='r', alpha=0.5)\n",
    "plt.show()"
   ]
  },
  {
   "cell_type": "markdown",
   "id": "94126ef1",
   "metadata": {},
   "source": [
    "Utilice ``ttest_ind`` de SciPy para obtener el valor p para dos conjuntos de datos independientes y determinar la probabilidad de que tengan la misma media."
   ]
  },
  {
   "cell_type": "code",
   "execution_count": 3,
   "id": "530f538e",
   "metadata": {},
   "outputs": [
    {
     "name": "stdout",
     "output_type": "stream",
     "text": [
      "Week 1 Sample Mean:  25.4480593952\n",
      "Week 2 Sample Mean 29.0215681076\n",
      "Ttest_indResult(statistic=-3.510875818698744, pvalue=0.000676767690454633)\n"
     ]
    }
   ],
   "source": [
    "week1_mean = week1.mean()\n",
    "week2_mean = week2.mean()\n",
    "\n",
    "print(\"Week 1 Sample Mean: \", week1_mean)\n",
    "print(\"Week 2 Sample Mean\", week2_mean)\n",
    "\n",
    "pval = ttest_ind(week1,week2)\n",
    "print(pval)"
   ]
  },
  {
   "cell_type": "markdown",
   "id": "0012f7f2",
   "metadata": {},
   "source": [
    "Si asumimos que **α** es 0.005 y obtenemos un ``pvalue = 0.0006767 ...`` significa que rechazamos la hipótesis nula y decimos que esta es una distribución diferente  la media es significativamente diferente."
   ]
  },
  {
   "cell_type": "code",
   "execution_count": 4,
   "id": "9c2d2dba",
   "metadata": {},
   "outputs": [
    {
     "name": "stdout",
     "output_type": "stream",
     "text": [
      "pval is  0.000676767690454633 Hipótesis Nula Rechazada - las muestras son estadísticamente diferentes\n"
     ]
    }
   ],
   "source": [
    "if pval[1] < 0.05:\n",
    "    print(\"pval is \", pval[1], \"Hipótesis Nula Rechazada - las muestras son estadísticamente diferentes\")\n",
    "else:\n",
    "    print(\"pval is \", pval[1], \"Hipótesis Nula Aceptada - las muestras NO son estadísticamente diferentes\")"
   ]
  },
  {
   "cell_type": "markdown",
   "id": "6d560745",
   "metadata": {},
   "source": [
    "## Peligros de múltiples pruebas T\n",
    "\n",
    "Supongamos que somos dueños de una cadena de tiendas que venden hormigas, llamada VeryAnts. Hay tres ubicaciones diferentes: A, B y C. Queremos saber si las ventas promedio de hormigas durante el último año son significativamente diferentes entre las tres ubicaciones.\n",
    "\n",
    "Al principio, parece que podríamos realizar pruebas T entre cada par de tiendas.\n",
    "\n",
    "Sabemos que el valor p es la probabilidad de que rechacemos incorrectamente la hipótesis nula en cada prueba t. Cuantas más pruebas t realizamos, es más probable que obtengamos un falso positivo, un error de tipo I.\n",
    "\n",
    "Para un valor p de 0.05, si la hipótesis nula es verdadera, entonces la probabilidad de obtener un resultado significativo es ``1 - 0,05 = 0,95.``\n",
    "\n",
    "Cuando ejecutamos otra prueba t, la probabilidad de obtener un resultado correcto es ``0,95 * 0,95 = 0,9025``¡Esto significa que nuestra probabilidad de cometer un error ahora es cercana 10%! Esta probabilidad de error solo aumenta con más pruebas t que hacemos."
   ]
  },
  {
   "cell_type": "markdown",
   "id": "7297c791",
   "metadata": {},
   "source": [
    "## Pruebas ANOVA para múltiples conjuntos de datos\n",
    "\n",
    "Vimos que la probabilidad de cometer un error de Tipo I aumentaba peligrosamente a medida que realizamos más prueba t.\n",
    "\n",
    "Al comparar más de dos conjuntos de datos numéricos, la mejor manera de preservar una probabilidad de error de tipo I de 0.05 es usar *ANOVA*. ANOVA(Análisis de varianza) prueba de hipótesis nula de que todos los conjuntos de datos tienen la misma media. Si rechazamos la hipótesis nula con ANOVA, estamos diciendo que al menos uno de los conjuntos tiene una media diferente (desde una perspectiva de significación estadística); sin embargo, no nos dice qué conjuntos de datos son diferentes.\n",
    "\n",
    "Utilice la función SciPy ``f_oneway`` para realizar ANOVA en múltiples conjuntos de datos. Toma cada conjunto de datos como una entrada diferente y devuelve la estadística t y el valor p.P.EJ: ``fstat, pval = f_oneway (puntuaciones_matemáticos, puntuaciones_escritores, puntuaciones_psicólogos)`` devuelve el pval de *al menos uno de* los conjuntos de datos que son estadísticamente diferentes. Sin embargo, después de usar solo ANOVA, no podemos sacar ninguna conclusión sobre *qué* dos poblaciones tienen una diferencia significativa.\n",
    "\n",
    "\"El ANOVA unidireccional prueba la hipótesis nula de que dos o más grupos tienen la misma media poblacional\".\n",
    "\n",
    "Una prueba *unidireccional* identifica si al menos dos grupos son diferentes entre sí, pero no identifica qué grupos. Se usa cuando hay una variable independiente y una variable dependiente.\n",
    "\n",
    "Se puede usar una prueba *bidireccional* cuando hay *dos* variables independientes, es decir, tienda y hora del día (factores)\n",
    "\n",
    "Supuestos de prueba de Anova\n",
    "\n",
    " + Las muestras son independientes\n",
    " + Cada muestra proviene de una población distribuida normalmente.\n",
    " + Las desviaciones estándar de la población de los grupos son todas iguales. Esta propiedad se conoce como homocedasticidad.\n",
    " \n",
    " \n"
   ]
  },
  {
   "cell_type": "markdown",
   "id": "1ca3fe33",
   "metadata": {},
   "source": [
    "##### Ejemplo: prueba Anova unidireccional\n",
    "\n",
    "Realice una prueba ANOVA para las ventas diarias en las tiendas a,b y c y almacene el valor p en una variable llamada pval.\n",
    "\n",
    "Primero, carguemos algunos conjuntos de datos de prueba para tres tiendas diferentes y visualícelos"
   ]
  },
  {
   "cell_type": "code",
   "execution_count": 7,
   "id": "83a96ac8",
   "metadata": {},
   "outputs": [
    {
     "data": {
      "image/png": "[encoded data removed]",
      "text/plain": [
       "<Figure size 640x480 with 1 Axes>"
      ]
     },
     "metadata": {},
     "output_type": "display_data"
    }
   ],
   "source": [
    "import numpy as np\n",
    "import seaborn as sns #Seaborn has some nice looking plot characteristics\n",
    "import pandas as pd\n",
    "\n",
    "storeA = np.genfromtxt(\"Data1/storeA.csv\", delimiter=\",\")\n",
    "storeB = np.genfromtxt(\"Data1/storeB.csv\", delimiter=\",\")\n",
    "storeC = np.genfromtxt(\"Data1/storeC.csv\", delimiter=\",\")\n",
    "\n",
    "# Create a Pandas Data Frame with Store A,B,C as the columns \n",
    "df = pd.DataFrame({'StoreA':storeA, 'StoreB':storeB, 'StoreC':storeC})\n",
    "\n",
    "# Have to \"melt\" the data-frame for Seaborn\n",
    "sns.boxplot(x=\"variable\", y=\"value\", data=pd.melt(df))\n",
    "plt.show()"
   ]
  },
  {
   "cell_type": "code",
   "execution_count": 8,
   "id": "1cfee53a",
   "metadata": {},
   "outputs": [
    {
     "name": "stdout",
     "output_type": "stream",
     "text": [
      "Store A Mean: 58.35\n",
      "Store B Mean: 55.754\n",
      "Store C Mean: 56.767\n"
     ]
    }
   ],
   "source": [
    "print(\"Store A Mean:\", storeA.mean().round(3))\n",
    "print(\"Store B Mean:\", storeB.mean().round(3))\n",
    "print(\"Store C Mean:\", storeC.mean().round(3))"
   ]
  },
  {
   "cell_type": "markdown",
   "id": "f4f13a56",
   "metadata": {},
   "source": [
    "A continuación, ejecute una prueba ANOVA unidireccional y obtenga el valor p:"
   ]
  },
  {
   "cell_type": "code",
   "execution_count": 9,
   "id": "13a014e9",
   "metadata": {},
   "outputs": [
    {
     "name": "stdout",
     "output_type": "stream",
     "text": [
      "0.32132\n"
     ]
    }
   ],
   "source": [
    "from scipy.stats import ttest_ind\n",
    "from scipy.stats import f_oneway\n",
    "\n",
    "# Ho: mu_Store_A = mu_Store_B = mu_Store_C\n",
    "# Ha: al menos un promedio es diferente \n",
    "pval = f_oneway(storeA,storeB,storeC)[1]\n",
    "print(pval.round(5))"
   ]
  },
  {
   "cell_type": "markdown",
   "id": "7e1aee73",
   "metadata": {},
   "source": [
    "Como el valor p es mayor que 0.05, *NO rechazamos la Hipótesis nula* y asumimos que no hay una diferencia significativa en las ventas entre las tiendas, aunque los valores medios son ligeramente diferentes.\n",
    "\n",
    "Aunque visualmente en el diagrama de caja parece que hay una diferencia, esta probablemente sea solo una variación aleatoria natural.\n",
    "\n",
    "Ahora: **cargue algunos datos nuevos** después de que se ejecute una campaña de ventas para la Tienda C."
   ]
  },
  {
   "cell_type": "code",
   "execution_count": 13,
   "id": "d404bf00",
   "metadata": {},
   "outputs": [
    {
     "data": {
      "image/png": "[encoded data removed]",
      "text/plain": [
       "<Figure size 640x480 with 1 Axes>"
      ]
     },
     "metadata": {},
     "output_type": "display_data"
    }
   ],
   "source": [
    "storeC = np.genfromtxt(\"Data1/storeC_NEW.csv\", delimiter=\",\")\n",
    "# Create a Pandas Data Frame with Store A,B,C as the columns\n",
    "df = pd.DataFrame({'StoreA':storeA, 'storeB':storeB, 'storeC':storeC})\n",
    "\n",
    "#plot\n",
    "sns.boxplot(x=\"variable\", y=\"value\", data=pd.melt(df))\n",
    "plt.show()"
   ]
  },
  {
   "cell_type": "code",
   "execution_count": 14,
   "id": "ba13589b",
   "metadata": {},
   "outputs": [
    {
     "name": "stdout",
     "output_type": "stream",
     "text": [
      "0.01859\n"
     ]
    }
   ],
   "source": [
    "from scipy.stats import ttest_ind\n",
    "from scipy.stats import f_oneway\n",
    "\n",
    "pval = f_oneway(storeA,storeB,storeC)[1]\n",
    "\n",
    "print(pval.round(5))"
   ]
  },
  {
   "cell_type": "markdown",
   "id": "dae5bcc2",
   "metadata": {},
   "source": [
    "Entonces, si nuestro **α** es 0.05, entonces Rechazamos la Hipótesis Nula y decimos que es poco probable que esta variación en la media haya ocurrido por casualidad, ya que 0.0185 es menor que 0.05.\n",
    "\n",
    "Sin embargo, si hubiéramos elegido nuestro umbral de **α** en 0,01(1%), todavía aceptaríamos la hipótesis nula y diríamos que todavía existe una probabilidad estadística razonable de que esta variación en la media haya ocurrido por casualidad. Esto es porque 0.01859 es mayor que 0.01\n",
    "\n",
    "Esto ilustra la limitación de usar la prueba del valor p para determinar la significación estadística."
   ]
  },
  {
   "cell_type": "markdown",
   "id": "29cd5223",
   "metadata": {},
   "source": [
    "## Efecto del tamaño de la muestra para determinar una variación significativa\n",
    "\n",
    "En términos generales, cuantas más muestras tengamos de una población, con mayor precisión podremos determinar la media real.\n",
    "\n",
    "Esto se debe a que la *Muestra* Media $\\bar{X}$ es una aproximación a la *Real* Media, $\\mu$ dada por la siguiente fórmula:"
   ]
  },
  {
   "cell_type": "markdown",
   "id": "51c7fa5b",
   "metadata": {},
   "source": [
    "  $\\mu = \\bar{X} \\pm  \\frac { 2\\sigma } {\\sqrt{n}}   $"
   ]
  },
  {
   "cell_type": "markdown",
   "id": "7f5ca3ab",
   "metadata": {},
   "source": [
    "+ lo que significa que a medida que $n$, el tamaño de la muestra aumenta, el tamaño de variación de $pm$ disminuye y estamos más cerca de la media real, lo que intuitivamente tiene sentido."
   ]
  },
  {
   "cell_type": "markdown",
   "id": "e18f9fa6",
   "metadata": {},
   "source": [
    "Esto se puede demostrar con una simple simulación de nuestro conjunto de datos existentes. En el siguiente ejemplo, *disminuimos* $n$ a 50 tomando una muestra aleatoria de 50 artículos de cada uno de los conjuntos de datos de la tienda."
   ]
  },
  {
   "cell_type": "code",
   "execution_count": 21,
   "id": "dbfab823",
   "metadata": {},
   "outputs": [
    {
     "data": {
      "text/plain": [
       "150"
      ]
     },
     "execution_count": 21,
     "metadata": {},
     "output_type": "execute_result"
    }
   ],
   "source": [
    "len(storeA)"
   ]
  },
  {
   "cell_type": "code",
   "execution_count": 31,
   "id": "b8ad21aa",
   "metadata": {},
   "outputs": [],
   "source": [
    "np.random.seed(1)\n",
    "storeAsample = np.random.choice(storeA, size=50, replace=False)\n",
    "storeBsample = np.random.choice(storeB, size=50, replace=False)\n",
    "storeCsample = np.random.choice(storeC, size=50, replace=False)"
   ]
  },
  {
   "cell_type": "markdown",
   "id": "b02c82d3",
   "metadata": {},
   "source": [
    "Compare visualmente la distribución de las ventas originales de StoreA y la muestra aleatoria de 50 ventas del conjunto de datos StoreA:"
   ]
  },
  {
   "cell_type": "code",
   "execution_count": 32,
   "id": "df4e67f9",
   "metadata": {},
   "outputs": [
    {
     "data": {
      "image/png": "[encoded data removed]",
      "text/plain": [
       "<Figure size 640x480 with 1 Axes>"
      ]
     },
     "metadata": {},
     "output_type": "display_data"
    }
   ],
   "source": [
    "plt.hist(storeA, bins=20, alpha=0.5, color='b')\n",
    "plt.hist(storeAsample, bins=20, alpha=0.5, color='r')\n",
    "leg = ['StoreA', 'StoreA Sample']\n",
    "plt.legend(leg)\n",
    "plt.show()"
   ]
  },
  {
   "cell_type": "code",
   "execution_count": 33,
   "id": "998daa3b",
   "metadata": {},
   "outputs": [
    {
     "data": {
      "image/png": "[encoded data removed]",
      "text/plain": [
       "<Figure size 640x480 with 1 Axes>"
      ]
     },
     "metadata": {},
     "output_type": "display_data"
    }
   ],
   "source": [
    "# Create a Pandas Data Frame with Store A,B,C as the columns and plot\n",
    "df = pd.DataFrame({'StoreAsample':storeAsample, 'StoreBsample':storeBsample, 'StoreCsample':storeCsample})\n",
    "sns.boxplot(x=\"variable\", y=\"value\", data=pd.melt(df))\n",
    "plt.show()"
   ]
  },
  {
   "cell_type": "code",
   "execution_count": 34,
   "id": "04d5f4ab",
   "metadata": {},
   "outputs": [
    {
     "name": "stdout",
     "output_type": "stream",
     "text": [
      "0.47443\n"
     ]
    }
   ],
   "source": [
    "pval = f_oneway(storeAsample,storeBsample,storeCsample)[1]\n",
    "print(pval.round(5))"
   ]
  },
  {
   "cell_type": "markdown",
   "id": "2b1c71df",
   "metadata": {},
   "source": [
    "#### Conclusión\n",
    "\n",
    "Con la muestra más pequeña de datos, aunque podemos ver que StoreC todavía tiene las ventas medias más altas, ya no podemos detectar ninguna diferencia estadística(el valor p es mayor que 0.05)\n",
    "\n",
    "## Pruebas de rangos de Tukey\n",
    "\n",
    "Se puede usar una prueba de rango de Tukey para averiguar *qué* conjunto de datos es diferente si hemos determinado que uno de nuestros conjuntos de datos tiene una diferencia significativa (es decir, utilizando ANOVA para probar una diferencia significativa en la media).\n",
    "\n",
    "Si alimentamos un conjunto de conjuntos de datos que son independientes y están distribuidos normalmente, la prueba de Tukey puede identificar qué pares de conjuntos son diferentes entre sí.\n",
    "\n",
    "La función para realizar la prueba de rango de Tukey es ``pairwise_tukeyhsd``, que se encuentra en ``statsmodel``, no scipy.\n",
    "\n",
    "Proporcione a la función una lista de datos y una lista de etiquetas que identifique los datos frente a conjuntos de muestras.\n",
    "\n",
    "Además, proporcione el nivel de significancia \"p-val\" que se requiere, es decir, 0.05."
   ]
  },
  {
   "cell_type": "code",
   "execution_count": 38,
   "id": "7d7d57b3",
   "metadata": {},
   "outputs": [],
   "source": [
    "from statsmodels.stats.multicomp import pairwise_tukeyhsd\n",
    "\n",
    "# Concate the the data into a single list / vector\n",
    "vec = np.concatenate((storeA , storeB, storeC),axis=0)\n",
    "# Create a vector of labels aligned to out data\n",
    "labels = ['A'] * len(storeA) + ['B'] * len(storeB) + ['C'] * len(storeC)\n",
    "\n",
    "tukey_results = pairwise_tukeyhsd(vec, labels, 0.05)"
   ]
  },
  {
   "cell_type": "code",
   "execution_count": 39,
   "id": "b4be7e9f",
   "metadata": {},
   "outputs": [
    {
     "name": "stdout",
     "output_type": "stream",
     "text": [
      "Multiple Comparison of Means - Tukey HSD, FWER=0.05\n",
      "===================================================\n",
      "group1 group2 meandiff p-adj   lower  upper  reject\n",
      "---------------------------------------------------\n",
      "     A      B  -2.5955  0.315 -6.7975 1.6065  False\n",
      "     A      C   2.4712 0.3507 -1.7308 6.6731  False\n",
      "     B      C   5.0667 0.0132  0.8647 9.2686   True\n",
      "---------------------------------------------------\n"
     ]
    }
   ],
   "source": [
    "print(tukey_results)"
   ]
  },
  {
   "cell_type": "markdown",
   "id": "03bbc736",
   "metadata": {},
   "source": [
    "Esto nos dice que podemos *Rechazar* a Hipótesis nula para la Tienda C frente a la Tienda B: hay una diferencia significativa."
   ]
  },
  {
   "cell_type": "markdown",
   "id": "191a594f",
   "metadata": {},
   "source": [
    "## Prueba KS\n",
    "\n",
    "Realiza la prueba de bondad de ajuste de Kolmogorov - Smirnov.\n",
    "\n",
    "La prueba de una muestra compara la distribución subacente F(x) de una muestra con una distribución dada G(x). La prueba de dos muestras compara las distribuciones subyacente de dos muestras independientes. Ambas pruebas son válidas solo para distribuciones continuas.\n",
    "\n",
    "La hipótesis nula es que las dos distribuciones son idénticas, F(x) = G(x) para todo x; la alternativa es que no sean idénticos."
   ]
  },
  {
   "cell_type": "code",
   "execution_count": 40,
   "id": "bafe02e6",
   "metadata": {},
   "outputs": [],
   "source": [
    "from scipy.stats import kstest\n",
    "from scipy import stats"
   ]
  },
  {
   "cell_type": "code",
   "execution_count": 41,
   "id": "19eee1f8",
   "metadata": {},
   "outputs": [],
   "source": [
    "import numpy as np\n",
    "import matplotlib.pyplot as plt"
   ]
  },
  {
   "cell_type": "code",
   "execution_count": 45,
   "id": "38783373",
   "metadata": {},
   "outputs": [],
   "source": [
    "?kstest"
   ]
  },
  {
   "cell_type": "code",
   "execution_count": 46,
   "id": "5d7b10d1",
   "metadata": {},
   "outputs": [
    {
     "data": {
      "text/plain": [
       "KstestResult(statistic=0.4443560271592436, pvalue=0.03885014008678811, statistic_location=3.75, statistic_sign=-1)"
      ]
     },
     "execution_count": 46,
     "metadata": {},
     "output_type": "execute_result"
    }
   ],
   "source": [
    "rng = np.random.default_rng()\n",
    "x = np.linspace(-15, 15, 9)\n",
    "kstest(x, stats.norm.cdf)"
   ]
  },
  {
   "cell_type": "markdown",
   "id": "14a335d0",
   "metadata": {},
   "source": [
    "Se debe rechazar la hipótesis nula a favor de la hipótesis alternativa. Por lo que la distribución de x no se aproxima a la normal."
   ]
  },
  {
   "cell_type": "code",
   "execution_count": 47,
   "id": "81c989a4",
   "metadata": {},
   "outputs": [
    {
     "data": {
      "text/plain": [
       "KstestResult(statistic=0.02990354236588727, pvalue=0.326413268420903, statistic_location=-0.47918491512740585, statistic_sign=-1)"
      ]
     },
     "execution_count": 47,
     "metadata": {},
     "output_type": "execute_result"
    }
   ],
   "source": [
    "x = stats.norm.rvs(loc=0, size=1000)\n",
    "kstest(x, stats.norm.cdf)"
   ]
  },
  {
   "cell_type": "markdown",
   "id": "81229b0e",
   "metadata": {},
   "source": [
    "No se puede rechazar la hipótesis nula a favor de la hipótesis alternativa. Por lo que la distribución de x se aproxima a la normal.\n",
    "\n",
    "Prueba de t variables aleatorias distribuidas contra distribución normal:\n",
    "\n",
    "Con 100 grados de libertad, la distribución t parece cercana a la distribución normal, y la prueba KS no rechaza la hipótesis de que la muestra proviene de la distribución normal:"
   ]
  },
  {
   "cell_type": "code",
   "execution_count": 51,
   "id": "c8a8a98d",
   "metadata": {},
   "outputs": [
    {
     "data": {
      "text/plain": [
       "KstestResult(statistic=0.05047647545013151, pvalue=0.9495376339576618, statistic_location=-0.2006746908575728, statistic_sign=-1)"
      ]
     },
     "execution_count": 51,
     "metadata": {},
     "output_type": "execute_result"
    }
   ],
   "source": [
    "stats.kstest(stats.t.rvs(100, size=100), stats.norm.cdf)"
   ]
  },
  {
   "cell_type": "markdown",
   "id": "89c0737a",
   "metadata": {},
   "source": [
    "Con 3 grados de libertad, la distribución t parece cercana a la distribución normal, y la prueba KS no rechaza la hipótesis de que la muestra proviene de la distribución normal:"
   ]
  },
  {
   "cell_type": "code",
   "execution_count": 52,
   "id": "ad4e4482",
   "metadata": {},
   "outputs": [
    {
     "data": {
      "text/plain": [
       "KstestResult(statistic=0.16051264066027615, pvalue=0.010195956084708024, statistic_location=1.0386345764801945, statistic_sign=-1)"
      ]
     },
     "execution_count": 52,
     "metadata": {},
     "output_type": "execute_result"
    }
   ],
   "source": [
    "stats.kstest(stats.t.rvs(3, size=100), stats.norm.cdf)"
   ]
  },
  {
   "cell_type": "markdown",
   "id": "7bfab06e",
   "metadata": {},
   "source": [
    "Si queremos comparar la distribución para 2 muestras independientes con KS, podemos usar:"
   ]
  },
  {
   "cell_type": "code",
   "execution_count": 54,
   "id": "6f370404",
   "metadata": {},
   "outputs": [],
   "source": [
    "from scipy.stats import ks_2samp\n"
   ]
  },
  {
   "cell_type": "code",
   "execution_count": 55,
   "id": "2ec7e6d3",
   "metadata": {},
   "outputs": [],
   "source": [
    "week1 = np.genfromtxt(\"Data1/week1.csv\", delimiter=\",\")\n",
    "week2 = np.genfromtxt(\"Data1/week2.csv\", delimiter=\",\")"
   ]
  },
  {
   "cell_type": "code",
   "execution_count": 56,
   "id": "ba59b06b",
   "metadata": {},
   "outputs": [
    {
     "data": {
      "image/png": "[encoded data removed]",
      "text/plain": [
       "<Figure size 640x480 with 1 Axes>"
      ]
     },
     "metadata": {},
     "output_type": "display_data"
    }
   ],
   "source": [
    "plt.hist(week1, bins=20, alpha=0.5, color='b')\n",
    "plt.hist(week2, bins=20, alpha=0.5, color='r')\n",
    "leg = ['week1', 'week2']\n",
    "plt.legend(leg)\n",
    "plt.show()"
   ]
  },
  {
   "cell_type": "code",
   "execution_count": 57,
   "id": "0cdc859b",
   "metadata": {},
   "outputs": [
    {
     "data": {
      "text/plain": [
       "KstestResult(statistic=0.38, pvalue=0.0013147736033165794, statistic_location=28.61026924, statistic_sign=1)"
      ]
     },
     "execution_count": 57,
     "metadata": {},
     "output_type": "execute_result"
    }
   ],
   "source": [
    "ks_2samp(week1,week2)"
   ]
  },
  {
   "cell_type": "markdown",
   "id": "2b4098de",
   "metadata": {},
   "source": [
    "Se debe rechazar la hipótesis nula a favor de la hipótesis alternativa. Por lo que la distribución de los datos son diferentes."
   ]
  },
  {
   "cell_type": "markdown",
   "id": "46d3a225",
   "metadata": {},
   "source": [
    "## Prueba chi-cuadrado\n",
    "\n",
    "La prueba de chi-cuadrado de Pearson se puede utilizar para probar las diferencias significativas entre los grupos en los que participan múltiples factores en el resultado, es decir, una comparación de las respuestas de la encuesta(\"A\" frente \"B\") para algunas personas a las que se les ha dado una de *dos* conjuntos de información (como información \"verdadera\" e información \"falsa\", por ejemplo).\n",
    "\n",
    "El Chi-Cuadrado toma una entrada de tabla de contingencia similar a la siguiente.\n",
    "```\n",
    "          | A   |  B  \n",
    " ---------------------         \n",
    "    true  | 30  | 10 \n",
    "    false | 20  | 20 \n",
    "```\n",
    "...por lo que parece que dar a las personas información falsa sesga el resultado en un 10/40 o un 25% en este ejemplo.\n",
    "\n",
    "La tabla de contingencia puede tener tantas columnas y filas como sea necesario.\n",
    "\n",
    " + Filas = Resultados\n",
    " + Columnas = Condiciones\n",
    " \n",
    " #### Ho : Observados = Esperados ....No hay relacion entre las variables de filas y columnas, son independientes\n",
    " \n",
    " #### Ha : Observados <> Esperados ....Hay relacion entre las variables de filas y columnas, no son independientes\n",
    " \n",
    " Utilice la función ``chi2_contingency`` de Scipy Stats para realizar una prueba de chi cuadrado:\n",
    " "
   ]
  },
  {
   "cell_type": "code",
   "execution_count": 58,
   "id": "603696ec",
   "metadata": {},
   "outputs": [
    {
     "name": "stdout",
     "output_type": "stream",
     "text": [
      "0.03767\n"
     ]
    }
   ],
   "source": [
    "from scipy.stats import chi2_contingency\n",
    "\n",
    "X = [[30,10],\n",
    "     [20,20]]\n",
    "\n",
    "chi2, pval, dof, expected = chi2_contingency(X)\n",
    "print(pval.round(5))"
   ]
  },
  {
   "cell_type": "markdown",
   "id": "7323d658",
   "metadata": {},
   "source": [
    "Sobre la base de esto, *Aceptamos la Hipótesis nula al 1% de significancia* y decimos que esta variación podría haber ocurrido por casualidad.\n",
    "\n",
    "¿Qué pasa si obtenemos la misma diferencia de razón para una muestra más grande?"
   ]
  },
  {
   "cell_type": "code",
   "execution_count": 59,
   "id": "df666f3e",
   "metadata": {},
   "outputs": [
    {
     "name": "stdout",
     "output_type": "stream",
     "text": [
      "4.832154459214226e-13\n"
     ]
    }
   ],
   "source": [
    "X = [[300,100],\n",
    "     [200,200]]\n",
    "\n",
    "chi2, pval, dof, expected = chi2_contingency(X)\n",
    "print(pval)"
   ]
  },
  {
   "cell_type": "markdown",
   "id": "7c0eff36",
   "metadata": {},
   "source": [
    "....podemos estar bastante seguros de que esta es una diferencia significativa y definitivamente *Rechazamos la hipótesis nula.*"
   ]
  },
  {
   "cell_type": "markdown",
   "id": "31801ca0",
   "metadata": {},
   "source": [
    "#### Otro ejemplo:\n",
    "\n",
    "La gerencia de la tienda de hormigas VeryAnts quiere saber si sus dos especies de hormigas más populares, la cortadora de hojas y la cosechadora, varían en popularidad entre los estudiantes de 1°, 2° y 3° grado.\n",
    "\n",
    "Hemos creado una tabla que representa las diferentes hormigas compradas por los niños en los grados 1,2 y 3 después del último gran viaje de campo a VeryAnts. Ejecute el código para ver qué sucede cuando ingresamos esta tabla en la prueba chi-cuadrado de SciPy.\n",
    "\n",
    "¿El valor p resultante significa que debemos rechazar o aceptar la hipótesis nula?"
   ]
  },
  {
   "cell_type": "code",
   "execution_count": 60,
   "id": "90710e75",
   "metadata": {},
   "outputs": [
    {
     "name": "stdout",
     "output_type": "stream",
     "text": [
      "0.15508230807673704\n"
     ]
    }
   ],
   "source": [
    "from scipy.stats import chi2_contingency\n",
    "\n",
    "# Contingency table\n",
    "#         harvester | leaf cutter \n",
    "# ------------------+-----------------\n",
    "# 1st gr | 30       |  10\n",
    "# 2nd gr | 35       |  5\n",
    "# 3rd gr | 28       |  12\n",
    "\n",
    "X = [[30,10],\n",
    "     [35,5],\n",
    "     [28,12]]\n",
    "chi2, pval, dof, expected = chi2_contingency(X)\n",
    "print(pval)"
   ]
  },
  {
   "cell_type": "markdown",
   "id": "12dcac28",
   "metadata": {},
   "source": [
    "Sobre la base de esto, aceptamos la hipótesis nula: le decimos a la gerencia que *no hay una diferencia significativa en la popularidad de estas hormigas entre los alumnos de 1°, 2° y 3° grado*\n",
    "\n",
    "**Ejemplo de un dado:** ver si un dado es válido o esta trucado"
   ]
  },
  {
   "cell_type": "code",
   "execution_count": 61,
   "id": "98783769",
   "metadata": {},
   "outputs": [
    {
     "name": "stdout",
     "output_type": "stream",
     "text": [
      "0.320581714685722\n"
     ]
    }
   ],
   "source": [
    "# Contingency table\n",
    "#   observado | esperado\n",
    "# ----+--------------------------+----------\n",
    "# 1 | 25      | 20\n",
    "# 2 | 20      | 20\n",
    "# 3 | 15      | 20\n",
    "# 4 | 27      | 20\n",
    "# 5 | 23      | 20\n",
    "# 6 | 10      | 20\n",
    "\n",
    "X = [[25, 20],\n",
    "     [20, 20],\n",
    "     [15, 20],\n",
    "     [27, 20],\n",
    "     [23, 20],\n",
    "     [10, 20]]\n",
    "chi2, pval, dof, excepted = chi2_contingency(X)\n",
    "print(pval)"
   ]
  },
  {
   "cell_type": "markdown",
   "id": "60ce0293",
   "metadata": {},
   "source": [
    "Como el pvalor es mayor a 0.05 no podemos rechazar (o aceptamos) la hipótesis nula, por lo que la relación entre los lanzamientos y los resultados no son significativos o son independientes. En otras palabras, las filas y columnas tienen resultados independientes."
   ]
  },
  {
   "cell_type": "markdown",
   "id": "a5f6fad3",
   "metadata": {},
   "source": [
    "#### Ejemplo de la presentación:\n",
    " \n",
    "Relación entre defectos vs distribuidor."
   ]
  },
  {
   "cell_type": "code",
   "execution_count": 62,
   "id": "7184bd7d",
   "metadata": {
    "scrolled": true
   },
   "outputs": [
    {
     "name": "stdout",
     "output_type": "stream",
     "text": [
      "0.01318549064696803\n"
     ]
    }
   ],
   "source": [
    "# defectuosos, correctos\n",
    "\n",
    "X = [[16, 94],\n",
    "     [24, 76],\n",
    "     [9, 91]]\n",
    "chi2, pval, dof, expected = chi2_contingency(X)\n",
    "print(pval)"
   ]
  },
  {
   "cell_type": "markdown",
   "id": "139db7c4",
   "metadata": {},
   "source": [
    "Como el valor p es menor a 0.05 entonces se rechaza la Ho por lo tanto hay relación entre los defectos (columnas) y el distribuidor (filas). La relación entre defectos y distribuidor es significativo."
   ]
  }
 ],
 "metadata": {
  "kernelspec": {
   "display_name": "Python 3 (ipykernel)",
   "language": "python",
   "name": "python3"
  },
  "language_info": {
   "codemirror_mode": {
    "name": "ipython",
    "version": 3
   },
   "file_extension": ".py",
   "mimetype": "text/x-python",
   "name": "python",
   "nbconvert_exporter": "python",
   "pygments_lexer": "ipython3",
   "version": "3.10.9"
  }
 },
 "nbformat": 4,
 "nbformat_minor": 5
}
