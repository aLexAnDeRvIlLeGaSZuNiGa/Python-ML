{
 "cells": [
  {
   "cell_type": "markdown",
   "id": "04acde07",
   "metadata": {},
   "source": [
    "# Muestreo y estandarización\n",
    "\n",
    "### Importación de librerías necesarias"
   ]
  },
  {
   "cell_type": "code",
   "execution_count": 3,
   "id": "5945c44b",
   "metadata": {},
   "outputs": [],
   "source": [
    "# Importar librerias necesarias\n",
    "import numpy as np\n",
    "import pandas as pd\n",
    "\n",
    "import scipy as sp\n",
    "import scipy.stats as st\n",
    "import statsmodels.api as sm #generar modelos lineales generalizados modelos de regresion cuantitativas\n",
    "\n",
    "import matplotlib.pyplot as plt"
   ]
  },
  {
   "cell_type": "markdown",
   "id": "0828c03b",
   "metadata": {},
   "source": [
    "### Carga de datos"
   ]
  },
  {
   "cell_type": "code",
   "execution_count": 4,
   "id": "31eed293",
   "metadata": {},
   "outputs": [
    {
     "data": {
      "text/plain": [
       "'C:\\\\Users\\\\Alexander\\\\Desktop\\\\Python'"
      ]
     },
     "execution_count": 4,
     "metadata": {},
     "output_type": "execute_result"
    }
   ],
   "source": [
    "pwd"
   ]
  },
  {
   "cell_type": "code",
   "execution_count": 10,
   "id": "c1d29af3",
   "metadata": {},
   "outputs": [],
   "source": [
    "# Importar datos en formato xls.\n",
    "data_hipotecas = pd.read_excel('Data1/hipotecas.xlsx')"
   ]
  },
  {
   "cell_type": "code",
   "execution_count": 12,
   "id": "fee3242c",
   "metadata": {},
   "outputs": [
    {
     "data": {
      "text/html": [
       "<div>\n",
       "<style scoped>\n",
       "    .dataframe tbody tr th:only-of-type {\n",
       "        vertical-align: middle;\n",
       "    }\n",
       "\n",
       "    .dataframe tbody tr th {\n",
       "        vertical-align: top;\n",
       "    }\n",
       "\n",
       "    .dataframe thead th {\n",
       "        text-align: right;\n",
       "    }\n",
       "</style>\n",
       "<table border=\"1\" class=\"dataframe\">\n",
       "  <thead>\n",
       "    <tr style=\"text-align: right;\">\n",
       "      <th></th>\n",
       "      <th>TIENDA</th>\n",
       "      <th>ID_VENDEDOR</th>\n",
       "      <th>NRO_HIPO</th>\n",
       "    </tr>\n",
       "  </thead>\n",
       "  <tbody>\n",
       "    <tr>\n",
       "      <th>0</th>\n",
       "      <td>3</td>\n",
       "      <td>101</td>\n",
       "      <td>1</td>\n",
       "    </tr>\n",
       "    <tr>\n",
       "      <th>1</th>\n",
       "      <td>2</td>\n",
       "      <td>102</td>\n",
       "      <td>4</td>\n",
       "    </tr>\n",
       "    <tr>\n",
       "      <th>2</th>\n",
       "      <td>5</td>\n",
       "      <td>103</td>\n",
       "      <td>1</td>\n",
       "    </tr>\n",
       "    <tr>\n",
       "      <th>3</th>\n",
       "      <td>5</td>\n",
       "      <td>104</td>\n",
       "      <td>3</td>\n",
       "    </tr>\n",
       "    <tr>\n",
       "      <th>4</th>\n",
       "      <td>4</td>\n",
       "      <td>105</td>\n",
       "      <td>0</td>\n",
       "    </tr>\n",
       "    <tr>\n",
       "      <th>5</th>\n",
       "      <td>2</td>\n",
       "      <td>106</td>\n",
       "      <td>3</td>\n",
       "    </tr>\n",
       "    <tr>\n",
       "      <th>6</th>\n",
       "      <td>5</td>\n",
       "      <td>107</td>\n",
       "      <td>2</td>\n",
       "    </tr>\n",
       "    <tr>\n",
       "      <th>7</th>\n",
       "      <td>3</td>\n",
       "      <td>108</td>\n",
       "      <td>1</td>\n",
       "    </tr>\n",
       "    <tr>\n",
       "      <th>8</th>\n",
       "      <td>3</td>\n",
       "      <td>109</td>\n",
       "      <td>2</td>\n",
       "    </tr>\n",
       "    <tr>\n",
       "      <th>9</th>\n",
       "      <td>5</td>\n",
       "      <td>110</td>\n",
       "      <td>2</td>\n",
       "    </tr>\n",
       "  </tbody>\n",
       "</table>\n",
       "</div>"
      ],
      "text/plain": [
       "   TIENDA  ID_VENDEDOR  NRO_HIPO\n",
       "0       3          101         1\n",
       "1       2          102         4\n",
       "2       5          103         1\n",
       "3       5          104         3\n",
       "4       4          105         0\n",
       "5       2          106         3\n",
       "6       5          107         2\n",
       "7       3          108         1\n",
       "8       3          109         2\n",
       "9       5          110         2"
      ]
     },
     "execution_count": 12,
     "metadata": {},
     "output_type": "execute_result"
    }
   ],
   "source": [
    "data_hipotecas.head(10)"
   ]
  },
  {
   "cell_type": "code",
   "execution_count": 11,
   "id": "4ea0f3ed",
   "metadata": {},
   "outputs": [
    {
     "name": "stdout",
     "output_type": "stream",
     "text": [
      "dimensiones (9798, 3)\n",
      "Nro de tiendas: 5\n",
      "Nro de vendedores; 9798\n"
     ]
    }
   ],
   "source": [
    "# hallazgos iniciales\n",
    "print('dimensiones',data_hipotecas.shape)\n",
    "print('Nro de tiendas:', len(np.unique(data_hipotecas.TIENDA)))\n",
    "print('Nro de vendedores;', len(np.unique(data_hipotecas.ID_VENDEDOR)))"
   ]
  },
  {
   "cell_type": "code",
   "execution_count": 13,
   "id": "bdbf89d0",
   "metadata": {},
   "outputs": [
    {
     "data": {
      "text/plain": [
       "5    2003\n",
       "3    1981\n",
       "1    1975\n",
       "4    1932\n",
       "2    1907\n",
       "Name: TIENDA, dtype: int64"
      ]
     },
     "execution_count": 13,
     "metadata": {},
     "output_type": "execute_result"
    }
   ],
   "source": [
    "data_hipotecas.TIENDA.value_counts()"
   ]
  },
  {
   "cell_type": "code",
   "execution_count": 14,
   "id": "6f9314cf",
   "metadata": {},
   "outputs": [
    {
     "data": {
      "text/plain": [
       "TIENDA\n",
       "1    1975\n",
       "2    1907\n",
       "3    1981\n",
       "4    1932\n",
       "5    2003\n",
       "dtype: int64"
      ]
     },
     "execution_count": 14,
     "metadata": {},
     "output_type": "execute_result"
    }
   ],
   "source": [
    "data_hipotecas.groupby(['TIENDA']).size()"
   ]
  },
  {
   "cell_type": "markdown",
   "id": "3a2dced9",
   "metadata": {},
   "source": [
    "### Técnicas de selección de elementos por muestreo"
   ]
  },
  {
   "cell_type": "markdown",
   "id": "705eccc0",
   "metadata": {},
   "source": [
    "<b>1.Muestreo aleatorio simple:</b>\n",
    "\n",
    "De acuerdo con el principio de igual probabilidad, se seleccionan aleatoriamente n muestras de la población.<br>\n",
    "Escenario aplicable: todos los individuos de la muestra son igualmente probables (uniformes).<br>\n",
    "Según los escenarios aplicables, el muestreo aleatorio se divide en muestreo con reemplazo y muestreo sin reemplazo."
   ]
  },
  {
   "cell_type": "code",
   "execution_count": 24,
   "id": "93cc3a38",
   "metadata": {},
   "outputs": [
    {
     "name": "stdout",
     "output_type": "stream",
     "text": [
      "Data completa= (9798, 3)\n",
      "Data MAS= (50, 3)\n"
     ]
    }
   ],
   "source": [
    "# Muestreo aleatorio simple por cantidad\n",
    "print('Data completa=',data_hipotecas.shape) #shape extraem numeros al azar\n",
    "print('Data MAS=',data_hipotecas.sample(n=50, replace=False).shape) #sample 50 datos al azar sin reeplazo"
   ]
  },
  {
   "cell_type": "code",
   "execution_count": 57,
   "id": "a3612cf0",
   "metadata": {},
   "outputs": [],
   "source": [
    "data_sample=data_hipotecas.sample(n=4500, replace=True) # TRUE ES CON REEMPLAZO"
   ]
  },
  {
   "cell_type": "code",
   "execution_count": 46,
   "id": "bcab338d",
   "metadata": {},
   "outputs": [
    {
     "data": {
      "text/html": [
       "<div>\n",
       "<style scoped>\n",
       "    .dataframe tbody tr th:only-of-type {\n",
       "        vertical-align: middle;\n",
       "    }\n",
       "\n",
       "    .dataframe tbody tr th {\n",
       "        vertical-align: top;\n",
       "    }\n",
       "\n",
       "    .dataframe thead th {\n",
       "        text-align: right;\n",
       "    }\n",
       "</style>\n",
       "<table border=\"1\" class=\"dataframe\">\n",
       "  <thead>\n",
       "    <tr style=\"text-align: right;\">\n",
       "      <th></th>\n",
       "      <th>TIENDA</th>\n",
       "      <th>ID_VENDEDOR</th>\n",
       "      <th>NRO_HIPO</th>\n",
       "    </tr>\n",
       "  </thead>\n",
       "  <tbody>\n",
       "    <tr>\n",
       "      <th>1122</th>\n",
       "      <td>1</td>\n",
       "      <td>1223</td>\n",
       "      <td>3</td>\n",
       "    </tr>\n",
       "    <tr>\n",
       "      <th>7334</th>\n",
       "      <td>3</td>\n",
       "      <td>7435</td>\n",
       "      <td>4</td>\n",
       "    </tr>\n",
       "    <tr>\n",
       "      <th>44</th>\n",
       "      <td>4</td>\n",
       "      <td>145</td>\n",
       "      <td>2</td>\n",
       "    </tr>\n",
       "    <tr>\n",
       "      <th>6478</th>\n",
       "      <td>4</td>\n",
       "      <td>6579</td>\n",
       "      <td>2</td>\n",
       "    </tr>\n",
       "    <tr>\n",
       "      <th>1965</th>\n",
       "      <td>4</td>\n",
       "      <td>2066</td>\n",
       "      <td>4</td>\n",
       "    </tr>\n",
       "    <tr>\n",
       "      <th>...</th>\n",
       "      <td>...</td>\n",
       "      <td>...</td>\n",
       "      <td>...</td>\n",
       "    </tr>\n",
       "    <tr>\n",
       "      <th>2822</th>\n",
       "      <td>3</td>\n",
       "      <td>2923</td>\n",
       "      <td>3</td>\n",
       "    </tr>\n",
       "    <tr>\n",
       "      <th>2752</th>\n",
       "      <td>3</td>\n",
       "      <td>2853</td>\n",
       "      <td>2</td>\n",
       "    </tr>\n",
       "    <tr>\n",
       "      <th>5100</th>\n",
       "      <td>5</td>\n",
       "      <td>5201</td>\n",
       "      <td>3</td>\n",
       "    </tr>\n",
       "    <tr>\n",
       "      <th>683</th>\n",
       "      <td>3</td>\n",
       "      <td>784</td>\n",
       "      <td>2</td>\n",
       "    </tr>\n",
       "    <tr>\n",
       "      <th>964</th>\n",
       "      <td>4</td>\n",
       "      <td>1065</td>\n",
       "      <td>0</td>\n",
       "    </tr>\n",
       "  </tbody>\n",
       "</table>\n",
       "<p>4500 rows × 3 columns</p>\n",
       "</div>"
      ],
      "text/plain": [
       "      TIENDA  ID_VENDEDOR  NRO_HIPO\n",
       "1122       1         1223         3\n",
       "7334       3         7435         4\n",
       "44         4          145         2\n",
       "6478       4         6579         2\n",
       "1965       4         2066         4\n",
       "...      ...          ...       ...\n",
       "2822       3         2923         3\n",
       "2752       3         2853         2\n",
       "5100       5         5201         3\n",
       "683        3          784         2\n",
       "964        4         1065         0\n",
       "\n",
       "[4500 rows x 3 columns]"
      ]
     },
     "execution_count": 46,
     "metadata": {},
     "output_type": "execute_result"
    }
   ],
   "source": [
    "data_sample"
   ]
  },
  {
   "cell_type": "code",
   "execution_count": 47,
   "id": "270c8bb9",
   "metadata": {},
   "outputs": [
    {
     "data": {
      "text/plain": [
       "1122    False\n",
       "7334    False\n",
       "44      False\n",
       "6478    False\n",
       "1965    False\n",
       "        ...  \n",
       "2822    False\n",
       "2752     True\n",
       "5100    False\n",
       "683     False\n",
       "964     False\n",
       "Length: 4500, dtype: bool"
      ]
     },
     "execution_count": 47,
     "metadata": {},
     "output_type": "execute_result"
    }
   ],
   "source": [
    "# Como verificar si un registro se repite\n",
    "data_sample.duplicated()"
   ]
  },
  {
   "cell_type": "code",
   "execution_count": 59,
   "id": "3d106935",
   "metadata": {},
   "outputs": [],
   "source": [
    "data_sample.to_csv(\"muestra_reemplazo.csv\")"
   ]
  },
  {
   "cell_type": "code",
   "execution_count": 63,
   "id": "bccf487a",
   "metadata": {},
   "outputs": [
    {
     "data": {
      "text/html": [
       "<div>\n",
       "<style scoped>\n",
       "    .dataframe tbody tr th:only-of-type {\n",
       "        vertical-align: middle;\n",
       "    }\n",
       "\n",
       "    .dataframe tbody tr th {\n",
       "        vertical-align: top;\n",
       "    }\n",
       "\n",
       "    .dataframe thead th {\n",
       "        text-align: right;\n",
       "    }\n",
       "</style>\n",
       "<table border=\"1\" class=\"dataframe\">\n",
       "  <thead>\n",
       "    <tr style=\"text-align: right;\">\n",
       "      <th></th>\n",
       "      <th>TIENDA</th>\n",
       "      <th>ID_VENDEDOR</th>\n",
       "      <th>NRO_HIPO</th>\n",
       "    </tr>\n",
       "  </thead>\n",
       "  <tbody>\n",
       "    <tr>\n",
       "      <th>5129</th>\n",
       "      <td>1</td>\n",
       "      <td>5230</td>\n",
       "      <td>3</td>\n",
       "    </tr>\n",
       "  </tbody>\n",
       "</table>\n",
       "</div>"
      ],
      "text/plain": [
       "      TIENDA  ID_VENDEDOR  NRO_HIPO\n",
       "5129       1         5230         3"
      ]
     },
     "execution_count": 63,
     "metadata": {},
     "output_type": "execute_result"
    }
   ],
   "source": [
    "data_sample.iloc[[2752],:]"
   ]
  },
  {
   "cell_type": "code",
   "execution_count": 54,
   "id": "d86f2cd0",
   "metadata": {},
   "outputs": [
    {
     "data": {
      "text/plain": [
       "1    906\n",
       "2    876\n",
       "3    943\n",
       "4    904\n",
       "5    871\n",
       "Name: TIENDA, dtype: int64"
      ]
     },
     "execution_count": 54,
     "metadata": {},
     "output_type": "execute_result"
    }
   ],
   "source": [
    "data_sample['TIENDA'].value_counts().sort_index()"
   ]
  },
  {
   "cell_type": "code",
   "execution_count": 22,
   "id": "9170fd26",
   "metadata": {},
   "outputs": [
    {
     "data": {
      "text/plain": [
       "1    0.26\n",
       "2    0.14\n",
       "3    0.18\n",
       "4    0.28\n",
       "5    0.14\n",
       "Name: TIENDA, dtype: float64"
      ]
     },
     "execution_count": 22,
     "metadata": {},
     "output_type": "execute_result"
    }
   ],
   "source": [
    "data_sample['TIENDA'].value_counts(normalize = True).sort_index()"
   ]
  },
  {
   "cell_type": "code",
   "execution_count": 56,
   "id": "14c2117b",
   "metadata": {},
   "outputs": [
    {
     "name": "stdout",
     "output_type": "stream",
     "text": [
      "Data completa= (9798, 3)\n",
      "Data MAS= (980, 3)\n"
     ]
    }
   ],
   "source": [
    "# Muestreo aleatorio simple por porcentaje\n",
    "print('Data completa=',data_hipotecas.shape)\n",
    "print('Data MAS=',data_hipotecas.sample(frac = 0.1, replace=False).shape)"
   ]
  },
  {
   "cell_type": "code",
   "execution_count": 49,
   "id": "2f9926b3",
   "metadata": {},
   "outputs": [],
   "source": [
    "data_sample_frac = data_hipotecas.sample(frac = 0.1, replace=False)"
   ]
  },
  {
   "cell_type": "code",
   "execution_count": 51,
   "id": "f4cb96d0",
   "metadata": {},
   "outputs": [
    {
     "data": {
      "text/plain": [
       "1    906\n",
       "2    876\n",
       "3    943\n",
       "4    904\n",
       "5    871\n",
       "Name: TIENDA, dtype: int64"
      ]
     },
     "execution_count": 51,
     "metadata": {},
     "output_type": "execute_result"
    }
   ],
   "source": [
    "data_sample['TIENDA'].value_counts().sort_index()\n",
    "    "
   ]
  },
  {
   "cell_type": "code",
   "execution_count": 52,
   "id": "a3d81a70",
   "metadata": {},
   "outputs": [
    {
     "data": {
      "text/plain": [
       "1    0.201333\n",
       "2    0.194667\n",
       "3    0.209556\n",
       "4    0.200889\n",
       "5    0.193556\n",
       "Name: TIENDA, dtype: float64"
      ]
     },
     "execution_count": 52,
     "metadata": {},
     "output_type": "execute_result"
    }
   ],
   "source": [
    "data_sample['TIENDA'].value_counts(normalize = True).sort_index()"
   ]
  },
  {
   "cell_type": "markdown",
   "id": "83957c95",
   "metadata": {},
   "source": [
    "### 2.Muestreo estratificado: (mas efectivo q el anterior , el muestreo sistematico es aún mejor)\n",
    "\n",
    "Divida todas las muestras individuales en varias categorías de acuerdo con ciertas características y luego aplique un muestreo aleatorio o un muestreo equidistante de cada categoría para seleccionar individuos para formar una muestra.\n",
    "\n",
    "Ventajas: Puede reducir significativamente los errores de muestreo y facilitar la investigación por separado para diferentes tipos de muestra de datos.\n",
    "\n",
    "Escenarios aplicables: datos con características como atributos y etiquetados de lógica de clasificación."
   ]
  },
  {
   "cell_type": "code",
   "execution_count": 78,
   "id": "5524a34c",
   "metadata": {},
   "outputs": [],
   "source": [
    "# Muestreo Estratificado por cantidad\n",
    "df_estrato = data_hipotecas.groupby('TIENDA', group_keys=False).apply(lambda x: x.sample(n = 200, replace = True)) # sample es extraer"
   ]
  },
  {
   "cell_type": "code",
   "execution_count": 79,
   "id": "d6816b91",
   "metadata": {},
   "outputs": [
    {
     "data": {
      "text/html": [
       "<div>\n",
       "<style scoped>\n",
       "    .dataframe tbody tr th:only-of-type {\n",
       "        vertical-align: middle;\n",
       "    }\n",
       "\n",
       "    .dataframe tbody tr th {\n",
       "        vertical-align: top;\n",
       "    }\n",
       "\n",
       "    .dataframe thead th {\n",
       "        text-align: right;\n",
       "    }\n",
       "</style>\n",
       "<table border=\"1\" class=\"dataframe\">\n",
       "  <thead>\n",
       "    <tr style=\"text-align: right;\">\n",
       "      <th></th>\n",
       "      <th>TIENDA</th>\n",
       "      <th>ID_VENDEDOR</th>\n",
       "      <th>NRO_HIPO</th>\n",
       "    </tr>\n",
       "  </thead>\n",
       "  <tbody>\n",
       "    <tr>\n",
       "      <th>7269</th>\n",
       "      <td>1</td>\n",
       "      <td>7370</td>\n",
       "      <td>0</td>\n",
       "    </tr>\n",
       "    <tr>\n",
       "      <th>1994</th>\n",
       "      <td>1</td>\n",
       "      <td>2095</td>\n",
       "      <td>0</td>\n",
       "    </tr>\n",
       "    <tr>\n",
       "      <th>6264</th>\n",
       "      <td>1</td>\n",
       "      <td>6365</td>\n",
       "      <td>1</td>\n",
       "    </tr>\n",
       "    <tr>\n",
       "      <th>5161</th>\n",
       "      <td>1</td>\n",
       "      <td>5262</td>\n",
       "      <td>0</td>\n",
       "    </tr>\n",
       "    <tr>\n",
       "      <th>4990</th>\n",
       "      <td>1</td>\n",
       "      <td>5091</td>\n",
       "      <td>4</td>\n",
       "    </tr>\n",
       "    <tr>\n",
       "      <th>...</th>\n",
       "      <td>...</td>\n",
       "      <td>...</td>\n",
       "      <td>...</td>\n",
       "    </tr>\n",
       "    <tr>\n",
       "      <th>7468</th>\n",
       "      <td>5</td>\n",
       "      <td>7569</td>\n",
       "      <td>1</td>\n",
       "    </tr>\n",
       "    <tr>\n",
       "      <th>1547</th>\n",
       "      <td>5</td>\n",
       "      <td>1648</td>\n",
       "      <td>4</td>\n",
       "    </tr>\n",
       "    <tr>\n",
       "      <th>3005</th>\n",
       "      <td>5</td>\n",
       "      <td>3106</td>\n",
       "      <td>4</td>\n",
       "    </tr>\n",
       "    <tr>\n",
       "      <th>751</th>\n",
       "      <td>5</td>\n",
       "      <td>852</td>\n",
       "      <td>0</td>\n",
       "    </tr>\n",
       "    <tr>\n",
       "      <th>2224</th>\n",
       "      <td>5</td>\n",
       "      <td>2325</td>\n",
       "      <td>0</td>\n",
       "    </tr>\n",
       "  </tbody>\n",
       "</table>\n",
       "<p>1000 rows × 3 columns</p>\n",
       "</div>"
      ],
      "text/plain": [
       "      TIENDA  ID_VENDEDOR  NRO_HIPO\n",
       "7269       1         7370         0\n",
       "1994       1         2095         0\n",
       "6264       1         6365         1\n",
       "5161       1         5262         0\n",
       "4990       1         5091         4\n",
       "...      ...          ...       ...\n",
       "7468       5         7569         1\n",
       "1547       5         1648         4\n",
       "3005       5         3106         4\n",
       "751        5          852         0\n",
       "2224       5         2325         0\n",
       "\n",
       "[1000 rows x 3 columns]"
      ]
     },
     "execution_count": 79,
     "metadata": {},
     "output_type": "execute_result"
    }
   ],
   "source": [
    "df_estrato"
   ]
  },
  {
   "cell_type": "code",
   "execution_count": 80,
   "id": "5dc65bb8",
   "metadata": {},
   "outputs": [
    {
     "data": {
      "text/plain": [
       "1    200\n",
       "2    200\n",
       "3    200\n",
       "4    200\n",
       "5    200\n",
       "Name: TIENDA, dtype: int64"
      ]
     },
     "execution_count": 80,
     "metadata": {},
     "output_type": "execute_result"
    }
   ],
   "source": [
    "df_estrato['TIENDA'].value_counts().sort_index()\n"
   ]
  },
  {
   "cell_type": "code",
   "execution_count": 81,
   "id": "a4630ae1",
   "metadata": {},
   "outputs": [],
   "source": [
    "#Muestreo Estratificado por proporción\n",
    "df_estrato2= data_hipotecas.groupby('TIENDA', group_keys=False).apply(lambda x: x.sample(frac = 0.1, replace = True))"
   ]
  },
  {
   "cell_type": "code",
   "execution_count": 82,
   "id": "655bfde2",
   "metadata": {},
   "outputs": [
    {
     "data": {
      "text/plain": [
       "1    198\n",
       "2    191\n",
       "3    198\n",
       "4    193\n",
       "5    200\n",
       "Name: TIENDA, dtype: int64"
      ]
     },
     "execution_count": 82,
     "metadata": {},
     "output_type": "execute_result"
    }
   ],
   "source": [
    "df_estrato2['TIENDA'].value_counts().sort_index()"
   ]
  },
  {
   "cell_type": "markdown",
   "id": "e2658bd6",
   "metadata": {},
   "source": [
    "## Pruebas de Normalidad"
   ]
  },
  {
   "cell_type": "code",
   "execution_count": 85,
   "id": "da789d28",
   "metadata": {},
   "outputs": [],
   "source": [
    "# Importar datos en formato xls.\n",
    "churners_data = pd.read_excel('Data1/Churners.xlsx')"
   ]
  },
  {
   "cell_type": "code",
   "execution_count": 86,
   "id": "11b6802b",
   "metadata": {},
   "outputs": [
    {
     "data": {
      "text/html": [
       "<div>\n",
       "<style scoped>\n",
       "    .dataframe tbody tr th:only-of-type {\n",
       "        vertical-align: middle;\n",
       "    }\n",
       "\n",
       "    .dataframe tbody tr th {\n",
       "        vertical-align: top;\n",
       "    }\n",
       "\n",
       "    .dataframe thead th {\n",
       "        text-align: right;\n",
       "    }\n",
       "</style>\n",
       "<table border=\"1\" class=\"dataframe\">\n",
       "  <thead>\n",
       "    <tr style=\"text-align: right;\">\n",
       "      <th></th>\n",
       "      <th>ID</th>\n",
       "      <th>EDAD</th>\n",
       "      <th>SEXO</th>\n",
       "      <th>CIVIL</th>\n",
       "      <th>HIJOS</th>\n",
       "      <th>INGRESO</th>\n",
       "      <th>AUTO</th>\n",
       "      <th>CHURN</th>\n",
       "    </tr>\n",
       "  </thead>\n",
       "  <tbody>\n",
       "    <tr>\n",
       "      <th>0</th>\n",
       "      <td>0</td>\n",
       "      <td>57</td>\n",
       "      <td>Femenino</td>\n",
       "      <td>Casado</td>\n",
       "      <td>2</td>\n",
       "      <td>27535.3</td>\n",
       "      <td>Es dueño de un auto</td>\n",
       "      <td>Voluntario</td>\n",
       "    </tr>\n",
       "    <tr>\n",
       "      <th>1</th>\n",
       "      <td>4</td>\n",
       "      <td>68</td>\n",
       "      <td>Femenino</td>\n",
       "      <td>Casado</td>\n",
       "      <td>2</td>\n",
       "      <td>81000.9</td>\n",
       "      <td>No es dueño de un auto</td>\n",
       "      <td>Voluntario</td>\n",
       "    </tr>\n",
       "    <tr>\n",
       "      <th>2</th>\n",
       "      <td>8</td>\n",
       "      <td>34</td>\n",
       "      <td>Maculino</td>\n",
       "      <td>Soltero</td>\n",
       "      <td>0</td>\n",
       "      <td>87467.1</td>\n",
       "      <td>Es dueño de un auto</td>\n",
       "      <td>Actual</td>\n",
       "    </tr>\n",
       "    <tr>\n",
       "      <th>3</th>\n",
       "      <td>10</td>\n",
       "      <td>60</td>\n",
       "      <td>Masculino</td>\n",
       "      <td>Casado</td>\n",
       "      <td>2</td>\n",
       "      <td>83220.6</td>\n",
       "      <td>No es dueño de un auto</td>\n",
       "      <td>Voluntario</td>\n",
       "    </tr>\n",
       "    <tr>\n",
       "      <th>4</th>\n",
       "      <td>13</td>\n",
       "      <td>28</td>\n",
       "      <td>Femenino</td>\n",
       "      <td>Casado</td>\n",
       "      <td>2</td>\n",
       "      <td>20850.4</td>\n",
       "      <td>No es dueño de un auto</td>\n",
       "      <td>Voluntario</td>\n",
       "    </tr>\n",
       "  </tbody>\n",
       "</table>\n",
       "</div>"
      ],
      "text/plain": [
       "   ID  EDAD       SEXO    CIVIL  HIJOS  INGRESO                    AUTO  \\\n",
       "0   0    57   Femenino   Casado      2  27535.3     Es dueño de un auto   \n",
       "1   4    68   Femenino   Casado      2  81000.9  No es dueño de un auto   \n",
       "2   8    34   Maculino  Soltero      0  87467.1     Es dueño de un auto   \n",
       "3  10    60  Masculino   Casado      2  83220.6  No es dueño de un auto   \n",
       "4  13    28   Femenino   Casado      2  20850.4  No es dueño de un auto   \n",
       "\n",
       "        CHURN  \n",
       "0  Voluntario  \n",
       "1  Voluntario  \n",
       "2      Actual  \n",
       "3  Voluntario  \n",
       "4  Voluntario  "
      ]
     },
     "execution_count": 86,
     "metadata": {},
     "output_type": "execute_result"
    }
   ],
   "source": [
    "churners_data.head()"
   ]
  },
  {
   "cell_type": "code",
   "execution_count": 87,
   "id": "783413fa",
   "metadata": {},
   "outputs": [
    {
     "data": {
      "text/plain": [
       "CHURN\n",
       "Actual        656\n",
       "Voluntario    688\n",
       "Name: ID, dtype: int64"
      ]
     },
     "execution_count": 87,
     "metadata": {},
     "output_type": "execute_result"
    }
   ],
   "source": [
    "churners_data.groupby(['CHURN'])['ID'].count()"
   ]
  },
  {
   "cell_type": "code",
   "execution_count": 88,
   "id": "204a7052",
   "metadata": {},
   "outputs": [],
   "source": [
    "churners_data_vol=churners_data[churners_data['CHURN']=='Voluntario']"
   ]
  },
  {
   "cell_type": "code",
   "execution_count": 91,
   "id": "8cf65af2",
   "metadata": {},
   "outputs": [
    {
     "data": {
      "text/html": [
       "<div>\n",
       "<style scoped>\n",
       "    .dataframe tbody tr th:only-of-type {\n",
       "        vertical-align: middle;\n",
       "    }\n",
       "\n",
       "    .dataframe tbody tr th {\n",
       "        vertical-align: top;\n",
       "    }\n",
       "\n",
       "    .dataframe thead th {\n",
       "        text-align: right;\n",
       "    }\n",
       "</style>\n",
       "<table border=\"1\" class=\"dataframe\">\n",
       "  <thead>\n",
       "    <tr style=\"text-align: right;\">\n",
       "      <th></th>\n",
       "      <th>ID</th>\n",
       "      <th>EDAD</th>\n",
       "      <th>SEXO</th>\n",
       "      <th>CIVIL</th>\n",
       "      <th>HIJOS</th>\n",
       "      <th>INGRESO</th>\n",
       "      <th>AUTO</th>\n",
       "      <th>CHURN</th>\n",
       "    </tr>\n",
       "  </thead>\n",
       "  <tbody>\n",
       "    <tr>\n",
       "      <th>0</th>\n",
       "      <td>0</td>\n",
       "      <td>57</td>\n",
       "      <td>Femenino</td>\n",
       "      <td>Casado</td>\n",
       "      <td>2</td>\n",
       "      <td>27535.300000</td>\n",
       "      <td>Es dueño de un auto</td>\n",
       "      <td>Voluntario</td>\n",
       "    </tr>\n",
       "    <tr>\n",
       "      <th>1</th>\n",
       "      <td>4</td>\n",
       "      <td>68</td>\n",
       "      <td>Femenino</td>\n",
       "      <td>Casado</td>\n",
       "      <td>2</td>\n",
       "      <td>81000.900000</td>\n",
       "      <td>No es dueño de un auto</td>\n",
       "      <td>Voluntario</td>\n",
       "    </tr>\n",
       "    <tr>\n",
       "      <th>3</th>\n",
       "      <td>10</td>\n",
       "      <td>60</td>\n",
       "      <td>Masculino</td>\n",
       "      <td>Casado</td>\n",
       "      <td>2</td>\n",
       "      <td>83220.600000</td>\n",
       "      <td>No es dueño de un auto</td>\n",
       "      <td>Voluntario</td>\n",
       "    </tr>\n",
       "    <tr>\n",
       "      <th>4</th>\n",
       "      <td>13</td>\n",
       "      <td>28</td>\n",
       "      <td>Femenino</td>\n",
       "      <td>Casado</td>\n",
       "      <td>2</td>\n",
       "      <td>20850.400000</td>\n",
       "      <td>No es dueño de un auto</td>\n",
       "      <td>Voluntario</td>\n",
       "    </tr>\n",
       "    <tr>\n",
       "      <th>5</th>\n",
       "      <td>18</td>\n",
       "      <td>60</td>\n",
       "      <td>Femenino</td>\n",
       "      <td>Casado</td>\n",
       "      <td>3</td>\n",
       "      <td>18665.449332</td>\n",
       "      <td>No es dueño de un auto</td>\n",
       "      <td>Voluntario</td>\n",
       "    </tr>\n",
       "  </tbody>\n",
       "</table>\n",
       "</div>"
      ],
      "text/plain": [
       "   ID  EDAD       SEXO   CIVIL  HIJOS       INGRESO                    AUTO  \\\n",
       "0   0    57   Femenino  Casado      2  27535.300000     Es dueño de un auto   \n",
       "1   4    68   Femenino  Casado      2  81000.900000  No es dueño de un auto   \n",
       "3  10    60  Masculino  Casado      2  83220.600000  No es dueño de un auto   \n",
       "4  13    28   Femenino  Casado      2  20850.400000  No es dueño de un auto   \n",
       "5  18    60   Femenino  Casado      3  18665.449332  No es dueño de un auto   \n",
       "\n",
       "        CHURN  \n",
       "0  Voluntario  \n",
       "1  Voluntario  \n",
       "3  Voluntario  \n",
       "4  Voluntario  \n",
       "5  Voluntario  "
      ]
     },
     "execution_count": 91,
     "metadata": {},
     "output_type": "execute_result"
    }
   ],
   "source": [
    "churners_data_vol.head()"
   ]
  },
  {
   "cell_type": "markdown",
   "id": "74a09324",
   "metadata": {},
   "source": [
    "Seleccionamos la variable de interés:"
   ]
  },
  {
   "cell_type": "code",
   "execution_count": 90,
   "id": "d9643e0f",
   "metadata": {},
   "outputs": [],
   "source": [
    "churners_ing=churners_data_vol['INGRESO']"
   ]
  },
  {
   "cell_type": "code",
   "execution_count": 92,
   "id": "81db14e4",
   "metadata": {},
   "outputs": [
    {
     "data": {
      "text/plain": [
       "0    27535.300000\n",
       "1    81000.900000\n",
       "3    83220.600000\n",
       "4    20850.400000\n",
       "5    18665.449332\n",
       "Name: INGRESO, dtype: float64"
      ]
     },
     "execution_count": 92,
     "metadata": {},
     "output_type": "execute_result"
    }
   ],
   "source": [
    "churners_ing.head()"
   ]
  },
  {
   "cell_type": "markdown",
   "id": "c69a40a6",
   "metadata": {},
   "source": [
    "### 1. Gráfico de Histograma\n",
    "\n",
    "Un gráfico simple y de uso común para verificar rápidamente la distribución de una muestra de datos es el histograma. En el histograma, los datos se dividen en un número predeterminado de grupos llamados bins. Luego, los datos se clasifican en cada contenedor y se retiene el recuento del número de observaciones en cada contenedor.\n",
    "\n",
    "El gráfico muestra los contenedores en el eje x manteniendo su relación ordinal, y el recuento en cada contenedor en el eje y. Una muestra de datos tiene una distribución gaussiana del diagrama del histograma, que muestra la forma familiar de campana."
   ]
  },
  {
   "cell_type": "code",
   "execution_count": 94,
   "id": "8623aae2",
   "metadata": {},
   "outputs": [
    {
     "data": {
      "image/png": "[encoded data removed]",
      "text/plain": [
       "<Figure size 1000x400 with 1 Axes>"
      ]
     },
     "metadata": {},
     "output_type": "display_data"
    }
   ],
   "source": [
    "# Análisis gráfico\n",
    "fig = plt.figure(figsize=(10,4))\n",
    "plt.hist(churners_ing,bins=50,color='blue')\n",
    "plt.title('Distribución de ingresos',fontsize=20)\n",
    "plt.ylabel('Frecuencia',fontsize=20)\n",
    "\n",
    "plt.grid()\n",
    "plt.show()"
   ]
  },
  {
   "cell_type": "code",
   "execution_count": 95,
   "id": "b5048366",
   "metadata": {},
   "outputs": [
    {
     "data": {
      "text/plain": [
       "count      688.000000\n",
       "mean     49623.108863\n",
       "std      29060.115998\n",
       "min         45.166373\n",
       "25%      24920.998368\n",
       "50%      49394.212261\n",
       "75%      74890.123593\n",
       "max      99460.263056\n",
       "Name: INGRESO, dtype: float64"
      ]
     },
     "execution_count": 95,
     "metadata": {},
     "output_type": "execute_result"
    }
   ],
   "source": [
    "churners_ing.describe()"
   ]
  },
  {
   "cell_type": "code",
   "execution_count": 96,
   "id": "f2705a6d",
   "metadata": {},
   "outputs": [
    {
     "data": {
      "image/png": "[encoded data removed]",
      "text/plain": [
       "<Figure size 1000x400 with 1 Axes>"
      ]
     },
     "metadata": {},
     "output_type": "display_data"
    }
   ],
   "source": [
    "# Análisis gráfico\n",
    "fig = plt.figure(figsize=(10,4))\n",
    "plt.hist(np.log(churners_ing),bins=50,color='blue')\n",
    "plt.title('Distribución de ingresos',fontsize=20)\n",
    "plt.ylabel('Frecuencia',fontsize=20)\n",
    "\n",
    "plt.grid()\n",
    "plt.show()"
   ]
  },
  {
   "cell_type": "code",
   "execution_count": 97,
   "id": "a74329a2",
   "metadata": {},
   "outputs": [
    {
     "data": {
      "text/plain": [
       "count    688.000000\n",
       "mean      10.502883\n",
       "std        1.003745\n",
       "min        3.810353\n",
       "25%       10.123464\n",
       "50%       10.807584\n",
       "75%       11.223777\n",
       "max       11.507513\n",
       "Name: INGRESO, dtype: float64"
      ]
     },
     "execution_count": 97,
     "metadata": {},
     "output_type": "execute_result"
    }
   ],
   "source": [
    "np.log(churners_ing).describe()"
   ]
  },
  {
   "cell_type": "markdown",
   "id": "082e2004",
   "metadata": {},
   "source": [
    "### 2. Gráfico de cuantiles-cuantiles\n",
    "\n",
    "Otro gráfico popular para verificar la distribución de una muestra de datos es el gráfico de cuantiles-cuantiles, gráfico QQ o gráfico QQ para abreviar, Esta gráfica genera su propia muestra de la distribución idealizada con que estamos comparando, en este caso la distribución gaussiana. Las muestras idealizadas se dividen en grupos (por ejemplo 5), llamado cuantiles. Cada punto de datos de la muestra se empareja con un miembro similar de la distribución idealizada en la misma distribución acumulativa.\n",
    "\n",
    "Los puntos resultantes se trazan como un diagrama de dispersión con el valor idealizado en el eje xy la muestra de datos del eje y. Una linea de puntos en un ángulo de 45 grados desde la parte inferior izquierda del gráfico hasta la parte superior derecha mostrará una coincidencia perfecta para la distribución. A menudo, se traza una línea en la trama para ayudar a aclarar esta expectativa. Las desviaciones de los puntos de la línea muestran una desviación de la distribución esperada."
   ]
  },
  {
   "cell_type": "code",
   "execution_count": 124,
   "id": "a4f8da05",
   "metadata": {},
   "outputs": [
    {
     "ename": "AttributeError",
     "evalue": "'str' object has no attribute 'name'",
     "output_type": "error",
     "traceback": [
      "\u001b[1;31m---------------------------------------------------------------------------\u001b[0m",
      "\u001b[1;31mAttributeError\u001b[0m                            Traceback (most recent call last)",
      "File \u001b[1;32mC:\\ProgramData\\anaconda3\\lib\\site-packages\\statsmodels\\graphics\\gofplots.py:261\u001b[0m, in \u001b[0;36mProbPlot.theoretical_quantiles\u001b[1;34m(self)\u001b[0m\n\u001b[0;32m    260\u001b[0m \u001b[38;5;28;01mtry\u001b[39;00m:\n\u001b[1;32m--> 261\u001b[0m     \u001b[38;5;28;01mreturn\u001b[39;00m \u001b[38;5;28;43mself\u001b[39;49m\u001b[38;5;241;43m.\u001b[39;49m\u001b[43mdist\u001b[49m\u001b[38;5;241;43m.\u001b[39;49m\u001b[43mppf\u001b[49m(\u001b[38;5;28mself\u001b[39m\u001b[38;5;241m.\u001b[39mtheoretical_percentiles)\n\u001b[0;32m    262\u001b[0m \u001b[38;5;28;01mexcept\u001b[39;00m \u001b[38;5;167;01mTypeError\u001b[39;00m:\n",
      "\u001b[1;31mAttributeError\u001b[0m: 'str' object has no attribute 'ppf'",
      "\nDuring handling of the above exception, another exception occurred:\n",
      "\u001b[1;31mAttributeError\u001b[0m                            Traceback (most recent call last)",
      "Cell \u001b[1;32mIn[124], line 1\u001b[0m\n\u001b[1;32m----> 1\u001b[0m \u001b[43msm\u001b[49m\u001b[38;5;241;43m.\u001b[39;49m\u001b[43mqqplot\u001b[49m\u001b[43m(\u001b[49m\u001b[43mchurners_ing\u001b[49m\u001b[43m,\u001b[49m\u001b[43m \u001b[49m\u001b[43mdist\u001b[49m\u001b[38;5;241;43m=\u001b[39;49m\u001b[38;5;124;43m\"\u001b[39;49m\u001b[38;5;124;43mnorm\u001b[39;49m\u001b[38;5;124;43m\"\u001b[39;49m\u001b[43m)\u001b[49m\n\u001b[0;32m      2\u001b[0m plt\u001b[38;5;241m.\u001b[39mshow()\n",
      "File \u001b[1;32mC:\\ProgramData\\anaconda3\\lib\\site-packages\\statsmodels\\graphics\\gofplots.py:691\u001b[0m, in \u001b[0;36mqqplot\u001b[1;34m(data, dist, distargs, a, loc, scale, fit, line, ax, **plotkwargs)\u001b[0m\n\u001b[0;32m    593\u001b[0m \u001b[38;5;124;03m\"\"\"\u001b[39;00m\n\u001b[0;32m    594\u001b[0m \u001b[38;5;124;03mQ-Q plot of the quantiles of x versus the quantiles/ppf of a distribution.\u001b[39;00m\n\u001b[0;32m    595\u001b[0m \n\u001b[1;32m   (...)\u001b[0m\n\u001b[0;32m    686\u001b[0m \u001b[38;5;124;03m.. plot:: plots/graphics_gofplots_qqplot.py\u001b[39;00m\n\u001b[0;32m    687\u001b[0m \u001b[38;5;124;03m\"\"\"\u001b[39;00m\n\u001b[0;32m    688\u001b[0m probplot \u001b[38;5;241m=\u001b[39m ProbPlot(\n\u001b[0;32m    689\u001b[0m     data, dist\u001b[38;5;241m=\u001b[39mdist, distargs\u001b[38;5;241m=\u001b[39mdistargs, fit\u001b[38;5;241m=\u001b[39mfit, a\u001b[38;5;241m=\u001b[39ma, loc\u001b[38;5;241m=\u001b[39mloc, scale\u001b[38;5;241m=\u001b[39mscale\n\u001b[0;32m    690\u001b[0m )\n\u001b[1;32m--> 691\u001b[0m fig \u001b[38;5;241m=\u001b[39m probplot\u001b[38;5;241m.\u001b[39mqqplot(ax\u001b[38;5;241m=\u001b[39max, line\u001b[38;5;241m=\u001b[39mline, \u001b[38;5;241m*\u001b[39m\u001b[38;5;241m*\u001b[39mplotkwargs)\n\u001b[0;32m    692\u001b[0m \u001b[38;5;28;01mreturn\u001b[39;00m fig\n",
      "File \u001b[1;32mC:\\ProgramData\\anaconda3\\lib\\site-packages\\statsmodels\\graphics\\gofplots.py:478\u001b[0m, in \u001b[0;36mProbPlot.qqplot\u001b[1;34m(self, xlabel, ylabel, line, other, ax, swap, **plotkwargs)\u001b[0m\n\u001b[0;32m    474\u001b[0m         xlabel, ylabel \u001b[38;5;241m=\u001b[39m ylabel, xlabel\n\u001b[0;32m    476\u001b[0m \u001b[38;5;28;01melse\u001b[39;00m:\n\u001b[0;32m    477\u001b[0m     fig, ax \u001b[38;5;241m=\u001b[39m _do_plot(\n\u001b[1;32m--> 478\u001b[0m         \u001b[38;5;28;43mself\u001b[39;49m\u001b[38;5;241;43m.\u001b[39;49m\u001b[43mtheoretical_quantiles\u001b[49m,\n\u001b[0;32m    479\u001b[0m         \u001b[38;5;28mself\u001b[39m\u001b[38;5;241m.\u001b[39msample_quantiles,\n\u001b[0;32m    480\u001b[0m         \u001b[38;5;28mself\u001b[39m\u001b[38;5;241m.\u001b[39mdist,\n\u001b[0;32m    481\u001b[0m         ax\u001b[38;5;241m=\u001b[39max,\n\u001b[0;32m    482\u001b[0m         line\u001b[38;5;241m=\u001b[39mline,\n\u001b[0;32m    483\u001b[0m         \u001b[38;5;241m*\u001b[39m\u001b[38;5;241m*\u001b[39mplotkwargs,\n\u001b[0;32m    484\u001b[0m     )\n\u001b[0;32m    485\u001b[0m     \u001b[38;5;28;01mif\u001b[39;00m xlabel \u001b[38;5;129;01mis\u001b[39;00m \u001b[38;5;28;01mNone\u001b[39;00m:\n\u001b[0;32m    486\u001b[0m         xlabel \u001b[38;5;241m=\u001b[39m \u001b[38;5;124m\"\u001b[39m\u001b[38;5;124mTheoretical Quantiles\u001b[39m\u001b[38;5;124m\"\u001b[39m\n",
      "File \u001b[1;32mC:\\ProgramData\\anaconda3\\lib\\site-packages\\pandas\\_libs\\properties.pyx:36\u001b[0m, in \u001b[0;36mpandas._libs.properties.CachedProperty.__get__\u001b[1;34m()\u001b[0m\n",
      "File \u001b[1;32mC:\\ProgramData\\anaconda3\\lib\\site-packages\\statsmodels\\graphics\\gofplots.py:268\u001b[0m, in \u001b[0;36mProbPlot.theoretical_quantiles\u001b[1;34m(self)\u001b[0m\n\u001b[0;32m    266\u001b[0m     \u001b[38;5;28;01mraise\u001b[39;00m \u001b[38;5;167;01mTypeError\u001b[39;00m(msg)\n\u001b[0;32m    267\u001b[0m \u001b[38;5;28;01mexcept\u001b[39;00m \u001b[38;5;167;01mException\u001b[39;00m \u001b[38;5;28;01mas\u001b[39;00m exc:\n\u001b[1;32m--> 268\u001b[0m     msg \u001b[38;5;241m=\u001b[39m \u001b[38;5;124m\"\u001b[39m\u001b[38;5;124mfailed to compute the ppf of \u001b[39m\u001b[38;5;132;01m{0}\u001b[39;00m\u001b[38;5;124m\"\u001b[39m\u001b[38;5;241m.\u001b[39mformat(\u001b[38;5;28;43mself\u001b[39;49m\u001b[38;5;241;43m.\u001b[39;49m\u001b[43mdist\u001b[49m\u001b[38;5;241;43m.\u001b[39;49m\u001b[43mname\u001b[49m)\n\u001b[0;32m    269\u001b[0m     \u001b[38;5;28;01mraise\u001b[39;00m \u001b[38;5;28mtype\u001b[39m(exc)(msg)\n",
      "\u001b[1;31mAttributeError\u001b[0m: 'str' object has no attribute 'name'"
     ]
    }
   ],
   "source": [
    "sm.qqplot(churners_ing, dist=\"norm\")\n",
    "plt.show()"
   ]
  },
  {
   "cell_type": "code",
   "execution_count": 106,
   "id": "10cabcbb",
   "metadata": {},
   "outputs": [
    {
     "data": {
      "image/png": "[encoded data removed]",
      "text/plain": [
       "<Figure size 640x480 with 1 Axes>"
      ]
     },
     "metadata": {},
     "output_type": "display_data"
    }
   ],
   "source": [
    "sm.qqplot(churners_ing, line='s')\n",
    "plt.show()"
   ]
  },
  {
   "cell_type": "markdown",
   "id": "5e76e2cc",
   "metadata": {},
   "source": [
    "## Pruebas de normalidad estadística\n",
    "\n",
    "Hay muchas pruebas estadísticas que podemos utilizar para cuantificar si una muestra de datos parece extraída de una distribución gaussiana. Cada prueba hace diferentes suposiciones y considera diferentes aspectos de los datos.\n",
    "\n",
    "En esta sección, analizamos 3 pruebas de uso común que puede aplicar a sus propias muestras de datos.\n",
    "\n",
    "Interpretación de una prueba Cada prueba devolverá al menos dos cosas:\n",
    "\n",
    "  * <b>Estadística:</b> una cantidad calculada por la prueba que se puede interpretar en el contexto de la prueba comparándola con los valores criticos de la distribución de la estadística de prueba.\n",
    "  * <b>valor p:</b> se utiliza para interpretar la prueba, en este caso si la muestra se extrajo de una distribución gaussiana. Las pruebas suponen que la muestra se extrajo de una distribución gaussiana. Tecnicamente, esto se llama hipótesis nula o HO. Se elige un nivel de umbral llamado alfa, típicamente 5% ( o 0.05), que se usa para interpretar el valor p.\n",
    "  \n",
    "En la implementación de SciPy de estas pruebas, puede interpretar el valor p de la siguiente manera.\n",
    "\n",
    "  * p <= alpha : rechaza HO, no es normal.\n",
    "  * p>alpha: falla el rechazar HO, normal.\n",
    "\n",
    "Un resultado superior al 5% no significa que la hipótesis nula sea cierta. Significa que es muy probable que sea cierto dada la evidencia disponible. El valor p no es la probabilidad de que los datos se ajusten a una distribución gaussiana; se puede considerar como un valor que nos ayude a interpretar la prueba estadística."
   ]
  },
  {
   "cell_type": "markdown",
   "id": "751a5b7b",
   "metadata": {},
   "source": [
    "### 3. Pueba de Shapiro-Wilk\n",
    "\n",
    "La prueba de Shapiro-Wilk evalúa una muestra de datos y cuantifica la probabilidad de que los datos se extraigan de una distribución gaussiana, llamada así por Samuel Shapiro y Martin Wilk.\n",
    "\n",
    "En la práctica, se cree que la prueba de Shapiro.Wilk es una prueba confiable de normalidad, aunque se sugiere que la prueba puede ser adecuada para muestras de datos más pequeñas, por ejemplo, miles de observaciones o menos.\n",
    "\n",
    "La función Shapiro() SciPY calculará el Shapiro.Wilk en un conjunto de datos dado. La función devuelve tanto el estadístico W calculado por la prueba como el valor p."
   ]
  },
  {
   "cell_type": "code",
   "execution_count": 127,
   "id": "2a6daf09",
   "metadata": {},
   "outputs": [],
   "source": [
    "# Prueba de hipotesis (no parametrica)\n",
    "# Ho: La variable se distribuye de manera normal \n",
    "# Ha: La varible no se distribuye de manera normal\n",
    "# alpha = 0.05\n",
    "# Ho se rechaza cuando el Pvalor < 0.05\n",
    "\n",
    "# A un nivel de significación del 5%, podemos concluir que los ingresos no tienen una distribución normal"
   ]
  },
  {
   "cell_type": "code",
   "execution_count": 126,
   "id": "d3e7dabd",
   "metadata": {},
   "outputs": [
    {
     "data": {
      "text/plain": [
       "ShapiroResult(statistic=0.951218843460083, pvalue=2.6495453170328163e-14)"
      ]
     },
     "execution_count": 126,
     "metadata": {},
     "output_type": "execute_result"
    }
   ],
   "source": [
    "shapiro_test = st.shapiro(churners_ing)\n",
    "shapiro_test"
   ]
  },
  {
   "cell_type": "code",
   "execution_count": 109,
   "id": "8e933072",
   "metadata": {},
   "outputs": [
    {
     "name": "stdout",
     "output_type": "stream",
     "text": [
      "estadístico: 0.951\n",
      "p_value: 0.0\n"
     ]
    }
   ],
   "source": [
    "print('estadístico:',round(shapiro_test[0],3))\n",
    "print('p_value:',round(shapiro_test[1],3))"
   ]
  },
  {
   "cell_type": "code",
   "execution_count": 115,
   "id": "339b52be",
   "metadata": {},
   "outputs": [
    {
     "name": "stdout",
     "output_type": "stream",
     "text": [
      "Statistics=0.951, p=0.000\n",
      "Sample does not look Gaussian (reject H0)\n"
     ]
    }
   ],
   "source": [
    "# normality test\n",
    "stat, p = st.shapiro(churners_ing)\n",
    "print('Statistics=%.3f, p=%.3f' % (stat, p))\n",
    "# interpret\n",
    "alpha = 0.05\n",
    "if p > alpha:\n",
    "    print('Sample looks Gaussian (fail to reject H0)')\n",
    "else:\n",
    "    print('Sample does not look Gaussian (reject H0)')"
   ]
  },
  {
   "cell_type": "markdown",
   "id": "8b248540",
   "metadata": {},
   "source": [
    "### 4. Prueba de Anderson-Darling\n",
    "\n",
    "La prueba de Anderson-Darling es una prueba esdística que se puede utilizar para evaluar si una muestra de datos proviene de una de las muchas muestras de datos conocidas, que lleva el nombre de Theodore Anderson y Donald Darling.\n",
    "\n",
    "Se puede utilizar para comprobar si una muestra de datos es normal. La prueba es una versión modificada de una prueba estadística de bondad de ajuste no paramétrica más sofisticada llamada prueba de Kolmogorov-Smirnov.\n",
    "\n",
    "Una característica de la prueba de Anderson-Darling es que devuelve una lista de valores críticos en lugar de un solo valor p. Esto puede proporcionar la base para una interpretación más completa del resultado.\n",
    "\n",
    "La función anderson de SciPy implementa la prueba Anderson-Darling. Toma como parámetros la muestra de datos y el nombre de la distribución para probarla. De forma predeterminada, la prueba se comparará con la distribución gaussiana."
   ]
  },
  {
   "cell_type": "code",
   "execution_count": 122,
   "id": "2e1bcead",
   "metadata": {},
   "outputs": [
    {
     "name": "stdout",
     "output_type": "stream",
     "text": [
      "Statistic: 8.410\n",
      "15.000: 0.573, data does not look normal (reject H0)\n",
      "10.000: 0.652, data does not look normal (reject H0)\n",
      "5.000: 0.782, data does not look normal (reject H0)\n",
      "2.500: 0.913, data does not look normal (reject H0)\n",
      "1.000: 1.086, data does not look normal (reject H0)\n"
     ]
    }
   ],
   "source": [
    "# Anderson-Darling Test\n",
    "from scipy.stats import anderson\n",
    "\n",
    "# normality test\n",
    "result = anderson(churners_ing)\n",
    "print('Statistic: %.3f' % result.statistic)\n",
    "p = 0 \n",
    "\n",
    "for i in range(len(result.critical_values)):\n",
    "    sl, cv = result.significance_level[i], result.critical_values[i]\n",
    "    if result.statistic < result.critical_values[i]:\n",
    "        print('%.3f: %.3f, data looks normal (fail to reject H0)' % (sl,cv))\n",
    "    else:\n",
    "        print('%.3f: %.3f, data does not look normal (reject H0)' % (sl, cv))"
   ]
  },
  {
   "cell_type": "code",
   "execution_count": 123,
   "id": "2968b690",
   "metadata": {},
   "outputs": [
    {
     "data": {
      "text/plain": [
       "AndersonResult(statistic=8.410026112434593, critical_values=array([0.573, 0.652, 0.782, 0.913, 1.086]), significance_level=array([15. , 10. ,  5. ,  2.5,  1. ]), fit_result=  params: FitParams(loc=49623.10886311619, scale=29060.115998345667)\n",
       " success: True\n",
       " message: '`anderson` successfully fit the distribution to the data.')"
      ]
     },
     "execution_count": 123,
     "metadata": {},
     "output_type": "execute_result"
    }
   ],
   "source": [
    "anderson(churners_ing)"
   ]
  },
  {
   "cell_type": "markdown",
   "id": "68d0e41f",
   "metadata": {},
   "source": [
    "Podemos interpretar los resultados si no rechazamos la hipótesis nula de que los datos son normales si el estadístico de prueba calculado es menor que el valor crítico en un nivel de significancia elegido.\n",
    "\n",
    "Podemos ve que en cada nivel de significancia, la prueba ha encontrado que los datos no siguen una distribución normal:"
   ]
  },
  {
   "cell_type": "markdown",
   "id": "f0842a19",
   "metadata": {},
   "source": [
    "## Proceso de estandarización de datos\n",
    "\n",
    "La estandarización de datos es un paso muy importante en el prefactor de datos. En aplicaciones prácticas, a menudo nos encontramos con un conjunto de datos que contiene una variedad de características, a menudo con diferentes distribuciones e intervalos, con diferentes niveles(dimensión), que es fácil de afectar nuestra capacitación modelo. La estandarización de datos es eliminar los efectos de la escala, la características y las diferencias de distribución en el modelo.\n",
    "\n",
    "Además, después de que toda la funciónm esté estandarizada, podemos hacer carteras ponderadas para generar nuevos indicadores, y los datos en bruto a menudo no admiten que ponderemos directamente."
   ]
  },
  {
   "cell_type": "markdown",
   "id": "87d34d92",
   "metadata": {},
   "source": [
    "### 1.Estandarización z\n",
    "\n",
    "La estandarización de la puntuación Z se estandariza en función de la normalización de la media y la desviación estándar de los datos originales, y su fórmula de transformación es:\n",
    "\n",
    "<b>normalización = (x - media) / desviación típica </b>\n",
    "\n",
    "Este método es adecuado para la mayoría de los tipos de datos, que es muy amplio. Desde la fórmula, podemos ver que la media se convertirá en 0 después de la transformación, y la variación y la diferencia estándar se convertirán en 1 (considerada la fórmula de la varianza), esta parte si no entiende, es posible que desee razonarlo."
   ]
  },
  {
   "cell_type": "code",
   "execution_count": 128,
   "id": "b8e32d2e",
   "metadata": {},
   "outputs": [],
   "source": [
    "# estandarización de datos\n",
    "score_churners = st.zscore(churners_ing) # estandarizamos los datos"
   ]
  },
  {
   "cell_type": "code",
   "execution_count": 129,
   "id": "8341496f",
   "metadata": {},
   "outputs": [
    {
     "data": {
      "text/plain": [
       "0      -0.760626\n",
       "1       1.080540\n",
       "3       1.156979\n",
       "4      -0.990830\n",
       "5      -1.066072\n",
       "          ...   \n",
       "1338   -1.689660\n",
       "1339    1.458631\n",
       "1340   -1.652568\n",
       "1341    0.621944\n",
       "1343    1.553032\n",
       "Name: INGRESO, Length: 688, dtype: float64"
      ]
     },
     "execution_count": 129,
     "metadata": {},
     "output_type": "execute_result"
    }
   ],
   "source": [
    "score_churners"
   ]
  },
  {
   "cell_type": "markdown",
   "id": "76bce512",
   "metadata": {},
   "source": [
    "### 2.Escalamiento MIN-MAX\n",
    "\n",
    "El método de estandarización MIN-MAX transformará linealmente los datos originales, y su fórmula de conversión es:\n",
    " \n",
    "<b>escalamiento = (x - xmin)/(xmax - xmin)</b> \n",
    "\n",
    "Obviamente, cuando X es el valor máximo, se convertirá a 1; cuando X es un valor mínimo, el nuevo valor correspondiente es 0; El conjunto completo de datos se distribuye dentro del intervalo de 0 a 1, y la distribución de datos. y no cambiará."
   ]
  },
  {
   "cell_type": "code",
   "execution_count": 1,
   "id": "5650a506",
   "metadata": {},
   "outputs": [
    {
     "ename": "NameError",
     "evalue": "name 'np' is not defined",
     "output_type": "error",
     "traceback": [
      "\u001b[1;31m---------------------------------------------------------------------------\u001b[0m",
      "\u001b[1;31mNameError\u001b[0m                                 Traceback (most recent call last)",
      "Cell \u001b[1;32mIn[1], line 4\u001b[0m\n\u001b[0;32m      2\u001b[0m \u001b[38;5;28;01mfrom\u001b[39;00m \u001b[38;5;21;01msklearn\u001b[39;00m\u001b[38;5;21;01m.\u001b[39;00m\u001b[38;5;21;01mpreprocessing\u001b[39;00m \u001b[38;5;28;01mimport\u001b[39;00m MinMaxScaler\n\u001b[0;32m      3\u001b[0m scaler \u001b[38;5;241m=\u001b[39m MinMaxScaler()\n\u001b[1;32m----> 4\u001b[0m scaler_churners \u001b[38;5;241m=\u001b[39m scaler\u001b[38;5;241m.\u001b[39mfit_transform(\u001b[43mnp\u001b[49m\u001b[38;5;241m.\u001b[39mreshape(np\u001b[38;5;241m.\u001b[39marray(churners_ing),(\u001b[38;5;241m-\u001b[39m\u001b[38;5;241m1\u001b[39m,\u001b[38;5;241m1\u001b[39m)))\n",
      "\u001b[1;31mNameError\u001b[0m: name 'np' is not defined"
     ]
    }
   ],
   "source": [
    "# escalado de datos \n",
    "from sklearn.preprocessing import MinMaxScaler\n",
    "scaler = MinMaxScaler()\n",
    "scaler_churners = scaler.fit_transform(np.reshape(np.array(churners_ing),(-1,1)))"
   ]
  },
  {
   "cell_type": "code",
   "execution_count": null,
   "id": "420277c5",
   "metadata": {},
   "outputs": [],
   "source": [
    "scaler_churners.max()"
   ]
  },
  {
   "cell_type": "code",
   "execution_count": 135,
   "id": "b18d5fbd",
   "metadata": {},
   "outputs": [
    {
     "data": {
      "text/html": [
       "<div>\n",
       "<style scoped>\n",
       "    .dataframe tbody tr th:only-of-type {\n",
       "        vertical-align: middle;\n",
       "    }\n",
       "\n",
       "    .dataframe tbody tr th {\n",
       "        vertical-align: top;\n",
       "    }\n",
       "\n",
       "    .dataframe thead th {\n",
       "        text-align: right;\n",
       "    }\n",
       "</style>\n",
       "<table border=\"1\" class=\"dataframe\">\n",
       "  <thead>\n",
       "    <tr style=\"text-align: right;\">\n",
       "      <th></th>\n",
       "      <th>churners_ing</th>\n",
       "      <th>score_churners</th>\n",
       "      <th>scaler_churners</th>\n",
       "    </tr>\n",
       "  </thead>\n",
       "  <tbody>\n",
       "    <tr>\n",
       "      <th>0</th>\n",
       "      <td>27535.300000</td>\n",
       "      <td>-0.760626</td>\n",
       "      <td>0.276519</td>\n",
       "    </tr>\n",
       "    <tr>\n",
       "      <th>1</th>\n",
       "      <td>81000.900000</td>\n",
       "      <td>1.080540</td>\n",
       "      <td>0.814320</td>\n",
       "    </tr>\n",
       "    <tr>\n",
       "      <th>2</th>\n",
       "      <td>83220.600000</td>\n",
       "      <td>NaN</td>\n",
       "      <td>0.836648</td>\n",
       "    </tr>\n",
       "    <tr>\n",
       "      <th>3</th>\n",
       "      <td>20850.400000</td>\n",
       "      <td>1.156979</td>\n",
       "      <td>0.209276</td>\n",
       "    </tr>\n",
       "    <tr>\n",
       "      <th>4</th>\n",
       "      <td>18665.449332</td>\n",
       "      <td>-0.990830</td>\n",
       "      <td>0.187298</td>\n",
       "    </tr>\n",
       "  </tbody>\n",
       "</table>\n",
       "</div>"
      ],
      "text/plain": [
       "   churners_ing  score_churners  scaler_churners\n",
       "0  27535.300000       -0.760626         0.276519\n",
       "1  81000.900000        1.080540         0.814320\n",
       "2  83220.600000             NaN         0.836648\n",
       "3  20850.400000        1.156979         0.209276\n",
       "4  18665.449332       -0.990830         0.187298"
      ]
     },
     "execution_count": 135,
     "metadata": {},
     "output_type": "execute_result"
    }
   ],
   "source": [
    "# Comparando resultados de variables generadas\n",
    "a = pd.DataFrame(np.array(churners_ing))\n",
    "b = pd.DataFrame(score_churners)\n",
    "c = pd.DataFrame(scaler_churners)\n",
    "\n",
    "variable = pd.concat([a,b,c],axis = 1)\n",
    "variable.columns = ['churners_ing','score_churners','scaler_churners']\n",
    "variable.head()"
   ]
  },
  {
   "cell_type": "code",
   "execution_count": 140,
   "id": "386489c7",
   "metadata": {},
   "outputs": [
    {
     "data": {
      "text/html": [
       "<div>\n",
       "<style scoped>\n",
       "    .dataframe tbody tr th:only-of-type {\n",
       "        vertical-align: middle;\n",
       "    }\n",
       "\n",
       "    .dataframe tbody tr th {\n",
       "        vertical-align: top;\n",
       "    }\n",
       "\n",
       "    .dataframe thead th {\n",
       "        text-align: right;\n",
       "    }\n",
       "</style>\n",
       "<table border=\"1\" class=\"dataframe\">\n",
       "  <thead>\n",
       "    <tr style=\"text-align: right;\">\n",
       "      <th></th>\n",
       "      <th>churners_ing</th>\n",
       "      <th>score_churners</th>\n",
       "      <th>scaler_churners</th>\n",
       "    </tr>\n",
       "  </thead>\n",
       "  <tbody>\n",
       "    <tr>\n",
       "      <th>count</th>\n",
       "      <td>688.000000</td>\n",
       "      <td>6.880000e+02</td>\n",
       "      <td>688.000000</td>\n",
       "    </tr>\n",
       "    <tr>\n",
       "      <th>mean</th>\n",
       "      <td>49623.108863</td>\n",
       "      <td>1.136042e-16</td>\n",
       "      <td>0.498696</td>\n",
       "    </tr>\n",
       "    <tr>\n",
       "      <th>std</th>\n",
       "      <td>29060.115998</td>\n",
       "      <td>1.000728e+00</td>\n",
       "      <td>0.292311</td>\n",
       "    </tr>\n",
       "    <tr>\n",
       "      <th>min</th>\n",
       "      <td>45.166373</td>\n",
       "      <td>-1.707289e+00</td>\n",
       "      <td>0.000000</td>\n",
       "    </tr>\n",
       "    <tr>\n",
       "      <th>25%</th>\n",
       "      <td>24920.998368</td>\n",
       "      <td>-8.506533e-01</td>\n",
       "      <td>0.250222</td>\n",
       "    </tr>\n",
       "    <tr>\n",
       "      <th>50%</th>\n",
       "      <td>49394.212261</td>\n",
       "      <td>-7.882389e-03</td>\n",
       "      <td>0.496394</td>\n",
       "    </tr>\n",
       "    <tr>\n",
       "      <th>75%</th>\n",
       "      <td>74890.123593</td>\n",
       "      <td>8.701066e-01</td>\n",
       "      <td>0.752853</td>\n",
       "    </tr>\n",
       "    <tr>\n",
       "      <th>max</th>\n",
       "      <td>99460.263056</td>\n",
       "      <td>1.716215e+00</td>\n",
       "      <td>1.000000</td>\n",
       "    </tr>\n",
       "  </tbody>\n",
       "</table>\n",
       "</div>"
      ],
      "text/plain": [
       "       churners_ing  score_churners  scaler_churners\n",
       "count    688.000000    6.880000e+02       688.000000\n",
       "mean   49623.108863    1.136042e-16         0.498696\n",
       "std    29060.115998    1.000728e+00         0.292311\n",
       "min       45.166373   -1.707289e+00         0.000000\n",
       "25%    24920.998368   -8.506533e-01         0.250222\n",
       "50%    49394.212261   -7.882389e-03         0.496394\n",
       "75%    74890.123593    8.701066e-01         0.752853\n",
       "max    99460.263056    1.716215e+00         1.000000"
      ]
     },
     "execution_count": 140,
     "metadata": {},
     "output_type": "execute_result"
    }
   ],
   "source": [
    "variable.describe()"
   ]
  },
  {
   "cell_type": "code",
   "execution_count": 141,
   "id": "04a94058",
   "metadata": {},
   "outputs": [
    {
     "name": "stdout",
     "output_type": "stream",
     "text": [
      "churners promedio: 49623.11\n",
      "churners varianza: 29060.116\n",
      "score promedio: 0.0\n",
      "score varianza: 1.0007\n",
      "escaler promedio: 0.5\n",
      "escaler varianza: 0.2923\n"
     ]
    }
   ],
   "source": [
    "print('churners promedio:',round(variable.churners_ing.mean(),2))\n",
    "print('churners varianza:',round(variable.churners_ing.std(),4))\n",
    "\n",
    "print('score promedio:',round(variable.score_churners.mean(),2))\n",
    "print('score varianza:',round(variable.score_churners.std(),4))\n",
    "\n",
    "print('escaler promedio:',round(variable.scaler_churners.mean(),2))\n",
    "print('escaler varianza:',round(variable.scaler_churners.std(),4))"
   ]
  },
  {
   "cell_type": "code",
   "execution_count": null,
   "id": "5af1fffe",
   "metadata": {},
   "outputs": [],
   "source": []
  }
 ],
 "metadata": {
  "kernelspec": {
   "display_name": "Python 3 (ipykernel)",
   "language": "python",
   "name": "python3"
  },
  "language_info": {
   "codemirror_mode": {
    "name": "ipython",
    "version": 3
   },
   "file_extension": ".py",
   "mimetype": "text/x-python",
   "name": "python",
   "nbconvert_exporter": "python",
   "pygments_lexer": "ipython3",
   "version": "3.10.9"
  }
 },
 "nbformat": 4,
 "nbformat_minor": 5
}
