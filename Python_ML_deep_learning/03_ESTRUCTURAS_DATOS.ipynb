{
 "cells": [
  {
   "cell_type": "markdown",
   "id": "58298543",
   "metadata": {},
   "source": [
    "<h1>Estructuras de datos en python</h1>"
   ]
  },
  {
   "cell_type": "markdown",
   "id": "0910c05a",
   "metadata": {},
   "source": [
    "<h2>1.-Listas</h2><br>Las listas de Python son contenedores que tienen una cantidad de otros objetos en un orden dado. Para crear una lista, simplemente colocas diferentes valores separados por comas entre corchetes:"
   ]
  },
  {
   "cell_type": "markdown",
   "id": "4c71d092",
   "metadata": {},
   "source": [
    "2:13"
   ]
  },
  {
   "cell_type": "code",
   "execution_count": 2,
   "id": "889f7658",
   "metadata": {},
   "outputs": [
    {
     "data": {
      "text/plain": [
       "['cadena de texto', 15, 2.8, 'otro dato', 25]"
      ]
     },
     "execution_count": 2,
     "metadata": {},
     "output_type": "execute_result"
    }
   ],
   "source": [
    "lista_1 = ['cadena de texto', 15,2.8, 'otro dato', 25]\n",
    "lista_1"
   ]
  },
  {
   "cell_type": "code",
   "execution_count": 3,
   "id": "0a0d3973",
   "metadata": {},
   "outputs": [
    {
     "data": {
      "text/plain": [
       "5"
      ]
     },
     "execution_count": 3,
     "metadata": {},
     "output_type": "execute_result"
    }
   ],
   "source": [
    "len(lista_1)"
   ]
  },
  {
   "cell_type": "code",
   "execution_count": 4,
   "id": "3f845244",
   "metadata": {},
   "outputs": [
    {
     "name": "stdout",
     "output_type": "stream",
     "text": [
      "[15, 2.8, 'otro dato']\n",
      "['otro dato', 25]\n",
      "['cadena de texto', 15]\n",
      "['cadena de texto', 15, 2.8, 'otro dato', 25]\n",
      "['cadena de texto', 15, 2.8, 'otro dato', 25]\n"
     ]
    }
   ],
   "source": [
    "print(lista_1[1:4])\n",
    "print(lista_1[3:])\n",
    "print(lista_1[:2])\n",
    "print(lista_1[:])\n",
    "print(lista_1)"
   ]
  },
  {
   "cell_type": "markdown",
   "id": "5a4628cb",
   "metadata": {},
   "source": [
    "Las listas tambien se pueden crear usando el constructor de la clase, list(iterable). En este caso, el constructor crea una lista cuyos elementos son los mismos y estan en el mismo orden que los items de iterable.\n",
    "\n",
    "Por ejemplo, el tipo str tambien es un tipo secuencia. Si pasamos un string al constructor list() creara una lista cuyos\n",
    "elementos son cada uno de los caracteres de la cadena:"
   ]
  },
  {
   "cell_type": "code",
   "execution_count": 5,
   "id": "b31a65aa",
   "metadata": {},
   "outputs": [
    {
     "data": {
      "text/plain": [
       "['M', 'e', 'd', 'i', 'c', 'i', 'n', 'a']"
      ]
     },
     "execution_count": 5,
     "metadata": {},
     "output_type": "execute_result"
    }
   ],
   "source": [
    "letras = list('Medicina')\n",
    "letras"
   ]
  },
  {
   "cell_type": "markdown",
   "id": "dcdd7d91",
   "metadata": {},
   "source": [
    "Las listas son mutables."
   ]
  },
  {
   "cell_type": "code",
   "execution_count": 6,
   "id": "5f32006e",
   "metadata": {},
   "outputs": [
    {
     "data": {
      "text/plain": [
       "['cadena de texto', 15, 2.8, 'otro dato', 25]"
      ]
     },
     "execution_count": 6,
     "metadata": {},
     "output_type": "execute_result"
    }
   ],
   "source": [
    "lista_1"
   ]
  },
  {
   "cell_type": "code",
   "execution_count": 7,
   "id": "9122a415",
   "metadata": {},
   "outputs": [
    {
     "name": "stdout",
     "output_type": "stream",
     "text": [
      "['cadena de texto', 15, 4.5, 'otro dato', 25]\n"
     ]
    }
   ],
   "source": [
    "lista_1[2]=4.5 #El tercer elemento ahora es 4.5\n",
    "print(lista_1)"
   ]
  },
  {
   "cell_type": "code",
   "execution_count": 8,
   "id": "54a5c710",
   "metadata": {},
   "outputs": [],
   "source": [
    "lista_1.append('Nuevo Dato')"
   ]
  },
  {
   "cell_type": "markdown",
   "id": "36502394",
   "metadata": {},
   "source": [
    "Se pueden agregar nuevos valores al final con append"
   ]
  },
  {
   "cell_type": "code",
   "execution_count": 9,
   "id": "437937cf",
   "metadata": {},
   "outputs": [
    {
     "data": {
      "text/plain": [
       "['cadena de texto', 15, 4.5, 'otro dato', 25, 'Nuevo Dato']"
      ]
     },
     "execution_count": 9,
     "metadata": {},
     "output_type": "execute_result"
    }
   ],
   "source": [
    "lista_1"
   ]
  },
  {
   "cell_type": "markdown",
   "id": "239c8c7b",
   "metadata": {},
   "source": [
    "<b>pop()</b> permite extraer y eliminar el último elemento de una lista de manera permanente. Este elemento se puede almacenar en una variable. Se puede escoger otro elemento de la lista con el indice usando <b>pop(i)</b>"
   ]
  },
  {
   "cell_type": "code",
   "execution_count": 10,
   "id": "d12dc08c",
   "metadata": {},
   "outputs": [],
   "source": [
    "a=lista_1.pop()"
   ]
  },
  {
   "cell_type": "code",
   "execution_count": 11,
   "id": "e95edd3c",
   "metadata": {},
   "outputs": [
    {
     "data": {
      "text/plain": [
       "['cadena de texto', 15, 4.5, 'otro dato', 25]"
      ]
     },
     "execution_count": 11,
     "metadata": {},
     "output_type": "execute_result"
    }
   ],
   "source": [
    "lista_1"
   ]
  },
  {
   "cell_type": "code",
   "execution_count": 12,
   "id": "56ba2182",
   "metadata": {},
   "outputs": [
    {
     "name": "stdout",
     "output_type": "stream",
     "text": [
      "25\n",
      "<class 'int'>\n",
      "['cadena de texto', 15, 4.5, 'otro dato']\n"
     ]
    }
   ],
   "source": [
    "a=lista_1.pop()\n",
    "print(a)\n",
    "print(type(a))\n",
    "print(lista_1)"
   ]
  },
  {
   "cell_type": "markdown",
   "id": "4c36c304",
   "metadata": {},
   "source": [
    "Otro ejemplo:"
   ]
  },
  {
   "cell_type": "code",
   "execution_count": 13,
   "id": "f1a0e500",
   "metadata": {},
   "outputs": [
    {
     "name": "stdout",
     "output_type": "stream",
     "text": [
      "['student', 'teacher', 1997, 2000]\n",
      "[1, 2, 3, 4, 5]\n",
      "['a', 'b', 'c', 'd']\n"
     ]
    }
   ],
   "source": [
    "list1 = ['student','teacher',1997,2000]\n",
    "print (list1)\n",
    "list2 = [1,2,3,4,5]\n",
    "print (list2)\n",
    "list3 = [\"a\",\"b\",\"c\",\"d\"]\n",
    "print (list3)"
   ]
  },
  {
   "cell_type": "markdown",
   "id": "2ede0f76",
   "metadata": {},
   "source": [
    "Para revisar el valor de un elemento de la lista, indique entre corchetes el índice(o indices) para obtener el valor(o valores) en esa posición (posiciones).\n",
    "Ejecuta el fragmento de código a continuacion e intente adivinar cual sera el resultado de cada comando:<br>\n",
    "<b>Nota:</b>¡La idexacion de Python comienza con 0 y el ultimo valor en un rango no se usa!\n",
    "    "
   ]
  },
  {
   "cell_type": "code",
   "execution_count": 14,
   "id": "fe60e240",
   "metadata": {},
   "outputs": [
    {
     "data": {
      "text/plain": [
       "4"
      ]
     },
     "execution_count": 14,
     "metadata": {},
     "output_type": "execute_result"
    }
   ],
   "source": [
    "len(list3)"
   ]
  },
  {
   "cell_type": "code",
   "execution_count": 19,
   "id": "21448d49",
   "metadata": {},
   "outputs": [
    {
     "name": "stdout",
     "output_type": "stream",
     "text": [
      "student\n",
      "[3, 4]\n",
      "d\n"
     ]
    }
   ],
   "source": [
    "print(list1[0])\n",
    "print(list2[2:4])\n",
    "print(list3[len(list3)-1]) # negative indices must be avoiced, just be aware that Python may not"
   ]
  },
  {
   "cell_type": "markdown",
   "id": "a3eadfb4",
   "metadata": {},
   "source": [
    "Se puede acceder a los elementos de estos tipos usando indices compuestos o anidados:"
   ]
  },
  {
   "cell_type": "code",
   "execution_count": 20,
   "id": "569483dc",
   "metadata": {},
   "outputs": [],
   "source": [
    "lista = ['a',['d','b'],'z']"
   ]
  },
  {
   "cell_type": "code",
   "execution_count": 21,
   "id": "f62f5b4c",
   "metadata": {},
   "outputs": [
    {
     "data": {
      "text/plain": [
       "['d', 'b']"
      ]
     },
     "execution_count": 21,
     "metadata": {},
     "output_type": "execute_result"
    }
   ],
   "source": [
    "lista[1] #Lista[1] hace referencia a la lista anidada"
   ]
  },
  {
   "cell_type": "code",
   "execution_count": 22,
   "id": "b359ec65",
   "metadata": {},
   "outputs": [
    {
     "data": {
      "text/plain": [
       "'d'"
      ]
     },
     "execution_count": 22,
     "metadata": {},
     "output_type": "execute_result"
    }
   ],
   "source": [
    "lista[1][0] #lista[1] hace referencia a la lista anidada #lista de listas"
   ]
  },
  {
   "cell_type": "code",
   "execution_count": 23,
   "id": "4c8b97d7",
   "metadata": {},
   "outputs": [
    {
     "data": {
      "text/plain": [
       "['d', 'b']"
      ]
     },
     "execution_count": 23,
     "metadata": {},
     "output_type": "execute_result"
    }
   ],
   "source": [
    "lista[1][0:2]"
   ]
  },
  {
   "cell_type": "markdown",
   "id": "b66f20e7",
   "metadata": {},
   "source": [
    "Para agregar elementos en una lista, puede usar el metodo <b>append()</b> y para eliminarlos el metodo <b>remove()</b>.\n",
    "Las listas tambien se pueden agregar directamente, con el mismo efecto de <b>append</b>.<br>El metodo reserve() puedes usar para obtener la lista en orden inverso:"
   ]
  },
  {
   "cell_type": "code",
   "execution_count": 16,
   "id": "52a048a5",
   "metadata": {},
   "outputs": [
    {
     "data": {
      "text/plain": [
       "[1, 2, 3, 4, 5]"
      ]
     },
     "execution_count": 16,
     "metadata": {},
     "output_type": "execute_result"
    }
   ],
   "source": [
    "list2"
   ]
  },
  {
   "cell_type": "code",
   "execution_count": 17,
   "id": "619acf1e",
   "metadata": {},
   "outputs": [
    {
     "name": "stdout",
     "output_type": "stream",
     "text": [
      "['student', 'teacher', 1997, 2000, 'teacher']\n",
      "--------------------------------\n",
      "['student', 'teacher', 1997, 2000, 'teacher', 3]\n",
      "--------------------------------\n",
      "['student', 1997, 2000, 'teacher', 3, 1, 2, 3, 4, 5]\n",
      "--------------------------------\n",
      "['student', 1997, 2000, 'teacher', 3, 'end of list']\n",
      "--------------------------------\n",
      "[3, 'teacher', 2000, 1997, 'student']\n"
     ]
    }
   ],
   "source": [
    "list1 = ['student','teacher',1997,2000,'teacher']\n",
    "print (list1)\n",
    "print ('--------------------------------')\n",
    "list1.append(3) #Agregado permanente o definitivo\n",
    "print (list1)\n",
    "list1.remove('teacher')\n",
    "print ('--------------------------------')\n",
    "print (list1 + list2)\n",
    "print ('--------------------------------')\n",
    "print (list1 + ['end of list'])\n",
    "print ('--------------------------------')\n",
    "list1.reverse() # inversion permanente o definitivo\n",
    "print(list1)"
   ]
  },
  {
   "cell_type": "code",
   "execution_count": 20,
   "id": "530590a4",
   "metadata": {},
   "outputs": [
    {
     "ename": "ValueError",
     "evalue": "list.remove(x): x not in list",
     "output_type": "error",
     "traceback": [
      "\u001b[1;31m---------------------------------------------------------------------------\u001b[0m",
      "\u001b[1;31mValueError\u001b[0m                                Traceback (most recent call last)",
      "Cell \u001b[1;32mIn[20], line 1\u001b[0m\n\u001b[1;32m----> 1\u001b[0m \u001b[43mlist1\u001b[49m\u001b[38;5;241;43m.\u001b[39;49m\u001b[43mremove\u001b[49m\u001b[43m(\u001b[49m\u001b[38;5;124;43m'\u001b[39;49m\u001b[38;5;124;43mteacher\u001b[39;49m\u001b[38;5;124;43m'\u001b[39;49m\u001b[43m)\u001b[49m\n\u001b[0;32m      2\u001b[0m \u001b[38;5;28mprint\u001b[39m(list1)\n",
      "\u001b[1;31mValueError\u001b[0m: list.remove(x): x not in list"
     ]
    }
   ],
   "source": [
    "list1.remove('teacher')\n",
    "print(list1)"
   ]
  },
  {
   "cell_type": "code",
   "execution_count": 21,
   "id": "61216b67",
   "metadata": {},
   "outputs": [
    {
     "name": "stdout",
     "output_type": "stream",
     "text": [
      "[3, 2000, 1997, 'student']\n"
     ]
    }
   ],
   "source": [
    "print(list1)"
   ]
  },
  {
   "cell_type": "code",
   "execution_count": 22,
   "id": "0213f5bf",
   "metadata": {},
   "outputs": [
    {
     "name": "stdout",
     "output_type": "stream",
     "text": [
      "[3, 2000, 1997, 'student', 'end of list']\n"
     ]
    }
   ],
   "source": [
    "# crear una nueva lista a partir de otras \n",
    "lista_fin = list1 + ['end of list']\n",
    "print(lista_fin)"
   ]
  },
  {
   "cell_type": "code",
   "execution_count": 23,
   "id": "d6762e07",
   "metadata": {},
   "outputs": [
    {
     "data": {
      "text/plain": [
       "['a', 'e']"
      ]
     },
     "execution_count": 23,
     "metadata": {},
     "output_type": "execute_result"
    }
   ],
   "source": [
    "vocales=['a']\n",
    "vocales.append('e') #Añade un elemento\n",
    "vocales"
   ]
  },
  {
   "cell_type": "code",
   "execution_count": 24,
   "id": "3d5f253a",
   "metadata": {},
   "outputs": [
    {
     "data": {
      "text/plain": [
       "['a', 'e', 'i', 'o', 'u']"
      ]
     },
     "execution_count": 24,
     "metadata": {},
     "output_type": "execute_result"
    }
   ],
   "source": [
    "vocales.extend(['i','o','u'])#Añade un grupo de elementos\n",
    "vocales"
   ]
  },
  {
   "cell_type": "code",
   "execution_count": 25,
   "id": "cc0b94ea",
   "metadata": {},
   "outputs": [
    {
     "data": {
      "text/plain": [
       "[1, 2, 3, 4, 5, 6]"
      ]
     },
     "execution_count": 25,
     "metadata": {},
     "output_type": "execute_result"
    }
   ],
   "source": [
    "lista_1=[1,2,3]\n",
    "lista_2=[4,5,6]\n",
    "nueva_lista=lista_1 + lista_2\n",
    "nueva_lista "
   ]
  },
  {
   "cell_type": "code",
   "execution_count": 29,
   "id": "4b9eadc7",
   "metadata": {},
   "outputs": [
    {
     "data": {
      "text/plain": [
       "[1, 2, 3, 1, 2, 3, 1, 2, 3]"
      ]
     },
     "execution_count": 29,
     "metadata": {},
     "output_type": "execute_result"
    }
   ],
   "source": [
    "numeros = [1,2,3]\n",
    "numeros *=3 # equivalentes a numeros = numeros * 3\n",
    "numeros"
   ]
  },
  {
   "cell_type": "code",
   "execution_count": 30,
   "id": "fd86d5d5",
   "metadata": {},
   "outputs": [
    {
     "data": {
      "text/plain": [
       "list"
      ]
     },
     "execution_count": 30,
     "metadata": {},
     "output_type": "execute_result"
    }
   ],
   "source": [
    "type(numeros)"
   ]
  },
  {
   "cell_type": "code",
   "execution_count": 31,
   "id": "df717778",
   "metadata": {},
   "outputs": [
    {
     "name": "stdout",
     "output_type": "stream",
     "text": [
      "Help on method_descriptor:\n",
      "\n",
      "remove(self, value, /)\n",
      "    Remove first occurrence of value.\n",
      "    \n",
      "    Raises ValueError if the value is not present.\n",
      "\n"
     ]
    }
   ],
   "source": [
    "help(list.remove)"
   ]
  },
  {
   "cell_type": "markdown",
   "id": "c8397a36",
   "metadata": {},
   "source": [
    "Otras funciones utiles son:<br>\n",
    "<li> len(list): Devuelve el numero de elementos de una lista.\n",
    "<li> max(list): Devuelve el elemento de la lista con el valor maximo.\n",
    "<li> min (list): Devuelve el elemento de la lista con valor minimo."
   ]
  },
  {
   "cell_type": "code",
   "execution_count": 35,
   "id": "92a44e02",
   "metadata": {},
   "outputs": [
    {
     "name": "stdout",
     "output_type": "stream",
     "text": [
      "5\n",
      "5\n",
      "1\n",
      "4\n"
     ]
    }
   ],
   "source": [
    "list2 = [1,2,3,4,5]\n",
    "print (len(list2))\n",
    "print (max(list2))\n",
    "print (min(list2))\n",
    "print (list2[3])"
   ]
  },
  {
   "cell_type": "markdown",
   "id": "bf8bb9c3",
   "metadata": {},
   "source": [
    "insert() permite insertar un nuevo elemento en una lista en una posicion determinada:"
   ]
  },
  {
   "cell_type": "code",
   "execution_count": 36,
   "id": "3ab0840c",
   "metadata": {},
   "outputs": [
    {
     "name": "stdout",
     "output_type": "stream",
     "text": [
      "[1, 2, 3, 4, 5]\n",
      "---------------------------\n",
      "5\n",
      "---------------------------\n",
      "[10, 1, 2, 3, 4, 5]\n",
      "---------------------------\n",
      "6\n",
      "---------------------------\n",
      "[10, 'uno', 1, 2, 3, 4, 5]\n",
      "---------------------------\n",
      "7\n"
     ]
    }
   ],
   "source": [
    "print(list2)\n",
    "print('---------------------------')\n",
    "print(len(list2))\n",
    "print('---------------------------')\n",
    "list2.insert(0,10)\n",
    "print(list2)\n",
    "print('---------------------------')\n",
    "print(len(list2))\n",
    "print('---------------------------')\n",
    "list2.insert(1,'uno')\n",
    "print(list2)\n",
    "print('---------------------------')\n",
    "print(len(list2))"
   ]
  },
  {
   "cell_type": "markdown",
   "id": "3ca5099c",
   "metadata": {},
   "source": [
    "Nota1: En python 2 la funcion print se declara: print \"Hola\" <br>\n",
    "Nota2: En python 3 la funcion print se declara: print(\"Hola\")\n",
    "\n",
    "<b>for list Python - Recorrer una lista <b>"
   ]
  },
  {
   "cell_type": "code",
   "execution_count": 37,
   "id": "e41c77a7",
   "metadata": {},
   "outputs": [
    {
     "name": "stdout",
     "output_type": "stream",
     "text": [
      "azul\n",
      "blanco\n",
      "negro\n"
     ]
    }
   ],
   "source": [
    "colores = ['azul', 'blanco','negro']\n",
    "for color in colores: \n",
    "    print(color)"
   ]
  },
  {
   "cell_type": "markdown",
   "id": "2e280fdb",
   "metadata": {},
   "source": [
    "<b>Ordenar una lista</b>"
   ]
  },
  {
   "cell_type": "code",
   "execution_count": 38,
   "id": "5babb42b",
   "metadata": {},
   "outputs": [
    {
     "name": "stdout",
     "output_type": "stream",
     "text": [
      "[23, 34, 42, 59, 65]\n"
     ]
    }
   ],
   "source": [
    "list3 = [42, 23 , 34, 65, 59] \n",
    "list3.sort()\n",
    "print(list3)"
   ]
  },
  {
   "cell_type": "code",
   "execution_count": 39,
   "id": "17755e04",
   "metadata": {},
   "outputs": [
    {
     "name": "stdout",
     "output_type": "stream",
     "text": [
      "[65, 59, 42, 34, 23]\n"
     ]
    }
   ],
   "source": [
    "#Ordenar en orden descendente \n",
    "list3.sort(reverse = True)\n",
    "print(list3)"
   ]
  },
  {
   "cell_type": "code",
   "execution_count": 40,
   "id": "0e4a9bfc",
   "metadata": {},
   "outputs": [
    {
     "data": {
      "text/plain": [
       "list"
      ]
     },
     "execution_count": 40,
     "metadata": {},
     "output_type": "execute_result"
    }
   ],
   "source": [
    "type(list3)"
   ]
  },
  {
   "cell_type": "code",
   "execution_count": 41,
   "id": "b2de3ecb",
   "metadata": {},
   "outputs": [
    {
     "data": {
      "text/plain": [
       "[65, 59, 42, 34, 23]"
      ]
     },
     "execution_count": 41,
     "metadata": {},
     "output_type": "execute_result"
    }
   ],
   "source": [
    "list3"
   ]
  },
  {
   "cell_type": "code",
   "execution_count": 42,
   "id": "50f58039",
   "metadata": {},
   "outputs": [
    {
     "data": {
      "text/plain": [
       "3"
      ]
     },
     "execution_count": 42,
     "metadata": {},
     "output_type": "execute_result"
    }
   ],
   "source": [
    "#ver la posicion de cierto elemento en una lista\n",
    "list3.index(34) # en la cuarta posicion"
   ]
  },
  {
   "cell_type": "markdown",
   "id": "53fe026b",
   "metadata": {},
   "source": [
    "<h2>2.Diccionarios</h2>"
   ]
  },
  {
   "cell_type": "markdown",
   "id": "843c83c3",
   "metadata": {},
   "source": [
    "Las principales operaciones que se suelen realizar con diccionarios son almacenar un valor asociado a una clave y recuperar\n",
    "un valor a partir de una clave. En un diccionario, el acceso a un elemento a partir de una clave es un operacion realmente ràpida, eficaz y que consume pocos recursos si lo comparamos con como lo hariamos con otros tipos de datos."
   ]
  },
  {
   "cell_type": "code",
   "execution_count": 43,
   "id": "29957686",
   "metadata": {},
   "outputs": [
    {
     "data": {
      "text/plain": [
       "dict"
      ]
     },
     "execution_count": 43,
     "metadata": {},
     "output_type": "execute_result"
    }
   ],
   "source": [
    "#inicializar un diccionario\n",
    "diccionario = {}   #dict()\n",
    "type(diccionario)"
   ]
  },
  {
   "cell_type": "markdown",
   "id": "e7c28ba4",
   "metadata": {},
   "source": [
    "<b>Formas de crear un diccionario</b>"
   ]
  },
  {
   "cell_type": "code",
   "execution_count": 44,
   "id": "415364bd",
   "metadata": {},
   "outputs": [],
   "source": [
    "# 1. Pares clave: valor encerrados entre llaves\n",
    "d  = {'uno': 1, 'dos': 2, 'tres': 3}\n",
    "\n",
    "# 2. Argumentos con nombre\n",
    "d2 = dict(uno=1, dos=2, tres=3)\n",
    "\n",
    "# 3. Pares clave: valor encerrados entre llaves\n",
    "d3 = dict({'uno':1, 'dos':2, 'tres': 3})\n",
    "\n",
    "#4. Iterable que contiene iterables con dos elementos\n",
    "d4 = dict([('uno',1),('dos',2),('tres',3)])\n",
    "\n",
    "#5. Diccionario vacio\n",
    "d5 = {}\n",
    "\n",
    "#6. Diccionario vacio usando el constructor\n",
    "d6 = dict()"
   ]
  },
  {
   "cell_type": "code",
   "execution_count": 45,
   "id": "1e913744",
   "metadata": {},
   "outputs": [
    {
     "data": {
      "text/plain": [
       "{'uno': 1, 'dos': 2, 'tres': 3}"
      ]
     },
     "execution_count": 45,
     "metadata": {},
     "output_type": "execute_result"
    }
   ],
   "source": [
    "d"
   ]
  },
  {
   "cell_type": "code",
   "execution_count": 46,
   "id": "90ed7b4c",
   "metadata": {},
   "outputs": [
    {
     "data": {
      "text/plain": [
       "{'uno': 1, 'dos': 2, 'tres': 3}"
      ]
     },
     "execution_count": 46,
     "metadata": {},
     "output_type": "execute_result"
    }
   ],
   "source": [
    "d2"
   ]
  },
  {
   "cell_type": "code",
   "execution_count": 47,
   "id": "f0f429b8",
   "metadata": {},
   "outputs": [
    {
     "data": {
      "text/plain": [
       "{'uno': 1, 'dos': 2, 'tres': 3}"
      ]
     },
     "execution_count": 47,
     "metadata": {},
     "output_type": "execute_result"
    }
   ],
   "source": [
    "d3"
   ]
  },
  {
   "cell_type": "code",
   "execution_count": 48,
   "id": "8ed25212",
   "metadata": {},
   "outputs": [
    {
     "data": {
      "text/plain": [
       "{'uno': 1, 'dos': 2, 'tres': 3}"
      ]
     },
     "execution_count": 48,
     "metadata": {},
     "output_type": "execute_result"
    }
   ],
   "source": [
    "d4"
   ]
  },
  {
   "cell_type": "code",
   "execution_count": 49,
   "id": "2bfa317c",
   "metadata": {},
   "outputs": [
    {
     "data": {
      "text/plain": [
       "2"
      ]
     },
     "execution_count": 49,
     "metadata": {},
     "output_type": "execute_result"
    }
   ],
   "source": [
    "d4['dos'] #busqueda por indice en un diccionario"
   ]
  },
  {
   "cell_type": "code",
   "execution_count": 66,
   "id": "85cacfdf",
   "metadata": {},
   "outputs": [
    {
     "name": "stdout",
     "output_type": "stream",
     "text": [
      "{'llave_1': 'valor_1', 'llave_2': 'valor_2', 'llave_3': 'valor_3'}\n",
      "valor_3\n"
     ]
    }
   ],
   "source": [
    "diccionario_1 = {'llave_1': 'valor_1', 'llave_2':'valor_2','llave_3':'valor_3'}\n",
    "print(diccionario_1)\n",
    "print(diccionario_1['llave_3']) #Salida: valor_3"
   ]
  },
  {
   "cell_type": "markdown",
   "id": "212c543b",
   "metadata": {},
   "source": [
    "Mientras que a las listas y tuplas se accede solo y unicamente por un numero de indice, los diccionarios permiten utilizar un \n",
    "clave para declarar y acceder a un valor"
   ]
  },
  {
   "cell_type": "code",
   "execution_count": 67,
   "id": "f78826bd",
   "metadata": {},
   "outputs": [],
   "source": [
    "#borrar un elemento\n",
    "del(diccionario_1['llave_2'])"
   ]
  },
  {
   "cell_type": "code",
   "execution_count": 68,
   "id": "64a77ac6",
   "metadata": {},
   "outputs": [
    {
     "name": "stdout",
     "output_type": "stream",
     "text": [
      "{'llave_1': 'valor_1', 'llave_3': 'valor_3'}\n"
     ]
    }
   ],
   "source": [
    "print(diccionario_1)"
   ]
  },
  {
   "cell_type": "code",
   "execution_count": 69,
   "id": "3e7aebca",
   "metadata": {},
   "outputs": [
    {
     "data": {
      "text/plain": [
       "{'llave_1': 'valor_1', 'llave_3': 'valor_3'}"
      ]
     },
     "execution_count": 69,
     "metadata": {},
     "output_type": "execute_result"
    }
   ],
   "source": [
    "diccionario_1"
   ]
  },
  {
   "cell_type": "code",
   "execution_count": 63,
   "id": "b7d96ef3",
   "metadata": {},
   "outputs": [],
   "source": [
    "diccionario_1['llave_3']='nuevo'"
   ]
  },
  {
   "cell_type": "code",
   "execution_count": 70,
   "id": "82d29dc4",
   "metadata": {},
   "outputs": [],
   "source": [
    "a=diccionario_1.popitem()"
   ]
  },
  {
   "cell_type": "code",
   "execution_count": 71,
   "id": "2ad914e5",
   "metadata": {},
   "outputs": [
    {
     "data": {
      "text/plain": [
       "('llave_3', 'valor_3')"
      ]
     },
     "execution_count": 71,
     "metadata": {},
     "output_type": "execute_result"
    }
   ],
   "source": [
    "a"
   ]
  },
  {
   "cell_type": "code",
   "execution_count": 72,
   "id": "f5dcebf4",
   "metadata": {},
   "outputs": [
    {
     "name": "stdout",
     "output_type": "stream",
     "text": [
      "{'llave_1': 'valor_1'}\n"
     ]
    }
   ],
   "source": [
    "print(diccionario_1)"
   ]
  },
  {
   "cell_type": "markdown",
   "id": "76f00fe6",
   "metadata": {},
   "source": [
    "Asi tambien modificar valores como en las listas"
   ]
  },
  {
   "cell_type": "code",
   "execution_count": 73,
   "id": "05722886",
   "metadata": {},
   "outputs": [],
   "source": [
    "diccionario_1['llave_3']='Nuevo valor'"
   ]
  },
  {
   "cell_type": "code",
   "execution_count": 74,
   "id": "86c2745c",
   "metadata": {},
   "outputs": [
    {
     "name": "stdout",
     "output_type": "stream",
     "text": [
      "{'llave_1': 'valor_1', 'llave_3': 'Nuevo valor'}\n"
     ]
    }
   ],
   "source": [
    "print(diccionario_1)"
   ]
  },
  {
   "cell_type": "markdown",
   "id": "b6d2b47a",
   "metadata": {},
   "source": [
    "Asi tambien modificar valores como en las listas"
   ]
  },
  {
   "cell_type": "code",
   "execution_count": 75,
   "id": "23e533f4",
   "metadata": {},
   "outputs": [
    {
     "data": {
      "text/plain": [
       "{'llave_1': 'valor_1', 'llave_3': 'Nuevo valor'}"
      ]
     },
     "execution_count": 75,
     "metadata": {},
     "output_type": "execute_result"
    }
   ],
   "source": [
    "diccionario_1"
   ]
  },
  {
   "cell_type": "code",
   "execution_count": 76,
   "id": "2c8528fe",
   "metadata": {},
   "outputs": [],
   "source": [
    "diccionario_1['llave_3']='Nuevo valor'"
   ]
  },
  {
   "cell_type": "code",
   "execution_count": 77,
   "id": "4c613902",
   "metadata": {},
   "outputs": [
    {
     "name": "stdout",
     "output_type": "stream",
     "text": [
      "{'llave_1': 'valor_1', 'llave_3': 'Nuevo valor'}\n"
     ]
    }
   ],
   "source": [
    "print(diccionario_1)"
   ]
  },
  {
   "cell_type": "code",
   "execution_count": 78,
   "id": "31af671a",
   "metadata": {},
   "outputs": [],
   "source": [
    "diccionario_1['llave_3']=15000"
   ]
  },
  {
   "cell_type": "code",
   "execution_count": 79,
   "id": "15612fbf",
   "metadata": {},
   "outputs": [
    {
     "name": "stdout",
     "output_type": "stream",
     "text": [
      "{'llave_1': 'valor_1', 'llave_3': 15000}\n"
     ]
    }
   ],
   "source": [
    "print(diccionario_1)"
   ]
  },
  {
   "cell_type": "markdown",
   "id": "792c7ae3",
   "metadata": {},
   "source": [
    "Agregar elementos a un diccionario"
   ]
  },
  {
   "cell_type": "code",
   "execution_count": 80,
   "id": "b6b2b6d0",
   "metadata": {},
   "outputs": [
    {
     "name": "stdout",
     "output_type": "stream",
     "text": [
      "{'llave_1': 'valor_1', 'llave_3': 15000, 'llave_4': 'Otro valor'}\n"
     ]
    }
   ],
   "source": [
    "diccionario_1['llave_4'] = 'Otro valor'\n",
    "print(diccionario_1)"
   ]
  },
  {
   "cell_type": "markdown",
   "id": "6745d7bf",
   "metadata": {},
   "source": [
    "Otro ejemplo"
   ]
  },
  {
   "cell_type": "code",
   "execution_count": 81,
   "id": "a0b5ea26",
   "metadata": {},
   "outputs": [],
   "source": [
    "productos = {}"
   ]
  },
  {
   "cell_type": "code",
   "execution_count": 84,
   "id": "d2fd00e1",
   "metadata": {},
   "outputs": [],
   "source": [
    "item = input('Ingrese un producto: ')\n",
    "costo = input('Ingrese el costo del producto '+item+': ')\n",
    "productos[item] = float(costo)"
   ]
  },
  {
   "cell_type": "code",
   "execution_count": 85,
   "id": "15742ca6",
   "metadata": {},
   "outputs": [
    {
     "data": {
      "text/plain": [
       "{'sal': 23.0, 'sera': 23.0}"
      ]
     },
     "execution_count": 85,
     "metadata": {},
     "output_type": "execute_result"
    }
   ],
   "source": [
    "productos"
   ]
  },
  {
   "cell_type": "code",
   "execution_count": 86,
   "id": "9c645b63",
   "metadata": {},
   "outputs": [
    {
     "data": {
      "text/plain": [
       "dict_keys(['sal', 'sera'])"
      ]
     },
     "execution_count": 86,
     "metadata": {},
     "output_type": "execute_result"
    }
   ],
   "source": [
    "productos.keys() #Devuelve una vista de las claves del diccionario"
   ]
  },
  {
   "cell_type": "code",
   "execution_count": 87,
   "id": "99bf8092",
   "metadata": {},
   "outputs": [
    {
     "data": {
      "text/plain": [
       "dict_values([23.0, 23.0])"
      ]
     },
     "execution_count": 87,
     "metadata": {},
     "output_type": "execute_result"
    }
   ],
   "source": [
    "productos.values() #Devuelve una lista de los valores del diccionario"
   ]
  },
  {
   "cell_type": "code",
   "execution_count": 88,
   "id": "b878ca20",
   "metadata": {},
   "outputs": [
    {
     "data": {
      "text/plain": [
       "dict_items([('sal', 23.0), ('sera', 23.0)])"
      ]
     },
     "execution_count": 88,
     "metadata": {},
     "output_type": "execute_result"
    }
   ],
   "source": [
    "productos.items() #Devuelve un vista de pares (clave, valor) del diccionario"
   ]
  },
  {
   "cell_type": "code",
   "execution_count": 89,
   "id": "52a72918",
   "metadata": {},
   "outputs": [
    {
     "name": "stdout",
     "output_type": "stream",
     "text": [
      "46.0\n"
     ]
    }
   ],
   "source": [
    "total = sum(productos.values())\n",
    "print(total)"
   ]
  },
  {
   "cell_type": "code",
   "execution_count": 90,
   "id": "906e2508",
   "metadata": {},
   "outputs": [
    {
     "data": {
      "text/plain": [
       "[23.0, 23.0]"
      ]
     },
     "execution_count": 90,
     "metadata": {},
     "output_type": "execute_result"
    }
   ],
   "source": [
    "#Convertir el listado de valores en una lista\n",
    "list(productos.values())"
   ]
  },
  {
   "cell_type": "markdown",
   "id": "e8d94189",
   "metadata": {},
   "source": [
    "<b>for dict Python - Recorrer un diccionario</b>"
   ]
  },
  {
   "cell_type": "code",
   "execution_count": 91,
   "id": "97c0a4e4",
   "metadata": {},
   "outputs": [
    {
     "name": "stdout",
     "output_type": "stream",
     "text": [
      "uno\n",
      "dos\n",
      "tres\n"
     ]
    }
   ],
   "source": [
    "d = {'uno':1, 'dos':2, 'tres':3}\n",
    "for e in d: \n",
    "    print(e)\n",
    "# por defecto recorre las claves del diccinario"
   ]
  },
  {
   "cell_type": "code",
   "execution_count": 92,
   "id": "defa260a",
   "metadata": {},
   "outputs": [
    {
     "name": "stdout",
     "output_type": "stream",
     "text": [
      "uno\n",
      "dos\n",
      "tres\n"
     ]
    }
   ],
   "source": [
    "# Recorrer las claves del diccionario\n",
    "for k in d.keys():\n",
    "    print(k)"
   ]
  },
  {
   "cell_type": "code",
   "execution_count": 93,
   "id": "20676b18",
   "metadata": {},
   "outputs": [
    {
     "name": "stdout",
     "output_type": "stream",
     "text": [
      "1\n",
      "2\n",
      "3\n"
     ]
    }
   ],
   "source": [
    "# Recorrer los valores del diccionario\n",
    "for v in d.values():\n",
    "    print(v)"
   ]
  },
  {
   "cell_type": "code",
   "execution_count": 94,
   "id": "538988b2",
   "metadata": {},
   "outputs": [
    {
     "name": "stdout",
     "output_type": "stream",
     "text": [
      "('uno', 1)\n",
      "('dos', 2)\n",
      "('tres', 3)\n"
     ]
    }
   ],
   "source": [
    "#Recorrer lo pares clave valor\n",
    "for i in d.items():\n",
    "    print(i)"
   ]
  },
  {
   "cell_type": "code",
   "execution_count": 95,
   "id": "c300c779",
   "metadata": {},
   "outputs": [],
   "source": [
    "personas = {1:{'Edad':25,'Sexo':'M'},2:{'Edad':30,'Sexo':'F'}, 3:{'Edad':22,'Sexo':'M'}}"
   ]
  },
  {
   "cell_type": "code",
   "execution_count": 96,
   "id": "83303d4c",
   "metadata": {},
   "outputs": [
    {
     "data": {
      "text/plain": [
       "{'Edad': 25, 'Sexo': 'M'}"
      ]
     },
     "execution_count": 96,
     "metadata": {},
     "output_type": "execute_result"
    }
   ],
   "source": [
    "personas[1]"
   ]
  },
  {
   "cell_type": "code",
   "execution_count": 97,
   "id": "bbcd3900",
   "metadata": {},
   "outputs": [
    {
     "data": {
      "text/plain": [
       "30"
      ]
     },
     "execution_count": 97,
     "metadata": {},
     "output_type": "execute_result"
    }
   ],
   "source": [
    "personas[2]['Edad']"
   ]
  },
  {
   "cell_type": "markdown",
   "id": "f5f96f51",
   "metadata": {},
   "source": [
    "<h2>3.Tuplas</h2>"
   ]
  },
  {
   "cell_type": "code",
   "execution_count": 100,
   "id": "7ee15f43",
   "metadata": {},
   "outputs": [],
   "source": [
    "tupla_1 = ('cadena de texto', 15, 2.8, 'otro dato', 25)"
   ]
  },
  {
   "cell_type": "code",
   "execution_count": 101,
   "id": "51b9d389",
   "metadata": {},
   "outputs": [
    {
     "name": "stdout",
     "output_type": "stream",
     "text": [
      "('cadena de texto', 15, 2.8, 'otro dato', 25)\n"
     ]
    },
    {
     "data": {
      "text/plain": [
       "tuple"
      ]
     },
     "execution_count": 101,
     "metadata": {},
     "output_type": "execute_result"
    }
   ],
   "source": [
    "print(tupla_1)\n",
    "type(tupla_1)"
   ]
  },
  {
   "cell_type": "code",
   "execution_count": 102,
   "id": "f9d7c2ac",
   "metadata": {},
   "outputs": [
    {
     "data": {
      "text/plain": [
       "(12, 25, 35, 89)"
      ]
     },
     "execution_count": 102,
     "metadata": {},
     "output_type": "execute_result"
    }
   ],
   "source": [
    "12,25,35,89"
   ]
  },
  {
   "cell_type": "markdown",
   "id": "8ca32aa6",
   "metadata": {},
   "source": [
    "Las tuplas son inmutables (no se puede modificar una vez creado)\n",
    "\n",
    "IMPORTANTE: El hecho que determina que una secuencia de elementos sea un tupla es la coma, no los parentesis. Los \n",
    "parentesis son opcionales y solo se necesitan para crear un tupla vacia o para evitar ambiguedades."
   ]
  },
  {
   "cell_type": "code",
   "execution_count": 103,
   "id": "ad75c985",
   "metadata": {},
   "outputs": [
    {
     "ename": "TypeError",
     "evalue": "'tuple' object does not support item assignment",
     "output_type": "error",
     "traceback": [
      "\u001b[1;31m---------------------------------------------------------------------------\u001b[0m",
      "\u001b[1;31mTypeError\u001b[0m                                 Traceback (most recent call last)",
      "Cell \u001b[1;32mIn[103], line 1\u001b[0m\n\u001b[1;32m----> 1\u001b[0m \u001b[43mtupla_1\u001b[49m\u001b[43m[\u001b[49m\u001b[38;5;241;43m0\u001b[39;49m\u001b[43m]\u001b[49m\u001b[38;5;241m=\u001b[39m \u001b[38;5;124m'\u001b[39m\u001b[38;5;124motro valor\u001b[39m\u001b[38;5;124m'\u001b[39m\n",
      "\u001b[1;31mTypeError\u001b[0m: 'tuple' object does not support item assignment"
     ]
    }
   ],
   "source": [
    "tupla_1[0]= 'otro valor'"
   ]
  },
  {
   "cell_type": "code",
   "execution_count": 104,
   "id": "51984670",
   "metadata": {},
   "outputs": [
    {
     "name": "stdout",
     "output_type": "stream",
     "text": [
      "cadena de texto\n"
     ]
    }
   ],
   "source": [
    "print(tupla_1[0]) #no puedo cambiar de valor"
   ]
  },
  {
   "cell_type": "markdown",
   "id": "7c61f6d6",
   "metadata": {},
   "source": [
    "Se puede acceder a cada elemento segun su posicion iniciando siempre en 0"
   ]
  },
  {
   "cell_type": "code",
   "execution_count": 105,
   "id": "b6e1b853",
   "metadata": {},
   "outputs": [
    {
     "name": "stdout",
     "output_type": "stream",
     "text": [
      "('cadena de texto', 15, 2.8, 'otro dato', 25)\n",
      "(15, 2.8, 'otro dato')\n",
      "('otro dato', 25)\n",
      "('cadena de texto', 15)\n",
      "('cadena de texto', 15, 2.8, 'otro dato', 25)\n"
     ]
    }
   ],
   "source": [
    "print(tupla_1)\n",
    "print(tupla_1[1:4])\n",
    "print(tupla_1[3:])\n",
    "print(tupla_1[:2])\n",
    "print(tupla_1[:])"
   ]
  },
  {
   "cell_type": "markdown",
   "id": "0b885979",
   "metadata": {},
   "source": [
    "Se puede acceder a una porcion de la tupla indicando (opcionalmente) el indice de inicio hasta el de fin"
   ]
  },
  {
   "cell_type": "code",
   "execution_count": 106,
   "id": "6c449907",
   "metadata": {},
   "outputs": [
    {
     "name": "stdout",
     "output_type": "stream",
     "text": [
      "25\n",
      "otro dato\n"
     ]
    }
   ],
   "source": [
    "print(tupla_1[-1])\n",
    "print(tupla_1[-2])"
   ]
  },
  {
   "cell_type": "markdown",
   "id": "14effb65",
   "metadata": {},
   "source": [
    "Se puede acceder a la tupla de forma inversa (de atras hacia adelante), es colocando un indice negativo"
   ]
  },
  {
   "cell_type": "markdown",
   "id": "cf205df5",
   "metadata": {},
   "source": [
    "<b>tuple unpacking (desempaquetado de una tupla).</b><br><br>\n",
    "Realmente el unpacking se puede aplicar sobre cualquier objeto de tipo secuencia, aunque se usa mayoritariamente con las<br>tuplas, y consiste en lo siguiente:\n"
   ]
  },
  {
   "cell_type": "code",
   "execution_count": 107,
   "id": "b894f267",
   "metadata": {},
   "outputs": [
    {
     "name": "stdout",
     "output_type": "stream",
     "text": [
      "('agua', 'cafe', 'batido')\n",
      "agua\n",
      "cafe\n",
      "batido\n"
     ]
    }
   ],
   "source": [
    "bebidas = 'agua', 'cafe', 'batido'\n",
    "print(bebidas)\n",
    "a, b, c = bebidas #desempaquetado de tuplas\n",
    "print(a)\n",
    "print(b)\n",
    "print(c)"
   ]
  },
  {
   "cell_type": "markdown",
   "id": "72091f27",
   "metadata": {},
   "source": [
    "<b> for tuple Python - Recorrer una tupla </b>"
   ]
  },
  {
   "cell_type": "code",
   "execution_count": 108,
   "id": "beb88535",
   "metadata": {},
   "outputs": [
    {
     "name": "stdout",
     "output_type": "stream",
     "text": [
      "azul\n",
      "blanco\n",
      "negro\n"
     ]
    }
   ],
   "source": [
    "colores = ('azul','blanco','negro')\n",
    "for color in colores:\n",
    "    print(color)"
   ]
  },
  {
   "cell_type": "markdown",
   "id": "4cdbabd6",
   "metadata": {},
   "source": [
    "<b>Modificar un tupla en Python </b><br>\n",
    "Como te he indicado, las tuplas son objetos inmutables. No obstante, las tuplas pueden contener objetos u otros elementos <br>\n",
    "de tipo secuencia, por ejemplo, una lista. Estos objetos, si son mutables, si se pueden modificar:"
   ]
  },
  {
   "cell_type": "code",
   "execution_count": 109,
   "id": "65826a57",
   "metadata": {},
   "outputs": [
    {
     "data": {
      "text/plain": [
       "(1, ['a', 'b'], 'hola', 8.2)"
      ]
     },
     "execution_count": 109,
     "metadata": {},
     "output_type": "execute_result"
    }
   ],
   "source": [
    "tupla = (1, ['a','b'],'hola',8.2)\n",
    "tupla"
   ]
  },
  {
   "cell_type": "code",
   "execution_count": 110,
   "id": "5f49b5f9",
   "metadata": {},
   "outputs": [
    {
     "ename": "AttributeError",
     "evalue": "'tuple' object has no attribute 'append'",
     "output_type": "error",
     "traceback": [
      "\u001b[1;31m---------------------------------------------------------------------------\u001b[0m",
      "\u001b[1;31mAttributeError\u001b[0m                            Traceback (most recent call last)",
      "Cell \u001b[1;32mIn[110], line 1\u001b[0m\n\u001b[1;32m----> 1\u001b[0m \u001b[43mtupla\u001b[49m\u001b[38;5;241;43m.\u001b[39;49m\u001b[43mappend\u001b[49m(\u001b[38;5;241m5\u001b[39m)\n",
      "\u001b[1;31mAttributeError\u001b[0m: 'tuple' object has no attribute 'append'"
     ]
    }
   ],
   "source": [
    "tupla.append(5)"
   ]
  },
  {
   "cell_type": "code",
   "execution_count": 111,
   "id": "dd1826d8",
   "metadata": {},
   "outputs": [
    {
     "data": {
      "text/plain": [
       "['a', 'b']"
      ]
     },
     "execution_count": 111,
     "metadata": {},
     "output_type": "execute_result"
    }
   ],
   "source": [
    "tupla[1]"
   ]
  },
  {
   "cell_type": "code",
   "execution_count": 112,
   "id": "bc5721b5",
   "metadata": {},
   "outputs": [
    {
     "data": {
      "text/plain": [
       "(1, ['a', 'b', 'c'], 'hola', 8.2)"
      ]
     },
     "execution_count": 112,
     "metadata": {},
     "output_type": "execute_result"
    }
   ],
   "source": [
    "tupla[1].append('c') # tupla[1] hace referencia a la lista\n",
    "tupla"
   ]
  },
  {
   "cell_type": "markdown",
   "id": "996a8d2c",
   "metadata": {},
   "source": [
    "<h2>4. Conjuntos</h2><br>\n",
    "IMPORTANTE:{}NO crea conjunto vacìo, sino un diccionario vacío. Usa set() si quieres crear un conjunto sin elementos."
   ]
  },
  {
   "cell_type": "code",
   "execution_count": 114,
   "id": "1d50efbc",
   "metadata": {},
   "outputs": [
    {
     "data": {
      "text/plain": [
       "dict"
      ]
     },
     "execution_count": 114,
     "metadata": {},
     "output_type": "execute_result"
    }
   ],
   "source": [
    "a = {}\n",
    "type(a)"
   ]
  },
  {
   "cell_type": "code",
   "execution_count": 115,
   "id": "a9558449",
   "metadata": {},
   "outputs": [
    {
     "data": {
      "text/plain": [
       "set"
      ]
     },
     "execution_count": 115,
     "metadata": {},
     "output_type": "execute_result"
    }
   ],
   "source": [
    "b={1,2} #tambien puede crearse utilizando la funcion set()\n",
    "type(b)"
   ]
  },
  {
   "cell_type": "code",
   "execution_count": 116,
   "id": "ac2783a7",
   "metadata": {},
   "outputs": [
    {
     "data": {
      "text/plain": [
       "set"
      ]
     },
     "execution_count": 116,
     "metadata": {},
     "output_type": "execute_result"
    }
   ],
   "source": [
    "c = set()\n",
    "type(c)"
   ]
  },
  {
   "cell_type": "code",
   "execution_count": 117,
   "id": "7c39dda0",
   "metadata": {},
   "outputs": [
    {
     "name": "stdout",
     "output_type": "stream",
     "text": [
      "{'D', 'E', 'C', 'B', 'A'}\n",
      "<class 'set'>\n"
     ]
    }
   ],
   "source": [
    "letras = {'A','B','C','D','E','A'}\n",
    "print(letras)\n",
    "print(type(letras))"
   ]
  },
  {
   "cell_type": "markdown",
   "id": "0b373393",
   "metadata": {},
   "source": [
    "Existen dos clases para representar conjuntos:<b>set y frozenset</b>.La principal diferencia es que set es mutable. Por su parte,<br> frozenset es inmutable y su contenido no puede ser modificado una vez que ha sido inicializado."
   ]
  },
  {
   "cell_type": "code",
   "execution_count": 118,
   "id": "d5c25087",
   "metadata": {},
   "outputs": [
    {
     "data": {
      "text/plain": [
       "frozenset({1, 3, 5, 6})"
      ]
     },
     "execution_count": 118,
     "metadata": {},
     "output_type": "execute_result"
    }
   ],
   "source": [
    "f = frozenset([3, 5, 6, 1, 5])\n",
    "f"
   ]
  },
  {
   "cell_type": "markdown",
   "id": "dfba1802",
   "metadata": {},
   "source": [
    "Los conjuntos no aceptan objetos mutables, pòr lo que aceptan tuplas y strings pero no listas <br><br>\n",
    "NOTA:El único modo en Python de tener un conjunto de conjuntos es utilizando objetos de tipo frozenset como elementos<br> del propio conjunto."
   ]
  },
  {
   "cell_type": "code",
   "execution_count": 119,
   "id": "2abbb9a9",
   "metadata": {},
   "outputs": [
    {
     "ename": "TypeError",
     "evalue": "unhashable type: 'set'",
     "output_type": "error",
     "traceback": [
      "\u001b[1;31m---------------------------------------------------------------------------\u001b[0m",
      "\u001b[1;31mTypeError\u001b[0m                                 Traceback (most recent call last)",
      "Cell \u001b[1;32mIn[119], line 1\u001b[0m\n\u001b[1;32m----> 1\u001b[0m letras \u001b[38;5;241m=\u001b[39m {\u001b[38;5;124m'\u001b[39m\u001b[38;5;124mA\u001b[39m\u001b[38;5;124m'\u001b[39m, \u001b[38;5;124m'\u001b[39m\u001b[38;5;124mB\u001b[39m\u001b[38;5;124m'\u001b[39m, \u001b[38;5;124m'\u001b[39m\u001b[38;5;124mC\u001b[39m\u001b[38;5;124m'\u001b[39m, \u001b[38;5;124m'\u001b[39m\u001b[38;5;124mD\u001b[39m\u001b[38;5;124m'\u001b[39m, \u001b[38;5;124m'\u001b[39m\u001b[38;5;124mE\u001b[39m\u001b[38;5;124m'\u001b[39m,{\u001b[38;5;124m'\u001b[39m\u001b[38;5;124mD\u001b[39m\u001b[38;5;124m'\u001b[39m,\u001b[38;5;124m'\u001b[39m\u001b[38;5;124mH\u001b[39m\u001b[38;5;124m'\u001b[39m}}\u001b[38;5;66;03m#no puedo tener conjunto de conjuntos\u001b[39;00m\n",
      "\u001b[1;31mTypeError\u001b[0m: unhashable type: 'set'"
     ]
    }
   ],
   "source": [
    "letras = {'A', 'B', 'C', 'D', 'E',{'D','H'}}#no puedo tener conjunto de conjuntos"
   ]
  },
  {
   "cell_type": "code",
   "execution_count": 120,
   "id": "98b0ae06",
   "metadata": {},
   "outputs": [
    {
     "data": {
      "text/plain": [
       "{'A', 'B', 'C', 'D', 'E', frozenset({'D', 'H'})}"
      ]
     },
     "execution_count": 120,
     "metadata": {},
     "output_type": "execute_result"
    }
   ],
   "source": [
    "letras = {'A', 'B', 'C', 'D', 'E', frozenset(['D','H'])} #no es mutable lo de adentro del conjunto\n",
    "letras"
   ]
  },
  {
   "cell_type": "markdown",
   "id": "c503c458",
   "metadata": {},
   "source": [
    "<b>Enumerar elementos de un conjunto:</b> Se puede acceder y/o recorrer todos los elementos de un conjunto usando un bucle for:"
   ]
  },
  {
   "cell_type": "code",
   "execution_count": 121,
   "id": "55fabccf",
   "metadata": {},
   "outputs": [
    {
     "name": "stdout",
     "output_type": "stream",
     "text": [
      "1\n",
      "2\n",
      "3\n",
      "9\n"
     ]
    }
   ],
   "source": [
    "mi_conjunto = {1, 3, 2, 9, 3, 1}\n",
    "for e in mi_conjunto:\n",
    "    print(e)"
   ]
  },
  {
   "cell_type": "code",
   "execution_count": 122,
   "id": "6c22b0b3",
   "metadata": {},
   "outputs": [
    {
     "data": {
      "text/plain": [
       "{1, 2, 3, 9}"
      ]
     },
     "execution_count": 122,
     "metadata": {},
     "output_type": "execute_result"
    }
   ],
   "source": [
    "mi_conjunto"
   ]
  },
  {
   "cell_type": "markdown",
   "id": "603ecf3a",
   "metadata": {},
   "source": [
    "<b>Eliminar los elementos de un conjunto:</b>La clase set ofrece cuatro métodos para eliminar elementos de un conjunto. Son:<br> \n",
    "discard(), remove(), pop() y clear()."
   ]
  },
  {
   "cell_type": "code",
   "execution_count": 123,
   "id": "3547a90d",
   "metadata": {},
   "outputs": [
    {
     "data": {
      "text/plain": [
       "{1, 2, 3, 4, 5, 6, 9}"
      ]
     },
     "execution_count": 123,
     "metadata": {},
     "output_type": "execute_result"
    }
   ],
   "source": [
    "mi_conjunto = {1, 3, 2, 9, 3, 1, 6, 4, 5}\n",
    "mi_conjunto"
   ]
  },
  {
   "cell_type": "code",
   "execution_count": 124,
   "id": "d2514510",
   "metadata": {},
   "outputs": [
    {
     "data": {
      "text/plain": [
       "{2, 3, 4, 5, 6, 9}"
      ]
     },
     "execution_count": 124,
     "metadata": {},
     "output_type": "execute_result"
    }
   ],
   "source": [
    "#Elimina el elemento 1 con remove()\n",
    "mi_conjunto.remove(1)\n",
    "mi_conjunto"
   ]
  },
  {
   "cell_type": "code",
   "execution_count": 125,
   "id": "a4fbf243",
   "metadata": {},
   "outputs": [
    {
     "data": {
      "text/plain": [
       "{2, 3, 5, 6, 9}"
      ]
     },
     "execution_count": 125,
     "metadata": {},
     "output_type": "execute_result"
    }
   ],
   "source": [
    "#Elimina el elemento 4 con discard()\n",
    "mi_conjunto.discard(4)\n",
    "mi_conjunto"
   ]
  },
  {
   "cell_type": "code",
   "execution_count": 126,
   "id": "87bc1319",
   "metadata": {},
   "outputs": [
    {
     "ename": "KeyError",
     "evalue": "7",
     "output_type": "error",
     "traceback": [
      "\u001b[1;31m---------------------------------------------------------------------------\u001b[0m",
      "\u001b[1;31mKeyError\u001b[0m                                  Traceback (most recent call last)",
      "Cell \u001b[1;32mIn[126], line 2\u001b[0m\n\u001b[0;32m      1\u001b[0m \u001b[38;5;66;03m#Trata de eliminar el elemento 7 (no existe) con remove()\u001b[39;00m\n\u001b[1;32m----> 2\u001b[0m \u001b[43mmi_conjunto\u001b[49m\u001b[38;5;241;43m.\u001b[39;49m\u001b[43mremove\u001b[49m\u001b[43m(\u001b[49m\u001b[38;5;241;43m7\u001b[39;49m\u001b[43m)\u001b[49m\n\u001b[0;32m      3\u001b[0m mi_conjunto\n",
      "\u001b[1;31mKeyError\u001b[0m: 7"
     ]
    }
   ],
   "source": [
    "#Trata de eliminar el elemento 7 (no existe) con remove()\n",
    "mi_conjunto.remove(7)\n",
    "mi_conjunto"
   ]
  },
  {
   "cell_type": "code",
   "execution_count": 127,
   "id": "1fce3986",
   "metadata": {},
   "outputs": [
    {
     "ename": "SyntaxError",
     "evalue": "invalid syntax (3288267218.py, line 4)",
     "output_type": "error",
     "traceback": [
      "\u001b[1;36m  Cell \u001b[1;32mIn[127], line 4\u001b[1;36m\u001b[0m\n\u001b[1;33m    mi conjunto\u001b[0m\n\u001b[1;37m       ^\u001b[0m\n\u001b[1;31mSyntaxError\u001b[0m\u001b[1;31m:\u001b[0m invalid syntax\n"
     ]
    }
   ],
   "source": [
    "#Trata de eliminar el elemento 7 (no existe) con discard()\n",
    "#No hace nada\n",
    "mi_conjunto.discard(7)\n",
    "mi conjunto  "
   ]
  },
  {
   "cell_type": "markdown",
   "id": "4d637cc2",
   "metadata": {},
   "source": [
    "pop() es un tanto peculiar. Este metodo devuelve un elemento aleatorio del conjunto y lo elimina del mismo."
   ]
  },
  {
   "cell_type": "code",
   "execution_count": 128,
   "id": "7e73a541",
   "metadata": {},
   "outputs": [
    {
     "data": {
      "text/plain": [
       "{2, 3, 5, 6, 9}"
      ]
     },
     "execution_count": 128,
     "metadata": {},
     "output_type": "execute_result"
    }
   ],
   "source": [
    "mi_conjunto"
   ]
  },
  {
   "cell_type": "code",
   "execution_count": 129,
   "id": "c709353e",
   "metadata": {},
   "outputs": [
    {
     "data": {
      "text/plain": [
       "{3, 5, 6, 9}"
      ]
     },
     "execution_count": 129,
     "metadata": {},
     "output_type": "execute_result"
    }
   ],
   "source": [
    "mi_conjunto.pop()\n",
    "mi_conjunto"
   ]
  },
  {
   "cell_type": "code",
   "execution_count": 131,
   "id": "8b22272d",
   "metadata": {},
   "outputs": [
    {
     "data": {
      "text/plain": [
       "{'A', 'C', 'E', frozenset({'D', 'H'})}"
      ]
     },
     "execution_count": 131,
     "metadata": {},
     "output_type": "execute_result"
    }
   ],
   "source": [
    "letras.pop()\n",
    "letras"
   ]
  },
  {
   "cell_type": "code",
   "execution_count": 132,
   "id": "de310c4c",
   "metadata": {},
   "outputs": [
    {
     "data": {
      "text/plain": [
       "set()"
      ]
     },
     "execution_count": 132,
     "metadata": {},
     "output_type": "execute_result"
    }
   ],
   "source": [
    "#Elimina todos los elementos del conjunto\n",
    "mi_conjunto.clear() #funciona tambien para listas y tuplas\n",
    "mi_conjunto"
   ]
  },
  {
   "cell_type": "markdown",
   "id": "f12a6cce",
   "metadata": {},
   "source": [
    "add() agrega un elemento al conjunto"
   ]
  },
  {
   "cell_type": "code",
   "execution_count": 133,
   "id": "6d5bb723",
   "metadata": {},
   "outputs": [
    {
     "data": {
      "text/plain": [
       "{'A', 'C', 'E', 'Z', frozenset({'D', 'H'})}"
      ]
     },
     "execution_count": 133,
     "metadata": {},
     "output_type": "execute_result"
    }
   ],
   "source": [
    "letras.add('Z')\n",
    "letras"
   ]
  },
  {
   "cell_type": "code",
   "execution_count": 134,
   "id": "f6a35901",
   "metadata": {},
   "outputs": [
    {
     "data": {
      "text/plain": [
       "{'A', 'C', 'E', 'O', 'Z', frozenset({'D', 'H'})}"
      ]
     },
     "execution_count": 134,
     "metadata": {},
     "output_type": "execute_result"
    }
   ],
   "source": [
    "letras.add('O')\n",
    "letras"
   ]
  },
  {
   "cell_type": "code",
   "execution_count": 135,
   "id": "9f56e3a8",
   "metadata": {},
   "outputs": [
    {
     "data": {
      "text/plain": [
       "6"
      ]
     },
     "execution_count": 135,
     "metadata": {},
     "output_type": "execute_result"
    }
   ],
   "source": [
    "len(letras)  #funciona tambien para listas y tuplas"
   ]
  },
  {
   "cell_type": "markdown",
   "id": "6540da6d",
   "metadata": {},
   "source": [
    "<b>Operaciones con conjuntos:</b>"
   ]
  },
  {
   "cell_type": "code",
   "execution_count": 137,
   "id": "ac956ebf",
   "metadata": {},
   "outputs": [
    {
     "data": {
      "text/plain": [
       "{'A', 'C', 'E', 'G', 'I', 'L', 'M', 'O', 'R', 'U'}"
      ]
     },
     "execution_count": 137,
     "metadata": {},
     "output_type": "execute_result"
    }
   ],
   "source": [
    "bat = {'M','U','R','C','I','E','L','A','G','O'}\n",
    "bat"
   ]
  },
  {
   "cell_type": "code",
   "execution_count": 138,
   "id": "66e372b7",
   "metadata": {},
   "outputs": [
    {
     "data": {
      "text/plain": [
       "{'A', 'B', 'C', 'D', 'E'}"
      ]
     },
     "execution_count": 138,
     "metadata": {},
     "output_type": "execute_result"
    }
   ],
   "source": [
    "letras = {'A','B','C','D','E'}\n",
    "letras"
   ]
  },
  {
   "cell_type": "code",
   "execution_count": 139,
   "id": "96fe163e",
   "metadata": {},
   "outputs": [
    {
     "data": {
      "text/plain": [
       "{'G', 'I', 'L', 'M', 'O', 'R', 'U'}"
      ]
     },
     "execution_count": 139,
     "metadata": {},
     "output_type": "execute_result"
    }
   ],
   "source": [
    "bat - letras #diferencia"
   ]
  },
  {
   "cell_type": "code",
   "execution_count": 140,
   "id": "a45ce5f8",
   "metadata": {},
   "outputs": [
    {
     "data": {
      "text/plain": [
       "{'G', 'I', 'L', 'M', 'O', 'R', 'U'}"
      ]
     },
     "execution_count": 140,
     "metadata": {},
     "output_type": "execute_result"
    }
   ],
   "source": [
    "bat.difference(letras)"
   ]
  },
  {
   "cell_type": "code",
   "execution_count": 141,
   "id": "aa155c53",
   "metadata": {},
   "outputs": [
    {
     "data": {
      "text/plain": [
       "{'A', 'C', 'E'}"
      ]
     },
     "execution_count": 141,
     "metadata": {},
     "output_type": "execute_result"
    }
   ],
   "source": [
    "bat & letras #interseccion"
   ]
  },
  {
   "cell_type": "code",
   "execution_count": 142,
   "id": "2207ce4b",
   "metadata": {},
   "outputs": [
    {
     "data": {
      "text/plain": [
       "{'A', 'C', 'E'}"
      ]
     },
     "execution_count": 142,
     "metadata": {},
     "output_type": "execute_result"
    }
   ],
   "source": [
    "bat.intersection(letras)"
   ]
  },
  {
   "cell_type": "code",
   "execution_count": 143,
   "id": "28cdee78",
   "metadata": {},
   "outputs": [
    {
     "data": {
      "text/plain": [
       "{'A', 'B', 'C', 'D', 'E', 'G', 'I', 'L', 'M', 'O', 'R', 'U'}"
      ]
     },
     "execution_count": 143,
     "metadata": {},
     "output_type": "execute_result"
    }
   ],
   "source": [
    "bat | letras #union"
   ]
  },
  {
   "cell_type": "code",
   "execution_count": 144,
   "id": "ac611739",
   "metadata": {},
   "outputs": [
    {
     "data": {
      "text/plain": [
       "{'A', 'B', 'C', 'D', 'E', 'G', 'I', 'L', 'M', 'O', 'R', 'U'}"
      ]
     },
     "execution_count": 144,
     "metadata": {},
     "output_type": "execute_result"
    }
   ],
   "source": [
    "bat.union(letras)"
   ]
  },
  {
   "cell_type": "code",
   "execution_count": 145,
   "id": "615551ef",
   "metadata": {},
   "outputs": [
    {
     "data": {
      "text/plain": [
       "{'B', 'D', 'G', 'I', 'L', 'M', 'O', 'R', 'U'}"
      ]
     },
     "execution_count": 145,
     "metadata": {},
     "output_type": "execute_result"
    }
   ],
   "source": [
    "bat ^ letras #diferencia simetrica \n"
   ]
  },
  {
   "cell_type": "code",
   "execution_count": 146,
   "id": "e113fc49",
   "metadata": {},
   "outputs": [
    {
     "data": {
      "text/plain": [
       "{'B', 'D', 'G', 'I', 'L', 'M', 'O', 'R', 'U'}"
      ]
     },
     "execution_count": 146,
     "metadata": {},
     "output_type": "execute_result"
    }
   ],
   "source": [
    "bat.symmetric_difference(letras)"
   ]
  },
  {
   "cell_type": "markdown",
   "id": "010d96b0",
   "metadata": {},
   "source": [
    "<b>Inclusion e igualdad de conjuntos:</b>"
   ]
  },
  {
   "cell_type": "code",
   "execution_count": 147,
   "id": "b8b5a884",
   "metadata": {},
   "outputs": [
    {
     "data": {
      "text/plain": [
       "True"
      ]
     },
     "execution_count": 147,
     "metadata": {},
     "output_type": "execute_result"
    }
   ],
   "source": [
    "m = {1, 2, 3, 4, 5, 6}\n",
    "n = {1, 6, 4, 3, 5, 2}\n",
    "p = {1, 3, 5}\n",
    "m == n"
   ]
  },
  {
   "cell_type": "code",
   "execution_count": 148,
   "id": "219c8325",
   "metadata": {},
   "outputs": [
    {
     "data": {
      "text/plain": [
       "True"
      ]
     },
     "execution_count": 148,
     "metadata": {},
     "output_type": "execute_result"
    }
   ],
   "source": [
    "p < m #inclusion de conjuntos "
   ]
  },
  {
   "cell_type": "code",
   "execution_count": 149,
   "id": "951faaa0",
   "metadata": {},
   "outputs": [
    {
     "data": {
      "text/plain": [
       "False"
      ]
     },
     "execution_count": 149,
     "metadata": {},
     "output_type": "execute_result"
    }
   ],
   "source": [
    "m < p "
   ]
  },
  {
   "cell_type": "code",
   "execution_count": 150,
   "id": "10622f0a",
   "metadata": {},
   "outputs": [
    {
     "data": {
      "text/plain": [
       "True"
      ]
     },
     "execution_count": 150,
     "metadata": {},
     "output_type": "execute_result"
    }
   ],
   "source": [
    "m <= n "
   ]
  },
  {
   "cell_type": "code",
   "execution_count": 151,
   "id": "f48cc9db",
   "metadata": {},
   "outputs": [
    {
     "data": {
      "text/plain": [
       "True"
      ]
     },
     "execution_count": 151,
     "metadata": {},
     "output_type": "execute_result"
    }
   ],
   "source": [
    "3 in p #pertenencia de elementos en un conjunto"
   ]
  },
  {
   "cell_type": "code",
   "execution_count": 152,
   "id": "4dbc0561",
   "metadata": {},
   "outputs": [
    {
     "data": {
      "text/plain": [
       "False"
      ]
     },
     "execution_count": 152,
     "metadata": {},
     "output_type": "execute_result"
    }
   ],
   "source": [
    "9 in p"
   ]
  },
  {
   "cell_type": "markdown",
   "id": "f1aad06e",
   "metadata": {},
   "source": [
    "<b>Crear un conjunto o una lista de las letras distintas de una palabra:</b>"
   ]
  },
  {
   "cell_type": "code",
   "execution_count": 153,
   "id": "bd476e43",
   "metadata": {},
   "outputs": [
    {
     "data": {
      "text/plain": [
       "{'A', 'I', 'M', 'N', 'O', 'T'}"
      ]
     },
     "execution_count": 153,
     "metadata": {},
     "output_type": "execute_result"
    }
   ],
   "source": [
    "s = 'ANATOMIA'\n",
    "set(s)"
   ]
  },
  {
   "cell_type": "code",
   "execution_count": 154,
   "id": "1bd5944b",
   "metadata": {},
   "outputs": [
    {
     "data": {
      "text/plain": [
       "['A', 'N', 'A', 'T', 'O', 'M', 'I', 'A']"
      ]
     },
     "execution_count": 154,
     "metadata": {},
     "output_type": "execute_result"
    }
   ],
   "source": [
    "s = 'ANATOMIA'\n",
    "list(s)"
   ]
  },
  {
   "cell_type": "code",
   "execution_count": 155,
   "id": "b4ed0a1a",
   "metadata": {},
   "outputs": [
    {
     "name": "stdout",
     "output_type": "stream",
     "text": [
      "{'I', 'O', 'M', 'T', 'A', 'N'}\n",
      "------------------------------\n",
      "['I', 'O', 'M', 'T', 'A', 'N']\n",
      "------------------------------\n",
      "['A', 'I', 'M', 'N', 'O', 'T']\n",
      "------------------------------\n",
      "['T', 'O', 'N', 'M', 'I', 'A']\n"
     ]
    }
   ],
   "source": [
    "#eliminar repetidos y ordenar el resultado\n",
    "c = set(s)\n",
    "print(c)\n",
    "print(\"------------------------------\")\n",
    "l = list(c)\n",
    "print(l)\n",
    "print(\"------------------------------\")\n",
    "l.sort()\n",
    "print(l)\n",
    "print(\"------------------------------\")\n",
    "l.sort(reverse = True)\n",
    "print(l)"
   ]
  },
  {
   "cell_type": "markdown",
   "id": "44c9d5b3",
   "metadata": {},
   "source": [
    "<b>Ejercicio Resuelto:</b><br><br>Crear un sistema que solicite la opcion y segun el valor ingresado permita:<br><br>\n",
    "    <li>(1)Agregar la informacion del alumno (nombre, codigo, carrera y edad).</li>\n",
    "    <li>(2)Eliminar a un alumno al ingresar su codigo..</li>\n",
    "    <li>(3)Mostrar relacion de alumnos (codigo, nombre y carrera), cantidad de alumnos matriculados, cantidad de carreras<br> distintas y edad promedio.</li>\n",
    "    <li>(4)Actualizar la informacion del alumno (nombre, carrera y edad). ..</li>\n",
    "    <li>(5)Salir..</li>\n",
    "        \n"
   ]
  },
  {
   "cell_type": "code",
   "execution_count": 6,
   "id": "ef8ae972",
   "metadata": {},
   "outputs": [],
   "source": [
    "lista_alumnos = {}\n"
   ]
  },
  {
   "cell_type": "code",
   "execution_count": 20,
   "id": "c7547d32",
   "metadata": {},
   "outputs": [],
   "source": [
    "#creando un diccionario vacio (se ira agregando los alumnos)\n",
    "\n",
    "while(1==1):\n",
    "      \n",
    "    opcion = int(input('''Ingrese la opcion:\n",
    "                        1. Ingresar Nuevo alumno\n",
    "                        2. Eliminar alumno existente\n",
    "                        3. Mostrar listado de alumnos\n",
    "                        4. Modificar datos de alumnos\n",
    "                        5. Salir\n",
    "                        \n",
    "                        '''))\n",
    "    #salimos del while si se ingresa la opcion 5\n",
    "    if opcion == 5:\n",
    "        break\n",
    "    if opcion == 1:\n",
    "        nombre = input('Ingrese el nombre del alumno: ')\n",
    "        codigo = input('Ingrese su código: ')\n",
    "        carrera = input('Ingrese su carrera: ')\n",
    "        edad = int(input('Ingrese su edad: '))\n",
    "        \n",
    "        #agregando la informacion del alumno al diccionario, siendo la llave su codigo\n",
    "        lista_alumnos[codigo] = [nombre, carrera, edad]\n",
    "        \n",
    "    elif opcion==2:\n",
    "        #solicitamos el código del alumno a eliminar\n",
    "        codigo_eliminar = input('Ingrese el codigo a elimninar: ')\n",
    "        lista_alumnos.pop(codigo_eliminar)\n",
    "    \n",
    "    elif opcion==3:\n",
    "        #mostrando la relacion de alumnos:\n",
    "        print('\\n1. Relacion de alumnos:')\n",
    "        for clave, valor in lista_alumnos.items():\n",
    "            print(clave, '-', valor)\n",
    "            \n",
    "        #contando la cantidad de alumnos en nuestro diccionario:\n",
    "        print('\\n2. Cantidad de alumnos:')\n",
    "        print(len(lista_alumnos))\n",
    "        \n",
    "        #creando un set para almacenar las carreras distintas:\n",
    "        print('\\n3. Cantidad de carreras:')\n",
    "        carreras_unicas = set()\n",
    "        \n",
    "        for clave, valor in lista_alumnos.items():\n",
    "            carreras_unicas.add(valor[1])\n",
    "        \n",
    "        print(len(carreras_unicas))\n",
    "        print(carreras_unicas)\n",
    "        \n",
    "        #recorriendo todas las edades, sumandolas y calculando el promedio\n",
    "        \n",
    "        acum = 0\n",
    "        \n",
    "        for clave, valor in lista_alumnos.items():\n",
    "            acum = acum + valor[2]\n",
    "            \n",
    "        print('La edad promedio es', acum/len(lista_alumnos))\n",
    "    elif opcion==4:\n",
    "        codigo = input('Ingrese el codigo del alumno a actualizar: ')\n",
    "        nombre = input('Ingrese el nombre actualizado: ')\n",
    "        carrera= input('Ingrese la carrera actualizada: ')\n",
    "        edad   = input('Ingrese la edad actualizada: ')\n",
    "        \n",
    "        #agregando la informacion del alumno al diccionario, siendo la llave su codigo\n",
    "        lista_alumnos[codigo] = [nombre, carrera, edad]"
   ]
  },
  {
   "cell_type": "code",
   "execution_count": null,
   "id": "c5cb3e13",
   "metadata": {},
   "outputs": [],
   "source": [
    "\n"
   ]
  }
 ],
 "metadata": {
  "kernelspec": {
   "display_name": "Python 3 (ipykernel)",
   "language": "python",
   "name": "python3"
  },
  "language_info": {
   "codemirror_mode": {
    "name": "ipython",
    "version": 3
   },
   "file_extension": ".py",
   "mimetype": "text/x-python",
   "name": "python",
   "nbconvert_exporter": "python",
   "pygments_lexer": "ipython3",
   "version": "3.11.5"
  }
 },
 "nbformat": 4,
 "nbformat_minor": 5
}
